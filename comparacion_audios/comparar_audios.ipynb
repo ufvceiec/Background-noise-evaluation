{
 "cells": [
  {
   "cell_type": "markdown",
   "metadata": {},
   "source": [
    "# Comparación de audios mediante MSE y otra"
   ]
  },
  {
   "cell_type": "code",
   "execution_count": 1,
   "metadata": {},
   "outputs": [],
   "source": [
    "%reload_ext autoreload\n",
    "\n",
    "%autoreload 2"
   ]
  },
  {
   "cell_type": "code",
   "execution_count": 2,
   "metadata": {},
   "outputs": [],
   "source": [
    "from Library_functions import *\n",
    "from tqdm import tqdm\n",
    "from pesq import pesq"
   ]
  },
  {
   "cell_type": "code",
   "execution_count": 3,
   "metadata": {},
   "outputs": [
    {
     "name": "stdout",
     "output_type": "stream",
     "text": [
      "\n",
      "Opening CSV...\n",
      "\n",
      "Reading data...\n",
      "\n",
      "Preprocessing data\n"
     ]
    },
    {
     "name": "stderr",
     "output_type": "stream",
     "text": [
      "100%|██████████| 1996/1996 [00:10<00:00, 189.25it/s]"
     ]
    },
    {
     "name": "stdout",
     "output_type": "stream",
     "text": [
      "\n",
      "Finished successfully!\n"
     ]
    },
    {
     "name": "stderr",
     "output_type": "stream",
     "text": [
      "\n"
     ]
    }
   ],
   "source": [
    "#leemos el dataset\n",
    "df_data,df_rutas= load_df(\"D:\\Caracuel\\WaveNet-seaBackGroundNoise\\Datasets\\Data\\dataframe.csv\")"
   ]
  },
  {
   "cell_type": "markdown",
   "metadata": {},
   "source": [
    "## Calculamos el MSE y hacemos una media y una desviación típica de los valores adquiridos."
   ]
  },
  {
   "cell_type": "code",
   "execution_count": 31,
   "metadata": {},
   "outputs": [
    {
     "data": {
      "text/plain": [
       "'D:/Caracuel/WaveNet-seaBackGroundNoise/Datasets/Noise/Chunked/Viento/9_9.wav'"
      ]
     },
     "execution_count": 31,
     "metadata": {},
     "output_type": "execute_result"
    }
   ],
   "source": [
    "df_rutas.noise_rute[1995]"
   ]
  },
  {
   "cell_type": "code",
   "execution_count": 32,
   "metadata": {},
   "outputs": [
    {
     "name": "stderr",
     "output_type": "stream",
     "text": [
      "100%|██████████| 1996/1996 [00:00<00:00, 5806.56it/s]\n"
     ]
    }
   ],
   "source": [
    "aircrafts=[]\n",
    "lluvia=[]\n",
    "trafico=[]\n",
    "viento=[]\n",
    "for i in tqdm(range(df_data.shape[0])):\n",
    "    if(i<df_data.shape[0]/4-1):\n",
    "        aircrafts.append(mean_squared_error(df_data.data[i], df_data.noise_original[i],squared=True))\n",
    "    elif(i>=df_data.shape[0]/4-1 and i<df_data.shape[0]/4+499-1):\n",
    "        lluvia.append(mean_squared_error(df_data.data[i], df_data.noise_original[i],squared=True))\n",
    "    elif(i>=df_data.shape[0]/4+499-1 and i<df_data.shape[0]/4+499*2-1):\n",
    "        trafico.append(mean_squared_error(df_data.data[i], df_data.noise_original[i],squared=True))\n",
    "    else:\n",
    "        viento.append(mean_squared_error(df_data.data[i], df_data.noise_original[i],squared=True))\n",
    "\n"
   ]
  },
  {
   "cell_type": "code",
   "execution_count": 33,
   "metadata": {},
   "outputs": [],
   "source": [
    "\n",
    "df=pd.DataFrame()\n",
    "df.insert(0,\"aircrafts_mean\",[mean(aircrafts)])\n",
    "df.insert(1,\"aircrafts_desviacion\",[desviacion(aircrafts)])\n",
    "\n",
    "df.insert(2,\"lluvia_mean\",[mean(lluvia)])\n",
    "df.insert(3,\"lluvia_desviacion\",[desviacion(lluvia)])\n",
    "\n",
    "df.insert(4,\"trafico_mean\",[mean(trafico)])\n",
    "df.insert(5,\"trafico_desviacion\",[desviacion(trafico)])\n",
    "\n",
    "df.insert(6,\"viento_mean\",[mean(viento)])\n",
    "df.insert(7,\"viento_desviacion\",[desviacion(viento)])"
   ]
  },
  {
   "cell_type": "code",
   "execution_count": 34,
   "metadata": {},
   "outputs": [
    {
     "data": {
      "text/html": [
       "<div>\n",
       "<style scoped>\n",
       "    .dataframe tbody tr th:only-of-type {\n",
       "        vertical-align: middle;\n",
       "    }\n",
       "\n",
       "    .dataframe tbody tr th {\n",
       "        vertical-align: top;\n",
       "    }\n",
       "\n",
       "    .dataframe thead th {\n",
       "        text-align: right;\n",
       "    }\n",
       "</style>\n",
       "<table border=\"1\" class=\"dataframe\">\n",
       "  <thead>\n",
       "    <tr style=\"text-align: right;\">\n",
       "      <th></th>\n",
       "      <th>aircrafts_mean</th>\n",
       "      <th>aircrafts_desviacion</th>\n",
       "      <th>lluvia_mean</th>\n",
       "      <th>lluvia_desviacion</th>\n",
       "      <th>trafico_mean</th>\n",
       "      <th>trafico_desviacion</th>\n",
       "      <th>viento_mean</th>\n",
       "      <th>viento_desviacion</th>\n",
       "    </tr>\n",
       "  </thead>\n",
       "  <tbody>\n",
       "    <tr>\n",
       "      <th>0</th>\n",
       "      <td>1416.655198</td>\n",
       "      <td>911.319822</td>\n",
       "      <td>1436.08197</td>\n",
       "      <td>942.575439</td>\n",
       "      <td>1452.402216</td>\n",
       "      <td>986.773095</td>\n",
       "      <td>1424.50928</td>\n",
       "      <td>941.232323</td>\n",
       "    </tr>\n",
       "  </tbody>\n",
       "</table>\n",
       "</div>"
      ],
      "text/plain": [
       "   aircrafts_mean  aircrafts_desviacion  lluvia_mean  lluvia_desviacion  \\\n",
       "0     1416.655198            911.319822   1436.08197         942.575439   \n",
       "\n",
       "   trafico_mean  trafico_desviacion  viento_mean  viento_desviacion  \n",
       "0   1452.402216          986.773095   1424.50928         941.232323  "
      ]
     },
     "execution_count": 34,
     "metadata": {},
     "output_type": "execute_result"
    }
   ],
   "source": [
    "df"
   ]
  },
  {
   "cell_type": "markdown",
   "metadata": {},
   "source": [
    "## Calculamos el PESC y hacemos una media y una desviación típica de los valores adquiridos.\n",
    "\n",
    "El PESQ no funciona con algunos de los audios para ello capturamos la excepcion y contamos cuantos no son válidos"
   ]
  },
  {
   "cell_type": "code",
   "execution_count": 9,
   "metadata": {},
   "outputs": [
    {
     "name": "stderr",
     "output_type": "stream",
     "text": [
      "100%|██████████| 1996/1996 [01:50<00:00, 18.11it/s]\n"
     ]
    }
   ],
   "source": [
    "exception=0\n",
    "aircrafts=[]\n",
    "lluvia=[]\n",
    "trafico=[]\n",
    "viento=[]\n",
    "for i in tqdm(range(df_data.shape[0])):\n",
    "    #if(i!=139 and i!=157):\n",
    "    try:\n",
    "        if(i<df_data.shape[0]/4-1):\n",
    "            aircrafts.append(pesq(16000, df_data.data[i], df_data.noise_original[i],'wb'))\n",
    "        elif(i>=df_data.shape[0]/4-1 and i<df_data.shape[0]/4+499-1):\n",
    "            lluvia.append(pesq(16000, df_data.data[i], df_data.noise_original[i],'wb'))\n",
    "        elif(i>=df_data.shape[0]/4+499-1 and i<df_data.shape[0]/4+499*2-1):\n",
    "            trafico.append(pesq(16000, df_data.data[i], df_data.noise_original[i],'wb'))\n",
    "        else:\n",
    "            viento.append(pesq(16000, df_data.data[i], df_data.noise_original[i],'wb'))\n",
    "    except:\n",
    "        exception+=1\n",
    "\n"
   ]
  },
  {
   "cell_type": "code",
   "execution_count": 11,
   "metadata": {},
   "outputs": [
    {
     "data": {
      "text/plain": [
       "32"
      ]
     },
     "execution_count": 11,
     "metadata": {},
     "output_type": "execute_result"
    }
   ],
   "source": [
    "exception"
   ]
  },
  {
   "cell_type": "code",
   "execution_count": 10,
   "metadata": {},
   "outputs": [],
   "source": [
    "df_PESQ=pd.DataFrame()\n",
    "df_PESQ.insert(0,\"aircrafts_mean\",[mean(aircrafts)])\n",
    "df_PESQ.insert(1,\"aircrafts_desviacion\",[desviacion(aircrafts)])\n",
    "\n",
    "df_PESQ.insert(2,\"lluvia_mean\",[mean(lluvia)])\n",
    "df_PESQ.insert(3,\"lluvia_desviacion\",[desviacion(lluvia)])\n",
    "\n",
    "df_PESQ.insert(4,\"trafico_mean\",[mean(trafico)])\n",
    "df_PESQ.insert(5,\"trafico_desviacion\",[desviacion(trafico)])\n",
    "\n",
    "df_PESQ.insert(6,\"viento_mean\",[mean(viento)])\n",
    "df_PESQ.insert(7,\"viento_desviacion\",[desviacion(viento)])"
   ]
  },
  {
   "cell_type": "code",
   "execution_count": 12,
   "metadata": {},
   "outputs": [
    {
     "data": {
      "text/html": [
       "<div>\n",
       "<style scoped>\n",
       "    .dataframe tbody tr th:only-of-type {\n",
       "        vertical-align: middle;\n",
       "    }\n",
       "\n",
       "    .dataframe tbody tr th {\n",
       "        vertical-align: top;\n",
       "    }\n",
       "\n",
       "    .dataframe thead th {\n",
       "        text-align: right;\n",
       "    }\n",
       "</style>\n",
       "<table border=\"1\" class=\"dataframe\">\n",
       "  <thead>\n",
       "    <tr style=\"text-align: right;\">\n",
       "      <th></th>\n",
       "      <th>aircrafts_mean</th>\n",
       "      <th>aircrafts_desviacion</th>\n",
       "      <th>lluvia_mean</th>\n",
       "      <th>lluvia_desviacion</th>\n",
       "      <th>trafico_mean</th>\n",
       "      <th>trafico_desviacion</th>\n",
       "      <th>viento_mean</th>\n",
       "      <th>viento_desviacion</th>\n",
       "    </tr>\n",
       "  </thead>\n",
       "  <tbody>\n",
       "    <tr>\n",
       "      <th>0</th>\n",
       "      <td>2.12245</td>\n",
       "      <td>1.107914</td>\n",
       "      <td>1.462471</td>\n",
       "      <td>0.766056</td>\n",
       "      <td>1.696313</td>\n",
       "      <td>0.803281</td>\n",
       "      <td>1.500474</td>\n",
       "      <td>0.783932</td>\n",
       "    </tr>\n",
       "  </tbody>\n",
       "</table>\n",
       "</div>"
      ],
      "text/plain": [
       "   aircrafts_mean  aircrafts_desviacion  lluvia_mean  lluvia_desviacion  \\\n",
       "0         2.12245              1.107914     1.462471           0.766056   \n",
       "\n",
       "   trafico_mean  trafico_desviacion  viento_mean  viento_desviacion  \n",
       "0      1.696313            0.803281     1.500474           0.783932  "
      ]
     },
     "execution_count": 12,
     "metadata": {},
     "output_type": "execute_result"
    }
   ],
   "source": [
    "df_PESQ"
   ]
  },
  {
   "cell_type": "markdown",
   "metadata": {},
   "source": [
    "## Calculamos el Signal to Noise Ratio y hacemos una media y una desviación típica de los valores adquiridos."
   ]
  },
  {
   "cell_type": "code",
   "execution_count": 4,
   "metadata": {},
   "outputs": [
    {
     "name": "stderr",
     "output_type": "stream",
     "text": [
      "100%|██████████| 1996/1996 [00:07<00:00, 272.37it/s]\n"
     ]
    }
   ],
   "source": [
    "exception=0\n",
    "aircrafts=[]\n",
    "lluvia=[]\n",
    "trafico=[]\n",
    "viento=[]\n",
    "for i in tqdm(range(df_data.shape[0])):\n",
    "    try:\n",
    "        if(i<df_data.shape[0]/4-1):\n",
    "            # aircrafts[0].append(signaltonoise(df_data.data[i]))\n",
    "            # aircrafts[1].append(signaltonoise(df_data.noise_original[i]))\n",
    "            aircrafts.append(SNRsystem(df_data.noise_original[i],df_data.data[i]))\n",
    "        elif(i>=df_data.shape[0]/4-1 and i<df_data.shape[0]/4+499-1):\n",
    "            # lluvia[0].append(signaltonoise(df_data.data[i]))\n",
    "            # lluvia[1].append(signaltonoise(df_data.noise_original[i]))\n",
    "            lluvia.append(SNRsystem(df_data.noise_original[i],df_data.data[i]))\n",
    "        elif(i>=df_data.shape[0]/4+499-1 and i<df_data.shape[0]/4+499*2-1):\n",
    "            # trafico[0].append(signaltonoise(df_data.data[i]))\n",
    "            # trafico[1].append(signaltonoise(df_data.noise_original[i]))\n",
    "            trafico.append(SNRsystem(df_data.noise_original[i],df_data.data[i]))\n",
    "        else:\n",
    "            # viento[0].append(signaltonoise(df_data.data[i]))\n",
    "            # viento[1].append(signaltonoise(df_data.noise_original[i]))\n",
    "            viento.append(SNRsystem(df_data.noise_original[i],df_data.data[i]))\n",
    "    except:\n",
    "        exception+=1\n",
    "\n"
   ]
  },
  {
   "cell_type": "code",
   "execution_count": 5,
   "metadata": {},
   "outputs": [],
   "source": [
    "df_SNR=pd.DataFrame()\n",
    "df_SNR.insert(0,\"aircrafts_mean\",[mean(aircrafts)])\n",
    "df_SNR.insert(1,\"aircrafts_desviacion\",[desviacion(aircrafts)])\n",
    "\n",
    "df_SNR.insert(2,\"lluvia_mean\",[mean(lluvia)])\n",
    "df_SNR.insert(3,\"lluvia_desviacion\",[desviacion(lluvia)])\n",
    "\n",
    "df_SNR.insert(4,\"trafico_mean\",[mean(trafico)])\n",
    "df_SNR.insert(5,\"trafico_desviacion\",[desviacion(trafico)])\n",
    "\n",
    "df_SNR.insert(6,\"viento_mean\",[mean(viento)])\n",
    "df_SNR.insert(7,\"viento_desviacion\",[desviacion(viento)])"
   ]
  },
  {
   "cell_type": "code",
   "execution_count": 6,
   "metadata": {},
   "outputs": [
    {
     "data": {
      "text/html": [
       "<div>\n",
       "<style scoped>\n",
       "    .dataframe tbody tr th:only-of-type {\n",
       "        vertical-align: middle;\n",
       "    }\n",
       "\n",
       "    .dataframe tbody tr th {\n",
       "        vertical-align: top;\n",
       "    }\n",
       "\n",
       "    .dataframe thead th {\n",
       "        text-align: right;\n",
       "    }\n",
       "</style>\n",
       "<table border=\"1\" class=\"dataframe\">\n",
       "  <thead>\n",
       "    <tr style=\"text-align: right;\">\n",
       "      <th></th>\n",
       "      <th>aircrafts_mean</th>\n",
       "      <th>aircrafts_desviacion</th>\n",
       "      <th>lluvia_mean</th>\n",
       "      <th>lluvia_desviacion</th>\n",
       "      <th>trafico_mean</th>\n",
       "      <th>trafico_desviacion</th>\n",
       "      <th>viento_mean</th>\n",
       "      <th>viento_desviacion</th>\n",
       "    </tr>\n",
       "  </thead>\n",
       "  <tbody>\n",
       "    <tr>\n",
       "      <th>0</th>\n",
       "      <td>-3.768673</td>\n",
       "      <td>9.436374</td>\n",
       "      <td>-5.96613</td>\n",
       "      <td>7.615572</td>\n",
       "      <td>-6.136651</td>\n",
       "      <td>7.09726</td>\n",
       "      <td>-7.563764</td>\n",
       "      <td>7.695505</td>\n",
       "    </tr>\n",
       "  </tbody>\n",
       "</table>\n",
       "</div>"
      ],
      "text/plain": [
       "   aircrafts_mean  aircrafts_desviacion  lluvia_mean  lluvia_desviacion  \\\n",
       "0       -3.768673              9.436374     -5.96613           7.615572   \n",
       "\n",
       "   trafico_mean  trafico_desviacion  viento_mean  viento_desviacion  \n",
       "0     -6.136651             7.09726    -7.563764           7.695505  "
      ]
     },
     "execution_count": 6,
     "metadata": {},
     "output_type": "execute_result"
    }
   ],
   "source": [
    "df_SNR"
   ]
  }
 ],
 "metadata": {
  "interpreter": {
   "hash": "6fe17b6fa4d9c949e40ac054b52ab9c7bfd9ec15454a804312d2ca141f76bf41"
  },
  "kernelspec": {
   "display_name": "Python 3.7.11 64-bit ('Javier_wavenet': conda)",
   "language": "python",
   "name": "python3"
  },
  "language_info": {
   "codemirror_mode": {
    "name": "ipython",
    "version": 3
   },
   "file_extension": ".py",
   "mimetype": "text/x-python",
   "name": "python",
   "nbconvert_exporter": "python",
   "pygments_lexer": "ipython3",
   "version": "3.7.11"
  },
  "orig_nbformat": 4
 },
 "nbformat": 4,
 "nbformat_minor": 2
}
