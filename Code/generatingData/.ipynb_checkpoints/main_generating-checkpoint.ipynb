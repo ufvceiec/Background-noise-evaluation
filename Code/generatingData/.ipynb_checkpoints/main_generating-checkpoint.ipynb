{
 "cells": [
  {
   "cell_type": "markdown",
   "metadata": {},
   "source": [
    "# Studying of the original Dataset"
   ]
  },
  {
   "cell_type": "markdown",
   "metadata": {},
   "source": [
    "The downloaded folder has 221 GB of audio files as you can see:\n",
    "\n",
    "![title](img/folder.jpg)\n",
    "\n",
    "It has several folders with redundant files in different formats, mainly .sph and .stm\n",
    "\n",
    "It also comes with the files separated in train and test. The train folder has 2351 files and test 11. We'll later see if this is an apropiate distribution of the data.\n",
    "\n",
    "\n"
   ]
  },
  {
   "cell_type": "code",
   "execution_count": 1,
   "metadata": {},
   "outputs": [],
   "source": [
    "%reload_ext autoreload\n",
    "\n",
    "%autoreload 2"
   ]
  },
  {
   "cell_type": "code",
   "execution_count": 2,
   "metadata": {},
   "outputs": [],
   "source": [
    "from building_dataset_library import *\n",
    "import ipywidgets as widgets\n",
    "from tqdm import tqdm\n",
    "from IPython.display import display\n"
   ]
  },
  {
   "cell_type": "markdown",
   "metadata": {},
   "source": [
    "### Parameters and values"
   ]
  },
  {
   "cell_type": "code",
   "execution_count": 3,
   "metadata": {
    "ExecuteTime": {
     "end_time": "2019-05-20T08:15:01.200916Z",
     "start_time": "2019-05-20T08:15:01.194933Z"
    }
   },
   "outputs": [],
   "source": [
    "# Frame where we start recording for the df\n",
    "#beginning=[0,8000,441000]\n",
    "\n",
    "path_Aircarfts=\"D:/Caracuel/WaveNet-seaBackGroundNoise/Datasets/Noise/Aircrafts/\"\n",
    "path_Thunderstorm=\"D:\\\\Caracuel\\\\WaveNet-seaBackGroundNoise\\\\Datasets\\\\Noise\\\\LLuvia_truenos\\\\\"\n",
    "path_Trafic=\"D:\\\\Caracuel\\\\WaveNet-seaBackGroundNoise\\\\Datasets\\\\Noise\\\\Trafico\\\\\"\n",
    "path_Wind=\"D:\\\\Caracuel\\\\WaveNet-seaBackGroundNoise\\\\Datasets\\\\Noise\\\\Viento\\\\\"\n",
    "\n",
    "path_noise_chunked=\"D:\\\\Caracuel\\\\WaveNet-seaBackGroundNoise\\\\Datasets\\\\Noise\\\\Chunked_large\\\\\"\n",
    "\n",
    "path_Ted_original = \"../../Datasets/TED/TED_Chunked/\"\n",
    "pathTed_10secs = \"../../Datasets/TED/TED_original_augmented/\"\n",
    "path_TED_chunked=\"D:\\\\Caracuel\\\\WaveNet-seaBackGroundNoise\\\\Datasets\\\\TED\\\\voice_chunked_large\\\\\"\n",
    "\n",
    "path_Aircrafts_chunked=\"D:/Caracuel/WaveNet-seaBackGroundNoise/Datasets/Noise/Chunked_large/Aircrafts/\"\n",
    "path_Thunderstorm_chunked=\"D:/Caracuel/WaveNet-seaBackGroundNoise/Datasets/Noise/Chunked_large/Lluvia/\"\n",
    "path_Trafic_chunked=\"D:/Caracuel/WaveNet-seaBackGroundNoise/Datasets/Noise/Chunked_large/Trafico/\"\n",
    "path_Wind_chunked=\"D:/Caracuel/WaveNet-seaBackGroundNoise/Datasets/Noise/Chunked_large/Viento/\"\n",
    "\n",
    "path_mezclado=\"D:\\\\Caracuel\\\\WaveNet-seaBackGroundNoise\\\\Datasets\\\\Audio_mezclado\\\\\"\n",
    "\n",
    "path_windows_save=\"../../Datasets/Data/\"\n",
    "\n",
    "path_noise_order=\"../../Datasets/Noise/All_noises_order/\"\n",
    "path_mezclado_large=\"../../Datasets/Audio_mezclado_large/\"\n",
    "path_voice_order=\"../../Datasets/TED/TED_order/\""
   ]
  },
  {
   "cell_type": "markdown",
   "metadata": {},
   "source": [
    "### Load data"
   ]
  },
  {
   "cell_type": "code",
   "execution_count": 4,
   "metadata": {},
   "outputs": [],
   "source": [
    "style = {'description_width': 'initial'}\n",
    "\n",
    "generating= widgets.Dropdown(\n",
    "    options=[('Generating', 0), ('Already Generated', 1)],\n",
    "    value=1,\n",
    "    description='Select Generating formated data or Already generated the Data:',\n",
    "    style=style,\n",
    "    layout={'width': 'max-content'}\n",
    ")\n",
    "\n",
    "mixing = widgets.Dropdown(\n",
    "    options=[('Mezclar', 0), ('No Mezclar', 1)],\n",
    "    value=1,\n",
    "    description='Select Mixing or not the Data:',\n",
    "    style=style,\n",
    "    layout={'width': 'max-content'}\n",
    ")\n",
    "\n",
    "dataset_name = widgets.Dropdown(\n",
    "    options=[('aircrafts', 1), ('lluvia', 2),('trafico', 3),('viento', 4),('ted', 5)],\n",
    "    value=1,\n",
    "    description='Seleccionar nombre del set de datos a cortar:',\n",
    "    style=style,\n",
    "    layout={'width': 'max-content'}\n",
    ")\n",
    "\n",
    "json_wi = widgets.Dropdown(\n",
    "    options=[('Crear audios', 1), ('No crear audios', 2)],\n",
    "    value=2,\n",
    "    description='Seleccionar crear json solo si se han generado y mezclado los datos:',\n",
    "    style=style,\n",
    "    layout={'width': 'max-content'}\n",
    ")\n",
    "\n",
    "thunder_large = widgets.Dropdown(\n",
    "    options=[('cortar audios', 1), ('No cortar', 2)],\n",
    "    value=2,\n",
    "    description='Seleccionar si cortar audios o no:',\n",
    "    style=style,\n",
    "    layout={'width': 'max-content'}\n",
    ")\n",
    "\n",
    "mfcc = widgets.Dropdown(\n",
    "    options=[('Generar Mfcc', 1), ('Generar MEL', 2), ('Generar Log_spectrogram', 3)],\n",
    "    value=3,\n",
    "    description='Seleccionar si generar Mfcc u  otro:',\n",
    "    style=style,\n",
    "    layout={'width': 'max-content'}\n",
    ")\n",
    "\n"
   ]
  },
  {
   "cell_type": "code",
   "execution_count": 5,
   "metadata": {},
   "outputs": [
    {
     "data": {
      "application/vnd.jupyter.widget-view+json": {
       "model_id": "c0b006129a0e4c02b23550a1573ae468",
       "version_major": 2,
       "version_minor": 0
      },
      "text/plain": [
       "Dropdown(description='Seleccionar si cortar audios o no:', index=1, layout=Layout(width='max-content'), option…"
      ]
     },
     "metadata": {},
     "output_type": "display_data"
    },
    {
     "data": {
      "application/vnd.jupyter.widget-view+json": {
       "model_id": "46d41e6fb4b9424f8117d9b42c7d5fca",
       "version_major": 2,
       "version_minor": 0
      },
      "text/plain": [
       "Dropdown(description='Select Generating formated data or Already generated the Data:', index=1, layout=Layout(…"
      ]
     },
     "metadata": {},
     "output_type": "display_data"
    },
    {
     "data": {
      "application/vnd.jupyter.widget-view+json": {
       "model_id": "606ba8a5efb64301b7be0cc9ffc4498b",
       "version_major": 2,
       "version_minor": 0
      },
      "text/plain": [
       "Dropdown(description='Seleccionar crear json solo si se han generado y mezclado los datos:', index=1, layout=L…"
      ]
     },
     "metadata": {},
     "output_type": "display_data"
    },
    {
     "data": {
      "application/vnd.jupyter.widget-view+json": {
       "model_id": "1a4de23fc14f4b0e9bf8fa0fd1052ab8",
       "version_major": 2,
       "version_minor": 0
      },
      "text/plain": [
       "Dropdown(description='Seleccionar si generar Mfcc u  otro:', index=2, layout=Layout(width='max-content'), opti…"
      ]
     },
     "metadata": {},
     "output_type": "display_data"
    },
    {
     "data": {
      "application/vnd.jupyter.widget-view+json": {
       "model_id": "732598cefb4649a6b57a24b72db316e0",
       "version_major": 2,
       "version_minor": 0
      },
      "text/plain": [
       "Dropdown(description='Select Mixing or not the Data:', index=1, layout=Layout(width='max-content'), options=((…"
      ]
     },
     "metadata": {},
     "output_type": "display_data"
    },
    {
     "data": {
      "application/vnd.jupyter.widget-view+json": {
       "model_id": "cf5ae53e32ab4238aaad8f814b27158a",
       "version_major": 2,
       "version_minor": 0
      },
      "text/plain": [
       "Dropdown(description='Seleccionar nombre del set de datos a cortar:', layout=Layout(width='max-content'), opti…"
      ]
     },
     "metadata": {},
     "output_type": "display_data"
    }
   ],
   "source": [
    "display(thunder_large)\n",
    "display(generating)\n",
    "display(((json_wi)))\n",
    "display(mfcc)\n",
    "display(mixing)\n",
    "display(((dataset_name)))\n"
   ]
  },
  {
   "cell_type": "code",
   "execution_count": 6,
   "metadata": {
    "ExecuteTime": {
     "end_time": "2019-05-20T08:22:35.165477Z",
     "start_time": "2019-05-20T08:15:01.217871Z"
    },
    "scrolled": false
   },
   "outputs": [
    {
     "name": "stdout",
     "output_type": "stream",
     "text": [
      "First, files are going to be load and this is the lenght of data in folder: 80\n",
      "Audio n 247/15000"
     ]
    },
    {
     "ename": "KeyboardInterrupt",
     "evalue": "",
     "output_type": "error",
     "traceback": [
      "\u001b[1;31m---------------------------------------------------------------------------\u001b[0m",
      "\u001b[1;31mKeyboardInterrupt\u001b[0m                         Traceback (most recent call last)",
      "\u001b[1;32m~\\AppData\\Local\\Temp/ipykernel_3948/667698556.py\u001b[0m in \u001b[0;36m<module>\u001b[1;34m\u001b[0m\n\u001b[0;32m      8\u001b[0m                     \u001b[1;32mif\u001b[0m\u001b[1;33m(\u001b[0m\u001b[0mdataset_name\u001b[0m\u001b[1;33m.\u001b[0m\u001b[0mvalue\u001b[0m \u001b[1;33m==\u001b[0m \u001b[1;36m1\u001b[0m\u001b[1;33m)\u001b[0m\u001b[1;33m:\u001b[0m\u001b[1;33m\u001b[0m\u001b[1;33m\u001b[0m\u001b[0m\n\u001b[0;32m      9\u001b[0m                         \u001b[1;31m#Aircrafts\u001b[0m\u001b[1;33m\u001b[0m\u001b[1;33m\u001b[0m\u001b[1;33m\u001b[0m\u001b[0m\n\u001b[1;32m---> 10\u001b[1;33m                         \u001b[0mread_from_pydub\u001b[0m\u001b[1;33m(\u001b[0m\u001b[0mnumber_noise\u001b[0m\u001b[1;33m,\u001b[0m\u001b[0mlenght\u001b[0m\u001b[1;33m,\u001b[0m\u001b[0mpath_Aircarfts\u001b[0m\u001b[1;33m,\u001b[0m\u001b[0mpath_Aircrafts_chunked\u001b[0m\u001b[1;33m,\u001b[0m\u001b[0mted\u001b[0m\u001b[1;33m)\u001b[0m\u001b[1;33m\u001b[0m\u001b[1;33m\u001b[0m\u001b[0m\n\u001b[0m\u001b[0;32m     11\u001b[0m                     \u001b[1;32melif\u001b[0m\u001b[1;33m(\u001b[0m\u001b[0mdataset_name\u001b[0m\u001b[1;33m.\u001b[0m\u001b[0mvalue\u001b[0m \u001b[1;33m==\u001b[0m \u001b[1;36m2\u001b[0m\u001b[1;33m)\u001b[0m\u001b[1;33m:\u001b[0m\u001b[1;33m\u001b[0m\u001b[1;33m\u001b[0m\u001b[0m\n\u001b[0;32m     12\u001b[0m                         \u001b[1;31m#Thunders\u001b[0m\u001b[1;33m\u001b[0m\u001b[1;33m\u001b[0m\u001b[1;33m\u001b[0m\u001b[0m\n",
      "\u001b[1;32mD:\\Caracuel\\WaveNet-seaBackGroundNoise\\Code\\generatingData\\building_dataset_library\\LoadData_CreateDataset.py\u001b[0m in \u001b[0;36mread_from_pydub\u001b[1;34m(cantidad, longitud, path, path_save, ted)\u001b[0m\n\u001b[0;32m     65\u001b[0m         \u001b[1;31m#audio_final=audio_completo[:]\u001b[0m\u001b[1;33m\u001b[0m\u001b[1;33m\u001b[0m\u001b[1;33m\u001b[0m\u001b[0m\n\u001b[0;32m     66\u001b[0m         audio_final.export(out_f = f\"{path_save}sound{i}.wav\", \n\u001b[1;32m---> 67\u001b[1;33m                 format = \"wav\")\n\u001b[0m\u001b[0;32m     68\u001b[0m         \u001b[0mi\u001b[0m\u001b[1;33m+=\u001b[0m\u001b[1;36m1\u001b[0m\u001b[1;33m\u001b[0m\u001b[1;33m\u001b[0m\u001b[0m\n\u001b[0;32m     69\u001b[0m         \u001b[0mprint\u001b[0m\u001b[1;33m(\u001b[0m\u001b[1;34mf\"\\rAudio n {i}/{cantidad}\"\u001b[0m\u001b[1;33m,\u001b[0m \u001b[0mend\u001b[0m\u001b[1;33m=\u001b[0m\u001b[1;34m\"\"\u001b[0m\u001b[1;33m)\u001b[0m\u001b[1;33m\u001b[0m\u001b[1;33m\u001b[0m\u001b[0m\n",
      "\u001b[1;32m~\\Anaconda3\\envs\\Javier_wavenet\\lib\\site-packages\\pydub\\audio_segment.py\u001b[0m in \u001b[0;36mexport\u001b[1;34m(self, out_f, format, codec, bitrate, parameters, tags, id3v2_version, cover)\u001b[0m\n\u001b[0;32m    893\u001b[0m         \u001b[1;31m# a float in python 2 doesn't throw an exception\u001b[0m\u001b[1;33m\u001b[0m\u001b[1;33m\u001b[0m\u001b[1;33m\u001b[0m\u001b[0m\n\u001b[0;32m    894\u001b[0m         \u001b[0mwave_data\u001b[0m\u001b[1;33m.\u001b[0m\u001b[0msetnframes\u001b[0m\u001b[1;33m(\u001b[0m\u001b[0mint\u001b[0m\u001b[1;33m(\u001b[0m\u001b[0mself\u001b[0m\u001b[1;33m.\u001b[0m\u001b[0mframe_count\u001b[0m\u001b[1;33m(\u001b[0m\u001b[1;33m)\u001b[0m\u001b[1;33m)\u001b[0m\u001b[1;33m)\u001b[0m\u001b[1;33m\u001b[0m\u001b[1;33m\u001b[0m\u001b[0m\n\u001b[1;32m--> 895\u001b[1;33m         \u001b[0mwave_data\u001b[0m\u001b[1;33m.\u001b[0m\u001b[0mwriteframesraw\u001b[0m\u001b[1;33m(\u001b[0m\u001b[0mpcm_for_wav\u001b[0m\u001b[1;33m)\u001b[0m\u001b[1;33m\u001b[0m\u001b[1;33m\u001b[0m\u001b[0m\n\u001b[0m\u001b[0;32m    896\u001b[0m         \u001b[0mwave_data\u001b[0m\u001b[1;33m.\u001b[0m\u001b[0mclose\u001b[0m\u001b[1;33m(\u001b[0m\u001b[1;33m)\u001b[0m\u001b[1;33m\u001b[0m\u001b[1;33m\u001b[0m\u001b[0m\n\u001b[0;32m    897\u001b[0m \u001b[1;33m\u001b[0m\u001b[0m\n",
      "\u001b[1;32m~\\Anaconda3\\envs\\Javier_wavenet\\lib\\wave.py\u001b[0m in \u001b[0;36mwriteframesraw\u001b[1;34m(self, data)\u001b[0m\n\u001b[0;32m    431\u001b[0m         \u001b[1;32mif\u001b[0m \u001b[0mself\u001b[0m\u001b[1;33m.\u001b[0m\u001b[0m_sampwidth\u001b[0m \u001b[1;33m!=\u001b[0m \u001b[1;36m1\u001b[0m \u001b[1;32mand\u001b[0m \u001b[0msys\u001b[0m\u001b[1;33m.\u001b[0m\u001b[0mbyteorder\u001b[0m \u001b[1;33m==\u001b[0m \u001b[1;34m'big'\u001b[0m\u001b[1;33m:\u001b[0m\u001b[1;33m\u001b[0m\u001b[1;33m\u001b[0m\u001b[0m\n\u001b[0;32m    432\u001b[0m             \u001b[0mdata\u001b[0m \u001b[1;33m=\u001b[0m \u001b[0maudioop\u001b[0m\u001b[1;33m.\u001b[0m\u001b[0mbyteswap\u001b[0m\u001b[1;33m(\u001b[0m\u001b[0mdata\u001b[0m\u001b[1;33m,\u001b[0m \u001b[0mself\u001b[0m\u001b[1;33m.\u001b[0m\u001b[0m_sampwidth\u001b[0m\u001b[1;33m)\u001b[0m\u001b[1;33m\u001b[0m\u001b[1;33m\u001b[0m\u001b[0m\n\u001b[1;32m--> 433\u001b[1;33m         \u001b[0mself\u001b[0m\u001b[1;33m.\u001b[0m\u001b[0m_file\u001b[0m\u001b[1;33m.\u001b[0m\u001b[0mwrite\u001b[0m\u001b[1;33m(\u001b[0m\u001b[0mdata\u001b[0m\u001b[1;33m)\u001b[0m\u001b[1;33m\u001b[0m\u001b[1;33m\u001b[0m\u001b[0m\n\u001b[0m\u001b[0;32m    434\u001b[0m         \u001b[0mself\u001b[0m\u001b[1;33m.\u001b[0m\u001b[0m_datawritten\u001b[0m \u001b[1;33m+=\u001b[0m \u001b[0mlen\u001b[0m\u001b[1;33m(\u001b[0m\u001b[0mdata\u001b[0m\u001b[1;33m)\u001b[0m\u001b[1;33m\u001b[0m\u001b[1;33m\u001b[0m\u001b[0m\n\u001b[0;32m    435\u001b[0m         \u001b[0mself\u001b[0m\u001b[1;33m.\u001b[0m\u001b[0m_nframeswritten\u001b[0m \u001b[1;33m=\u001b[0m \u001b[0mself\u001b[0m\u001b[1;33m.\u001b[0m\u001b[0m_nframeswritten\u001b[0m \u001b[1;33m+\u001b[0m \u001b[0mnframes\u001b[0m\u001b[1;33m\u001b[0m\u001b[1;33m\u001b[0m\u001b[0m\n",
      "\u001b[1;31mKeyboardInterrupt\u001b[0m: "
     ]
    }
   ],
   "source": [
    "df_archivos = None\n",
    "df=None\n",
    "ted=False\n",
    "if thunder_large.value==2:\n",
    "    if generating.value==1:\n",
    "        if json_wi.value== 2:\n",
    "            if mixing.value == 1:\n",
    "                    if(dataset_name.value == 1):\n",
    "                        #Aircrafts\n",
    "                        read_from_pydub(number_noise,lenght,path_Aircarfts,path_Aircrafts_chunked,ted)\n",
    "                    elif(dataset_name.value == 2):\n",
    "                        #Thunders\n",
    "                        read_from_pydub(number_noise,lenght,path_Thunderstorm,path_Thunderstorm_chunked,ted)    \n",
    "                    elif(dataset_name.value == 3):\n",
    "                        #Trafic\n",
    "                        read_from_pydub(number_noise,lenght,path_Trafic,path_Trafic_chunked,ted)    \n",
    "                    elif(dataset_name.value == 4):\n",
    "                        #Wind\n",
    "                        read_from_pydub(number_noise,lenght,path_Wind,path_Wind_chunked,ted)    \n",
    "                    elif(dataset_name.value == 5):\n",
    "                        #TED\n",
    "                        ted=True\n",
    "                        read_from_pydub(number_TED,lenght,pathTed_10secs,path_TED_chunked,ted) \n",
    "            else:\n",
    "                #Ejecutar esta celda una vez generados todos los wav y metidos en sus respectivas carpetas\n",
    "                mixingData(path_noise_chunked,path_TED_chunked)\n",
    "        else:\n",
    "            #dependiendo si crear spectrogramas o mel, descomentar una u otra\n",
    "            #read_wavs_spectrogram(\"D:\\\\Caracuel\\\\WaveNet-seaBackGroundNoise\\\\Datasets\\\\Noise\\\\Chunked_large\\\\\",\"D:\\\\Caracuel\\\\WaveNet-seaBackGroundNoise\\\\Datasets\\\\Audio_mezclado_large\\\\\",\"D:\\\\Caracuel\\\\WaveNet-seaBackGroundNoise\\\\Datasets\\\\Data\\\\data.json\") \n",
    "            if(mfcc.value==2):# generar mel\n",
    "                \n",
    "                print(\"1- Json with noise\")\n",
    "                print(\"2- Json with voice\")\n",
    "                valx=int(input())\n",
    "                \n",
    "                print(\"1- power to db\")\n",
    "                print(\"2- no power to db\")\n",
    "                valy=int(input())\n",
    "\n",
    "                if(valx==1):\n",
    "                    if(valy==1):\n",
    "                        read_wavs_mel(path_noise_order,path_mezclado_large,f\"{path_windows_save}data{number_TED}_{lenght/1000}_Noise_powerToDB_mel_NMFCC{N_MFCC}_NFFT{N_FFT}_HOPLENGTH{HOP_LENGTH}\",True,path_voice_order,True)\n",
    "                    else:\n",
    "                        read_wavs_mel(path_noise_order,path_mezclado_large,f\"{path_windows_save}data{number_TED}_{lenght/1000}_Noise_NopowerToDB_mel_NMFCC{N_MFCC}_NFFT{N_FFT}_HOPLENGTH{HOP_LENGTH}\",True,path_voice_order,False)            \n",
    "                else:\n",
    "                    if(valy==1):\n",
    "                        read_wavs_mel(path_noise_order,path_mezclado_large,f\"{path_windows_save}data{number_TED}_{lenght/1000}_Voice_powerToDB_mel_NMFCC{N_MFCC}_NFFT{N_FFT}_HOPLENGTH{HOP_LENGTH}\",False,path_voice_order,True)\n",
    "                    else:\n",
    "                        read_wavs_mel(path_noise_order,path_mezclado_large,f\"data{number_TED}_{lenght/1000}_Voice_NopowerToDB_mel_NMFCC{N_MFCC}_NFFT{N_FFT}_HOPLENGTH{HOP_LENGTH}\",False,path_voice_order,False)\n",
    "            elif(mfcc.value==3): # generar log_spectrogram\n",
    "                print(\"entra en log spectrogram\")\n",
    "                print(\"1- Json with noise\")\n",
    "                print(\"2- Json with voice\")\n",
    "                valx=int(input())\n",
    "\n",
    "                if(valx==1):\n",
    "\n",
    "                    read_wavs_spectrogram(path_noise_order, path_mezclado_large,True,path_voice_order) # TODO: comprobar que los audios se leen en orden correctamente\n",
    "                else:\n",
    "                    read_wavs_spectrogram(path_noise_order, path_mezclado_large,False,path_voice_order)\n",
    "            \n",
    "            else: # generar mfcc\n",
    "                print(\"1- Json with noise\")\n",
    "                print(\"2- Json with voice\")\n",
    "                valx=int(input())\n",
    "\n",
    "                if(valx==1):\n",
    "                    read_wavs_Mfcc(path_noise_order,path_mezclado_large,f\"{path_windows_save}data{number_TED}_{lenght/1000}_Noise_MFCC_NMFCC{N_MFCC}_NFFT{N_FFT}_HOPLENGTH{HOP_LENGTH}\",True,path_voice_order,False)            \n",
    "                else:\n",
    "                    read_wavs_Mfcc(path_noise_order,path_mezclado_large,f\"{path_windows_save}data{number_TED}_{lenght/1000}_Voice_MFCC_NMFCC{N_MFCC}_NFFT{N_FFT}_HOPLENGTH{HOP_LENGTH}\",False,path_voice_order,True)\n",
    "                          \n",
    "    else:\n",
    "        generar_samplerate(False) #Si quieremos modificar ruidos\n",
    "        # generar_samplerate(True) #Si quieremos modificar TED\n",
    "        \n",
    "        \n",
    "else:\n",
    "    # eliminar los primeros y los utlimos 15 segundos de ted si es necesario\n",
    "    # delete_first_last_15_seconds()\n",
    "    chunk_large_audio(path_Ted_original,pathTed_10secs)# Chunk TED audio"
   ]
  },
  {
   "cell_type": "code",
   "execution_count": null,
   "metadata": {},
   "outputs": [],
   "source": []
  }
 ],
 "metadata": {
  "kernelspec": {
   "display_name": "Python 3 (ipykernel)",
   "language": "python",
   "name": "python3"
  },
  "language_info": {
   "codemirror_mode": {
    "name": "ipython",
    "version": 3
   },
   "file_extension": ".py",
   "mimetype": "text/x-python",
   "name": "python",
   "nbconvert_exporter": "python",
   "pygments_lexer": "ipython3",
   "version": "3.7.11"
  },
  "toc": {
   "base_numbering": 1,
   "nav_menu": {},
   "number_sections": false,
   "sideBar": true,
   "skip_h1_title": false,
   "title_cell": "Table of Contents",
   "title_sidebar": "Contents",
   "toc_cell": false,
   "toc_position": {
    "height": "calc(100% - 180px)",
    "left": "10px",
    "top": "150px",
    "width": "322px"
   },
   "toc_section_display": true,
   "toc_window_display": true
  },
  "varInspector": {
   "cols": {
    "lenName": 16,
    "lenType": 16,
    "lenVar": 40
   },
   "kernels_config": {
    "python": {
     "delete_cmd_postfix": "",
     "delete_cmd_prefix": "del ",
     "library": "var_list.py",
     "varRefreshCmd": "print(var_dic_list())"
    },
    "r": {
     "delete_cmd_postfix": ") ",
     "delete_cmd_prefix": "rm(",
     "library": "var_list.r",
     "varRefreshCmd": "cat(var_dic_list()) "
    }
   },
   "oldHeight": 792.4008180000001,
   "position": {
    "height": "40px",
    "left": "1305.32px",
    "right": "20px",
    "top": "109.866px",
    "width": "366.605px"
   },
   "types_to_exclude": [
    "module",
    "function",
    "builtin_function_or_method",
    "instance",
    "_Feature"
   ],
   "varInspector_section_display": "none",
   "window_display": true
  }
 },
 "nbformat": 4,
 "nbformat_minor": 2
}
