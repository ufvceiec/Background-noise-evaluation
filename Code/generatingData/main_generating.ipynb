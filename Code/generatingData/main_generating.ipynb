{
 "cells": [
  {
   "cell_type": "markdown",
   "metadata": {},
   "source": [
    "# Studying of the original Dataset"
   ]
  },
  {
   "cell_type": "markdown",
   "metadata": {},
   "source": [
    "The downloaded folder has 221 GB of audio files as you can see:\n",
    "\n",
    "![title](img/folder.jpg)\n",
    "\n",
    "It has several folders with redundant files in different formats, mainly .sph and .stm\n",
    "\n",
    "It also comes with the files separated in train and test. The train folder has 2351 files and test 11. We'll later see if this is an apropiate distribution of the data.\n",
    "\n",
    "\n"
   ]
  },
  {
   "cell_type": "code",
   "execution_count": 1,
   "metadata": {},
   "outputs": [],
   "source": [
    "%reload_ext autoreload\n",
    "\n",
    "%autoreload 2"
   ]
  },
  {
   "cell_type": "code",
   "execution_count": 3,
   "metadata": {},
   "outputs": [
    {
     "name": "stderr",
     "output_type": "stream",
     "text": [
      "c:\\Users\\javca\\anaconda3\\envs\\Ceiec\\lib\\site-packages\\pydub\\utils.py:170: RuntimeWarning: Couldn't find ffmpeg or avconv - defaulting to ffmpeg, but may not work\n",
      "  warn(\"Couldn't find ffmpeg or avconv - defaulting to ffmpeg, but may not work\", RuntimeWarning)\n"
     ]
    }
   ],
   "source": [
    "from building_dataset_library import *\n",
    "import ipywidgets as widgets\n",
    "from tqdm import tqdm\n",
    "from IPython.display import display\n"
   ]
  },
  {
   "cell_type": "markdown",
   "metadata": {},
   "source": [
    "### Parameters and values"
   ]
  },
  {
   "cell_type": "code",
   "execution_count": 4,
   "metadata": {},
   "outputs": [
    {
     "data": {
      "text/plain": [
       "15000"
      ]
     },
     "execution_count": 4,
     "metadata": {},
     "output_type": "execute_result"
    }
   ],
   "source": [
    "number_noise"
   ]
  },
  {
   "cell_type": "code",
   "execution_count": 5,
   "metadata": {
    "ExecuteTime": {
     "end_time": "2019-05-20T08:15:01.200916Z",
     "start_time": "2019-05-20T08:15:01.194933Z"
    }
   },
   "outputs": [],
   "source": [
    "# Frame where we start recording for the df\n",
    "#beginning=[0,8000,441000]\n",
    "\n",
    "path_Aircarfts=\"D:/Caracuel/WaveNet-seaBackGroundNoise/Datasets/Noise/Aircrafts/\"\n",
    "path_Thunderstorm=\"D:\\\\Caracuel\\\\WaveNet-seaBackGroundNoise\\\\Datasets\\\\Noise\\\\LLuvia_truenos\\\\\"\n",
    "path_Trafic=\"D:\\\\Caracuel\\\\WaveNet-seaBackGroundNoise\\\\Datasets\\\\Noise\\\\Trafico\\\\\"\n",
    "path_Wind=\"D:\\\\Caracuel\\\\WaveNet-seaBackGroundNoise\\\\Datasets\\\\Noise\\\\Viento\\\\\"\n",
    "\n",
    "path_noise_chunked=\"D:\\\\Caracuel\\\\WaveNet-seaBackGroundNoise\\\\Datasets\\\\Noise\\\\Chunked_large\\\\\"\n",
    "\n",
    "path_Ted_original = \"../../Datasets/TED/TED_Chunked/\"\n",
    "pathTed_10secs = \"../../Datasets/TED/TED_original_augmented/\"\n",
    "path_TED_chunked=\"D:\\\\Caracuel\\\\WaveNet-seaBackGroundNoise\\\\Datasets\\\\TED\\\\voice_chunked_large\\\\\"\n",
    "\n",
    "path_Aircrafts_chunked=\"D:/Caracuel/WaveNet-seaBackGroundNoise/Datasets/Noise/Chunked_large/Aircrafts/\"\n",
    "path_Thunderstorm_chunked=\"D:/Caracuel/WaveNet-seaBackGroundNoise/Datasets/Noise/Chunked_large/Lluvia/\"\n",
    "path_Trafic_chunked=\"D:/Caracuel/WaveNet-seaBackGroundNoise/Datasets/Noise/Chunked_large/Trafico/\"\n",
    "path_Wind_chunked=\"D:/Caracuel/WaveNet-seaBackGroundNoise/Datasets/Noise/Chunked_large/Viento/\"\n",
    "\n",
    "path_mezclado=\"D:\\\\Caracuel\\\\WaveNet-seaBackGroundNoise\\\\Datasets\\\\Audio_mezclado\\\\\"\n",
    "\n",
    "path_windows_save=\"../../Datasets/Data/\"\n",
    "\n",
    "path_noise_order=\"../../Datasets/Noise/All_noises_order/\"\n",
    "path_mezclado_large=\"../../Datasets/Audio_mezclado_large/\"\n",
    "path_voice_order=\"../../Datasets/TED/TED_order/\""
   ]
  },
  {
   "cell_type": "markdown",
   "metadata": {},
   "source": [
    "### Load data"
   ]
  },
  {
   "cell_type": "code",
   "execution_count": 6,
   "metadata": {},
   "outputs": [],
   "source": [
    "style = {'description_width': 'initial'}\n",
    "\n",
    "generating= widgets.Dropdown(\n",
    "    options=[('Generating', 0), ('Already Generated', 1)],\n",
    "    value=1,\n",
    "    description='Select Generating formated data or Already generated the Data:',\n",
    "    style=style,\n",
    "    layout={'width': 'max-content'}\n",
    ")\n",
    "\n",
    "mixing = widgets.Dropdown(\n",
    "    options=[('Mezclar', 0), ('No Mezclar', 1)],\n",
    "    value=1,\n",
    "    description='Select Mixing or not the Data:',\n",
    "    style=style,\n",
    "    layout={'width': 'max-content'}\n",
    ")\n",
    "\n",
    "dataset_name = widgets.Dropdown(\n",
    "    options=[('aircrafts', 1), ('lluvia', 2),('trafico', 3),('viento', 4),('ted', 5)],\n",
    "    value=1,\n",
    "    description='Seleccionar nombre del set de datos a cortar:',\n",
    "    style=style,\n",
    "    layout={'width': 'max-content'}\n",
    ")\n",
    "\n",
    "json_wi = widgets.Dropdown(\n",
    "    options=[('Crear audios', 1), ('No crear audios', 2)],\n",
    "    value=2,\n",
    "    description='Seleccionar crear json solo si se han generado y mezclado los datos:',\n",
    "    style=style,\n",
    "    layout={'width': 'max-content'}\n",
    ")\n",
    "\n",
    "thunder_large = widgets.Dropdown(\n",
    "    options=[('cortar audios', 1), ('No cortar', 2)],\n",
    "    value=2,\n",
    "    description='Seleccionar si cortar audios o no:',\n",
    "    style=style,\n",
    "    layout={'width': 'max-content'}\n",
    ")\n",
    "\n",
    "mfcc = widgets.Dropdown(\n",
    "    options=[('Generar Mfcc', 1), ('Generar MEL', 2), ('Generar Log_spectrogram', 3)],\n",
    "    value=3,\n",
    "    description='Seleccionar si generar Mfcc u  otro:',\n",
    "    style=style,\n",
    "    layout={'width': 'max-content'}\n",
    ")\n",
    "\n"
   ]
  },
  {
   "cell_type": "code",
   "execution_count": 7,
   "metadata": {},
   "outputs": [
    {
     "data": {
      "application/vnd.jupyter.widget-view+json": {
       "model_id": "1b1b096c3c4b4bbf99841e883f0f2ff4",
       "version_major": 2,
       "version_minor": 0
      },
      "text/plain": [
       "Dropdown(description='Seleccionar si cortar audios o no:', index=1, layout=Layout(width='max-content'), option…"
      ]
     },
     "metadata": {},
     "output_type": "display_data"
    },
    {
     "data": {
      "application/vnd.jupyter.widget-view+json": {
       "model_id": "d87b9a1ba9394c91b7687f33f9afb4f1",
       "version_major": 2,
       "version_minor": 0
      },
      "text/plain": [
       "Dropdown(description='Select Generating formated data or Already generated the Data:', index=1, layout=Layout(…"
      ]
     },
     "metadata": {},
     "output_type": "display_data"
    },
    {
     "data": {
      "application/vnd.jupyter.widget-view+json": {
       "model_id": "4d2fd18fe3484aed8794c7a9aee66306",
       "version_major": 2,
       "version_minor": 0
      },
      "text/plain": [
       "Dropdown(description='Seleccionar crear json solo si se han generado y mezclado los datos:', index=1, layout=L…"
      ]
     },
     "metadata": {},
     "output_type": "display_data"
    },
    {
     "data": {
      "application/vnd.jupyter.widget-view+json": {
       "model_id": "814ed72d852c44fcad0b7e1a9b38d628",
       "version_major": 2,
       "version_minor": 0
      },
      "text/plain": [
       "Dropdown(description='Seleccionar si generar Mfcc u  otro:', index=2, layout=Layout(width='max-content'), opti…"
      ]
     },
     "metadata": {},
     "output_type": "display_data"
    },
    {
     "data": {
      "application/vnd.jupyter.widget-view+json": {
       "model_id": "ead098a8823c46b98d4380d6d054b6d2",
       "version_major": 2,
       "version_minor": 0
      },
      "text/plain": [
       "Dropdown(description='Select Mixing or not the Data:', index=1, layout=Layout(width='max-content'), options=((…"
      ]
     },
     "metadata": {},
     "output_type": "display_data"
    },
    {
     "data": {
      "application/vnd.jupyter.widget-view+json": {
       "model_id": "bc0c5679534e46cda2e8c8a3df80cfa4",
       "version_major": 2,
       "version_minor": 0
      },
      "text/plain": [
       "Dropdown(description='Seleccionar nombre del set de datos a cortar:', layout=Layout(width='max-content'), opti…"
      ]
     },
     "metadata": {},
     "output_type": "display_data"
    }
   ],
   "source": [
    " # eliminar los primeros y los utlimos 15 segundos de ted si es necesario\n",
    "display(thunder_large)\n",
    "#estandarizar el sample rate\n",
    "display(generating)\n",
    "#seleccionr si mezlcar o no\n",
    "display(mixing)\n",
    "#seleccionar el dataset a mezclar\n",
    "display(((dataset_name)))\n",
    "#crear las transformadas\n",
    "display(mfcc)\n",
    "#generar un json(antiguas versiones)\n",
    "display(((json_wi)))\n"
   ]
  },
  {
   "cell_type": "code",
   "execution_count": 32,
   "metadata": {
    "ExecuteTime": {
     "end_time": "2019-05-20T08:22:35.165477Z",
     "start_time": "2019-05-20T08:15:01.217871Z"
    },
    "scrolled": false
   },
   "outputs": [
    {
     "name": "stdout",
     "output_type": "stream",
     "text": [
      "entra en log spectrogram\n",
      "1- Json with noise\n",
      "2- Json with voice\n",
      "2\n",
      "Leyendo los nombres de los wav de sus directorios ...\n"
     ]
    },
    {
     "name": "stderr",
     "output_type": "stream",
     "text": [
      " 27%|████████████████████▊                                                       | 16350/59800 [06:03<17:12, 42.06it/s]"
     ]
    },
    {
     "name": "stdout",
     "output_type": "stream",
     "text": [
      "16351\n"
     ]
    },
    {
     "name": "stderr",
     "output_type": "stream",
     "text": [
      " 37%|███████████████████████████▉                                                | 21991/59800 [17:31<13:15, 47.53it/s]"
     ]
    },
    {
     "name": "stdout",
     "output_type": "stream",
     "text": [
      "21991\n"
     ]
    },
    {
     "name": "stderr",
     "output_type": "stream",
     "text": [
      " 63%|███████████████████████████████████████████████▋                            | 37509/59800 [26:53<08:00, 46.39it/s]"
     ]
    },
    {
     "name": "stdout",
     "output_type": "stream",
     "text": [
      "37514\n"
     ]
    },
    {
     "name": "stderr",
     "output_type": "stream",
     "text": [
      " 73%|███████████████████████████████████████████████████████▊                    | 43882/59800 [40:00<05:36, 47.27it/s]"
     ]
    },
    {
     "name": "stdout",
     "output_type": "stream",
     "text": [
      "43886\n"
     ]
    },
    {
     "name": "stderr",
     "output_type": "stream",
     "text": [
      " 98%|██████████████████████████████████████████████████████████████████████████▌ | 58707/59800 [49:29<00:26, 40.79it/s]"
     ]
    },
    {
     "name": "stdout",
     "output_type": "stream",
     "text": [
      "58709\n"
     ]
    },
    {
     "name": "stderr",
     "output_type": "stream",
     "text": [
      "100%|█████████████████████████████████████████████████████████████████████████▉| 59796/59800 [1:00:10<00:00, 47.45it/s]"
     ]
    },
    {
     "name": "stdout",
     "output_type": "stream",
     "text": [
      "59799\n"
     ]
    },
    {
     "name": "stderr",
     "output_type": "stream",
     "text": [
      "100%|██████████████████████████████████████████████████████████████████████████| 59800/59800 [1:00:39<00:00, 16.43it/s]\n"
     ]
    }
   ],
   "source": [
    "df_archivos = None\n",
    "df=None\n",
    "ted=False\n",
    "if thunder_large.value==2:\n",
    "    if generating.value==1:\n",
    "        if json_wi.value== 2:\n",
    "            if mixing.value == 1:\n",
    "                    if(dataset_name.value == 1):\n",
    "                        #Aircrafts\n",
    "                        read_from_pydub(number_noise,lenght,path_Aircarfts,path_Aircrafts_chunked,ted)\n",
    "                    elif(dataset_name.value == 2):\n",
    "                        #Thunders\n",
    "                        read_from_pydub(number_noise,lenght,path_Thunderstorm,path_Thunderstorm_chunked,ted)    \n",
    "                    elif(dataset_name.value == 3):\n",
    "                        #Trafic\n",
    "                        read_from_pydub(number_noise,lenght,path_Trafic,path_Trafic_chunked,ted)    \n",
    "                    elif(dataset_name.value == 4):\n",
    "                        #Wind\n",
    "                        read_from_pydub(number_noise,lenght,path_Wind,path_Wind_chunked,ted)    \n",
    "                    elif(dataset_name.value == 5):\n",
    "                        #TED\n",
    "                        ted=True\n",
    "                        read_from_pydub(number_TED,lenght,pathTed_10secs,path_TED_chunked,ted) \n",
    "            else:\n",
    "                #Ejecutar esta celda una vez generados todos los wav y metidos en sus respectivas carpetas\n",
    "                mixingData(path_noise_chunked,path_TED_chunked)\n",
    "        else:\n",
    "            #dependiendo si crear spectrogramas o mel, descomentar una u otra\n",
    "            #read_wavs_spectrogram(\"D:\\\\Caracuel\\\\WaveNet-seaBackGroundNoise\\\\Datasets\\\\Noise\\\\Chunked_large\\\\\",\"D:\\\\Caracuel\\\\WaveNet-seaBackGroundNoise\\\\Datasets\\\\Audio_mezclado_large\\\\\",\"D:\\\\Caracuel\\\\WaveNet-seaBackGroundNoise\\\\Datasets\\\\Data\\\\data.json\") \n",
    "            if(mfcc.value==2):# generar mel\n",
    "                \n",
    "                print(\"1- Json with noise\")\n",
    "                print(\"2- Json with voice\")\n",
    "                valx=int(input())\n",
    "                \n",
    "                print(\"1- power to db\")\n",
    "                print(\"2- no power to db\")\n",
    "                valy=int(input())\n",
    "\n",
    "                if(valx==1):\n",
    "                    if(valy==1):\n",
    "                        read_wavs_mel(path_noise_order,path_mezclado_large,f\"{path_windows_save}data{number_TED}_{lenght/1000}_Noise_powerToDB_mel_NMFCC{N_MFCC}_NFFT{N_FFT}_HOPLENGTH{HOP_LENGTH}\",True,path_voice_order,True)\n",
    "                    else:\n",
    "                        read_wavs_mel(path_noise_order,path_mezclado_large,f\"{path_windows_save}data{number_TED}_{lenght/1000}_Noise_NopowerToDB_mel_NMFCC{N_MFCC}_NFFT{N_FFT}_HOPLENGTH{HOP_LENGTH}\",True,path_voice_order,False)            \n",
    "                else:\n",
    "                    if(valy==1):\n",
    "                        read_wavs_mel(path_noise_order,path_mezclado_large,f\"{path_windows_save}data{number_TED}_{lenght/1000}_Voice_powerToDB_mel_NMFCC{N_MFCC}_NFFT{N_FFT}_HOPLENGTH{HOP_LENGTH}\",False,path_voice_order,True)\n",
    "                    else:\n",
    "                        read_wavs_mel(path_noise_order,path_mezclado_large,f\"data{number_TED}_{lenght/1000}_Voice_NopowerToDB_mel_NMFCC{N_MFCC}_NFFT{N_FFT}_HOPLENGTH{HOP_LENGTH}\",False,path_voice_order,False)\n",
    "            elif(mfcc.value==3): # generar log_spectrogram\n",
    "                print(\"entra en log spectrogram\")\n",
    "                print(\"1- Json with noise\")\n",
    "                print(\"2- Json with voice\")\n",
    "                valx=int(input())\n",
    "\n",
    "                if(valx==1):\n",
    "\n",
    "                    read_wavs_spectrogram(path_noise_order, path_mezclado_large,True,path_voice_order) # TODO: comprobar que los audios se leen en orden correctamente\n",
    "                else:\n",
    "                    read_wavs_spectrogram(path_noise_order, path_mezclado_large,False,path_voice_order)\n",
    "            \n",
    "            else: # generar mfcc\n",
    "                print(\"1- Json with noise\")\n",
    "                print(\"2- Json with voice\")\n",
    "                valx=int(input())\n",
    "\n",
    "                if(valx==1):\n",
    "                    read_wavs_Mfcc(path_noise_order,path_mezclado_large,f\"{path_windows_save}data{number_TED}_{lenght/1000}_Noise_MFCC_NMFCC{N_MFCC}_NFFT{N_FFT}_HOPLENGTH{HOP_LENGTH}\",True,path_voice_order,False)            \n",
    "                else:\n",
    "                    read_wavs_Mfcc(path_noise_order,path_mezclado_large,f\"{path_windows_save}data{number_TED}_{lenght/1000}_Voice_MFCC_NMFCC{N_MFCC}_NFFT{N_FFT}_HOPLENGTH{HOP_LENGTH}\",False,path_voice_order,True)\n",
    "                          \n",
    "    else:\n",
    "        generar_samplerate(False) #Si quieremos modificar ruidos\n",
    "        # generar_samplerate(True) #Si quieremos modificar TED\n",
    "        \n",
    "        \n",
    "else:\n",
    "    # eliminar los primeros y los utlimos 15 segundos de ted si es necesario\n",
    "    # delete_first_last_15_seconds()\n",
    "    chunk_large_audio(path_Ted_original,pathTed_10secs)# Chunk TED audio"
   ]
  },
  {
   "cell_type": "code",
   "execution_count": null,
   "metadata": {},
   "outputs": [],
   "source": []
  }
 ],
 "metadata": {
  "kernelspec": {
   "display_name": "Python 3.9.12 ('Ceiec')",
   "language": "python",
   "name": "python3"
  },
  "language_info": {
   "codemirror_mode": {
    "name": "ipython",
    "version": 3
   },
   "file_extension": ".py",
   "mimetype": "text/x-python",
   "name": "python",
   "nbconvert_exporter": "python",
   "pygments_lexer": "ipython3",
   "version": "3.9.12"
  },
  "toc": {
   "base_numbering": 1,
   "nav_menu": {},
   "number_sections": false,
   "sideBar": true,
   "skip_h1_title": false,
   "title_cell": "Table of Contents",
   "title_sidebar": "Contents",
   "toc_cell": false,
   "toc_position": {
    "height": "calc(100% - 180px)",
    "left": "10px",
    "top": "150px",
    "width": "322px"
   },
   "toc_section_display": true,
   "toc_window_display": true
  },
  "varInspector": {
   "cols": {
    "lenName": 16,
    "lenType": 16,
    "lenVar": 40
   },
   "kernels_config": {
    "python": {
     "delete_cmd_postfix": "",
     "delete_cmd_prefix": "del ",
     "library": "var_list.py",
     "varRefreshCmd": "print(var_dic_list())"
    },
    "r": {
     "delete_cmd_postfix": ") ",
     "delete_cmd_prefix": "rm(",
     "library": "var_list.r",
     "varRefreshCmd": "cat(var_dic_list()) "
    }
   },
   "oldHeight": 792.4008180000001,
   "position": {
    "height": "40px",
    "left": "1305.32px",
    "right": "20px",
    "top": "109.866px",
    "width": "366.605px"
   },
   "types_to_exclude": [
    "module",
    "function",
    "builtin_function_or_method",
    "instance",
    "_Feature"
   ],
   "varInspector_section_display": "none",
   "window_display": true
  },
  "vscode": {
   "interpreter": {
    "hash": "add33ec30ad07fb172a3e5d915360277bab4a596f3212f7a8edc62cdefc58d7e"
   }
  }
 },
 "nbformat": 4,
 "nbformat_minor": 2
}
