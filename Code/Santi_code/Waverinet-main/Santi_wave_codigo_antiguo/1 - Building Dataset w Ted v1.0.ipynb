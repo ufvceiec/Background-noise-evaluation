{
 "cells": [
  {
   "cell_type": "markdown",
   "metadata": {},
   "source": [
    "# Building final Dataset using Ted Talks"
   ]
  },
  {
   "cell_type": "markdown",
   "metadata": {},
   "source": [
    "The aim of this Notebook is to prepare the dataset that is going to be used by a model or to modify an existing one by changing the noise or incompletion percentage.\n",
    "\n",
    "The data has been found in a Mozilla forum with semi-open datasets focused in audio files. Here is the main source: https://voice.mozilla.org/en/datasets.\n",
    "\n",
    "![title](img/mozilla.jpg)"
   ]
  },
  {
   "cell_type": "markdown",
   "metadata": {},
   "source": [
    "Here we can found the Ted Talks TEDLIUM v3.0. (License: CC-BY-NC-ND 3.0)\n",
    "\n",
    "Once downloaded, lets see how the files are:"
   ]
  },
  {
   "cell_type": "markdown",
   "metadata": {},
   "source": [
    "# Studying of the original Dataset"
   ]
  },
  {
   "cell_type": "markdown",
   "metadata": {},
   "source": [
    "The downloaded folder has 221 GB of audio files as you can see:\n",
    "\n",
    "![title](img/folder.jpg)\n",
    "\n",
    "It has several folders with redundant files in different formats, mainly .sph and .stm\n",
    "\n",
    "It also comes with the files separated in train and test. The train folder has 2351 files and test 11. We'll later see if this is an apropiate distribution of the data.\n",
    "\n",
    "\n"
   ]
  },
  {
   "cell_type": "markdown",
   "metadata": {},
   "source": [
    "### First transformation: SPH to WAV"
   ]
  },
  {
   "cell_type": "markdown",
   "metadata": {},
   "source": [
    "SPH format it is not very common or used so we are going to change all the files to WAV format. WAV is one of the most common audio file format and there are many libraries and functions to work with it in Python, making this project a little easier.\n",
    "\n",
    "There are several ways for this transformation (Python functions, OS routines, specific programs, etc). We found the easiest way by running a script in the Windows CMD so the OS and SoX (Sound eXchange) will do all the work. This is the script:\n",
    "\n",
    "![title](img/script.jpg)\n",
    "\n",
    "Once the script has finished, we have all the files in WAV format, ready to be read by this Notebook :)"
   ]
  },
  {
   "cell_type": "markdown",
   "metadata": {},
   "source": [
    "# Functions, getting and preparing data"
   ]
  },
  {
   "cell_type": "markdown",
   "metadata": {},
   "source": [
    "To load the files and work with them we are going to need the following imports:"
   ]
  },
  {
   "cell_type": "code",
   "execution_count": 1,
   "metadata": {
    "ExecuteTime": {
     "end_time": "2019-05-20T08:15:01.061288Z",
     "start_time": "2019-05-20T08:14:58.262437Z"
    }
   },
   "outputs": [],
   "source": [
    "# (Double check if I need all these)\n",
    "import numpy as np\n",
    "import pandas as pd\n",
    "import os\n",
    "import wave\n",
    "from scipy.io import wavfile\n",
    "\n",
    "# To play WAVs on this Notebook\n",
    "import IPython.display as ipd\n",
    "\n",
    "# For random noise\n",
    "import random\n",
    "\n",
    "# To save with the current data and time\n",
    "import time\n",
    "\n",
    "import matplotlib.pyplot as plt\n",
    "from matplotlib.pyplot import subplots\n",
    "%matplotlib inline\n",
    "\n",
    "# Try this to disable warnings\n",
    "import warnings\n",
    "warnings.filterwarnings('ignore')\n",
    "\n",
    "# To see times\n",
    "from tqdm import tqdm_notebook, tnrange"
   ]
  },
  {
   "cell_type": "markdown",
   "metadata": {},
   "source": [
    "## Inputs"
   ]
  },
  {
   "cell_type": "markdown",
   "metadata": {},
   "source": [
    "Due to memory limitations, files are going to be load in two different steps"
   ]
  },
  {
   "cell_type": "markdown",
   "metadata": {},
   "source": [
    "Lets locate and open all the WAVs"
   ]
  },
  {
   "cell_type": "code",
   "execution_count": 2,
   "metadata": {
    "ExecuteTime": {
     "end_time": "2019-05-20T08:15:01.066276Z",
     "start_time": "2019-05-20T08:15:01.062287Z"
    },
    "scrolled": true
   },
   "outputs": [],
   "source": [
    "def w_files():    \n",
    "    \n",
    "    # Load all the wavs (names) into a list\n",
    "\n",
    "    path1 = 'D:/Datasets/Ted Talks TEDLIUM/TEDLIUM_release-3/FINAL/load1/'\n",
    "    path2 = 'D:/Datasets/Ted Talks TEDLIUM/TEDLIUM_release-3/FINAL/load2/'\n",
    "\n",
    "    WAV_list1 = os.listdir(path1)\n",
    "    WAV_list2 = os.listdir(path2)\n",
    "\n",
    "    WAV_list1 = pd.DataFrame(WAV_list1)\n",
    "    WAV_list2 = pd.DataFrame(WAV_list2)\n",
    "\n",
    "    print('First, ', len(WAV_list1), 'files are going to be load and this are the names:')\n",
    "    display(WAV_list1)\n",
    "\n",
    "    print('Then, ', len(WAV_list2), 'files are going to be load and this are the names:')\n",
    "    display(WAV_list2)\n",
    "    \n",
    "    return path1, path2, WAV_list1, WAV_list2"
   ]
  },
  {
   "cell_type": "markdown",
   "metadata": {},
   "source": [
    "One single function for:"
   ]
  },
  {
   "cell_type": "markdown",
   "metadata": {},
   "source": [
    "### Reading and loading all files"
   ]
  },
  {
   "cell_type": "markdown",
   "metadata": {},
   "source": [
    "All data can be read directly from the WAV files or from a CSV if this step has already been done.\n",
    "\n",
    "If you decide to load from WAVs, the files are going to be read with the function wavfile.read() and saved into a Pandas Dataframe. This option might take more than 30 min.\n",
    "\n",
    "If you load it from a CSV the data is load directly into the Pandas dataframe. This option takes 1 min (reading the CSV takes just a few seconds, most of the time is due to the transformation of the data that comes in a string into NumPy arrays)."
   ]
  },
  {
   "cell_type": "markdown",
   "metadata": {},
   "source": [
    "and"
   ]
  },
  {
   "cell_type": "markdown",
   "metadata": {},
   "source": [
    "### Building the Pandas dataframe"
   ]
  },
  {
   "cell_type": "markdown",
   "metadata": {},
   "source": [
    "We are going to take all the data and info and we are going to load it into an empty dataframe."
   ]
  },
  {
   "cell_type": "code",
   "execution_count": 3,
   "metadata": {
    "ExecuteTime": {
     "end_time": "2019-05-20T08:15:01.074254Z",
     "start_time": "2019-05-20T08:15:01.067274Z"
    }
   },
   "outputs": [],
   "source": [
    "def load_data(WAV_list, path):    \n",
    "    \n",
    "    print('\\nReading audio files...\\n')\n",
    "\n",
    "    # Save data into another list\n",
    "    data = [0]\n",
    "\n",
    "    for i in (tnrange(len(WAV_list))):\n",
    "\n",
    "        fname = path + WAV_list.iloc[i][0]\n",
    "\n",
    "        if os.path.isfile(fname):\n",
    "            # Read file\n",
    "            Dato = wavfile.read(fname)\n",
    "            #Dato = Dato.tolist()\n",
    "            data = data + [Dato]\n",
    "\n",
    "#             if i%50 == 0:\n",
    "#                 print(len(WAV_list) - i, 'remaining')\n",
    "\n",
    "        else:\n",
    "            print(\"Something went wrong\")\n",
    "\n",
    "    data = pd.DataFrame([data])\n",
    "    data = data.T\n",
    "    data = data.iloc[1:].reset_index(drop=True)\n",
    "\n",
    "#     if len(data) == len(WAV_list):\n",
    "#         print('\\nFinished successfully!')\n",
    "\n",
    "    WAV_list['data'] = data\n",
    "\n",
    "    # To lo tocho\n",
    "\n",
    "    # We first create the empty dataframe\n",
    "    col_names =  ['name', 'sample_rate', 'original_length', 'final_length', 'data']\n",
    "    df  = pd.DataFrame(columns = col_names)\n",
    "\n",
    "    # We create empty lists to load the data and then save it into the dataframe\n",
    "    all_data = []\n",
    "    all_rates = []\n",
    "    all_lengths = []\n",
    "\n",
    "    for i in range (len(WAV_list)):\n",
    "        all_data.append(WAV_list['data'][i][1])\n",
    "        all_rates.append(WAV_list['data'][i][0])\n",
    "        all_lengths.append(len(WAV_list['data'][i][1]))\n",
    "\n",
    "    df['name'] = WAV_list[0]\n",
    "    df['data'] = all_data\n",
    "    df['sample_rate'] = all_rates\n",
    "    df['original_length'] = all_lengths\n",
    "\n",
    "    return df"
   ]
  },
  {
   "cell_type": "code",
   "execution_count": 4,
   "metadata": {
    "ExecuteTime": {
     "end_time": "2019-05-20T08:15:01.082234Z",
     "start_time": "2019-05-20T08:15:01.075253Z"
    }
   },
   "outputs": [],
   "source": [
    "def load_df(name):\n",
    "    \n",
    "    print('\\nOpening CSV...\\n')\n",
    "    df = pd.read_csv(name, index_col=[0])\n",
    "    df.index = pd.RangeIndex(len(df.index))\n",
    "    \n",
    "    print('Reading data...\\n')\n",
    "    # Esto del for es canelita en rama. cinnamon in branch.\n",
    "    for i in tnrange(df.shape[0]):\n",
    "        #df.data[i] = np.fromstring(df.data[i].replace('[', r'').replace('\\r\\n', r''), sep=' ', dtype=np.int16)\n",
    "        df.data[i] = np.fromstring(df.data[i].replace('[', r'').replace('\\r\\n', r''), sep=' ', dtype=np.float32)\n",
    "        df.random_data[i] = np.fromstring(df.random_data[i].replace('[', r'').replace('\\r\\n', r''), sep=' ', dtype=np.float32)\n",
    "        df.incompleted_data[i] = np.fromstring(df.incompleted_data[i].replace('[', r'').replace('\\r\\n', r''), sep=' ', dtype=np.float32)\n",
    "        df.low_quality_data[i] = np.fromstring(df.low_quality_data[i].replace('[', r'').replace('\\r\\n', r''), sep=' ', dtype=np.float32)\n",
    "\n",
    "    print('\\nFinished successfully!')\n",
    "    \n",
    "    return df"
   ]
  },
  {
   "cell_type": "markdown",
   "metadata": {},
   "source": [
    "## Preprocessing"
   ]
  },
  {
   "cell_type": "markdown",
   "metadata": {},
   "source": [
    "We are going to prepare data to be ready and understood by a Deep Learning model.\n",
    "\n",
    "We are going to go through different steps, where we'll changing the shape, lenght, size, etc. of this data.\n",
    "\n",
    "NOTE: Most of this steps will only be effective if we load the data from the WAV files. If we already have a Dataframe that has been throght this steps, nothing will happen."
   ]
  },
  {
   "cell_type": "markdown",
   "metadata": {},
   "source": [
    "### Length"
   ]
  },
  {
   "cell_type": "markdown",
   "metadata": {},
   "source": [
    "First, lets see the lenghts of the original files."
   ]
  },
  {
   "cell_type": "code",
   "execution_count": 5,
   "metadata": {
    "ExecuteTime": {
     "end_time": "2019-05-20T08:15:01.090245Z",
     "start_time": "2019-05-20T08:15:01.083231Z"
    }
   },
   "outputs": [],
   "source": [
    "def get_lenghts():\n",
    "    \n",
    "    min_len = df.original_length.min()\n",
    "    max_len = df.original_length.max()\n",
    "    avg_len = np.mean(df.original_length)\n",
    "\n",
    "    print('Max Length: ', max_len, '\\nAverage Length: ', int(avg_len), '\\nMin Length: ', min_len);"
   ]
  },
  {
   "cell_type": "markdown",
   "metadata": {},
   "source": [
    "### Rounding"
   ]
  },
  {
   "cell_type": "markdown",
   "metadata": {},
   "source": [
    "Let's round each value of each audio file. It has to be done after the normalization, because after it, the values result with 18 decimals.\n",
    "\n",
    "A human survey has been done to conclude how many decimals are going to be used. The survey concludes that humans cannot notice the difference between 8, 4 and 3 decimals of precision, so the number of rounding is going to be used is 3."
   ]
  },
  {
   "cell_type": "code",
   "execution_count": 6,
   "metadata": {
    "ExecuteTime": {
     "end_time": "2019-05-20T08:15:01.097219Z",
     "start_time": "2019-05-20T08:15:01.091210Z"
    }
   },
   "outputs": [],
   "source": [
    "def rounding(data):\n",
    "    for x in range(0, data.size):\n",
    "        data[x] = round(data[x], 3)\n",
    "    return data"
   ]
  },
  {
   "cell_type": "markdown",
   "metadata": {},
   "source": [
    "### Chunks"
   ]
  },
  {
   "cell_type": "markdown",
   "metadata": {},
   "source": [
    "We are going to chunk all the files in the same length (10 seconds).\n",
    "\n",
    "10 secs = 163333 frames.\n",
    "\n",
    "We are going to remove the first 27 seconds (Ted Intro) and take the next 10 seconds, which has actual speech.\n",
    "\n",
    "NOTE: If we want a different final length we just have to modify the values from the box below."
   ]
  },
  {
   "cell_type": "markdown",
   "metadata": {},
   "source": [
    "Main parameters:"
   ]
  },
  {
   "cell_type": "code",
   "execution_count": 7,
   "metadata": {
    "ExecuteTime": {
     "end_time": "2019-05-20T08:15:01.105172Z",
     "start_time": "2019-05-20T08:15:01.098191Z"
    }
   },
   "outputs": [],
   "source": [
    "def generic_chunk(df, beg, f_len):\n",
    "    \n",
    "    new = df[['data']].copy()\n",
    "    \n",
    "    new['data'] = [col[beg:beg+f_len] for col in tqdm_notebook(new.data)]\n",
    "    \n",
    "    # In case some file was shorten than the length we set, the remaining empty part is going be fill with 0's\n",
    "    #df['data'] = [np.pad(col, (0, f_len-len(col)), 'constant') for col in df.data if len(df.data) < f_len]\n",
    "    \n",
    "    #df['final_length'] = [len(col) for col in df.data]\n",
    "    \n",
    "    return new"
   ]
  },
  {
   "cell_type": "code",
   "execution_count": 8,
   "metadata": {
    "ExecuteTime": {
     "end_time": "2019-05-20T08:15:01.111156Z",
     "start_time": "2019-05-20T08:15:01.106170Z"
    }
   },
   "outputs": [],
   "source": [
    "def chunk(df):\n",
    "    \n",
    "    # How much we want to cut from the beginning (441000 = 27 seconds):\n",
    "    beg = 441000\n",
    "\n",
    "    # How long we want the final length (163333 = 10 seconds)\n",
    "    f_len = 163333\n",
    "    \n",
    "    df['data'] = [col[beg:beg+f_len] for col in df.data]\n",
    "    \n",
    "    # In case some file was shorten than the length we set, the remaining empty part is going be fill with 0's\n",
    "    df['data'] = [np.pad(col, (0, f_len-len(col)), 'constant') for col in df.data if len(df.data) < f_len]\n",
    "    \n",
    "    df['final_length'] = [len(col) for col in df.data]\n",
    "    \n",
    "    return df"
   ]
  },
  {
   "cell_type": "markdown",
   "metadata": {},
   "source": [
    "To take the second segment for a bigger dataset.\n",
    "From second 37 to 47"
   ]
  },
  {
   "cell_type": "code",
   "execution_count": 9,
   "metadata": {
    "ExecuteTime": {
     "end_time": "2019-05-20T08:15:01.119135Z",
     "start_time": "2019-05-20T08:15:01.112154Z"
    }
   },
   "outputs": [],
   "source": [
    "def chunk_2(df):\n",
    "    \n",
    "    # How much we want to cut from the beginning (604333 = 37 seconds):\n",
    "    beg = 604333\n",
    "\n",
    "    # How long we want the final length (163333 = 10 seconds)\n",
    "    f_len = 163333\n",
    "    \n",
    "    df['data'] = [col[beg:beg+f_len] for col in df.data]\n",
    "    \n",
    "    # In case some file was shorten than the length we set, the remaining empty part is going be fill with 0's\n",
    "    df['data'] = [np.pad(col, (0, f_len-len(col)), 'constant') for col in df.data if len(df.data) < f_len]\n",
    "    \n",
    "    df['final_length'] = [len(col) for col in df.data]\n",
    "    \n",
    "    return df"
   ]
  },
  {
   "cell_type": "markdown",
   "metadata": {},
   "source": [
    "To take the third segment for a bigger dataset.\n",
    "From second 47 to 57"
   ]
  },
  {
   "cell_type": "code",
   "execution_count": 10,
   "metadata": {
    "ExecuteTime": {
     "end_time": "2019-05-20T08:15:01.126117Z",
     "start_time": "2019-05-20T08:15:01.120132Z"
    }
   },
   "outputs": [],
   "source": [
    "def chunk_3(df):\n",
    "    \n",
    "    # How much we want to cut from the beginning (604333 = 37 seconds):\n",
    "    beg = 767666\n",
    "    \n",
    "    # How long we want the final length (163333 = 10 seconds)\n",
    "    f_len = 163333\n",
    "    \n",
    "    df['data'] = [col[beg:beg+f_len] for col in df.data]\n",
    "    \n",
    "    # In case some file was shorten than the length we set, the remaining empty part is going be fill with 0's\n",
    "    df['data'] = [np.pad(col, (0, f_len-len(col)), 'constant') for col in df.data if len(df.data) < f_len]\n",
    "    \n",
    "    df['final_length'] = [len(col) for col in df.data]\n",
    "    \n",
    "    return df"
   ]
  },
  {
   "cell_type": "markdown",
   "metadata": {},
   "source": [
    "### Chunking the DF to export"
   ]
  },
  {
   "cell_type": "code",
   "execution_count": 11,
   "metadata": {
    "ExecuteTime": {
     "end_time": "2019-05-20T08:15:01.133097Z",
     "start_time": "2019-05-20T08:15:01.127113Z"
    }
   },
   "outputs": [],
   "source": [
    "def preparing_df(df):\n",
    "    if 'sample_rate' in df:\n",
    "        df = df.drop(['sample_rate'], axis=1)\n",
    "        \n",
    "    if 'original_length' in df:\n",
    "        df = df.drop(['original_length'], axis=1)\n",
    "        \n",
    "    if 'final_length' in df:\n",
    "        df = df.drop(['final_length'], axis=1)\n",
    "        \n",
    "    return df"
   ]
  },
  {
   "cell_type": "markdown",
   "metadata": {},
   "source": [
    "## Normalization"
   ]
  },
  {
   "cell_type": "markdown",
   "metadata": {},
   "source": [
    "### (-1, 1)\n",
    "\n",
    "The one I'm gonna use\n",
    "\n",
    "Lets try one of the typical normalizations, between -1 and 1 "
   ]
  },
  {
   "cell_type": "code",
   "execution_count": 12,
   "metadata": {
    "ExecuteTime": {
     "end_time": "2019-05-20T08:15:01.139082Z",
     "start_time": "2019-05-20T08:15:01.134096Z"
    }
   },
   "outputs": [],
   "source": [
    "def norm_b(data):\n",
    "    max_data = np.max(data)\n",
    "    min_data = np.min(data)\n",
    "    if abs(min_data) > max_data:\n",
    "        max_data = abs(min_data)\n",
    "    data = data / max_data\n",
    "    return data"
   ]
  },
  {
   "cell_type": "markdown",
   "metadata": {},
   "source": [
    "### (0, 1)\n",
    "Check which normalization is the best workin w audio files"
   ]
  },
  {
   "cell_type": "code",
   "execution_count": 13,
   "metadata": {
    "ExecuteTime": {
     "end_time": "2019-05-20T08:15:01.146063Z",
     "start_time": "2019-05-20T08:15:01.140079Z"
    }
   },
   "outputs": [],
   "source": [
    "def audio_norm(data):\n",
    "    max_data = np.max(data)\n",
    "    min_data = np.min(data)\n",
    "    data = (data-min_data) / (max_data - min_data+1e-6)\n",
    "    return data - 0.5"
   ]
  },
  {
   "cell_type": "markdown",
   "metadata": {},
   "source": [
    "### Other\n",
    "Try this other normalization from Scikit learn:"
   ]
  },
  {
   "cell_type": "markdown",
   "metadata": {},
   "source": [
    "(I removed it cuz it wasn't useful at all)"
   ]
  },
  {
   "cell_type": "markdown",
   "metadata": {},
   "source": [
    "## Generating the broken files"
   ]
  },
  {
   "cell_type": "markdown",
   "metadata": {},
   "source": [
    "Here we are going to prepare the broken versions of the audio files, so we have a pair of normal quality file - broken file.\n",
    "\n",
    "We want to have different kind of broken files such as low quality, noise, missing information, etc.\n",
    "\n",
    "Different methods are going to be used for this."
   ]
  },
  {
   "cell_type": "markdown",
   "metadata": {},
   "source": [
    "We are going to start generating one single broken version per file, and once we have done this succesfully, we'll we if its necessary to have all the different broken methods per each file. "
   ]
  },
  {
   "cell_type": "markdown",
   "metadata": {},
   "source": [
    "### Random Noise\n",
    "\n",
    "This is going to be first method even though we already know that in most of the real cases the incompletion is not going to be due to this, but is a good starting point for the new broken files.   "
   ]
  },
  {
   "cell_type": "code",
   "execution_count": 14,
   "metadata": {
    "ExecuteTime": {
     "end_time": "2019-05-20T08:15:01.153044Z",
     "start_time": "2019-05-20T08:15:01.147061Z"
    }
   },
   "outputs": [],
   "source": [
    "def br_random(data, p_no):\n",
    "    \n",
    "    mu = 0      # mean\n",
    "    sigma = 0.15 # standard deviation\n",
    "    \n",
    "    mask = np.random.choice([0, 1], size=df.data[3].size, p=[1-p_no, p_no])\n",
    "    mask = np.array(mask, dtype=bool)\n",
    "    \n",
    "    sine = np.random.normal(mu, sigma, data.size)\n",
    "    \n",
    "    broken = data.copy()\n",
    "    broken[mask] = sine[mask]\n",
    "    \n",
    "    return broken"
   ]
  },
  {
   "cell_type": "markdown",
   "metadata": {},
   "source": [
    "### Incomplete Noise\n",
    "\n",
    "This is the second method, it will remove some values and place 0's instead."
   ]
  },
  {
   "cell_type": "code",
   "execution_count": 15,
   "metadata": {
    "ExecuteTime": {
     "end_time": "2019-05-20T08:15:01.159028Z",
     "start_time": "2019-05-20T08:15:01.154042Z"
    }
   },
   "outputs": [],
   "source": [
    "def br_incompletion(data, p_in):\n",
    "    \n",
    "    # The positions where I want to place the 0's\n",
    "    maska = np.random.choice([0, 1], size=data.size, p=[1-p_in, p_in])\n",
    "    \n",
    "    data = np.ma.array(data, mask=maska, fill_value=0)\n",
    "    resultado = data.filled()\n",
    "\n",
    "    return resultado"
   ]
  },
  {
   "cell_type": "markdown",
   "metadata": {},
   "source": [
    "### Low Quality\n",
    "\n",
    "The third method consists on reading the files with a lower sampling rate, instade of 16 kHz, 8 kHz."
   ]
  },
  {
   "cell_type": "code",
   "execution_count": 16,
   "metadata": {
    "ExecuteTime": {
     "end_time": "2019-05-20T08:15:01.166009Z",
     "start_time": "2019-05-20T08:15:01.160025Z"
    }
   },
   "outputs": [],
   "source": [
    "def br_low_q(data):\n",
    "    data = data[1::2]\n",
    "    return data"
   ]
  },
  {
   "cell_type": "markdown",
   "metadata": {},
   "source": [
    "Lets try this downsampling with the library Librosa"
   ]
  },
  {
   "cell_type": "code",
   "execution_count": 17,
   "metadata": {
    "ExecuteTime": {
     "end_time": "2019-05-20T08:15:01.172991Z",
     "start_time": "2019-05-20T08:15:01.167007Z"
    }
   },
   "outputs": [],
   "source": [
    "# import librosa    \n",
    "# y, s = librosa.load('test.wav', sr=8000)"
   ]
  },
  {
   "cell_type": "markdown",
   "metadata": {},
   "source": [
    "## Outputs"
   ]
  },
  {
   "cell_type": "markdown",
   "metadata": {},
   "source": [
    "### Save current work\n",
    "\n",
    "Function to save the current Pandas dataframe into a .CSV"
   ]
  },
  {
   "cell_type": "markdown",
   "metadata": {},
   "source": [
    "We are going to save this Dataframe into a CSV for future work.\n",
    "\n",
    "First, we have to set the threshold with a high value to make sure we don't truncate and miss data. Right after writting the CSV we'll set the threshold again with the default parameters so we can print the NumPy arrays properly.\n",
    "\n",
    "NOTE: The parameter np.set_printoptions(threshold=np.inf) should also work instead of setting the threashold with a high value."
   ]
  },
  {
   "cell_type": "code",
   "execution_count": 18,
   "metadata": {
    "ExecuteTime": {
     "end_time": "2019-05-20T08:15:01.179972Z",
     "start_time": "2019-05-20T08:15:01.173988Z"
    }
   },
   "outputs": [],
   "source": [
    "def save_work(df, name):\n",
    "    \n",
    "    print('\\nExporting to CSV. This might take a while...\\n')\n",
    "    #np.set_printoptions(threshold=200000)\n",
    "    np.set_printoptions(threshold=164000)\n",
    "    df.to_csv(name+'.csv')\n",
    "    np.set_printoptions(edgeitems=3,infstr='inf', linewidth=75, nanstr='nan', precision=8, suppress=False, threshold=1000, formatter=None)\n",
    "    print('\\nFinished successfully!')"
   ]
  },
  {
   "cell_type": "markdown",
   "metadata": {},
   "source": [
    "### Export group of the 4 files"
   ]
  },
  {
   "cell_type": "markdown",
   "metadata": {},
   "source": [
    "Here are going to be exported the group of the 4 files composed by: Original, random noise, incompleted and low quality.\n",
    "The starting file is a random one and it will recive how many from them will be exported."
   ]
  },
  {
   "cell_type": "code",
   "execution_count": 19,
   "metadata": {
    "ExecuteTime": {
     "end_time": "2019-05-20T08:15:01.186953Z",
     "start_time": "2019-05-20T08:15:01.180970Z"
    }
   },
   "outputs": [],
   "source": [
    "def export_groups(df, num):\n",
    "    \n",
    "    if num !=0:\n",
    "        \n",
    "        r_fi =random.randint(0, len(df))\n",
    "\n",
    "        for i in tnrange(0, num):\n",
    "            wavfile.write(('outputs/Noise/'+'{}'.format(i))+'_original.wav', 16000, df['data'][i+r_fi])\n",
    "            wavfile.write(('outputs/Noise/'+'{}'.format(i))+'_random.wav', 16000, df['random_data'][i+r_fi])\n",
    "            wavfile.write(('outputs/Noise/'+'{}'.format(i))+'_incompl.wav', 16000, df['incompleted_data'][i+r_fi])\n",
    "            wavfile.write(('outputs/Noise/'+'{}'.format(i))+'_low_q.wav', 8000, df['low_quality_data'][i+r_fi])"
   ]
  },
  {
   "cell_type": "markdown",
   "metadata": {},
   "source": [
    "### Export to WAV files"
   ]
  },
  {
   "cell_type": "markdown",
   "metadata": {},
   "source": [
    "We can also export some of the files back into WAV files but with the new lengths, shapes, etc. We are going to use the wavfile.write() function.\n",
    "\n",
    "Lets export some of them:"
   ]
  },
  {
   "cell_type": "code",
   "execution_count": 20,
   "metadata": {
    "ExecuteTime": {
     "end_time": "2019-05-20T08:15:01.193935Z",
     "start_time": "2019-05-20T08:15:01.187951Z"
    }
   },
   "outputs": [],
   "source": [
    "def export_files():\n",
    "    \n",
    "    option = -1\n",
    "    \n",
    "    while option != 0 or option != 1 or option != 2:\n",
    "\n",
    "        print('- Enter 0 to export 10 random files')\n",
    "        print('- Enter 1 to export the first 10 files')\n",
    "        print('- Enter 2 to export one specific file')\n",
    "\n",
    "        option = input()\n",
    "        option = int(option)\n",
    "        \n",
    "        if option == 0:\n",
    "\n",
    "            for i in range(10):\n",
    "                r_fi = random.randint(0, len(df))\n",
    "                #wavfile.write(('Exported/test'+'{}'.format(r_fi))+'.wav', df['sample_rate'][r_fi], df['data'][r_fi])\n",
    "                wavfile.write(('outputs/Exported/Random_exported'+'{}'.format(i))+'_'+'{}'.format(r_fi)+'.wav', 16000, df['data'][r_fi])\n",
    "            break\n",
    "            \n",
    "        elif option == 1:\n",
    "\n",
    "            for i in range(10):\n",
    "                #wavfile.write(('Exported/test'+'{}'.format(i))+'.wav', df['sample_rate'][i], df['data'][i])\n",
    "                wavfile.write(('outputs/Exported/10first_exported'+'{}'.format(i))+'_'+'{}'.format(i)+'.wav', 16000, df['data'][i])\n",
    "            break\n",
    "            \n",
    "        elif option == 2:\n",
    "            \n",
    "            print('\\nEnter the file id you want to export:')\n",
    "            fia = input()\n",
    "            fi = int(fia)\n",
    "\n",
    "            wavfile.write(('outputs/Exported/Specific_exported'+'{}'.format(fi))+'_'+'{}'.format(fi)+'.wav', 16000, df['data'][fi])\n",
    "            break\n",
    "            \n",
    "        else:\n",
    "            print('Not a valid option, try again...\\n\\n')\n",
    "\n",
    "            \n",
    "    print('Exported successfully')"
   ]
  },
  {
   "cell_type": "markdown",
   "metadata": {},
   "source": [
    "# MAIN"
   ]
  },
  {
   "cell_type": "markdown",
   "metadata": {},
   "source": [
    "### Parameters and values"
   ]
  },
  {
   "cell_type": "code",
   "execution_count": 21,
   "metadata": {
    "ExecuteTime": {
     "end_time": "2019-05-20T08:15:01.200916Z",
     "start_time": "2019-05-20T08:15:01.194933Z"
    }
   },
   "outputs": [],
   "source": [
    "# Frame where we start recording for the df\n",
    "beginning = 441000\n",
    "\n",
    "# Audio final length (163333 = 10sec, 81666 = 5sec, 32666 = 2sec)\n",
    "final_l = 32666 # 2 Seconds\n",
    "\n",
    "# Sample rate of all the audio files\n",
    "sample_rate = 16000\n",
    "\n",
    "# Lengths of all audios once chunked \n",
    "final_length = 163333\n",
    "\n",
    "# To chose if load from WAV's or from an existing DF\n",
    "option = -1\n",
    "\n",
    "# Percentage of noise\n",
    "p_no = 0.3\n",
    "\n",
    "# Percentage of incompletion\n",
    "p_in = 0.7"
   ]
  },
  {
   "cell_type": "markdown",
   "metadata": {},
   "source": [
    "### Load data"
   ]
  },
  {
   "cell_type": "code",
   "execution_count": 22,
   "metadata": {
    "ExecuteTime": {
     "end_time": "2019-05-20T08:15:01.216874Z",
     "start_time": "2019-05-20T08:15:01.201914Z"
    }
   },
   "outputs": [
    {
     "name": "stdout",
     "output_type": "stream",
     "text": [
      "To check beginnins and lengths:\n",
      "First file:   441000 32666\n",
      "Second file:  473666 32666\n",
      "Third file:   506332 32666\n",
      "Fourth file:  538998 32666\n"
     ]
    }
   ],
   "source": [
    "print('To check beginnins and lengths:')\n",
    "print('First file:  ', beginning + (0*final_l), final_l)\n",
    "print('Second file: ', beginning + (1*final_l), final_l)\n",
    "print('Third file:  ', beginning + (2*final_l), final_l)\n",
    "print('Fourth file: ', beginning + (3*final_l), final_l)"
   ]
  },
  {
   "cell_type": "code",
   "execution_count": 23,
   "metadata": {
    "ExecuteTime": {
     "end_time": "2019-05-20T08:22:35.165477Z",
     "start_time": "2019-05-20T08:15:01.217871Z"
    },
    "scrolled": true
   },
   "outputs": [
    {
     "name": "stdout",
     "output_type": "stream",
     "text": [
      "Do you want to load the data from the WAVs or from a CSV?\n",
      "Enter 0 for WAVs or 1 for CSV:\n",
      "1\n",
      "Enter the files name:\n",
      "df_all_data\n",
      "\n",
      "Opening CSV...\n",
      "\n",
      "Reading data...\n",
      "\n"
     ]
    },
    {
     "data": {
      "application/vnd.jupyter.widget-view+json": {
       "model_id": "398306eef3df449ea08ffef848529bd1",
       "version_major": 2,
       "version_minor": 0
      },
      "text/plain": [
       "HBox(children=(IntProgress(value=0, max=10880), HTML(value='')))"
      ]
     },
     "metadata": {},
     "output_type": "display_data"
    },
    {
     "name": "stdout",
     "output_type": "stream",
     "text": [
      "\n",
      "\n",
      "Finished successfully!\n"
     ]
    }
   ],
   "source": [
    "while option != 0 or option != 1:    \n",
    "\n",
    "    print('Do you want to load the data from the WAVs or from a CSV?')\n",
    "    print('Enter 0 for WAVs or 1 for CSV:')\n",
    "    option = input()\n",
    "    option = int(option)\n",
    "\n",
    "    if option == 0:\n",
    "        \n",
    "        path1, path2, WAV_list1, WAV_list2 = w_files()\n",
    "        \n",
    "        df1 = load_data(WAV_list1, path1)\n",
    "        time.sleep(60)\n",
    "        df2 = load_data(WAV_list2, path2)\n",
    "        \n",
    "        frames = [df1, df2]\n",
    "        df = pd.concat(frames)\n",
    "        \n",
    "        # CALL FROM HERE ALL OTHER FUNCTIONS TO PREPARE DF\n",
    "        #df = chunk(df)\n",
    "        #df = chunk_2(df)\n",
    "        #df = chunk_3(df)\n",
    "        \n",
    "        # The new chunks come here:\n",
    "        s_df0 = generic_chunk(df, beginning + (0*final_l), final_l)\n",
    "        s_df1 = generic_chunk(df, beginning + (1*final_l), final_l)\n",
    "        s_df2 = generic_chunk(df, beginning + (2*final_l), final_l)\n",
    "        s_df3 = generic_chunk(df, beginning + (3*final_l), final_l)\n",
    "        \n",
    "        frames = [s_df0, s_df1, s_df2, s_df3]\n",
    "        df = pd.concat(frames)\n",
    "        \n",
    "        df.index = pd.RangeIndex(len(df.index))\n",
    "        break\n",
    "        \n",
    "    elif option == 1:\n",
    "        \n",
    "        print('Enter the files name:')\n",
    "        name = input()\n",
    "        df = load_df('data/'+name+'.csv')\n",
    "        break\n",
    "        \n",
    "    else:\n",
    "        print('Not a valid option, try again...\\n\\n')"
   ]
  },
  {
   "cell_type": "markdown",
   "metadata": {},
   "source": [
    "### Check what's load"
   ]
  },
  {
   "cell_type": "code",
   "execution_count": 24,
   "metadata": {
    "ExecuteTime": {
     "end_time": "2019-05-20T08:22:35.237877Z",
     "start_time": "2019-05-20T08:22:35.165477Z"
    },
    "scrolled": true
   },
   "outputs": [
    {
     "name": "stdout",
     "output_type": "stream",
     "text": [
      "DFs shape:  (10880, 4)\n"
     ]
    },
    {
     "data": {
      "text/html": [
       "<div>\n",
       "<style scoped>\n",
       "    .dataframe tbody tr th:only-of-type {\n",
       "        vertical-align: middle;\n",
       "    }\n",
       "\n",
       "    .dataframe tbody tr th {\n",
       "        vertical-align: top;\n",
       "    }\n",
       "\n",
       "    .dataframe thead th {\n",
       "        text-align: right;\n",
       "    }\n",
       "</style>\n",
       "<table border=\"1\" class=\"dataframe\">\n",
       "  <thead>\n",
       "    <tr style=\"text-align: right;\">\n",
       "      <th></th>\n",
       "      <th>data</th>\n",
       "      <th>random_data</th>\n",
       "      <th>incompleted_data</th>\n",
       "      <th>low_quality_data</th>\n",
       "    </tr>\n",
       "  </thead>\n",
       "  <tbody>\n",
       "    <tr>\n",
       "      <th>0</th>\n",
       "      <td>[-0.031, -0.024, -0.017, -0.001, -0.026, -0.03...</td>\n",
       "      <td>[-0.031, -0.277, -0.017, -0.001, -0.026, -0.03...</td>\n",
       "      <td>[0.0, 0.0, 0.0, 0.0, 0.0, -0.038, -0.043, 0.0,...</td>\n",
       "      <td>[-0.024, -0.001, -0.038, -0.062, -0.066, -0.09...</td>\n",
       "    </tr>\n",
       "    <tr>\n",
       "      <th>1</th>\n",
       "      <td>[0.125, 0.089, 0.058, 0.027, -0.026, -0.068, -...</td>\n",
       "      <td>[0.125, 0.089, -0.132, -0.096, -0.026, -0.068,...</td>\n",
       "      <td>[0.0, 0.089, 0.0, 0.0, 0.0, -0.068, 0.0, 0.0, ...</td>\n",
       "      <td>[0.089, 0.027, -0.068, -0.113, -0.154, -0.127,...</td>\n",
       "    </tr>\n",
       "    <tr>\n",
       "      <th>2</th>\n",
       "      <td>[0.133, 0.154, 0.16, 0.192, 0.259, 0.295, 0.23...</td>\n",
       "      <td>[-0.06, -0.091, 0.16, 0.192, -0.103, 0.295, 0....</td>\n",
       "      <td>[0.0, 0.0, 0.0, 0.0, 0.0, 0.295, 0.0, 0.0, 0.0...</td>\n",
       "      <td>[0.154, 0.192, 0.295, 0.15, 0.052, -0.008, -0....</td>\n",
       "    </tr>\n",
       "    <tr>\n",
       "      <th>3</th>\n",
       "      <td>[-0.009, 0.059, 0.085, 0.061, -0.031, -0.116, ...</td>\n",
       "      <td>[-0.009, 0.316, 0.085, -0.055, -0.031, -0.116,...</td>\n",
       "      <td>[0.0, 0.0, 0.0, 0.061, 0.0, 0.0, 0.0, 0.0, 0.0...</td>\n",
       "      <td>[0.059, 0.061, -0.116, -0.116, -0.004, 0.057, ...</td>\n",
       "    </tr>\n",
       "    <tr>\n",
       "      <th>4</th>\n",
       "      <td>[0.017, 0.028, 0.029, 0.027, 0.018, 0.021, 0.0...</td>\n",
       "      <td>[0.175, 0.028, 0.029, 0.027, 0.018, 0.021, -0....</td>\n",
       "      <td>[0.0, 0.028, 0.0, 0.0, 0.018, 0.0, 0.0, 0.0, 0...</td>\n",
       "      <td>[0.028, 0.027, 0.021, 0.043, 0.065, 0.05, 0.03...</td>\n",
       "    </tr>\n",
       "  </tbody>\n",
       "</table>\n",
       "</div>"
      ],
      "text/plain": [
       "                                                data  \\\n",
       "0  [-0.031, -0.024, -0.017, -0.001, -0.026, -0.03...   \n",
       "1  [0.125, 0.089, 0.058, 0.027, -0.026, -0.068, -...   \n",
       "2  [0.133, 0.154, 0.16, 0.192, 0.259, 0.295, 0.23...   \n",
       "3  [-0.009, 0.059, 0.085, 0.061, -0.031, -0.116, ...   \n",
       "4  [0.017, 0.028, 0.029, 0.027, 0.018, 0.021, 0.0...   \n",
       "\n",
       "                                         random_data  \\\n",
       "0  [-0.031, -0.277, -0.017, -0.001, -0.026, -0.03...   \n",
       "1  [0.125, 0.089, -0.132, -0.096, -0.026, -0.068,...   \n",
       "2  [-0.06, -0.091, 0.16, 0.192, -0.103, 0.295, 0....   \n",
       "3  [-0.009, 0.316, 0.085, -0.055, -0.031, -0.116,...   \n",
       "4  [0.175, 0.028, 0.029, 0.027, 0.018, 0.021, -0....   \n",
       "\n",
       "                                    incompleted_data  \\\n",
       "0  [0.0, 0.0, 0.0, 0.0, 0.0, -0.038, -0.043, 0.0,...   \n",
       "1  [0.0, 0.089, 0.0, 0.0, 0.0, -0.068, 0.0, 0.0, ...   \n",
       "2  [0.0, 0.0, 0.0, 0.0, 0.0, 0.295, 0.0, 0.0, 0.0...   \n",
       "3  [0.0, 0.0, 0.0, 0.061, 0.0, 0.0, 0.0, 0.0, 0.0...   \n",
       "4  [0.0, 0.028, 0.0, 0.0, 0.018, 0.0, 0.0, 0.0, 0...   \n",
       "\n",
       "                                    low_quality_data  \n",
       "0  [-0.024, -0.001, -0.038, -0.062, -0.066, -0.09...  \n",
       "1  [0.089, 0.027, -0.068, -0.113, -0.154, -0.127,...  \n",
       "2  [0.154, 0.192, 0.295, 0.15, 0.052, -0.008, -0....  \n",
       "3  [0.059, 0.061, -0.116, -0.116, -0.004, 0.057, ...  \n",
       "4  [0.028, 0.027, 0.021, 0.043, 0.065, 0.05, 0.03...  "
      ]
     },
     "metadata": {},
     "output_type": "display_data"
    }
   ],
   "source": [
    "print('DFs shape: ', df.shape)\n",
    "display(df.head())"
   ]
  },
  {
   "cell_type": "code",
   "execution_count": 25,
   "metadata": {
    "ExecuteTime": {
     "end_time": "2019-05-20T08:27:08.173338Z",
     "start_time": "2019-05-20T08:22:35.239889Z"
    }
   },
   "outputs": [
    {
     "name": "stdout",
     "output_type": "stream",
     "text": [
      "If you are building a new Dataset, enter 0\n",
      "If you are checking an existing CSV or modifying rates, enter 1\n",
      "1\n",
      "\n",
      "The current dataset is:\n",
      "DFs shape:  (10880, 4)\n"
     ]
    },
    {
     "data": {
      "text/html": [
       "<div>\n",
       "<style scoped>\n",
       "    .dataframe tbody tr th:only-of-type {\n",
       "        vertical-align: middle;\n",
       "    }\n",
       "\n",
       "    .dataframe tbody tr th {\n",
       "        vertical-align: top;\n",
       "    }\n",
       "\n",
       "    .dataframe thead th {\n",
       "        text-align: right;\n",
       "    }\n",
       "</style>\n",
       "<table border=\"1\" class=\"dataframe\">\n",
       "  <thead>\n",
       "    <tr style=\"text-align: right;\">\n",
       "      <th></th>\n",
       "      <th>data</th>\n",
       "      <th>random_data</th>\n",
       "      <th>incompleted_data</th>\n",
       "      <th>low_quality_data</th>\n",
       "    </tr>\n",
       "  </thead>\n",
       "  <tbody>\n",
       "    <tr>\n",
       "      <th>0</th>\n",
       "      <td>[-0.031, -0.024, -0.017, -0.001, -0.026, -0.03...</td>\n",
       "      <td>[-0.031, -0.277, -0.017, -0.001, -0.026, -0.03...</td>\n",
       "      <td>[0.0, 0.0, 0.0, 0.0, 0.0, -0.038, -0.043, 0.0,...</td>\n",
       "      <td>[-0.024, -0.001, -0.038, -0.062, -0.066, -0.09...</td>\n",
       "    </tr>\n",
       "    <tr>\n",
       "      <th>1</th>\n",
       "      <td>[0.125, 0.089, 0.058, 0.027, -0.026, -0.068, -...</td>\n",
       "      <td>[0.125, 0.089, -0.132, -0.096, -0.026, -0.068,...</td>\n",
       "      <td>[0.0, 0.089, 0.0, 0.0, 0.0, -0.068, 0.0, 0.0, ...</td>\n",
       "      <td>[0.089, 0.027, -0.068, -0.113, -0.154, -0.127,...</td>\n",
       "    </tr>\n",
       "    <tr>\n",
       "      <th>2</th>\n",
       "      <td>[0.133, 0.154, 0.16, 0.192, 0.259, 0.295, 0.23...</td>\n",
       "      <td>[-0.06, -0.091, 0.16, 0.192, -0.103, 0.295, 0....</td>\n",
       "      <td>[0.0, 0.0, 0.0, 0.0, 0.0, 0.295, 0.0, 0.0, 0.0...</td>\n",
       "      <td>[0.154, 0.192, 0.295, 0.15, 0.052, -0.008, -0....</td>\n",
       "    </tr>\n",
       "    <tr>\n",
       "      <th>3</th>\n",
       "      <td>[-0.009, 0.059, 0.085, 0.061, -0.031, -0.116, ...</td>\n",
       "      <td>[-0.009, 0.316, 0.085, -0.055, -0.031, -0.116,...</td>\n",
       "      <td>[0.0, 0.0, 0.0, 0.061, 0.0, 0.0, 0.0, 0.0, 0.0...</td>\n",
       "      <td>[0.059, 0.061, -0.116, -0.116, -0.004, 0.057, ...</td>\n",
       "    </tr>\n",
       "    <tr>\n",
       "      <th>4</th>\n",
       "      <td>[0.017, 0.028, 0.029, 0.027, 0.018, 0.021, 0.0...</td>\n",
       "      <td>[0.175, 0.028, 0.029, 0.027, 0.018, 0.021, -0....</td>\n",
       "      <td>[0.0, 0.028, 0.0, 0.0, 0.018, 0.0, 0.0, 0.0, 0...</td>\n",
       "      <td>[0.028, 0.027, 0.021, 0.043, 0.065, 0.05, 0.03...</td>\n",
       "    </tr>\n",
       "  </tbody>\n",
       "</table>\n",
       "</div>"
      ],
      "text/plain": [
       "                                                data  \\\n",
       "0  [-0.031, -0.024, -0.017, -0.001, -0.026, -0.03...   \n",
       "1  [0.125, 0.089, 0.058, 0.027, -0.026, -0.068, -...   \n",
       "2  [0.133, 0.154, 0.16, 0.192, 0.259, 0.295, 0.23...   \n",
       "3  [-0.009, 0.059, 0.085, 0.061, -0.031, -0.116, ...   \n",
       "4  [0.017, 0.028, 0.029, 0.027, 0.018, 0.021, 0.0...   \n",
       "\n",
       "                                         random_data  \\\n",
       "0  [-0.031, -0.277, -0.017, -0.001, -0.026, -0.03...   \n",
       "1  [0.125, 0.089, -0.132, -0.096, -0.026, -0.068,...   \n",
       "2  [-0.06, -0.091, 0.16, 0.192, -0.103, 0.295, 0....   \n",
       "3  [-0.009, 0.316, 0.085, -0.055, -0.031, -0.116,...   \n",
       "4  [0.175, 0.028, 0.029, 0.027, 0.018, 0.021, -0....   \n",
       "\n",
       "                                    incompleted_data  \\\n",
       "0  [0.0, 0.0, 0.0, 0.0, 0.0, -0.038, -0.043, 0.0,...   \n",
       "1  [0.0, 0.089, 0.0, 0.0, 0.0, -0.068, 0.0, 0.0, ...   \n",
       "2  [0.0, 0.0, 0.0, 0.0, 0.0, 0.295, 0.0, 0.0, 0.0...   \n",
       "3  [0.0, 0.0, 0.0, 0.061, 0.0, 0.0, 0.0, 0.0, 0.0...   \n",
       "4  [0.0, 0.028, 0.0, 0.0, 0.018, 0.0, 0.0, 0.0, 0...   \n",
       "\n",
       "                                    low_quality_data  \n",
       "0  [-0.024, -0.001, -0.038, -0.062, -0.066, -0.09...  \n",
       "1  [0.089, 0.027, -0.068, -0.113, -0.154, -0.127,...  \n",
       "2  [0.154, 0.192, 0.295, 0.15, 0.052, -0.008, -0....  \n",
       "3  [0.059, 0.061, -0.116, -0.116, -0.004, 0.057, ...  \n",
       "4  [0.028, 0.027, 0.021, 0.043, 0.065, 0.05, 0.03...  "
      ]
     },
     "metadata": {},
     "output_type": "display_data"
    }
   ],
   "source": [
    "print('If you are building a new Dataset, enter 0')\n",
    "print('If you are checking an existing CSV or modifying rates, enter 1')\n",
    "mods = input()\n",
    "mods = int(mods)\n",
    "\n",
    "if mods == 0:\n",
    "    print('Nice, keep it goin')\n",
    "\n",
    "elif mods == 1:\n",
    "    print('\\nThe current dataset is:')\n",
    "    print('DFs shape: ', df.shape)\n",
    "    display(df.head())\n",
    "\n",
    "else:\n",
    "    print('Wrong option')"
   ]
  },
  {
   "cell_type": "markdown",
   "metadata": {},
   "source": [
    "Lets chunk all files in half"
   ]
  },
  {
   "cell_type": "code",
   "execution_count": 26,
   "metadata": {
    "ExecuteTime": {
     "end_time": "2019-05-20T08:27:08.188270Z",
     "start_time": "2019-05-20T08:27:08.178324Z"
    }
   },
   "outputs": [],
   "source": [
    "if mods == 0:\n",
    "    for i in range(len(df)):\n",
    "        df.data[i] = df.data[i][:final_l]\n",
    "\n",
    "    print(df.data[0].size, df.data[10].size)"
   ]
  },
  {
   "cell_type": "markdown",
   "metadata": {},
   "source": [
    "### Normalizing data"
   ]
  },
  {
   "cell_type": "code",
   "execution_count": 27,
   "metadata": {
    "ExecuteTime": {
     "end_time": "2019-05-20T08:27:08.215198Z",
     "start_time": "2019-05-20T08:27:08.204228Z"
    }
   },
   "outputs": [],
   "source": [
    "if mods == 0:\n",
    "    for i in tnrange(len(df)):\n",
    "        df.data[i] = norm_b(df.data[i])"
   ]
  },
  {
   "cell_type": "markdown",
   "metadata": {},
   "source": [
    "### Round data"
   ]
  },
  {
   "cell_type": "code",
   "execution_count": 28,
   "metadata": {
    "ExecuteTime": {
     "end_time": "2019-05-20T08:27:08.242125Z",
     "start_time": "2019-05-20T08:27:08.231155Z"
    }
   },
   "outputs": [],
   "source": [
    "if mods == 0:\n",
    "    for i in tnrange(len(df)):\n",
    "        df.data[i] = rounding(df.data[i])"
   ]
  },
  {
   "cell_type": "markdown",
   "metadata": {},
   "source": [
    "Lets export some files to check everything has loades and normalized properly"
   ]
  },
  {
   "cell_type": "code",
   "execution_count": 29,
   "metadata": {
    "ExecuteTime": {
     "end_time": "2019-05-20T08:27:08.275038Z",
     "start_time": "2019-05-20T08:27:08.266062Z"
    }
   },
   "outputs": [],
   "source": [
    "if mods == 0:\n",
    "    export_files()\n",
    "    print('Original files exported in outputs/Exported')"
   ]
  },
  {
   "cell_type": "markdown",
   "metadata": {},
   "source": [
    "### Generate the noise"
   ]
  },
  {
   "cell_type": "code",
   "execution_count": 30,
   "metadata": {
    "ExecuteTime": {
     "end_time": "2019-05-20T08:27:08.436606Z",
     "start_time": "2019-05-20T08:27:08.286009Z"
    }
   },
   "outputs": [
    {
     "name": "stdout",
     "output_type": "stream",
     "text": [
      "Here are some examples of the files:\n",
      "\n",
      "Original:\n",
      "Random noise:\n",
      "Incompleted:\n",
      "Low Quality:\n"
     ]
    }
   ],
   "source": [
    "if mods == 1:\n",
    "    \n",
    "    r_fi =random.randint(0, len(df))\n",
    "\n",
    "    print('Here are some examples of the files:\\n')\n",
    "    print('Original:')\n",
    "    ipd.Audio(df.data[r_fi], rate=16000)\n",
    "    print('Random noise:')\n",
    "    ipd.Audio(df.random_data[r_fi], rate=16000)\n",
    "    print('Incompleted:')\n",
    "    ipd.Audio(df.incompleted_data[r_fi], rate=16000)\n",
    "    print('Low Quality:')\n",
    "    ipd.Audio(df.low_quality_data[r_fi], rate=8000)"
   ]
  },
  {
   "cell_type": "code",
   "execution_count": 31,
   "metadata": {
    "ExecuteTime": {
     "end_time": "2019-05-20T08:28:25.038056Z",
     "start_time": "2019-05-20T08:27:08.441593Z"
    }
   },
   "outputs": [
    {
     "name": "stdout",
     "output_type": "stream",
     "text": [
      "Do you want to modify the noise and broken rates?\n",
      "The current values are:\n",
      "Percentage of noise: 0.3\n",
      "Percentage of incompletion: 0.7\n",
      "\n",
      "Enter 0 for NO or 1 for YES\n",
      "0\n",
      "\n",
      "The current dataset is:\n",
      "DFs shape:  (10880, 4)\n"
     ]
    },
    {
     "data": {
      "text/html": [
       "<div>\n",
       "<style scoped>\n",
       "    .dataframe tbody tr th:only-of-type {\n",
       "        vertical-align: middle;\n",
       "    }\n",
       "\n",
       "    .dataframe tbody tr th {\n",
       "        vertical-align: top;\n",
       "    }\n",
       "\n",
       "    .dataframe thead th {\n",
       "        text-align: right;\n",
       "    }\n",
       "</style>\n",
       "<table border=\"1\" class=\"dataframe\">\n",
       "  <thead>\n",
       "    <tr style=\"text-align: right;\">\n",
       "      <th></th>\n",
       "      <th>data</th>\n",
       "      <th>random_data</th>\n",
       "      <th>incompleted_data</th>\n",
       "      <th>low_quality_data</th>\n",
       "    </tr>\n",
       "  </thead>\n",
       "  <tbody>\n",
       "    <tr>\n",
       "      <th>0</th>\n",
       "      <td>[-0.031, -0.024, -0.017, -0.001, -0.026, -0.03...</td>\n",
       "      <td>[-0.031, -0.277, -0.017, -0.001, -0.026, -0.03...</td>\n",
       "      <td>[0.0, 0.0, 0.0, 0.0, 0.0, -0.038, -0.043, 0.0,...</td>\n",
       "      <td>[-0.024, -0.001, -0.038, -0.062, -0.066, -0.09...</td>\n",
       "    </tr>\n",
       "    <tr>\n",
       "      <th>1</th>\n",
       "      <td>[0.125, 0.089, 0.058, 0.027, -0.026, -0.068, -...</td>\n",
       "      <td>[0.125, 0.089, -0.132, -0.096, -0.026, -0.068,...</td>\n",
       "      <td>[0.0, 0.089, 0.0, 0.0, 0.0, -0.068, 0.0, 0.0, ...</td>\n",
       "      <td>[0.089, 0.027, -0.068, -0.113, -0.154, -0.127,...</td>\n",
       "    </tr>\n",
       "    <tr>\n",
       "      <th>2</th>\n",
       "      <td>[0.133, 0.154, 0.16, 0.192, 0.259, 0.295, 0.23...</td>\n",
       "      <td>[-0.06, -0.091, 0.16, 0.192, -0.103, 0.295, 0....</td>\n",
       "      <td>[0.0, 0.0, 0.0, 0.0, 0.0, 0.295, 0.0, 0.0, 0.0...</td>\n",
       "      <td>[0.154, 0.192, 0.295, 0.15, 0.052, -0.008, -0....</td>\n",
       "    </tr>\n",
       "    <tr>\n",
       "      <th>3</th>\n",
       "      <td>[-0.009, 0.059, 0.085, 0.061, -0.031, -0.116, ...</td>\n",
       "      <td>[-0.009, 0.316, 0.085, -0.055, -0.031, -0.116,...</td>\n",
       "      <td>[0.0, 0.0, 0.0, 0.061, 0.0, 0.0, 0.0, 0.0, 0.0...</td>\n",
       "      <td>[0.059, 0.061, -0.116, -0.116, -0.004, 0.057, ...</td>\n",
       "    </tr>\n",
       "    <tr>\n",
       "      <th>4</th>\n",
       "      <td>[0.017, 0.028, 0.029, 0.027, 0.018, 0.021, 0.0...</td>\n",
       "      <td>[0.175, 0.028, 0.029, 0.027, 0.018, 0.021, -0....</td>\n",
       "      <td>[0.0, 0.028, 0.0, 0.0, 0.018, 0.0, 0.0, 0.0, 0...</td>\n",
       "      <td>[0.028, 0.027, 0.021, 0.043, 0.065, 0.05, 0.03...</td>\n",
       "    </tr>\n",
       "  </tbody>\n",
       "</table>\n",
       "</div>"
      ],
      "text/plain": [
       "                                                data  \\\n",
       "0  [-0.031, -0.024, -0.017, -0.001, -0.026, -0.03...   \n",
       "1  [0.125, 0.089, 0.058, 0.027, -0.026, -0.068, -...   \n",
       "2  [0.133, 0.154, 0.16, 0.192, 0.259, 0.295, 0.23...   \n",
       "3  [-0.009, 0.059, 0.085, 0.061, -0.031, -0.116, ...   \n",
       "4  [0.017, 0.028, 0.029, 0.027, 0.018, 0.021, 0.0...   \n",
       "\n",
       "                                         random_data  \\\n",
       "0  [-0.031, -0.277, -0.017, -0.001, -0.026, -0.03...   \n",
       "1  [0.125, 0.089, -0.132, -0.096, -0.026, -0.068,...   \n",
       "2  [-0.06, -0.091, 0.16, 0.192, -0.103, 0.295, 0....   \n",
       "3  [-0.009, 0.316, 0.085, -0.055, -0.031, -0.116,...   \n",
       "4  [0.175, 0.028, 0.029, 0.027, 0.018, 0.021, -0....   \n",
       "\n",
       "                                    incompleted_data  \\\n",
       "0  [0.0, 0.0, 0.0, 0.0, 0.0, -0.038, -0.043, 0.0,...   \n",
       "1  [0.0, 0.089, 0.0, 0.0, 0.0, -0.068, 0.0, 0.0, ...   \n",
       "2  [0.0, 0.0, 0.0, 0.0, 0.0, 0.295, 0.0, 0.0, 0.0...   \n",
       "3  [0.0, 0.0, 0.0, 0.061, 0.0, 0.0, 0.0, 0.0, 0.0...   \n",
       "4  [0.0, 0.028, 0.0, 0.0, 0.018, 0.0, 0.0, 0.0, 0...   \n",
       "\n",
       "                                    low_quality_data  \n",
       "0  [-0.024, -0.001, -0.038, -0.062, -0.066, -0.09...  \n",
       "1  [0.089, 0.027, -0.068, -0.113, -0.154, -0.127,...  \n",
       "2  [0.154, 0.192, 0.295, 0.15, 0.052, -0.008, -0....  \n",
       "3  [0.059, 0.061, -0.116, -0.116, -0.004, 0.057, ...  \n",
       "4  [0.028, 0.027, 0.021, 0.043, 0.065, 0.05, 0.03...  "
      ]
     },
     "metadata": {},
     "output_type": "display_data"
    }
   ],
   "source": [
    "if mods == 1:\n",
    "    print('Do you want to modify the noise and broken rates?')\n",
    "    print('The current values are:')\n",
    "    print('Percentage of noise:', p_no)\n",
    "    print('Percentage of incompletion:', p_in)\n",
    "    print('\\nEnter 0 for NO or 1 for YES')\n",
    "    change = input()\n",
    "    change = int(change)\n",
    "\n",
    "    if change == 0:\n",
    "        print('\\nThe current dataset is:')\n",
    "        print('DFs shape: ', df.shape)\n",
    "        display(df.head())\n",
    "\n",
    "    elif change == 1:\n",
    "        print('Enter the new Percentage of noise:')\n",
    "        new_p_no = input()\n",
    "        p_no = float(new_p_no)\n",
    "        print('\\nEnter the new Percentage of incompletion:')\n",
    "        new_p_in = input()\n",
    "        p_in = float(new_p_in)\n",
    "        print('\\nValues changed successfully!')\n",
    "\n",
    "    else:\n",
    "        print('Wrong option')"
   ]
  },
  {
   "cell_type": "code",
   "execution_count": 32,
   "metadata": {
    "ExecuteTime": {
     "end_time": "2019-05-20T08:28:25.059997Z",
     "start_time": "2019-05-20T08:28:25.049054Z"
    }
   },
   "outputs": [],
   "source": [
    "if (mods == 0 ) or (mods == 1 and change == 1):\n",
    "    print('Aqui es cuando debería rehacer las roturas, sino no')"
   ]
  },
  {
   "cell_type": "markdown",
   "metadata": {},
   "source": [
    "Creation of the random noise"
   ]
  },
  {
   "cell_type": "code",
   "execution_count": 33,
   "metadata": {
    "ExecuteTime": {
     "end_time": "2019-05-20T08:28:25.077949Z",
     "start_time": "2019-05-20T08:28:25.066978Z"
    },
    "scrolled": true
   },
   "outputs": [],
   "source": [
    "if (mods == 0) or (mods == 1 and change == 1):\n",
    "    \n",
    "    if 'random_data' in df:\n",
    "        df = df.drop(['random_data'], axis=1)\n",
    "\n",
    "    broken_r = []\n",
    "\n",
    "    for i in tnrange(len(df)):\n",
    "        broken_r.append(br_random(df.data[i], p_no))\n",
    "\n",
    "    df['random_data'] = broken_r"
   ]
  },
  {
   "cell_type": "markdown",
   "metadata": {},
   "source": [
    "Creation of the incompleted files"
   ]
  },
  {
   "cell_type": "code",
   "execution_count": 34,
   "metadata": {
    "ExecuteTime": {
     "end_time": "2019-05-20T08:28:25.092909Z",
     "start_time": "2019-05-20T08:28:25.082936Z"
    }
   },
   "outputs": [],
   "source": [
    "if (mods == 0) or (mods == 1 and change == 1):\n",
    "\n",
    "    if 'incompleted_data' in df:\n",
    "        df = df.drop(['incompleted_data'], axis=1)\n",
    "\n",
    "    broken_i = []\n",
    "\n",
    "    for i in tnrange(len(df)):\n",
    "        broken_i.append(br_incompletion(df.data[i], p_in))\n",
    "\n",
    "    df['incompleted_data'] = broken_i"
   ]
  },
  {
   "cell_type": "markdown",
   "metadata": {},
   "source": [
    "Creation of the low quality files"
   ]
  },
  {
   "cell_type": "code",
   "execution_count": 35,
   "metadata": {
    "ExecuteTime": {
     "end_time": "2019-05-20T08:28:25.117842Z",
     "start_time": "2019-05-20T08:28:25.106872Z"
    }
   },
   "outputs": [],
   "source": [
    "if (mods == 0) or (mods == 1 and change == 1):\n",
    "\n",
    "    if 'low_quality_data' in df:\n",
    "        df = df.drop(['low_quality_data'], axis=1)\n",
    "\n",
    "    broken_l = []\n",
    "\n",
    "    for i in tnrange(len(df)):\n",
    "        broken_l.append(br_low_q(df.data[i]))\n",
    "\n",
    "    df['low_quality_data'] = broken_l"
   ]
  },
  {
   "cell_type": "markdown",
   "metadata": {},
   "source": [
    "### Round new data"
   ]
  },
  {
   "cell_type": "markdown",
   "metadata": {},
   "source": [
    "Now I have to round again the new data just created, all the broken files that might also have more than 3 decimals."
   ]
  },
  {
   "cell_type": "code",
   "execution_count": 36,
   "metadata": {
    "ExecuteTime": {
     "end_time": "2019-05-20T08:28:25.143773Z",
     "start_time": "2019-05-20T08:28:25.136792Z"
    }
   },
   "outputs": [],
   "source": [
    "if (mods == 0) or (mods == 1 and change == 1):\n",
    "\n",
    "    for i in tnrange(len(df)):\n",
    "        df.random_data[i] = rounding(df.random_data[i])\n",
    "        df.incompleted_data[i] = rounding(df.incompleted_data[i])"
   ]
  },
  {
   "cell_type": "markdown",
   "metadata": {},
   "source": [
    "Lets export some of this files with its 3 versions to see how it sounds"
   ]
  },
  {
   "cell_type": "code",
   "execution_count": 37,
   "metadata": {
    "ExecuteTime": {
     "end_time": "2019-05-20T08:28:35.958883Z",
     "start_time": "2019-05-20T08:28:25.153747Z"
    }
   },
   "outputs": [
    {
     "name": "stdout",
     "output_type": "stream",
     "text": [
      "Do you want to export some final files in WAV format?\n",
      "\n",
      "Enter how many different files you want to listen. 0 for none.\n",
      "1\n"
     ]
    },
    {
     "data": {
      "application/vnd.jupyter.widget-view+json": {
       "model_id": "9ba0a0826d8e48f1a9bf7717f975a627",
       "version_major": 2,
       "version_minor": 0
      },
      "text/plain": [
       "HBox(children=(IntProgress(value=0, max=1), HTML(value='')))"
      ]
     },
     "metadata": {},
     "output_type": "display_data"
    },
    {
     "name": "stdout",
     "output_type": "stream",
     "text": [
      "\n",
      "Files exported in: outputs/Noise\n"
     ]
    }
   ],
   "source": [
    "print('Do you want to export some final files in WAV format?')\n",
    "print('\\nEnter how many different files you want to listen. 0 for none.')\n",
    "exports = input()\n",
    "exports = int(exports)\n",
    "\n",
    "export_groups(df, exports)\n",
    "\n",
    "print('Files exported in: outputs/Noise')"
   ]
  },
  {
   "cell_type": "markdown",
   "metadata": {},
   "source": [
    "### Prepare DF to be exported"
   ]
  },
  {
   "cell_type": "code",
   "execution_count": 38,
   "metadata": {
    "ExecuteTime": {
     "end_time": "2019-05-20T08:28:36.008750Z",
     "start_time": "2019-05-20T08:28:35.964891Z"
    },
    "scrolled": true
   },
   "outputs": [
    {
     "name": "stdout",
     "output_type": "stream",
     "text": [
      "DFs shape:  (10880, 4)\n"
     ]
    },
    {
     "data": {
      "text/html": [
       "<div>\n",
       "<style scoped>\n",
       "    .dataframe tbody tr th:only-of-type {\n",
       "        vertical-align: middle;\n",
       "    }\n",
       "\n",
       "    .dataframe tbody tr th {\n",
       "        vertical-align: top;\n",
       "    }\n",
       "\n",
       "    .dataframe thead th {\n",
       "        text-align: right;\n",
       "    }\n",
       "</style>\n",
       "<table border=\"1\" class=\"dataframe\">\n",
       "  <thead>\n",
       "    <tr style=\"text-align: right;\">\n",
       "      <th></th>\n",
       "      <th>data</th>\n",
       "      <th>random_data</th>\n",
       "      <th>incompleted_data</th>\n",
       "      <th>low_quality_data</th>\n",
       "    </tr>\n",
       "  </thead>\n",
       "  <tbody>\n",
       "    <tr>\n",
       "      <th>0</th>\n",
       "      <td>[-0.031, -0.024, -0.017, -0.001, -0.026, -0.03...</td>\n",
       "      <td>[-0.031, -0.277, -0.017, -0.001, -0.026, -0.03...</td>\n",
       "      <td>[0.0, 0.0, 0.0, 0.0, 0.0, -0.038, -0.043, 0.0,...</td>\n",
       "      <td>[-0.024, -0.001, -0.038, -0.062, -0.066, -0.09...</td>\n",
       "    </tr>\n",
       "    <tr>\n",
       "      <th>1</th>\n",
       "      <td>[0.125, 0.089, 0.058, 0.027, -0.026, -0.068, -...</td>\n",
       "      <td>[0.125, 0.089, -0.132, -0.096, -0.026, -0.068,...</td>\n",
       "      <td>[0.0, 0.089, 0.0, 0.0, 0.0, -0.068, 0.0, 0.0, ...</td>\n",
       "      <td>[0.089, 0.027, -0.068, -0.113, -0.154, -0.127,...</td>\n",
       "    </tr>\n",
       "    <tr>\n",
       "      <th>2</th>\n",
       "      <td>[0.133, 0.154, 0.16, 0.192, 0.259, 0.295, 0.23...</td>\n",
       "      <td>[-0.06, -0.091, 0.16, 0.192, -0.103, 0.295, 0....</td>\n",
       "      <td>[0.0, 0.0, 0.0, 0.0, 0.0, 0.295, 0.0, 0.0, 0.0...</td>\n",
       "      <td>[0.154, 0.192, 0.295, 0.15, 0.052, -0.008, -0....</td>\n",
       "    </tr>\n",
       "    <tr>\n",
       "      <th>3</th>\n",
       "      <td>[-0.009, 0.059, 0.085, 0.061, -0.031, -0.116, ...</td>\n",
       "      <td>[-0.009, 0.316, 0.085, -0.055, -0.031, -0.116,...</td>\n",
       "      <td>[0.0, 0.0, 0.0, 0.061, 0.0, 0.0, 0.0, 0.0, 0.0...</td>\n",
       "      <td>[0.059, 0.061, -0.116, -0.116, -0.004, 0.057, ...</td>\n",
       "    </tr>\n",
       "    <tr>\n",
       "      <th>4</th>\n",
       "      <td>[0.017, 0.028, 0.029, 0.027, 0.018, 0.021, 0.0...</td>\n",
       "      <td>[0.175, 0.028, 0.029, 0.027, 0.018, 0.021, -0....</td>\n",
       "      <td>[0.0, 0.028, 0.0, 0.0, 0.018, 0.0, 0.0, 0.0, 0...</td>\n",
       "      <td>[0.028, 0.027, 0.021, 0.043, 0.065, 0.05, 0.03...</td>\n",
       "    </tr>\n",
       "  </tbody>\n",
       "</table>\n",
       "</div>"
      ],
      "text/plain": [
       "                                                data  \\\n",
       "0  [-0.031, -0.024, -0.017, -0.001, -0.026, -0.03...   \n",
       "1  [0.125, 0.089, 0.058, 0.027, -0.026, -0.068, -...   \n",
       "2  [0.133, 0.154, 0.16, 0.192, 0.259, 0.295, 0.23...   \n",
       "3  [-0.009, 0.059, 0.085, 0.061, -0.031, -0.116, ...   \n",
       "4  [0.017, 0.028, 0.029, 0.027, 0.018, 0.021, 0.0...   \n",
       "\n",
       "                                         random_data  \\\n",
       "0  [-0.031, -0.277, -0.017, -0.001, -0.026, -0.03...   \n",
       "1  [0.125, 0.089, -0.132, -0.096, -0.026, -0.068,...   \n",
       "2  [-0.06, -0.091, 0.16, 0.192, -0.103, 0.295, 0....   \n",
       "3  [-0.009, 0.316, 0.085, -0.055, -0.031, -0.116,...   \n",
       "4  [0.175, 0.028, 0.029, 0.027, 0.018, 0.021, -0....   \n",
       "\n",
       "                                    incompleted_data  \\\n",
       "0  [0.0, 0.0, 0.0, 0.0, 0.0, -0.038, -0.043, 0.0,...   \n",
       "1  [0.0, 0.089, 0.0, 0.0, 0.0, -0.068, 0.0, 0.0, ...   \n",
       "2  [0.0, 0.0, 0.0, 0.0, 0.0, 0.295, 0.0, 0.0, 0.0...   \n",
       "3  [0.0, 0.0, 0.0, 0.061, 0.0, 0.0, 0.0, 0.0, 0.0...   \n",
       "4  [0.0, 0.028, 0.0, 0.0, 0.018, 0.0, 0.0, 0.0, 0...   \n",
       "\n",
       "                                    low_quality_data  \n",
       "0  [-0.024, -0.001, -0.038, -0.062, -0.066, -0.09...  \n",
       "1  [0.089, 0.027, -0.068, -0.113, -0.154, -0.127,...  \n",
       "2  [0.154, 0.192, 0.295, 0.15, 0.052, -0.008, -0....  \n",
       "3  [0.059, 0.061, -0.116, -0.116, -0.004, 0.057, ...  \n",
       "4  [0.028, 0.027, 0.021, 0.043, 0.065, 0.05, 0.03...  "
      ]
     },
     "metadata": {},
     "output_type": "display_data"
    }
   ],
   "source": [
    "# Just in case...\n",
    "df = preparing_df(df)\n",
    "\n",
    "print('DFs shape: ', df.shape)\n",
    "display(df.head())"
   ]
  },
  {
   "cell_type": "markdown",
   "metadata": {},
   "source": [
    "Save into a csv"
   ]
  },
  {
   "cell_type": "code",
   "execution_count": 39,
   "metadata": {
    "ExecuteTime": {
     "end_time": "2019-05-20T08:28:39.178972Z",
     "start_time": "2019-05-20T08:28:36.013737Z"
    }
   },
   "outputs": [
    {
     "name": "stdout",
     "output_type": "stream",
     "text": [
      "Do you want to save the DF into a CSV?\n",
      "Enter 0 to exit or 1 to save\n",
      "0\n",
      "\n",
      "This is the final DF\n",
      "DFs shape:  (10880, 4)\n"
     ]
    },
    {
     "data": {
      "text/html": [
       "<div>\n",
       "<style scoped>\n",
       "    .dataframe tbody tr th:only-of-type {\n",
       "        vertical-align: middle;\n",
       "    }\n",
       "\n",
       "    .dataframe tbody tr th {\n",
       "        vertical-align: top;\n",
       "    }\n",
       "\n",
       "    .dataframe thead th {\n",
       "        text-align: right;\n",
       "    }\n",
       "</style>\n",
       "<table border=\"1\" class=\"dataframe\">\n",
       "  <thead>\n",
       "    <tr style=\"text-align: right;\">\n",
       "      <th></th>\n",
       "      <th>data</th>\n",
       "      <th>random_data</th>\n",
       "      <th>incompleted_data</th>\n",
       "      <th>low_quality_data</th>\n",
       "    </tr>\n",
       "  </thead>\n",
       "  <tbody>\n",
       "    <tr>\n",
       "      <th>0</th>\n",
       "      <td>[-0.031, -0.024, -0.017, -0.001, -0.026, -0.03...</td>\n",
       "      <td>[-0.031, -0.277, -0.017, -0.001, -0.026, -0.03...</td>\n",
       "      <td>[0.0, 0.0, 0.0, 0.0, 0.0, -0.038, -0.043, 0.0,...</td>\n",
       "      <td>[-0.024, -0.001, -0.038, -0.062, -0.066, -0.09...</td>\n",
       "    </tr>\n",
       "    <tr>\n",
       "      <th>1</th>\n",
       "      <td>[0.125, 0.089, 0.058, 0.027, -0.026, -0.068, -...</td>\n",
       "      <td>[0.125, 0.089, -0.132, -0.096, -0.026, -0.068,...</td>\n",
       "      <td>[0.0, 0.089, 0.0, 0.0, 0.0, -0.068, 0.0, 0.0, ...</td>\n",
       "      <td>[0.089, 0.027, -0.068, -0.113, -0.154, -0.127,...</td>\n",
       "    </tr>\n",
       "    <tr>\n",
       "      <th>2</th>\n",
       "      <td>[0.133, 0.154, 0.16, 0.192, 0.259, 0.295, 0.23...</td>\n",
       "      <td>[-0.06, -0.091, 0.16, 0.192, -0.103, 0.295, 0....</td>\n",
       "      <td>[0.0, 0.0, 0.0, 0.0, 0.0, 0.295, 0.0, 0.0, 0.0...</td>\n",
       "      <td>[0.154, 0.192, 0.295, 0.15, 0.052, -0.008, -0....</td>\n",
       "    </tr>\n",
       "    <tr>\n",
       "      <th>3</th>\n",
       "      <td>[-0.009, 0.059, 0.085, 0.061, -0.031, -0.116, ...</td>\n",
       "      <td>[-0.009, 0.316, 0.085, -0.055, -0.031, -0.116,...</td>\n",
       "      <td>[0.0, 0.0, 0.0, 0.061, 0.0, 0.0, 0.0, 0.0, 0.0...</td>\n",
       "      <td>[0.059, 0.061, -0.116, -0.116, -0.004, 0.057, ...</td>\n",
       "    </tr>\n",
       "    <tr>\n",
       "      <th>4</th>\n",
       "      <td>[0.017, 0.028, 0.029, 0.027, 0.018, 0.021, 0.0...</td>\n",
       "      <td>[0.175, 0.028, 0.029, 0.027, 0.018, 0.021, -0....</td>\n",
       "      <td>[0.0, 0.028, 0.0, 0.0, 0.018, 0.0, 0.0, 0.0, 0...</td>\n",
       "      <td>[0.028, 0.027, 0.021, 0.043, 0.065, 0.05, 0.03...</td>\n",
       "    </tr>\n",
       "  </tbody>\n",
       "</table>\n",
       "</div>"
      ],
      "text/plain": [
       "                                                data  \\\n",
       "0  [-0.031, -0.024, -0.017, -0.001, -0.026, -0.03...   \n",
       "1  [0.125, 0.089, 0.058, 0.027, -0.026, -0.068, -...   \n",
       "2  [0.133, 0.154, 0.16, 0.192, 0.259, 0.295, 0.23...   \n",
       "3  [-0.009, 0.059, 0.085, 0.061, -0.031, -0.116, ...   \n",
       "4  [0.017, 0.028, 0.029, 0.027, 0.018, 0.021, 0.0...   \n",
       "\n",
       "                                         random_data  \\\n",
       "0  [-0.031, -0.277, -0.017, -0.001, -0.026, -0.03...   \n",
       "1  [0.125, 0.089, -0.132, -0.096, -0.026, -0.068,...   \n",
       "2  [-0.06, -0.091, 0.16, 0.192, -0.103, 0.295, 0....   \n",
       "3  [-0.009, 0.316, 0.085, -0.055, -0.031, -0.116,...   \n",
       "4  [0.175, 0.028, 0.029, 0.027, 0.018, 0.021, -0....   \n",
       "\n",
       "                                    incompleted_data  \\\n",
       "0  [0.0, 0.0, 0.0, 0.0, 0.0, -0.038, -0.043, 0.0,...   \n",
       "1  [0.0, 0.089, 0.0, 0.0, 0.0, -0.068, 0.0, 0.0, ...   \n",
       "2  [0.0, 0.0, 0.0, 0.0, 0.0, 0.295, 0.0, 0.0, 0.0...   \n",
       "3  [0.0, 0.0, 0.0, 0.061, 0.0, 0.0, 0.0, 0.0, 0.0...   \n",
       "4  [0.0, 0.028, 0.0, 0.0, 0.018, 0.0, 0.0, 0.0, 0...   \n",
       "\n",
       "                                    low_quality_data  \n",
       "0  [-0.024, -0.001, -0.038, -0.062, -0.066, -0.09...  \n",
       "1  [0.089, 0.027, -0.068, -0.113, -0.154, -0.127,...  \n",
       "2  [0.154, 0.192, 0.295, 0.15, 0.052, -0.008, -0....  \n",
       "3  [0.059, 0.061, -0.116, -0.116, -0.004, 0.057, ...  \n",
       "4  [0.028, 0.027, 0.021, 0.043, 0.065, 0.05, 0.03...  "
      ]
     },
     "metadata": {},
     "output_type": "display_data"
    }
   ],
   "source": [
    "print('Do you want to save the DF into a CSV?')\n",
    "print('Enter 0 to exit or 1 to save')\n",
    "saave = input()\n",
    "saave = int(saave)\n",
    "\n",
    "if saave == 0:\n",
    "    print('\\nThis is the final DF')\n",
    "    print('DFs shape: ', df.shape)\n",
    "    display(df.head())\n",
    "\n",
    "elif saave == 1:\n",
    "    \n",
    "    print('Enter the name for the CVS')\n",
    "    print('Warning: if you enter an existing name, you will lose that CSV')\n",
    "    name = input()\n",
    "    save_work(df, 'name')\n",
    "\n",
    "else:\n",
    "    print('Wrong option')"
   ]
  },
  {
   "cell_type": "markdown",
   "metadata": {},
   "source": [
    "# THE END"
   ]
  },
  {
   "cell_type": "markdown",
   "metadata": {},
   "source": [
    "---"
   ]
  },
  {
   "cell_type": "markdown",
   "metadata": {},
   "source": [
    "## Tests & Other"
   ]
  },
  {
   "cell_type": "code",
   "execution_count": 40,
   "metadata": {
    "ExecuteTime": {
     "end_time": "2019-05-20T08:28:39.195927Z",
     "start_time": "2019-05-20T08:28:39.183958Z"
    }
   },
   "outputs": [],
   "source": [
    "def escuchar_aqui():\n",
    "\n",
    "    ipd.Audio(df.random_data[0], rate=16000)\n"
   ]
  },
  {
   "cell_type": "code",
   "execution_count": 41,
   "metadata": {
    "ExecuteTime": {
     "end_time": "2019-05-20T08:28:39.269757Z",
     "start_time": "2019-05-20T08:28:39.199916Z"
    }
   },
   "outputs": [
    {
     "data": {
      "text/html": [
       "\n",
       "                <audio controls=\"controls\" >\n",
       "                    <source src=\"data:audio/wav;base64,UklGRlj/AABXQVZFZm10IBAAAAABAAEAgD4AAAB9AAACABAAZGF0YTT/AADU+7jat/3e/4H84/o3+qj3wfOZ+Hjq0PJB9zf6SRBnAPguFPq3/Xf4fPpL9PLyS/Rk8NcSo/Vy9vzvBu1k8Gj5kO3k7HPo1fQe9wAA8AcwDT8TPxOSEnoW+hISD5D0ug0wFMMYFxht+8gTxBHOB5ISTgTxAHEEhAW8/7AJPiFrCU0S8AfiCEkCuOhU/yP5mf/B+mcAmfgj+Zn/JhcU+jL4d/8e9wMXXvyV7xrubfRk8GTwQfet8gQQ8QAK/WwCSQIo+7L7PPxj9974S/RL7W306e6z7a3yhul46ij0WvOZ+HL9ewGJB44Qug0rEs0VAAC+FrAQeg8/EwkLo/xhDF0KGAOz5kkCUwadCDUIAfk/BU4LEPhdCroGBvsk8oQFHQU2AV0DKPt3+HL99/tnAMHsVP/wB7f2EwETART6Bvv8/ZX23/F/A1/1vPGu6zzuPww384QMiBVe/PLyewFxBNIe+OaIFeEWlP2TC+Tz1e1t9Djs9/SF/hr1GvVB/ucDT/1j/joDogPiCGYVOgr6Es4O1e1EDvAHtQQnArUET/1U/0kCqP4u6HsBgfzdBicCKPuTBPYCvP/OAB0FY/5mDinmBAIiB+cD+gREAEkCogNnB178JwIJBCP53vhj/nfxy/dP/RYmfPqB9cb8fPpYAT8F4ggQ+DUIPPWL+ULbxvwG+7f97f6OAq/WVP8V85Xvbt+f8zMyKxlf9aP1JwIt/TUPIgdJAs0VdQaXDRMI5gpt+8vwxAoU+nsBmupEANr24gE511bV8QAt9sLXAfmiA1cPvwFa828go/WdCHf/tNhnAM4AY/dt+wAASQna9pn/fwOP+8b8oB/U+5n4pgz8/Y4CdQat+Z0BRACk58r+IQ5YAaj+fwoECRgDi/LB+pMETgRp6230Wfqz7YHuehaB9TL4Lf0cIaj+XQM1CEQHaxAECU0So/z1EGEMsvuV9m37BvQ38x0FPPx3+E4EqP4R3JXoMAbj+mwC4ghV8eIBxANYCNHk0wJ3+PL5JgmB9Qb7s+bdBhMBY/4iAMkFHQWrDr8BAACxAobpGfxf9RD4rACU/R7+tQsnAsvwZwc5GN7//P2Z/xT6jgLIy5T9RABt+4H82vY6A2wCgfVZ+rL7MBSiA1MGPwyOEMH6Fx+1BEQHpwXt/gQQbfTV9Hf4oQpL9NgEGAMj+Zn/2ASiA3f/0wKB/KID8AcrGbPmGfysAGsXY/4EAgQJS/tU/3z6Vfje/wkE0Pm374kHvP9H5HEEsQIP/0kCZwCTBB7+DgZf9S8btQul2QHrEPixAhn8C+85Hzf6WAEt/cQDWAFU/xT6BvthDCj0Mv/y8okA9Qna9twbYQx7AaEKjgJrCTz8Afk/BXUG1PuB/F/17f7DGLULSQnB7D8FXQMiB3fxrfKG9wQQHvcQ+BEyJPLt/t7/vwF0G1/1GvVV8TL4sQJt+3z6NgHZ/b8BCv0iB1/1cQT3+/jm/P2xAjUIQfeg12wC8vkG7ZfFRvlP/Vn6VfgYA+j1cQQ6CuTzehaF/hcfSQJt+9n9cva8+NXtPPXk89D5Dg0t/QH5vP8G+5n/Bvu39uj8Qfd6D7kiHQVJCSwEkhK/D1cWaPmOAqP8892j/Pz9pwVZ+t7/Bvu3/ZXvxvyG99DyBvtt+74dhf6xAkkJaPnJDO3+S/uXDaP1qwcQ+E0ShAWJAPYCegit+d/xvtXV7VrzogMe97f9C/b/BvoES/vmCnEEPPXmCuj88+tOC84AJhCrBxr1zgeJAGnr0PJB/r8I4gGZ+PPrXvzo/Nn9oRhe/IX+hAzDHwb7WAho+T8FEwF3/78BDga0GS32Jgn3+3f4QfCe+ob3QulB/p76Cv0EAh/p8vJOC9gEAAA2AdMCbfvECuII9/sP/y396PUV8y39ZPBB/vf0FPoK/ZX2jgJEB50BzgBL+zANJgnQ8n8KhAyiA9IQZPDdBmIFWAGo/h73Qf5G+fYCd/9L+z4ofiaZ+DL/CQSt8mIFjgKj/GsJ+gTTAlgBXQNG8n8D9RAnAlgBZwATARn83v9P/W7tHQUU+jL/mf+JAN7/3v8mCdX0+gS8+B7+WuVTBiwEfwPYBB/wCQR7AVX4tQTU+4X+wfr/Bnf/8vmwEPEAhvddA+oorADK/uIB0wlt+9gEwyay+4QFVw/Q6zz1viR3/7ECdQaxAoX+0wky/9HkMv/U+2P3x+f8/Yv5nvr2AjYBWAhB944JkSdiBU0Sd/iB/NDyNQ+P+5ML4Q/o/LAQON5xBGTwpwWG90b5svTEChgDmvHTAnf/wfoTAdD57uKL+d74pwVe/CcCAACEBYX+dQbe/yntZwB8+rL73v/IEycCxANTBv3h2f3iAWIFBvut+b8IMvGJB4kHiQBG+aP8BvS/CNMCQfee+lT/j/viCCTr1fRy72P+PwV7AUv02f16CB0FAt2hCnsBRABhDPz9KPSt8rjoYgUH5h/poQoy+Jn4fPrB+sLl8vJU//z9N/oB67f2jglu38vwTgRV8ZwPmuOTBJIgfPq6DQAAzgD/Bt7/SQJJEAkEPPza7wb7xvUmCVXxHvcECZDtUwZe/H8DXQPwB2EMGfzhFs4AMAZYCP8U4/qy9JX2t/Y0K8H6mf8Z/J0Bd/86A0QAYRo8/MH6qwc389T7CQsB+YQFkwsZ/DoKogN/A2cA/P3o/B73Aflj/oH1NgH87zf6cv0f6VD2svTgzm37cv06A9rv0wIwDVrs4gjECk/9xANDFZn/8vldA4vyugat+TL4c+j8784HRvkJC0b5qPc6Csr+ugZ/A0kJeghJECIHTRKEBY/7lw387/8Glfbe/8H6YROYBvf0zgC39t74Mv9L+xD4vwGJAJ0BTgTEA6cFMBRmDjoKnQiU/bL0FPrwB3f4AAC6Dd74C/b89iTy8vJy/dDyDganBYkAwfp1DdgL6PXwDhIPt/2xAvoEoNcTAWAhwfrYBBT6awke/q35i/nZ/YvyY/c8/Kj3DClEALz/i/L6CywE5hirB5DtBAkTAWwCewEiAMr+fPP8/WP3gfWL+VX4mAYK/Qv2M+Pt/o4Ct/17Ae3+5wOnBZgGczDe+HEEt/3wDln6AfnG9Y/7cvaV9n8DphO39ovy1eaOCSIHqP5nAI4QhAVYCFcPSBfe/x0FTgSmE/oESRDTAj8Fi/Kj/Pz9FPrU+x7+S/sHLrf2sQIG+/YCcQR7AZgGWAE/DCsL4RYcDJgGPPz6C4X+gfwOBhn8veOP+8v3aPn39Fn6WvPy+cr+mAavHnf/GfzG/DoDMv8EAuwFhvDYBM4AvP/Z/e33XvxV+Hz6Cv13+Df6Y/ce/qnitQSiA7UEegjt/p0I8A4H5vYCUwZYCIkApwWcFiIARADqKMkFOhHZ/aj32f3t/t7/PPx+H3QiLf2y+4kAVP/t/tMCpwVH5JbTmAbOAAkEdQbEA0QHfPP2AnoIkwQ8/GP3FPrf8ckFDRRM5ov5I/nG/LPtxAMYA1rz2ARxBKcF/wbxACcCyQVe/P8NsBBB/sb8mf+JAMfgpwWEBff7CQswFBT6+gTJBcQKRAfsBR7+5wMdBV78uSIt/ff7tQQ3+jL/ogMYAxMBaxBxBMr+TgSa41n6/P0H33z6/P2/AYX+zgBa7GcAbu2+1QkEgyh/A5MEOgpsAqwAHvfB+joKQffa9kv0VfHYBEH3vP8U+sr+qwfZ/ScChAxQ9o4CGArnAyIH6PyxAuYRewHJDOP6jgKt+ZT9ewH6C7z/4gH3+3oW8QCU/U/9iQAAAP4iY/58+iIA3v9xBIv5UPb6BL8IEwjsBYkHzgC1BOj8o/y3/Wj5Bvu8+Mb8/ejbKXL9rfme+v8GD//Q+SwEKxI/BZrx4gjECg4GZwAo+wH5t/Zt+3f4C/bQ+Uv7IgAAAAkEXQNxBL8INgFxBDoRrADTAnEERAAQ+LQgqP5B90QAqP76BCsZZwCOCcH61PvV7WP+svs2AY4C0wI2AaID5hhEAE4EbAJYAd0GXQMYA6TuiQfxAHALtBmxAokA/w3C5ZX2N/MIGVD2vPgU+lX4lP1Z+pn/IgAy/8wqIgdiBZX2iQdOBLoG3v/wFSsLd/ja9kH3Rvnt97nMHv7XGZ0BnQh7AeIBBAKsAAvvEwE6A+cDRADp4NMJzgDOAAQCqP4dBcb8xvzV7Tf6N/oL76j+AAAiAKocGAO8/1Ibvh0nArf9PwWJB6P8dQb6BHfxbALiAc4AlP0hDgr9S/T+G8H6WfoG+7L7S/sU+kb5qipG+bL7Mv9nAFgIUPaEDDANCQsTCB0FqP7e+JX28+uy9Bwa3vgG+78IewGp4j3npOc38+IBzgAe/vz97f5j/u3+zgDiAX8DcQTEA3sBqxWo/kH+9/tP/aj+PO7xALPmKPs6A+cDSQIIGToDqP7Z/UH+HBoSHWcAfPOiA2IFYgVxBP3oewEt/aEKLf33+wkSlP0EECIAjRdj/jYBW94nAr8BCQS6BhruBAnOB2P3ugZB/uP6cvYL9mP3d/ie+kzm3v97AVHhJwJ/A2cA3vjZ/SIA3v8TAecDewHK/lT/Lf1iBd74y+lo+ckFCv1SGwQCWAGxAr3jjgIEAp0BAABnAO3+wezt/qj+3v/8/bf9ZwDL93kksQJgLyIHLu/nA7US4gEiAF787xxnAMH6ZwDxAIX+Cv2j/GP+6xMe/gkE8AdYAZn/4gHOAMr+8QAL9rz/6Pxe/KP8S/ty9g//TgS/CE4LzgdsAt7/j/uj/PEAY/c95zz8vPG39q35MvhZ+vYCec5P/cr+d/8EAl0DLAT6BCwEGANrCXUGMAaYBrUEhve8/wQCrADOAEQAt/13/8r+wfNsAjYBJwIAAM4HGAMgI78B2AT2AkkCbuYJBJ/l9gKOAtn92f0e/rf2N/r96Mb8D/8TCDYBafInArkbWAGsADYBzgDQ8vYCrfKZ/yIAD//U+zz8svvmEbL7AfkQ+Lz4Qfcy+Cj7EPFL+y39zgB93rUEMAaYBnz6UOjsBWwCVfhOBGcAxvz6BI4CCQQEAkH+I/mXIvz98AdL+00SqP637ycCPwXxAEkChAU/Ba35mAYL9iIHN/OrBzAGfwMAABsvbfvG9eTzQff39Ar9bftiBUkCt+/e/78BVx0iAJMEnQE2ARHVH+JYAVT/c+EH2Iv5RvlZ+hD4wfoj+Zn/2f0o+8r+fde8/1Do+Rnk81MN5wN/A6YM2f3TAmIFqwe6BrUE9gIiAKwALf0K/U/9mfiL+XL9OhFf52P+6PzxAM4AZwBdAzoDtQQ6CjAGRAfOBzUIHBpW1WcAEwEK/bL7o/Wy9O7wkPQsBLUEWAEb4J0BTgTiAeIBb9F/AwAAxvzlJqj+ZwDe/7UES/to+dcgfPqe+p76D/8P/yEV6PwEEGcAvwEEAkQA3v8EAhgD9gKEBQkELAQK/RgDMAbEAxrunQFy/dT7Hv5NGaP8jhCxAk/9Hv5y/YX+yv4AAGwCCQTV7RgD0PK/CNcZUwZiBbUEEwF/Cqj+rfkU+qj37fdG+d74rfne+K35j/sL7/EAnvqXIr8BqPcYA1Xqqwd1BpwWNRaxAgQCIgC8/97/IDElHg//EwG/AV0DfwPo/HsBZhXB7FgBsQJEBwkEHQXnA+II5hje+PL5tQTiAVgBiQBj/jz8svt3+JX2VfjL9zz1LfZ882nyn/PL9/YCBvTV9Lf2lfYt9oH1bfTL8Ev0FfMe9/f0HvfU+2XbtQQmCXUNUPZcGH8Kwx9vILQgKiC3/WYcB98t/U0SRvm/CHEEZwDG/BT60Pnp7kv0MvFf9SEOd/ja9vz2awmB9QQCGvU8/Av2UPYG9Dz87f7OAAHyhBMiB3UGOdcj+ZrjcQSQ9BMBQf6U/XL9nQFQ9msX4gFQ7zjsEOpf5z3nHAzH52Tpruuz7drvvPgV5QH5qP6xAqsHEg91FHAZaxAB+WUjpSHDH9IezRySGaEYUhR/EQvvCQuR2KIDZwD8/Xz6y/ca9Sj0DgYy8YvywfPOAMQRt/aZ+AH5qPeo973jUPZy9u33bfuG92cAhAVrCQkLyQwW3j3gvw+mDI4JzgdOBMvwRACU/ff7EPjV9BXzsBAG7Yvr2ujQ+TPqmurmCi7vy/AQ8TLxle9Q72TwFfPa9jf6AAAOBhwM5hG+FrkbnB19LbECmyRIJRYmSCXNI8ghVx3mGIkHsQLJBWcAnvra9i/amurL8KnwqfC8//zvQfAo+7AQPO5u7SntKe2L+X8RqPfTAvz9vwG1BCYJkwt1DZwP0hAa9VcPDg31CZIZpgwK/fYC0hAf8OTsZOlH5C7h0d0l3dHd1Pvb4ZDtUOiB7gb0Afm8/+wFhAyrBw0bDSIWJv4poC3IE3krESvHKGolUhT+G3AZrfJ1DdMJJOQG9AH5S/RB8LPti+uu61rsFeyz7bECxu6371Dvn+Xu8HoPrfJB8PAOgfWG99D5TRIEAjAGTguJDgkS/xThFnLvXBicFj8TJhDECoQFbfso++Tei/KQ7RDqCv2a47jhguD432Dg4gFG+dcgjhBz6AH5wewf8Hfx9/T39NgE5wNG68fnNRbrGhIdeg9WK4LgljDMMaoxczBvLkIqnvpcEX8Dx+AQ+Lz/Wfoa9cvwaetG69ros+az5j3nlw345tXt2ui46Knpruuz7dwUxvXB+kvtegiwCesMSRD6En8DDRTk7NIQyQXrDL8IxAMB+eP6PPVB8NDruOjz5GDgjN1G+e3+kdgV5RHcW97433f4Ewgu70v0Bvt1FDoKZSphGvAHYCjlLREyBzXWNbM1MAZnB1Yywi3H58MmFx/1F1cP7838/Qb00hBf7vPrtQQnAoLnLATV5q7k9gJk8MziqeKG8FT/QumC59rv1fRG+R7+OgO6Bk4Lt+9hE74WIRXXGdcZ0hemE84Oawk/DHf/NQ8JCxDx5Oz96DjlzOIf4ogVBvQp3ynf5N5t9GDgNQiM5HsBM+ra74v5o/xJAqj+0hCcFnL2eSSMLGUx2jdQPppAmyTaPl89Wfr4LgMluRv6Ep0IvwHo/Hf4y+lB8JcNM+qz5tHkR+Rk4nPhqeIk5H3lWvOa6gbtJgno/Ev0MvgG+6wALASdCKYMJhA6EWsQ5R9mDsbuRAe88d7/S/sy+Eb54gj870vti+uOEEfkPeBG8nPaG9mW2qrb0d1R4ZX2rut38dHk9/v+GxwMcBKDGhXsKd+p8GQ46T14QN9Ahj+CPa7kPS/5J2oeIRUrC38DD/9vyl/1y/CB7gHrc+j45lrlwuWu5OTlKeZM5qTn/O+G6TPqn+yk7i7vPPUj+R7+Vx2wCYkOKxJk6SEVIRU/EyYQmAbECiIHbALmCrL7Afno9cb10wJL7e7pFeyM5C7hH+J1FH3egfxg4J0BpOdC6d/jmvFQ9uEd7f6JB+wFEhZqHjQrETK4Nz09EEAfP2487jiXDbkpTSCXG/8U2AunBc4Abfsa9anwX+4V7NroPecu6Onns+aC5z3nwuWu5PAOzOJe/D3n0OtG8mIF7f4/BX8KC++U/Q0UqxXIEysSx+AcDI4JUwb2AjL/S/uo9zz1cv0G+8H6R+SW4eTe2AS42jPcj/tt+5n4EePz5OTsXQpG8mj5zgD1CSsSlxvDJtYuPTYpPAFBx+ffQFX4JDrRM4cq7f7R5NcZKwtOBA//qPfk89rvfOxG6wH5pOc45cr+ruTM4gzhuOGa41/u0eR6D3zsqfBf9bL70wKJB9gLsvvIEzjlEhY1FmETOhG6DeYKJgnnA+IBNB2e+rf2hveB7r3qPed44yXWFx9xBBHc4NwC3SnfqeISDy32i+tB8Ev0o/zB87oGSRCwF8MYjCxp6189Zg4LRdVDWkKmDGTiDgagJgggQxXrDOnuRAAo+1/1AfIe/n8Dleha5b3jYOAp3+DcEdwOBpn/PeCcD/jmQxXU+yj7rAD/BrUL8A4JEr3clxRy9qYTYRM2ARIP2AsJCx0FZwCP+wv2kO2u67PmeOOz31velejM2yDbltrz3ZHfLuFW4y32YgVJENrv8vIODfoEzg4wFJwPWy1MNX0780G3RUFGYgUk6xo9XzYHLtT7Jgl6FqYTUwY8/CP58vKV7xwTLyLR5Pz2c+Ef6fjfJR4W3iXdad1u34kAnvqL6yTymfiF/iwEcBKJDozdfibEEdIQzg6JDiIHUw2mDO7wqwfYBGcA1PvL910D5Oy46Izknvr436DeJd1f9TPcEdzg3NHdwt7OB6TnGvWV71n6PwVrEKYabyfzM4w6vwh3R/JImkcfRkZBRzppMzQrmySmGsQR2AvYBE4EVfga9aIDwex46gvoVfHsBczboNfb06rUvtXC15MEEeMQ6gHywfp7Ac4HhBMmEEHwtRL6EmETtRJcEdIQ8A7rDPknUwYnAskMvPha8xIWX+587O7puOg951bj4/qhGNr2ugbb2pvc891g4Cnmj/uf80brLfb6Es0c4CS374w62j73Q5pHRkikRJpAwjspNSUsiCNmHKERjgkTAcghjgmB7lXqFxjqIS7hON6hCmDZfdcW10kQruvu2y7hC+i6Bhr1VtVdA78IHMtcEaYTC+icFqIDCBk5GI0X3BTSEJcNnQiiA2P+RvnYBHLvLATL6YLnkOYa59XmveNk4ofiUPZR4cgTeONa5RDqUO8RK7L7pwVJEJDmqPd1BhE5/T7kQionVUcaRFrsZDg9L2nrnB1IF9wNGAMiAFXxEs6k7h0FOgN7AarbjNb6EoPSkiAM06Tn29pg4NHk8AfL8Lf2VxZP/ZgGcAv96JcUwxgNGxgKvh1DHFwYlxQXEQkLAfJB/inmS/T87/oEQunZ/bPmfeXf4wzhB9/M2y/ax9lz2hXs0d0HLlrl1e2+Fk/9WAirFSogDCngMnnVqUafSdDyle8pQ9/xIDH5JwkEuhSEDA4Gmf+L+YH1mvEV7CP5luFb3joDZdQj+fnREwH4PC32h+IB67zxd/jJBSwE4gjJDH8RqxU+GgMe+SCXIuoh2yI5H27mt/Z1DXAZBAKe+nzzkO3L6X3lzOIH33jc8A6v1pEn6tL50YPS29ND1FvX29ou4bPm9+3EA38DjhAAAKoxn0KEDBlZgGDrE7oUI1bQSIw65hEDFzoKhf6B9VrsQumC567kh+Lb4WDgAt3q2aDXb9gq2Br1jN2H4vf0ruuL+V78VxYsBOIIUw3hDysS8BXv1NIeyCGbJHQbqiMIIOEWlxROCwQCCQTu8CwEc+HW2Jba1tg510fWSQK02PjYltpH3eTec+Fa5Xfxegja7zfzRvmo/uj1ORhXFiXdGy/pPdVKylTK/pY3EE7dBuAyPiEEEFwRewEj+TfzLugL6PPraxcQ8d/xT/337QHrX+f87zjlMAYa56npfOyk7obwn/Pt98H6xvwAAHEE0wlmDmETXBhmHAggtCDDH+8c2u/SEAQJVP9SFMHsjORb3sfZkdhg2dr2EdwW3pHf4/qM5N/jT/3k5aTnEOok61rs2u+t8gHr5PNnAEQHlxRlI4fbjDrtRtDrj1Ge+nhAPTZgKHoWmAay+8QK7AUV89X03/Fo+aEYCv1L+1X4nQjgK7UEbt/SED3nc+gC5OTlLuHk7NwNlfYo+6wA/waXDfAVnB1R07jhFPovKZEnUiI0HT4oPPVJApvV8vJ87LPmJOTM4h/izOLo9VHhh+Lp4NvhhAzf4+TlKebb2h/puOik51/nZOl87CsZuSJe/NwUDRtCKlcP8kiyUVlXPFImCf3oICpe/Abt/P389kfWZPBrCWP3T/3W2Oj8t/3j+kH3Vtzk8yTrZOkp5lrlHveW4a7ksQJV6gbt7fcP/5gGTgvDHzUWPhpmHBDq6eAlHrkbSBecD/AH3v9j/hDxkws0JG7fFt7iARbeXBgJEnjj0eSQ5troAeu96mnraesTAXQifOyu6xruRvJ8+vEADgarDr4diBzpNkv01UpZUMtNwUKkNnkrJR6cD7L7I/n39BcRX/Xt950BnvqB/Mb8RuvQ+bf20PKrDnf40OtV8esMx+e46CTr1e2a8S32Lf0cDPoEb9i1ErAX/hv0HrQgdCKlIfQe+RmEBfUJ4/qZ+MvwpOf94aDead0z3Gnd6ihk4gQCFeXk5SAjmfjL6fjY0OuEBQvvGu7a72TwBvQwDYkAhAUTCD8FCCdB9yRBwUlf7hDqvUBRMOEdpgzt/pMLkPSu63zsFfN8+qj+iQCxAicC3viJAPf7UPZ38WTwZhUQ6uYKM+o89VrlEOrHL6P1t/0wBlMNOhHNFfUXEh3lH+UfAx6DGn4YsvSdCF0DA8/p7nPozOLR3TAGDRsC3S7hmuMk5BXlHve96jjs0OtG65/soQok8lwR8vIYA1D2i/mF/iIAZdtYCA0UzSOHMbAQLUyGTTdJcz6CL6sOBAlt+78B/O+V78HzljdJAg4GtQQdBeIB7f6V71n6gfUV7MvwEPHa79DrruQb4BIPqeLB+unuqPdsAqEKphOV7yUeNB1SIiAjLyJXHb4Weg/wB8r+Qtsp7T3nle9z4cfgguCxAkgeQuJH5CnmC+jsBfPrkO0iAIbwPeeL8vLyfPNB8Ab0WuyZ+Hz6Lf3iAf8NXB9RMNBBqhyZTvYCZD91BiEcPwxj/sb1svT89ij7IgBxBMkFhAVdA3f/4/ry+Vn6y/ef7HfxwexQ6GETeOqP+6ERQxUTCOj1AAC/CF0KqxVEB5wdoB8qIE0gXB8SHRDxOhFa7K8lgfXB7Djls98C3b3cjgJC4iAqfeWV6DPqrusk61rsbu3V7XLvQfDwDnEExBHQ8tDyN/OL8iP5Qf6TBIQTBvQQ8UtKgVItU50I6T3CLfL50PksBJDthf4u79D5fPqF/qwAogM/BdgECQQ2Abz/j/tG61Xx7ul95bPfrt2M3XPhFx+f7J0IphPy+VcPUhRIF0kCZhyNHvkgdCKxApskphNrCWP+1PtcH1bjfd5p3X3e1t/94VbjeOOa40fk5OXH58vp0wI87mTwDgZf9aP18vlW1S322vbe+Hz6xvw6AxcRDSLHNotIWVBZUHdHHzh+Jv8U2ASL+TfzpgywCe7pjgJqHtrv7j9W1U4Egfy/Aej8mf+L+bL0wew45Vve5dfl173c+gQy8Y/7C+/rDAQCdRRIF+YYyBqXGzQdeR0hFVcW8A7/BkH+PPUk8qTnM+Pp4AQCCa4z48Llc+gQ6t74wewf6Yvy9/Qe93jcI/mZ+N74qPcJC4vyH/Cp8JX2dBuU/QQJEiSvLDoD3k5LUQZKwjsa7twN6wzqL9D5LfZB9635t/0P/ysZlw1t+zUPVP+xArUEUO+Z/9rvUO+k527f+NhrCesMjN1k6XL2tQTTCSEO9QkEEMQRYRM1FpwWSBfdBo0XDRTu8MQDkO2V7/3oM+Mp37oGrt3C3m7m8+Rz6N/qfOwp5hXzad3B+hn8S/uXGwkL0hC8/2307uIy8cvwvPHB89sp0wLIE7Qnkwu1CwfmkErzOjLxzRX/Bu33lfZL+8r+0wJ1BuIB/PZdA3Po3v+JB7ECtQROBMbumfgU+oLnDOGb3DPc5N6f5fft2vZB/ogcJgnYC7AXEg9cEXUUnBYrGWEaXBjL6T8MfwNL+zXAn/NV6u7paetf9QvvgxrQ+cHs4gF87C7v/wYL9iP5N/rp4Jn/mfg47DkfgfXy8obwI/nDJtDrPO5B90kJtCDC5UFNvFUoUQFBICrNFewFt/08/HL9TCfEA7ECMvGTBF0DBAJEABMBvwHz6zAG+gse/mEa+OY5GJwWedX/FLPf2uif81HaXQPiCBwM/w2/D/PkvhZSG9IeCCB0G0gXaxAwBkH+hveo9wbt3+oQ6kbrOOxa7EbyEOpQ6J/zC+i1BCntdQZL9Oj1kwQo9O3+rfKa8fzv5OxG6zPqFey1C+DVYQy0IKQ2aEgoUXJMhj+bK2Ea2As8/CIAVP82AXoPHAyF/nL9Ft5B/sr+d/8AAFgBjgKdAZT9VuMf6QffwtdW1SrYX/UB6zz16Pzz5BgK3A0e/voSZhV46j4aiBzxALECfhg6Ec4HqP5j90byEwgf8IHuKe2a6i7oGucp5lcdbuYu6IvrN/Pu8K3ykPQEEPzvn/Ot8vPkPO4B6y7oLuhk6eTsOgPnAxcYljB3R8ghEwEBTwc8ViRcEdMCCv3p59n9IgAAAM4ArADiAScC5wNiBaDXdQb6BLEC2f2V9jjsDOHwFarU9NbcG9ro5POy+3kd9B7Q8isL/w2OEOsTZhWSGXQbBBCNFx/pKwsEAkv7yv4ECfLywx/G7obwKe0z6qTnTOZM5sfn3+qB7qnwAfIV8230kPQo9HzzafIp7fzvLuhu7cfn9/tV8V78Vw9WJFo7JwI3VwQQ80EbKFwRPPUe94QTfPonAh0FdQZiBbUEtQSQ5tDrSQm6FDUIHQW8/6j3Ke0wFDz89gJv0TTVW96dCMv3KPtOC84OsBBC4v8UORgcDH4fHCGmE1cdaxfhD3UGyv6L+dbYAfJk8JXvPO5mHEbr7ump6droc+hf53jqwexQ9skFy/A3+qsHrfKt8tX01fQb4Knwle/a79/x9/Qy/2sJ2yLMOH8DgVIQTlHhDCl1FNMCfPrQ+VT/MAahGPAH2AS/AT8FqPcYA2j5CQQTARn8C/a37xbeH+I43obw7tu44VrlpO4j+WwCd/F/EYQMDg3hD/8U+RmcHRcfiByu5CsSVeqOAi32veNf9fLyEPHu8FDocv1H5Nn9xvxk4sziOOWp6UvtMvGF/jz11fRf9bf2Afmt+d74JOsV81DvBu2y9Frz8QBDFQwpXz3ECs9P8kjaNz4hRA4z6p761PvB810KMvjcDWsXdQbiAYkAvwFL+6j+iQAZ/HkdKe1Z+hbeQtvhHSXdQfcQ6lrz6Pw6A1HheggcGvUJhAyhEcb1gxqj/AgZDRREB8kFAABe/K35cvay9DLxge6L61Do1eY45STkS/vk5cvpBvsDF4gV8vIy+FXxWfpV8QAAsvSQ9IvyhvD/DbAQVfgo9PEAJhcMMBY0t1P8U8FJbjU43tMJGfw3+twbBAmOENcSjhBJCeIBAfIt/d7/7f5YAQAAQuKZ+CTyJOt95WTix+BiBTQk1e389oX+XBi/DwkEsAkOBnoPUhSmGm7tAt3SHoMahBNhGvYC2uiy9JXv0Osf6V/nBvT0Jb3jLfYp5k/9sAnp5xDxxAPYBFD2LfYlLOj1t/ZB94H1VP/a7xrufOzB7J0Bt/aTBCsZsBAfRgpTxvWpRhY0TRnsBY/7XvxxBCYQFxjhHasVeNwiAB734Q/o9a35Pef6BLz4afLu6WXUyQXq2SDbTN9u5hY0qPe8/x0FQuI6CqEK+gv/DXAS0hchHI0ezRzSFzz8eONsAmP+n/O8+GIFJPLp50Lp0d1W4zPjveMV8/jmH+kB69DrrusV7Hfxn+yM5JXvRvKy9IH10wIe/tDyi/If6Xf/Vw8lJdA62Ux8+jJOT/2lKFIUogOU/UQAvwi1Ejz8/xRmDnEEPPwe99r2nvpB/pn/Gfxt9FgIPeCG96ID4NW370zfpOcQ8VgBTgQ/DMQRdRRB/pwWORgNGzQdlyKbJG30XBgEEIkH3v9o+cv3XQrk7J/lLuiDy67k0eRG8vPk5OUp5l/nguCk584H2uia6uTsZPB88zQdAflB97f2cu8wDZMLFPot/aYauDD3Q+hSt1PVSj02AADk84H8/P02AToK9RDOB/oSDgb8/aDeGfxo+U/9AAAP/xwTFfNV6h/ijgKu3eDcH+L96F0D5PPZ/VHa8AcmF5cNnA+a6qsVyBoDHuUfah5hGl/nxArYC237t/b94Z0BPO6z5lDoOOXsBR/i/eF/ETjl2vYf6VXq8+sG7Rru/O8B8vf02vaG96npGvVp8u7wLf0G9Mr+1fRWJN85UEwtU1ROHz+L64QTzgAk8mP+dQY6Eb4W3QZ/EfAH7f6Z+OUfN/qIHIkAhf4Q+DL/kOadAYvrOgMp34zk8+sG9G37jgJ6CLAQ/P3Q+QQQAxccE4gV0hdG+awAoRGwCWwC0Ouj9Qb7MvEa7p/s3+qk533lAuSa48MYNRYH5hrnQunf6gbtLu8k8rL0Qfdy9p76nvpo+Q4GjgmXG/f0TgtnB3AZoC0QQND5t0yBRCAx7xxrCUzYd/8e/voS3A00HULiMA2/Afz91fRf9d74BAno/Mc2rfKqHDL46eA94N/jhukf8JX2LfYHNZMEdQa/CDoKcAumDMQDoRGhCvAV3BShEV0KbAIo+1/1VfG378buS+2L61DojORC4sfgUeEz4/AOLugV89ron+z37cvwoQro9Xf4Rvky+IH1KPS88UbyfwP/FI4JAx7L94tIlFNPU1pJZTFa844JWAg/ttIQXvy0GTQdXBj6C5n/S/u8/230Aflj/pn/GfzV9L3qPTa/CNva0d3W39D57vAQ+Nn9YROYBjoKiQ7mEVIUKPtrF6EY5hicFj8T6wxTBmAoFt4NG3oW5Oyp6UkC3+OW4fjfjOTH4HjjbubL6Tjs3v/u8JrxbfTL8HL2Y/eV9m30d/H875DmQfCf8+j8awmqHFYyqUZL+6EY90ouN0Mj4Q/EA3sBkwTrDD8TrfmQ9CYJZwB8+m371PuJALUEYgWf8zAUhvCk5zL4zNuH24QM8+Sf7NX0JPITAR0FEwh/CqYMqw4JEmYVoRhSG44JLf3SEDUId/8y/2XNPO7/BqTu0eRy9vjfrt3wB2ndx+Df6mTpPwV38cHzKPQ89ff0lxT39LL0N/Pf8d7/qfBk8ELiVfj6BJ0IDDBQRXJT3lUQTgb0aPlH3WwC7f5Q9hwM+hJmFcQR5OW+Ha35d/ga9aID4gh/CqcFgfyG8J/lW94M2lHa893p54vrBu2g3s0jjOTwFWsJ6wyOELoUwxghHAQQ/hsXGDAUWAi8/1X4FfO37yntVeqz5u7i1t9TDVbcjN0u4cLl8+tk8Mvpo/VQ9rz/Qf639t/q1fTo9cQKge7k7JDtLu+XG0kCUhTbKS4+C0ySIGoeDDeII8vpqfCH2ywE8+viAQMXMBTJDO7wC+/o/OYK7AV/Cl0KPwW1BIHu0Os92UPUIgBdA9T7JOs1DxMBD/+xAlrzaeQ6Cg4NOhHNFd0GuNqcHdcglxQcDBgDKPsa9bzxUO8p7QbtY/ea42Dg893C3uwF5OVp61n6s+2L+UbymvHL8IbwhvCa8VvehvDG7vPrJOtg2XL2OgNqHgw3sQIe9zfzVw8vMG30PPXTAgkE2Asp7ZrjjRe8+Bruj/u8/+P6XQqwCWwC9QlnACTyaeSC2e/U4NXM22sXgfyf82j5qwez7V0DIgcJC68sHBONF5cb/PZo+QMe6ig6EdgE7vDdBkbyX+6u6zPqc+h95Xjj+guC4B/iveOC55rqKe3p7rfvBvQB8nzzkPTbKXALewHG7iTrY/eV6E/9aPmEDK8lpD18UK1Wj1GpP5YpzRWJB+cDsBDmCmsJcBnrEyTytNHiCHfxi/kEAsfgKwt/A8b8Lu91DVHab9hl29vhsQLa75D0hvdOBO7pYRrsBQkLjhB/A7zxAx45H9Iezgc1FiEOVxY87uj1MvEp7Zrqc+g45WTipOAy+ILgXQoa54vrGu6u60HwqxXB83fxN/NL9NX0N/Nk8Abt6iHz3WTpi/KOAsgaPdnoS55XAFYV7Ac1YCHSEGsJOgrOADkYDRsDF04LOOyj/J/s/xRG+V0DfwoTAdva5POf5S/aveqb1ULbveNSG0byY/dH3ZT9pO6iA0QOyQx/EasV1xlXHdr2BvTXGaYTtQs6A0v75PPG7njqGufR5BHjZOJIF1Hh3+Mo9CTrGu4f8DLxhvAy8VXx3/EV83zzKPQV8+7wX+6Q7YHu8vIe/okOfia4PicC5POjUnoPvTJdA7oGj/sECX8RjRdcGLUSphMU+t/xQfBy9oX+mAZYCPYCfPpL7Zbhpdmg10LbtQTQ+X8R0PIL9sv3CQv3+wAAPwVdCsQR0OtcH/EAFiZ5JEge6xOdCHL9GvVB8NXtZg4B6xgDB+Z44wzhYOC44VrloRh/A+7wAACa8Xfxh+JXHfUJRvLvKi7v8+tC6XsBKe2V9pgG/PaRNShKrVYYAzxL9/QIIGsQ+gRnB5cNAxf1EAMXPwVP/cb10Ouz7VD2Y/7V9Mr+eg8o9D3n7ffJDMLlrt1H5IvrqfD39Jn4BvuF/hMBPPzOB1cds+3DGKAfviRNGTQkLf1SFDoKmf+G97zxH+kB6/3hWuWwF9bf890p3ynm5OUB6zzuZPAk8q3ywfPC3hMI6PXB87zxt+/k7AHr/w1p6yIAuOj+G8I0nQg2AcpU8kiuM6AfZg7f8UkJSRAXGM0VZhW8/7f29+0V7CTyjOQhHAQJhAX8/YvyGufk3kLbJd394ZXoxu639mP3S/uqKkMjOgPsBTUItQtNEggZkiAQ+IbwkiB3/w4NtQTU+1D20PIg1F/u3+rV5vAVB99j/qDec+Hk5d/q9+3a7xDxyQVa8ynfn/PU+4vyEPFQ71rsNQhV6jz1BvQ6A+saRzMVSehSgVKrDmkzbyBOBKYMiQ51FAH5ORhrECYQiByy+1n6afI8/MQDmAZ7AXf4PO7z5MfgYODa74bp9+2t8tX0zOKL+Rn81fT2Au7wcvZTDV/uYRqlIdElryXqIbL0Vfi1BFcWcvZp8unuVeoH5oLgh9scGkLpT/3t/j8F0OuG8BwT8vn39FD2Y/fa9sb1NCSrB2nkqfAL78buge6Z+Kj+9RBRKSRB/drGUm1KZDgSJKEKIgeYBnALhBPhFvoSFxHQ+fftqelL7VX4jgImCeIIRAAt9tgL0eRW4yj0RuuG8LL0Lfbt9y32t/a8+L8BnQFnB8kMHBPmGKAf4CQDJbki5OzrEwkLt/03+nf4EPHk7Nro9gKM3erZ5dcmF2ndM+Np8lDvG9ku6Kj3mfj94UH3PPVp8nLvKe0V7CTreOqp6RDqzRXrGs0VUSkIIOhSlFNVR0czrx7cDdn9XQrU+9wboRiSEvoE6PWiA0vtt/biAdMJCQsp7d746xOu5FbjjORk6cHs6e4f8FDvkhLQ8vz2Cv1OBLPt0hBmFbQZah4u7zkm4CQwFLPtfwqZ/9r2mvGk7ovrC+hp5LPfAt1Q9hXsYOBa5dDrQfA38230FxEo9LL0gfWt+aP1XvwL72nrxvVk6UbrSQk87jAG/hsG9EZIslGeUF/umzKSINIQjglrCXUNdQZDFaERsBCP+3zz3/GrB0/9ewEEAmnrxvwQ6lgBKPsk5LjoY/cy8TfzfPOOEMb1khIy//oEKwu/D8gTJwKSGaoci+tL7Q0bYRPTCff7I/ka9bkbd/+p8J/skOak4DPcL9oIIDf6lehQ72j5cvZf9W308vKL8qEYBvQJEovyy/C375XvH/AQ8cvwGvVnAP8U5S2zQzdQnlDaRWkzCCBwC3ALqw4iB2EagxqXFAQJweyk7sHsafI8/L8BbALZ/Qb0Ver94eTeDOEV5fz9bu0f8LzxwfMAAJT9hyrJBSsLeg8JEl/uWAg+GtwbLxs1CDUWfxGmDBMICQR+HwH5y/B/A2DgzNtz2gLdbAIL6NMCmvEEEB/wWvNV+K35H+ly9tgL2vaj9Sj0n/M95/zvWuxk6eTsWfru2/QsGyjrGuEWg9JHLCsZdQ0rCyYQYgXp7rQZ5hFxBJX2Gu447MQD0PlB/nf/8vlp8iTrB+Zu5h/pFewP/5XvZPB38YX+X/WL+XL9iQDYBHoIlw3XEtcS+RmmGrQZSBcNFCYQHAzwB7ECgfzSHlrsR+Q43qXSi/nM2+Teh+I45T3nqenp7q35afJt9F/1C/bG9W30S/Ra8/LyH/Af8NXtljDB7N74Eg90Kbg+n0mfSYY/sQKIHI4QiQ6b1dcZ5R/5INwbSRAiACj0C++88e336PysAAkS3vgECQ//7uIEAkkQ6efI0lDvPPVy9iP56PydAWIFMvEODb8Pfh+1EqYMAxcXGMMYsBeF/r8PsAlrCbL71fRXD4LnQuLnAynfpOCa4wfmGAPa6Ibpi+tL7VDvd/EB68b1C/bo9R732Asy+Kj3svTy8intiQAgI7oN7yrz3XoWKwuzPMwqtBkrEsLlkhIDF0McFx+NJb4WdQbj+oQFfPM382j5o/xy/UMcEPGG6bz4Qum96vftAfLa9m37hf6a6qTurflEAOcDEwjrDLAQoRE5GA0UNRYB+QgZsBe946YMTgTU+9X0eg+L61/n2ASH4mUqB9/0JaDeYODf41Dowey88Tz1y/d440b5Y/ej9S7hM+qG8IHuvP8a7lXx3v+SEjQryQwpQ8FCWfrvKiUevha44a8eUwbbIiYJ7xz6EucDUPYu70vtvPHk86j3i/kB8hwaqeL435bh0Sz96OnuaPmB9V/1xvWL+ej8IgB/A2cH4/rmEVIUvhYrGSEc7xw0HS8buOh6D2TwXvwa9cbumuqSEvjmAevdBgLdYNnC133Xc9pb3iTkCQRG8sLXqfAV8xXzAfKG8FXxd/G8/9n9ge4y8SIAqP5bLW48aUHG7hE51Ps95+ohzOJ0KZYpxygXGEMjnQGTBKj3VfGV73kk3/Ho9Y4QeOpp5EfdJd193pHfeg+u6+TslfaG91X4RAcV7KP8fwPK/vAVlxsDHsMfbyANIg0iUiJJCcHzMBRrCUQAd/it8sbuJOvdBiTkkd+H2yrYfdeR2ALdqeJz6MHs4gFk8FXx/O+B7tXtPO4y+M0Vx9lo+fz2Rvm1BPAV9gIqILg3HBpzNz0vPdkDJZEnbyeiA2Uj4CT5IAHyhAVL+6P1VfFy7y7vAfJ3+NroQuJ43AzaiQCR2GsQ8+Re/Knwy/dZ+tLImAaQ9HUG4RYNFJwPqhxwEnkdVx0SHZwdIRx+GNIQMA0wBmP+/Pap8CYQ2+ER3ILZtNi02LTY0hBmDtbf2+HwB9XmVeqDIQH56ed6FtX0OOz37Qb0EPEo9FX4tQSIFccowjTQOm48HzhhDIX+OC1nAF/upS8HLprxaiWhGEb5vP+o9+7wQfBB8I4Js+0H5qTu5df+0xvSzgcC3cLl0wLV9JX2IgAnAqID3QbYC8QRyQXhHYMhQyOo/pci+SCNHv4b0hfQ+TLxEwjOAND5KPRu7RrnEOru24LZguf42P3amysp3xvgqeIH5isLQump6dDrC+9G+R734/rG/KP1QffL92EMuOEMKYcxkTXnAz0vdCnrGn0tFxEvMHzzuDBHLEgluRt88xgKAABrEHL2KPTL8Mvp0eQH38LXPtJy7+rS1thg4ILnIgDV9HL2I/me+h7+SQKYBnL2HQW6FEgXwxhNGdHkyBqj/Mga9RfDGF0K0wInAo3P8vKQ5lHhtQvz3cLeYOBIF4figuAp30bykd8R45DmRuvp7n3l7fdZ+usagfyt+QH5ewHnA+nuKTz5ILoN/xT37YzdiCORJxYtUTAIGaA0Cv19LeAkIRwB+RgKogNy/TPjqfAj+STkguBW1cPQaPkb0pX2pgxM5m7tMvF884H1dBsQ+DjejgKOCfAO+hK46HQbCRK+Hd7/7vC5G34YyBPODp0ICQSU/fYC9/S379DrKPv45kzm0eSa46Tgwt6u3Tje6eCH4pDmEOrEChDxCCAL9nL2svSf8w4GfPq/AcQKKPShGC8bphp1FLQgYQx9LdgLVTmkPS4+rjp9NILndCJwGZISCQs/BToRUOhu7QLkfxER1dHPKPRv0UPUG9lH3Q0U/eFp5GTpWuwV8/L5sQKp8Bn8NRaSGe8ci/LlH44QkiBqHlIbnBZJEKsOewG6Bv8Ncv3y+XL2RvLp7qnpAuR93i/aoNev1p/s1tgmCRMIWuVf52TpAet4Mqnpaevo/CTkPPyJABwMjhANFDUWdBs+GtEsczcfP8ZEn0l8SVrz+gspNeArmyQ5H9IXfxHdBrL7LATR5PoE+dGj9aXL28ymDKXSQxWv1irY6tm93Pf0i/Ka8dT7xAP6C3L2+RnIGhT69B4qICogLu+qHPkZAxe+Fo4JAesrC1MG3QY3+pD07xw8/NHk+N8z3PjYW9fg1ZcbatYnAqrbwt6k4Nvhx+AM4RHjX+cz4zL48+u/CHQiYRNNGWYV4CtMNek9Lu8eTVlQJhcLTDxEfh+mE9cg5SYlHu3+3QZNGdXth+Ia7iXPPssqypLK/P2vHv7Mm84W0Bn8G9kb4MvpFfPU+ysS2AtcEbAXuRs5Hxwht/3qIRwh2AS5G0by9Re+FpIS6wzdBlT/0Pla8+Tsc+gR4/Pdltpv2LL0t/b3+3nV1fSq238K5dAQ+DjeDOGt+cb1y/cwBiIHlw26FOEdCCdgLww3Cz5yRYZNbVFjTSEOOEJ4OZsy9CxIJdwbxBEiB9T7/O/z5HPa1tHu8IPLTcoIyhIP+crbzNHPdNPL8GwC1eb87x733+M1CPAO7vCdARIdwx9qHg0iZhWNHv4b6xqSGXsByBNmDrAJ5wNj/iP5AfJ87LPmuOFp3ZHYbfu00ZMEltM1FhcYkdjH2WXbW96qI+TsLfY89T8FAAC1C2wCkSdf7uQ0iQd4QMtGS0oIIN9H30DQOn00Ki5bJo0ePO7mCkH3xvWa6qDem9Uu6IPLYMuXzNvMNM7D0OrSR9bu2wzhZPBf7okOY/51Bv8N7f45GJcbJR5qHh73Qf7mGLAXaxdXFoQTCRJTDY4JCQRU/3z6xvW0GQbtH+mM5PoLltoW1zzultND1Cj0Rvk51xvZAt294yTrt/2y++IB4Q/t9xIdTCfqL1E3Gj18Ql0Dd//ySLdFJEHL8H00aiyIIw0bSRBJCXoILfbB7JMLL9rq0ojNpcsNzEPNJc+R0bnTTNgrEmnki+tp66j3qwe1BE4LFxHQ6zLxeR3z64gcfhi6FGEToRGhEQLkyQwECcQD7f7j+uj1rfIf8EMcRusL6FbjKd8R3GsXmAYC1jTV0dZhE/3ahyqC50HwAfmF/hcRKwvrEwggpOdpM38Ryz/U+99HXBgLRe338zqzNaj+j/s1FnUUxApdAwb7AfIf6YLguNodBdT7Jc8SztspoNDI0mrWqttg4NXmlxSf8/L5EPGV76EKeg+rDnQb5goqIELinQGo9/8UtRJcEf8NLu+6BlgBiQAe980cX+4k65T9lej45vL55OyM3f3aZOmM1iXWvw892Snfs+bG7t74Mv/M4j8MkhI0HY0lPS+HOMMfH/A3SXxJH0YkQUfknvqvLP8G3+qSEvAHYQwa9fPraeRU/xbXg9JIz+/N1tFlzccvoNCy+1Hakd/C5UbrMvGG98r+PwV/CvAODRR8+gMeYCFa84MhFx9DHKEYnBY/DJcNsAm1BIkA1Pty9j0v5OyEDLPmmuNk4ob35OzR3YfbFeUf8Gj5Odf92pbhEOorEkbyVw+Z/+sT7xyf8xYt+DWQPNX0Jd3Q8tlMfEkpQzg7RzNM5vYCNRYJC/EAY/fB7Fn67ulD1I3PpcuSyqXLpcv+zGETYNJ9167dAuTf6u7wVw/Z/cQDsAmrDsr+VxaqIxIdAxdvINIe5hj+G8MY/xThD/zvdQZ7AW379/SQ9PzvVeok5FHh0d2q22DZBvtt+yDU+gv50QMefwoNIu7iWuyV9lT/kws/ExIdKidvLv8NpD08RMFJJhfOAAfmEg+Z/2k6Pww3+jkY2AtEAB0F3+osBDUPVeq+zmDLfskdBUH3vsfl0DTVDNoM4Rrn9+3C5awAyBOYBtgLBBDrEzkYZhzDH2AhuSLbIg0ikO2qHFwYtRI/DJgGRACy+3L27vBa7F/nEeOg3jAU5dcC1szU0sF00yTr29Oq1NcS7ttOCxXsEPH8/Z0IPxNG8rkpI/kCOmP+AUgLTHjcHAwtTOnusAmZ+KoxJSX5GZDt3v/39BgD+SBv2LPfEOqhySbI9MjV5t74A8+l0n3X5N4y/7oGBvTB+rECawlwEhwTJheJDtbf1yClIXQi6xP5IAb7BvtcGEvtDg2rB1gBnvpf9Uv0eOre+MbuVfi42vL5sBAg1MQDYNLI0gzTFPqB/J0B3+MB6zfzCv1EB7oGKiDgK/g1Hz93R+1NKFGOED8FlUycHdBBAjrHL/L54/qEDGcAKPSV6DjesAlqzxzL7xzEA/TIOcnmEb7OtNFH1mXbMvgL6C7vqPeZ/5gGPwzEEVT/WfrhHY0eOR+vHq8eOR+NHjjsTRmXFHoP0wl/A2cHAfmf8zAGcvaG9y7h4Nyl2TnXzNSP+wzT6tKW01bVqiqg3lcP3+rf8Z76HQWhESUeaiVMNS32i0j0Hl5SPFLPTwHyhkbLP7QZfS3bImsXPwzDGJMEhumR33UNN/NSzKcFnQhIyPTI6ssDz7nTgtnk3kfkgfxlKrz4Y/4j+U4LFxFmFcMYyQX5GfkZDRvmGFwYJhd6COsTfxGt+dMJ2AREAI/7/PZy9tT7eOoH5pbh0d1z2jz1AtY01XnVr9ZQ7xbejOT39MvwGvVe/GIFHCEcDMfg8QBkOJ9C4ggvG7xOQU1tSi5FuD5hE68sDSLiCPoLNgH39GTp1t/R1vEApcva71fHzcbt9znJZc2D0i7obt8p5jzugfVe/DoDqwdM2E0Sj/svG0McuRtSFDQdfhidCFMN8BVcEf8N0wkOBvEAlP1o+Tz1mvFL7YbpOOUM4dHdjOS8/1vXatYl1uXXBvRJAqcFphrt9+P69gIYCisS3+PwB8coeNwCOppA2kVVR8tGBAIk8mwCge7+KcI0AflTDY4CXvz5IKniwfOR0T4oCRKhCo4JA8jlybnMoNDR1pMEwuXZ/bECT/06A4kHkwuOEGTwcBmqHL4d9B7NFXUGZhyj/DUWEPHODuYKugZJAmP+fPpB95K8cu+96k4Lh+KR31rzKiAb2SrYUw2H4iogUeFC6WTwFeyo/p0B8Af1FzkfGANCKvjYDDduPKk/RkF4QOcD8zoHNVstViQ0HRcRzgAXycb1FeyYBiDbxANqz8jLS/uwEA3MZc2vz9vMMvhp3Vbj3+qt8mj5VP8sBCYJ3A1OBL4WcBkhHHkd9B48/IvrzRxYAaYT4gi1C4kHWuUP/576vw+L8nf47ukH5u7iPeDR3Yfbpdkq2MLXB9il2Tje3+MG9AkShf5iBUkQ/hslJYwsVjLaN5XogudVQO4/Hz98+iQ6szUqLgMlphqSEqsHLf2JAC39UeFz2tr2ftCIzdwNUszNzRbQDNOM1rjaKd+M5Dkfd/EB+VrlPwU6CqsO+hKy9OYYHBpSG4gcVx2V6LQZEhahEWEMmAbxAPf77fdt9FXxPO696tXmEePvKsQDYOCy9Fvert3wFVveYOAk5AMXxu5L9KEKHQUmEGYcWyZMLo0XAjpQPnhA2ATdBpU+1Ty/AS43pS9vJ5wd+gt8+t7/bfta7I0l4NxM2GXUN/p1BhLOJc9v0R/waxBH3XPhTOYwBnUUgfX89mEMwewYCln6cBINFCEVVxaSEsMY6xMmF5cUSRBwC+TeRAAG+1D2SQn875DteOo95/PkqeJR4T3gwewH3wff/xQj+RXlrusU+ovyxvW1EhgDB+bB84H8hyppM4w6qT+LQWlByz9zPsHzhzgHNXLvPijlH74WhAxt9Lz4FPrC5dHdfdf/BunuYMtcyX7J+cqqzYPSkdjk3lwffOzQ8hn8o/ziATAUphM+IVcWoRi0GRwaKxJQ6JrqdRQa9XUNsAk/BWcA8QDL95D0jN0V7Ljo5OXu4lX4Kd/C3uTebt+k4GTiN/oy+Bru0PKL6+P69CWnBXUNVxZZ+lsmwi3Iy587TgTfQJU+FTs9NmUxFi20J2Ah+Rm1EgkL9gI3+joKfwPu4mndtNg01RgKKwsSzjTOftAg1BvZON6M5Knw3/GB9aj+TgTTCYkO+hI1FlwYkhn5GeP61xnDGDUWtRJEDrAJnvq/Ad0GewH39IbwWuyV6LEC+N9W3JX2pdlz2sb8kPS6DQfmRuua8cv3Cv3sBUH+egiwFxwTj/ulIW8n0Sxt9NY1MzmaORgDBzVzMOArOSbDHz4aDRRTDXUGcQTa9trv1Puu5C7hrt3M28fZkOYOBnnVJdY92QgZ5dAf6YgV6PWB/GwCvwgwDcMfHBPrE/8NUPb/FLoUuhQcE576IQ4ECXEE3QZ88+33lfa88fzvs+0B68fnoQoW3u7bcv1gISXdbftW4+nnBu33+9D5D/+iAw4Gi+sp5ij09ReqHOohTCcCLIIvETIRMpYwsy4RK28nICOcHTz1CRK1C5gG3/FL+/z2afIu7zjsZOkL6MLlNQ8u4V0DON443vjf2+FM5gHrfxEy+OcDGAOnBRgKVuM1D2sQHQWwEL8PjNYSD/8N2Au8/wkEvP8G+6j3svuf83zzFfMk8trvbfvL6W7mJOSa4+Ay0eSz5hDqBu3f8Qv2nvoy/0kCKTU0HdIQxAqe+pcUCBklHjYB3vgIJ28nZOlWJPkgAx5SG8ItphNQ6DkYmAYsBGP+fPqEBeTzBBCa8fPrH/Cz7Yb3EPiz5uTlDRSV6FXqs+2p8N74S/sf4hgDHQVEB0kJGArTCV0KGAoJC4QMhAy1C9MJugbEA84At/1y7237wfrj+sfg2vZL9JXv/PY47FXqeOoYA9DrGu6p8I4QxvWV9qj3VfhG+Y/7hf6sABgDGfyhChwauhR+GKYauRvNHDQd7xyqHLL7khk5GBIWphMmEBwMYgXsBWcH7f5YATL/RvLj+iP5Qfca9fLyEPFy75Xv1Pup8Abts+aV9lrzt/13/4kAEwHOAEQAQfDxAL8BjgL6BAQQpwWe+n8DjgLxAGcAKe1SGwH5ewFj/gr9fPoj+dr2S/Sf81Xxy/Ao9CTyWvMEAnUUkPS6FK3yvPEcDIvyS/To9a35Y/72ApgGBAkJCxwMdQ2wF6XLFxErEroU+dH1EL8Pug0/DCYQcu9JCSYJ4giJBzUI5wM0HfYC9/u8+Jn4t/Yt9lD2R9Zy9ob3Afko+6sHVP+sAHsBsQI6A10D5wPH5x0FyQWG8OcDLf36EqcFwfNiBXEEGAPiAYkAmf+U/V/nAeva9l/11fTV9Br1o/UL9rf22vYL9kv0qxW1C4vyBvS39pn4jglwEsH6xu4YAyIHUwZTBmIF+gQ/BewFDgbsBXEEfxEYAysSiQCV6BMB8QDiAeIBnQE2AZ0BWAF0zFgBnQFU/wAAzgDmGH8Dug2B9f8G/xROCxwMhAzrDOEdF8nmCkQHegjOB0QHmAYdBaID4gHJBSIADg1j/jz8wfpo+Y0XY/e39rAXmvGB9cb1t/Z3+CP5rfmL+WcAMvit+Xz6BvsAAPL5svt1DQr9lP2o/nPaNgF7AeIB4gFsAhgD9gI3+rECoCY2ATQrWAFYAeIBPPwa9RMBRACmGh7+Xvx8+ov5mfho+fUJ7fel2Ub5BvumE7f9zgCxAgkEugYECQkLpgw8/CYQ4Q9Q9uEPSRBrEJwPIQ7/DckMX+6OAg4GxAOy9FT/xvzR5Pz99/Rp8rzxPhoV89/xfPM89W30o/XV7cQRRvk8/GYOZwBYAe33+gR1BmcHvPh6CAkLsAlrCdMJMAb/BiwERACsAHL9WAGj/DL4GvWL8tHkqPcR4zANgfXy8nzzX/XG9W308Acj+Tf6xvzK/prjewEe/qcFMAYiB1T/XQqhCk4LBAl6CHUGyQX6BLTY1xKnBSnmYgWa6r8B0wJy/dn9Lf0YA7z4mfgQ+Ab7xvUXERMIbfRC4isSmf9p5C39mf9nAEkCrAB7ARn8pwX/BuwFugYt9vjYhvcXGHEEXBFYATYBIgBB/s4ACCBy/WP3S/sZ/IX+0PnB+vL5AfmL+Tf6nvpL+yj7NRb3+3L90wKF/kMVBAIhHN7/0wJV+B0FX+7z3VXx+gS6Bo4CfwOsABMB3vi8/6j+jgKdAXf/i/ncDUkCTgRP/V0KMv/0Hjf6svs5GN74T/0y+Iv5IRza6MvwY/4wDQ//hf5dAyIAOgOqMV0DfiYsBHEEyv66Bs4HMA2IFb3qxAqTBHz6LATt/rUEEwGU/aTnhf4G+3z6Cv0y+Iv5Lf3TAm30/Pbo9RD4y/d8+qj+F8l3/3f/fwMAAIQFogP/Bg4GTgSwCdgEPwWNHnz69gIYCo4COgMSFjoDhf7TApT90Ou3/XL2Uwby8tDyJPJnB9r2/PYa9ej1N/qG938K+NhB/nEEtQS/CH8KTgTJDFMNPwzYC3ALjgmB9TUIWAEYA1MGHQWxAuIBPPzG/Cj7vwjU+9742vbB87L0y/eo9/oE6PUL9jfzC+hDFfjfKPsP/+wFJOvxAGcH7AXiCBMIZSpxBL8IsAkYA7AJICO946IDHQU6Cvz9OgMiAHEED//wDi397f737Tz1KPSy9Hf4kPQe91gB6PWy9JT9HBP89tr2fPqB9QAAOgNJApMLDRs47JMEPwxb10kQYQz/FI4JvwgECeAkcv1JAkQACv1EAFn68vk3+jz1+gut+bz/xvVy9uP6S/v3+84AlP239vEA/P0TAQ0iAuRJECwE2ATYBIkHXQP6BOUmUwb6BKsHVP97AQQCX/VEALf9LAQo+4H8N/pOBLz/fPq39uj8sBDCNK35PPXe+E/9UPbU+5n/9/vo/O3+Mv97AawAkwQ6AxMIKwva9joKhAyhCg4GZwfJBaj3T/2SEu3+d/+j/Iv5y/eG8Ib33vie+ov5o/V3+PEAxvU89dT7oCYOBnL9OSYcDPEAVP/EA04E8QBiBT8F4ghj9xMIKwsy+M4AUwbmChgDQf5f9d7/Y/eF/vf77f6F/sH61PuF/oHuj/usAC32gfxnAEQAS/ue+nL94/rhD2P+Cv1e/AH5RAAK/VT/h+JdAzfzmAZU/0v73QZJCdMJ4R1EB7oGqwcYAyIAnvriAfz9vP+j/Lz4qPeV9ov5vPgt9iP5aPlL9DfzvPjG9VD2AfLG/OEdhf4e/uIBRyzTAnUGxApTBkQHvwi1BMkF0wmnBYQFruuxApwPxAPSEH8KvwH3++j8AACL+Uv7o/xV+Lf9cv1e/IkHugZOBKP8JwKXFNIX0Ote/DQdQf48/LEC6edsAjAGY/6q1ELpWAgj+XoIXQoZ/MkFyQVnAPzvVP9nAN7/Mv/B+k/9/P0Q+BcRS/u8+O33Lujj+sH6I/nZ/Q//Hv5t+2P+1Pv8/ToDjgIdBasHCQRxBDoKcQTdBokHhAWiA7UE5wOiA7z/Cv1JAmP3G+A3+ov5KPuP+4/7WfoZ/I4QMviU/SP5dQ17AUH+Axc/BTYBZwBJAiIA+gQJBOcD/wYiB7oGvwFt+7UEHQVf59gE8A5dAwQCqwf6BI4CcQRiBQ//JwKdAXz60Pny8kH3o/xj/qj+bfuB/Mv3y/co+xT6Xvwy/wr9Qf4IIHf/vP/dBunurAD2AvEAxAOiA/YCZwc/BawAsQKOAtn9Y/4K/eP62vaG98H6BBCq2xT6xvwo+8v3Rvlt+4v5Luhy778BtQQEAkQAtBnz68r+Hv61BJcNMAYJBBgDMAZYCDAGdCI1CP8GqwciB6IDAesiB8kMZOlk4jL/dQbU+9T7mfgC3Ub54/qhEUH33v8JBIQFD/8YA3oIiQAsBDz8bAKOAjL4iQddCl0DsQLdBtMJsQI6A78P2ASxAn8DZwCZ/zf6EPiG9y32qPeG91D20daJDtr2C/YL9voEsvtG+eTsvwGo/rkbS/Q6A5/lhf7iAXf/zgCF/i395wPnA/YC9gIwBv8GPwV6CLjhiQflJuwFdQY50JvciQCxAhMBsQIIGawAd/+o/nf4j/uy+5n/lP3e/yIAOOUYA1T/XQMJBIX+0wL2AkkC2ARJAk4EjR7pNiwEaes2AVT/RACOCcr+2f2OAgQCrAD8/R7+GfzB84HuBvuZ+N74kPQt9q35Gfze+MH6svvG/Pf7hAwt/UkCt/3cG5cUNgG5xbz/gyhnAIkApwUTCFDvdQ2mDIQM8AddAwkL4gFe/Ab7PPxDFeP68vle/KP82f1P/bL7dQYG+w0ilyLTAucD7f4dBdwNsvS8/84APwVl1LUSogNiBU4EGAPnAxgD8QAnAk0gfwOxAp0BUPaxAjoRrAB3/xT6Hv6j/FT/8vJG+e8j/waj/HL9aPkg25gGfPoG+/f7BvuZ/0kCqP7hFp0BBAITAT8FXQPOADoDpsTU+3EEPPUV5asH7AVy/WcAVP+y9KwA2f1k4nUNN/q8+Lz4d/jQ+Sj7T/1mDl787f6y+xT60wLTAi7oogOiA10DtQR7AUkCkwSEBTAGSQKJANMCcQRwEuIBftBOBO7wD//t/gb7/P38/T8MbAJG8sr+T/0K/Yb3MvjU+5n/fwoK/SEV9/sQ+K35bfuB/KTnxANEB+wFxAPiCOsMiQCV73sBcvYYAycCwfq/AfoEugb/FKsH/wadAR7+cv0Z/Eb57umwF+j8aPm8+Df6aPl3/9D5T/0AAAQQWAgsBNMCXQN/A4kHRAddAx0FbAJ7Acr+Mv/OAHsB0wIAAOEPEwGZ/wAAd/+8/3L9Hv4iAE/9WAHk844CrADQ8h7+1Pt3+Jn46PUwBov5vPHG/G37KPtL7bz/4gFp5KsH8AeEBQkE5wNG6xgDHQUJBEvtqwfp7t742ASU/dMCSQITAfEAAACj/G37Qf4t/cH6gfwZ/Pf7bfvB+kv7j/sZ/IX+3/H8/YX+NgF7AQAAzgBj/tn9/P20J1T/RAAR46wABAIrGVgBvwGdAfEAMv9j/mP+7f6o/v3awfrxAB7+2f1p60/9WfpL+8Mfc+FTBoQM4Ra/CKP8BAmF/hn8cv3xAMQD7AWP+5MLcAsECWcH7AViBckFyQUTCFcPOgNdAwQCbAK8/xMB4gHe/5T9ge6F/gb7wt6y+y399/vG/Pf7rfmy+178Y/4z6kkCdBusAMr+o/yy+0LinvorEp0BrABOBDoDvP8t/ScCZwBJAkkCxu76BBgDRADmGE/9lP3/BtD5N/oG+0b5Wfqy+/z2Xvyy+4zkwfrXEm8n2ugo+6P8t/3OANMCxAM/Bc0V4ghqJeYKcAtrCWcHwfPsBewFvwH/BlMGmAZk8L8P9gLiARMBEwHe/4X+1Pso+yP5uRve+BD4qfAZ/GP+d/9+GBMBGAMsBNMCGucEAvYC8QCOAucDEwiSytMC0wIC3bz/1fTxAF/n0PkTAXsBmf/Z/ej84/oG+5T92f1B/qj+7f7Z/TUIi/l3+Nr2gfUQ+PL5N/o8/O3+4gF7AfPkPPzV7ecDNB3JBWwCJwLTAvoE7AUdBYgVegjwB5gGMAZo+Z0BPO5P/YH80wLU+27tXvxt9Mr+hf53/84AEwGt+UQA2f2e+hHchBMC3UH+mf9YAbUEYgXJBb8I/wZTBlMGjgIdBT8F9gLxAJn4kwQ6A6wAWAHOAKj+nB0u6DL/Y/6949ro/P0o+5n4phoL9nsBd/jf8UzYPPwo+7L7KPvt/nf/EPEsBLz4yQXTAnoI3v9iBR0FbAISHfz9hf4AANn9AAC/D50B7vA2ASIAY/5y/dn9cvYcE+j82f0y/xMBGAMk8nsBzgDK/l78feXG/F78cv1L+yIArACL+Q//d/+Z/0QAsQLOB9rvSQkECZgGRut7AScCCQSiA04ESQLhHZMLT/1P/S39lw1y/ZT9QffU+2j5i/lL+3z6Bvty/WP+6PyP+8b8lP2Z/44CfwOEBTUIogP2Ap0BEwHXEpn/qeku6BMBEwHxAHsBewGsAIkA2ARYAd7/3v+sAKj+RADYBHL9T/2U/WrWcv1/Cvf7weyo/t/jvP+JAHf/Hv4iB3UUvP/p7kQArAATAScCxAPsBf8GRAcTCFn6cBKEBWIF9gLe/6P8bftJCQH5qPfB+tn9T/23/WcAZwCZ/6wAzNR7ARMBjRdiBfEA3v/e/2sJbAKEBWwCS+3EA1/1xBEEAmcAT/3B+m37svuk7r3cxvxU//EAiQB95fftmf8P/znXt/38/fAHJR73+7L7qw5Q9rzxQf6j/ND5rfkZ/Nn9d//iAX8DWAG8/6j+Mv9YAeIBXQNYAU3RIgd1BqcFdQYOBnEELARdA4H8t/2y+9D5AflZ+rULd/9EAKwA6xO/AXUNewHTArECWAH/FAHymf8iACcC5wPYBOwF4cAJBE4ExANJAmTwrAAy/7f9Hv6U/R7+hf4P/yEczgCdAZ0BvwHxALfvyv78/Qr9vdy8+CP50Pny+Uv7dQ0t/XL9cv0t/dn9PwWz7YkA3v/t/jL/d/9EAJ0BJwKdAanwnQil2ToDogO1BMQDJwLiAczbzgchFWcARAC46FT/IgBEAMfnAACsAGcAqwcG9KsVvwFrCcQD4gF7AVwR8QATARMBjgJdA6IDxu60GWcAjhDe/0QA8QBsAkIqPefG7jYBhf5t+2cA6PXiAfYCd/i8/178FPoB+bz4UOjM1Hz64/rmEff7T/3t/t7/rAAnAnPoWAFJArEC0wLiAdMC9gL43+cDvP+o/k/9/P2Z//TWMv8AAMr+cv3o/F78Pwyy+/f7RAAK/bf9vP/mwl0DTgTQ+ckFgfznAxgDXQP2AuIBGAOj9WIF+gRJAuwFxAonAvEAy/cmEKwArAD87/PkrADxABMBNB3e+Mb8lP38/cr+yv4iAKwAhBNP/Z768vkU+uP6T/0P//EA7AWZ/8r+xArU+178o/w6A84A0eSxArECvwHe/+3+7f4Z/E4LCBnU+5T9NCTOADzuvP8AAJ76jhCB/FcPHv6Z//EAIgCa8c4A8QC8/576veo/BWcAcAtQ9s4AewGJB+IB0wLnA3EEPwUOBqcFTgSTBNgEOgNJAjYBmf/K/oX+Hv7iAZT9Y/7xAEkCJwLiAeIBnQEAAH8Rxvwo+wb7XvyU/cr+ZwCdAb4kLf3OAKwAWAEnAicCBAlEAJ76RACF/l/1DRT3++j8BvtL+3oPaxAy/8r+Hv5y/YH81Ps8/KP8t/2o/lT/ZwCJAIkAvP9j/oX+1PuU/WwCoQoTAWwCvwjOAD8FEwHOALECogPYBPoEhAXYBBgDXQPYBLUE2vbdBlMGOhG/AWcAT/33+178sBct/R7+hf4L6DAN4gjV9HsBEwFEAIkANgHG7r8B4gEQ+PEAfwO8/2cAsQIJBH8DGAMEAtgEMv+o/rf93BRL7ff7o/xe/JT92f05GO3+IgCsALz/3v+o/pT9EePU+wr9/P1B/tn9UO8P/9cgRACsAC7vIgBnAPEAWAHxAA0U/PYnAgQCJwKOAo4C4gEEAuIBnvqmE3sBEwGsAA///P1e/O3+vs5j/nnVhf4P/zYBJwJOBF0D2uisAIkAOhEa9QQCvwGdAVgBiQCJAM4AJhCo/msJQf6U/foLo/y3/R7+o/Xt/vz92f23/bf92f2o/t7/Mv+o/pT9o/zo/IH8/P3K/sr+mf+sAO3+0OvXEp0BNgFnAAAAmf+Z/2P+TRJnAPEAsQIJBPoEYgXYBOcD9gKwF3sB3BSdAb8BiQB3/w//fwqp6S39Cv3t/oH1EwE8/AQCrt0EAicCJwJJAlgISQKxAo4C4gGTCyIAcQRj/tn9t/0e/u3+mf+Z/5T9Qf73+237KPuB/C39awn8/UzmIgBxBBT6SRCJAOEPEwHxAKwArADxADjs8QDxAM4AewG/Ab8BbubOB2wCxvze/wAAj/uF/jL/Mvga54QFzOJxBLECJwK/AVcWd/98+lve2f0t/WP+o/wt/bz40Ply/e3+NgGOAgQCS+1YAfEAEwE2Ab8BewFYAfEAvP8wDe3+VP+F/oX+qP7t/gkSiQDOAGcARACZ/9n99/sAAHoImfhG+QHyvP8/BQkE5wObK44CWAHOAL8BsQKhGBgD0wJsAp0BfPoiAIkA8QBJAhMB0wJJAu7pWAF3/3L96PzTCWP+SRCiAwkE+gQsBEkC4/qo/sH6t/1iBaj+AAAnAmcAD//OAFcPDg3e/0QAsBDt9wAAvP9U/+3+Mv889fz9t/2rDmP+Rvnt/lT/o/VP/V78PPyB/M0jvw/t/sfnhf63/Z/lpgwt/Qr9Hv68/84ANgEEAicCzgBEAJn/IgBnAM4AzgAiADL/jNb8/WP+IgA2ATkmfwNdAyTrCQTL944CBvuwCVgBBAJJAkH3bALTAmwCNgGEDPEARABnAKwAWAFlI6sHRADa6AAA3v/OACcC9gI6A+cDTgRxBHEEGANYASIAvP/37e3+7f6o/tn9cv3Z/U/99/vU+6P8Lf3TCYX+yv5j/pT9qhxL+wb7hulQ9h73cv1B/oMhd/+o94cqKeZ3/1n6kwu3/cb82uhB/mcAGAMdBYbptQTj+oHuqw5y/YH86Pzt/mcA8QBYAcb1ZdsL9lMGqP5CKvEAiBzYC50BoQqB9RMIgyHnA+Ufver/BkQH7ff6BLUELAT2AuUfJwJJAqIDjgKOAgLWewEiAKj+cBkt/YH8gfwZ/Pf71PuP+/f7GfwZ/LL71Pte/KP8Cv3o/F78bfso+38Ro/ycDywEZwB7AWwC9gL2AvYCbAJYAUQAAACsALz/7f7t/u3+7f4P/7z/iQDOAM4A8QCJAAv27f4V85n/mf+6FJ0BewG/AY4CGANsAhMBvwhnAM4A3v/t95MEs+Z1Bgwp0PKa6ucDmuMEAr8BWAgiALz/Mv9j/k/9T/0t/ej8d/+f7Hf/ZwATAQfmVP+F/tDr/O9Z+tD5JgmsABXzCv38/fz9luGF/mP+D/+Z//zvNgEnAvoE+gTiAZ0BSQnOADYBnQHxAAb7JwIEAicCnQF7AWcAdBve/2cArACJAGcAmf+Z/z8TD/+L+aj+/P38/YX+3v+o/o0lJwLK/gQQAABJAnPoSQLTAjoDHBMG7bECSQIwDUfkAABU/w//mf93/z8MD/8P/5n/RABEAIkA8QDe/5n/fPqo/oX+Y/4e/i39Cv3L8JT9o/ynBej8Lf0G++3+vP8AAIkA8QBTBpn/Mv845d7/iQDQ+TYBEwHiAXsBAAAy/+3+lxvRJRD4rADxABMBNgEsBMr+lP0K/UH+Y/7IE5ISfPMiAEby4gHe/0QAX+6EEywEHQWEBckFMAYf8OcDSQJ7AYkA3v9EAA//WAgL9rz/YQz+Kcr+qP6o/m7mRAAAAEQAZwBG8nUNGfwZ/Bn8Wfoy/2cA9/R7AZD08QAAAHz6EwGf7DYBJwLTArECjgJJAuIBWAHM4hMB8QAiAMHsMv+o/mP+ogOU/S39Lf2z7ej8RAD8/WDg6PViBYkAkdiZ/3f/vP9U/zL/D/+8/ywE8QC/AQ//8QDo9ToDGAMM2p0BvwFJAh0FVP8y//f0VP+C4CIAkhlj/tn96PzYC0v7BvuW4dHk1PsJBMb82yKNHoX+AAB7AWwC6wwEAnsB8QCsAJn4bALEA9gEyQUwBj8FxANJAs4A3v8y/+3+xAM/E3f/4gGdAYLgNgGJAJn/qhxcEUQAZwB+GGcA8QATAWcAIgC8/zL/yv6o/nf/RAAAAHf/d//e/5n/IgB7AUkCaxBsApcNNgEiAHf/mup/Ctn9t/0f4uj8Cv1e/Pf7S/uL8uP6XvwG+yTyXvzG/C39Cv2f7IbpQf76Et7/zgC/AQQCSQInAov5Y/dnBxgDxAMsBBgDEg8EAkkCjgJJArEC0wKOAl0DCQQsBH8DGANsAokA3v9nAMjSAACJAKwAWAFYAc4AxBHt/mP+YNke/hruRAD8/b8BsBDiAVgBiQAiAJn/RAATAY4CEPF/A10DfPN0Iu3+hf5B/qj+hf6f8zAUvP+B/I/7N/rQ+dD5xAqP++IILf2wCXjqoRjj+n8KT/0Z/Nn9yv53/2cApSFEAN7/AADIGoQFJwKxArECs9/37aIDogPnA+cDogPTAhXzvwGL+Xfx5wMiALz/cvYAAGcAEOqo/rAQY/6F/vz9/P2F/u3+/O+8//3oRABEAPEAEwHxABMBvwG+Hb8IsQJhGqIDOhEo+10DXQMe93sBRAAy/4X+fwpP/U/9Cv1y/fz9D/+8/3jjiQATAfEAiQDe/7jo7f6F/rECB99y/S39xvyDGh7+9/tEAN7/3v+Z/+3+Y/7Z/a7dYRPt9wAAEwGSEp0BhvBYAR733A3EEScCewE2ARMBRAC8/3f/vP+Z/9D5qttj/lbOJPK3/ZT92f1B/jz8TNgy/2P3EwG/AUkCzgA6A6IDd/iz39MC0wJmDicC/P3xAH4m9ReC5+nunQEnAmwCSQKdAfEA/eiG6e3+yv6o/u3+D//K/qP8yv7t/isLqP5j/ojNAx4e/trvY/4e/vz9cv3G/Oj8cv1j/rz/EwErErECJhcj+c4ArABnAKwAt+82AXsBewHxAGcAAADt/njqqP6rFdn9Qf78/VcPQf7K/pn/3v/e/97/ZwCsAFrzkwTOABMBewGB/NMCEwGdAToDphN7AeIBwew2AWcADSIH5rz4Ruut8iIARADe/5n/Mv8y/0H+t/2U/R7+Mv+sAOrZsQJsAp0BNgGdAUkCJwJ5K3L9BALk3gkETgRrCWP+7f7e/44JzgCnBXsBRADQ+UH+lP1MLk/9Y/5OBEQAcAtEAAAAnA/sBS7vqhzZ/dn9qP5V6gAARACsACIAMv/K/kH+2f3Z/WP+hf6o/mP+Wuyg3oX+LARU/3UU8A5EAM4ANgETAe8cvwGb3CcCBALiATYBIgC8/9/jIgDW0YkAiQCsACIAIgAAAFXxqwcL70kCjgKG8CIHSQJy9kkCAfnxAEQAMv8AACIARAB3/w//D/8e/rf9t/23/ZX2t/3z3UQAt/0e/rULBvTK/rEC7f5u7bz/EwhEAEQAVP/2AovyiQewCYkAnQHiAeTl4gGdAc4A6xNYAVgB8QDe/97/RABnAGcAyQVYAVgBzgBa5cr+Hv7Z/XL9Cv3L8C39zRXxAFT/mf96CM4AH+nxAIkA8vmJALL0ewHiAbECXQM2ATjs9gK93KYMKPuB9Q4GQf5B/h7+ewGF/jL/IgCJAM4AzgDOABMB8vI/DBMBrADxADYBEwGJAAAA3v+Z/1T/d/8y/9royv5j/qj+mf/u4vEANgEB697/i/Jt+84AEwFYATYBewHH53PhEwHOAFgBEwGsAGcAvP+G6TjlJhdB/u3+d/96D7z/7f43+h7+cv0K/S39lP1B/g//mf/e/+TlZwDOADYBMv9nAAgZZwAiANwbAAAiAJn/Mv8P/2olVP93/97/3v9EACIADcx3/1/uMv/e/2cAphO/AVgB8QCJACIAvP9U/3f/AACZ/+3+Mv+Z/8r+WAgP/5n/3A1qLEkC2vZYAc4A8QCsACwE8QCH23sBewE38/EAbALwFXf/4Q/8/fz98QAe/qj+7f5U/5cND/+F/qj+mf9hDNwNGAM6A2nyGAOOAtMCFfO/ARMBzgAiAGnyEwiEE97/Mv8wDckMqP6F/mP+yBMe/sr+4RYP/1T/Mv9U/1T/Mv/e/4/7NgEU+qP1RAC8/97/mf8P/3f/ON7rE5n/3v/ODkQA8QB7AQQQewE2ASntkhIiANDyd/+Z/1T/qP7wDtn91fRL+0H+Y/5B/u33Y/4W1wvvZwC/Ab8BvwEW3p0BEwHOAG8grADxADYBWAGb3OIB4gGk7lgBwfOJAIv5D/9j/tn9T/0t/XoIt/0e/mP+hf6F/lbjD/+/Ad7/rAAB6/EAEwE2AVgBkObiAb8Bhf6hCsr+JwK/AdIXEwF1FN7/d/8P/zL/Mv+8/0QAluGdAZ0BnQEf6QQCSQKt8icCVeq/Ac4AIgCZ/+3+qP7K/g//PwVt9F9ED/8mCTL/mf+8/zYBY/68/yIArACsAM4AEwETAeIBSQKEBUkCYNkTAWcAvP9+GJn/d/8+Gqj+qP78/dn9T/0t/ej86Py3/d/xqP7t/mP+pwXe/wAArAA2Ab8BbALQ6ycCEwF7AaniY/5B/gMe2f0e/gQCVP/e/wAAZwDe/2cHMv93/97/IgBnAIkAIgCXFHf/mf/t/mP+Y/5j/g//Mv9/Cj8TVP8y/1gBMv+8/wAAi/nxAM4ANgE2ARMBZwAiACIAiQBwEiIAiQA2AZ0BewFa5c4H/P3xAIkAAAAiACIAIgAiALkbAADe/yIA3v93/zL/AyV0G3f/D/9G+WP+Wfpj/oX+qP66Bj8FMv8P/+Te7f51BoX+qP5j/qj+VP8iAPEAewGTBDUPrACJALz/VP8y/zL/mf+XIiIAPO6v1jL/2u/K/jL/bfuQ5qwAzgAb2XsBCv3xAKIDNgG44RMBzgDOAPEANgHJBb8BSQKOAo4CsQKB/L8BWAGsAAAAMv/t/vPdHv78/R7+fPNB/mP+Xvzt/pn/IgAAAAvvIgBEAGcA8QDiAScC4gHiAYHuNgFnAN7/3v/e/0QAEwGdAeIB6xMa9b8BWAGJACIAlP1xBKwAEwHOAH4f5hgy/6j+2f3Z/RwhogNU/yIAzgBXFicCvwF7AckFo/xYAZ0BvwEEAkkCSQJJArf2JwK/AQ0iAADe//ftMv/t/h7+t/1y/ZT9lP38/bTR7f68/wAAZwAiACntVP/t/oX+7f68/xcY3v9G6xwMqxUAALz/+gtnAO3+VP93/4kAmf9EAGolEwHxAM4AzgCp4jYBewF7ATYBGArlH97/vP/t/sr+Y/78/fz9/P1U/0H+ge7K/lT/EwiTC2cA8QCdAfEAnQF7AXsBewE2ATYBWAG/AecD0hc89XQbNgHOAH8RGvVnAM4AnA/f8bz/Vx2F/tn9Lf3G/DAG6Pzo/Ar9Lf23/Z/sY/5iBYX+d//e/1MGAAAAACIArADxADUINgF7AXsBNgETARD4GvWZ/1T/7f7K/u3+JPJL7cr+2u/8/UH+hf4JC1T//w2U/Xf/Mv8y/zL/VP8y/7z/2+HxAOIBBALiAb8BBAInAtMJZwCsAAAAmf93/zL/qP7t/g//KeYAAEQArADOAPEAEwHxAIkARAA6Ebz/mf97AYQFvP/o/GTwRAAiALz/Mv/t/oX+cv1R4WP+Vfgy/yIAaTO/Ab8BvwEnAicCyBPxAGcAIgAiACYQAAC8/yIAiQAC1s4As+a8/6ERD/+mEw//d/8y/zL/d/+Z/9DyVP8y/5n/IgBnADQdrAATAf8N4gEEAuIBnQEnAmcAfhgP/6j+0OsP/zf6HBOsAJD0nQG/AQQCyBMTASIAvP/e/wAAoQrrDCIAmf+Z/7z/ZwCJADYBNgE2AbAJrAAOBlT/7f7t/u3+yv5y9pn/RADOAKwARADe/7z/VP8g2x7+4gjK/jL/3BQAAGcAAAC/D5n/d/+8/4kA8QA2AVgBNgEYA0QAmf9p8lT/Mv8y/3f/X/XOANHk5S1SFFgBRAAj+Q//7f4y/+3+D/8P/1T/VP+Z/5n/mf9mFd7/IgCJAJ/lzgCJAAAAPwUAALz/RvlU/zL/D//e/wAAIgD0HmcA2f0iAKwAiQAiAAAAAACTBC7oXQoEAuIBNgFnAJn/Hv5P/S39T/06Ci39T/2B/PoL6Py3/cr+vP/xACcCjgLTAl0DXQP2AoQTJwLwDnjq3v/dBgAAmf+Z/97/sAmdAd7/IgBTBhMBJOQTAawAKPve/77VRADR3awAah7xAIkA7ff4LjL/mf+Z/5n/kO38/e3+9/vt/jL/D/93/z8TIgD/BqTuzgDxAM4AIgBhDJn/0wLe/2cAEwE2AdgLzgAQ+AAAiQciAO3+7f5xBFT/yv5j/vz9T/1t+9n92f087pn/KxnxAOIBbAKxAnf/XBi6Bt7/IgAJBFMNiQCG6bfv3v/wFRMBOgML78QDhf5EABMBVP+o/nf/RACZ/77VrAB7Ac4ARAATAb8BiQB3/3f/d/8a7qj+vP9/EesMVP+8/wkLdCkEAv3ht/3Z/Qb0ZPBe/I4Cyv6o/u3+fTQiAAkEewHOAN/j8QAy/+wFt/3t/g//axesAPzvEwGdAQv2DRve/0QANB0AAPEAIgDe/yIAewHTAs4AAADxAEQAZhVU/2cHNgEEAo4CsQKdARMB4gHxAEQAvP+k52P+JPJe/Lf9xu5XD9T7vP97ASYJIgcnAicCzgDe/zYBEwEV8yEVnQGsAAAAZwBYAQH5D/9EAIb3KwvSEMr+7f4P/5wd3+PL8Kj+t/3Z/WETuOgK/TL/8QAiADL/NgFsAiIAD/8U+hMBKPsy/wAAOgP1wR7+qtt3/zAGhf5JAg0bRAAiAAkSjgJt9L8BSQIEAhYtAAD8/QAAD/8JC84AmuoP/0H+Mv/K/kH+yQysAN7/Mv9EALz/hf4P/3f/AAB6CGcAEwHe/+YK3v+JAEQAfwqk7jL/Qf5j/k/9n+yIzSntrAA2AYkA0hCsAHAL8QBnAHsBJwKJAOcDnQEz6s4ArABYAYX+d/8y/1rzxAMB+Q//Mv/t/i32mf9EAGcAiQCsAHsBn+WdATYBewFYARMBrACJDmTw8QDaPs4AiQB3/8r+Y/7e/0QARAB7Ab8BEwG8/67dD/9U/97/RADrDBMB0wI6A2wCt+97AfEAEwHxACIARABnAKnwRAC8/5n/dQ0IIKj+Mv/t/qj+VP8AAEQAd/+8/3f/afKSElT/Y/7L8DL/wx+8/wAAmf9U/xcR5gq8/97/EwHOAM4AuhQiAAAA9gIy/5n/VP+o/pn/RACJACIARACJAJn/hf7t/rz/3v+8/7z/iQDe/3f/axfYC0QArADxALECgfzOAAQCjgIEAp0BvwFnANgLD/+F/r8IyQyF/mj5t/23/bf9Qf6o/sbuQf5j/mP+xvVj/nf/jgIy/5n/d/+o/lrsD//t/sr+vPEAAKwAtQR7ARMBEwGJAJn/yv7K/qj+KPsXGFgBt/adARMBRADlHwAAiQDxAKwABvvOAKwAIgAAAI3PD//t/sr+gja8/yIAiQBnANrv8QDOABMBrABk8CTkzgC/AeXXl8U6AycCvwFYAWwCvP8P/2TpvP93/w//nA+y9GP+/P0e/msQ/P2F/jL4+dEy/1T/VP+8/w0b3v8iALz/d/+8//EA8QCJABMBWAE2ATYBBAJ7Ac4AiQATAVgBPPydAY4CJwK/Ac4AIgASFlT/wxh3/9roxAPK/sr+qP5j/qj+vwHt/mP+xvz3+x7+uhQP/97/3v/Q8gb7WAjxAIkAzgD6BPEAzgAo+4v5AfmJACIAKPtiBQ//7f5j/tn9HBNy/X4mHv68/97/mf9U/97/cva8/z8MiQB0GzYBNgGdAUfdzgBYAawARAAy/wQChf4e/s4H/P244bf9eg9j/jL//Pa8/84AEwFB8L8BkdhnAI4CGAPsBY4CBAInAuIBEwHf8eIIzSNzN97/6xOJAM4AKPvxAIkAo/zvzawArAA1CFgBNgFJAi7h0hAf4hMBzgBnAGIFIgBU/6j+At3Z/cb8rABsAo/7KPuV6NT73Qbo/O3+hf4j+VMGMv+Z/97/AADmCqwAFTvOAPUJrABnAFIUvP+Z/5n/VP+Z/6TntCDSF38Kkwuo/uAr7f7t/sr+VP8AAGcAiQDOAM4AuRtYARMBBvQTAXsBEwHxAKwA3v+Z/+AkPwzK/nf/IgBnAGYO4gFsAtMC9gLy+Y4CSQLiAZ0BvwG3/aj3nQGsAPYCOgoP/6j+n+wOBpT9pgzZ/XL9lP0t/Qr9Cv1P/bf9/P1B/u3++gvOAL8PvtWsAM4Ai/I1DzYBewHiAXoPyv4EAlgBNgEsBLz/yv55JIX+rfn8/WndYQwrEg//VP+8/5n/d/8AAAAARABnAKsO8QBz4awAQfe/CCIAAAAH2DL4RAAAACIAvP/e/7z/ewG8/xXzY/5EAN7/5POo/qj+qP7K/qA07f4P/1T/7f489UQA+hJnACj0rABEAN7/VP8rC6j+Y/4u6Lz/ON6JAIQFvwGdATYBEwF38XsBvwE47OIBvwF7Ab3jewE6EWTpIgC8/1T/Mv8y/xHjQf78/ZT9lP38/cb8D/8IGUQAEwGdASIABAIV8wQCjgKxAicCnQETAVMNWAFf7vL5vwGa4xMBNgETAawAAAAy/8r+Y/7K/g//VP9U/8r+TgT6C2IFcvZu32P+/P3XIDz8Qf5B/gr9Y/6F/h7+lP23/R7+Qf4e/pT92f3Z/dn9Y/53/xvgEwFYAXoWJwKQ5nfxWuzOAM4AzgBEAAgZmf+8//4i3v/qKJMLWuWZ/wAAZwBYAeIB8AcnAp0Bt/2sAEQAAADe/2cAzgB7Ab8BJwJdCmwCC+8nAgQCnQEEAuIBnQF7ATYBsAm/CDYBewEEAuIB2f2dCGAhMvhEAGcAnQgSJIX+Qf6sANn9FxG3/RwaETIu6JT9ryWf8y39T/3H5ysSWAgt/Qfmhf5sAiIAiQCsAPEAby7e/7z/RABnAIkArACsAAHyAAAAAEb53v/e/0QAZwDJDEQAfPq8/5n/mf93/3f/IgCJABMBYNkEAkv7XQNxBLUECQTYBF0DCQQ1Dy39Ke089Y4CsQInAjL/wx88/MkMcv2o/qP8gfw45VLMkhIZ/Bn8PPzG/CEOT/2U/XQbwyYy/yIA8QA2ASEOjgKOAr8BEwHOAKwA8QAXEb8B4gGdAeTzIgC1BDL//P0t/YH8Gfz3+9T7Xvw2AV78Bvs8/Bn8PPyB/Oj8Mv+RJ44CRAB7ATYBogOEBd0GCRKrB5rqZwfEEUQHIgcwBswqewEYA50BrADe/w///P0K/aP8KPs3+mj5egh3+N74Udq8/9HdfPrj+qcF1Pte/Jvc/P3iCAAArACdAWwCX+5/A+cDCQROBKIDVtyOAr8BXQoTAYkHEwHOAIkArABlKkQAIgAiAAAAAAC8/3f/VP//FHf//P0iAPftRAB3/7z/RAATAZ0B4gEnAtMCfwMsBHEEUPaDGsQD/P1sAicCJwJsAmwCSQITATL/lP3U+9va4/qf87oGFPry+WTplxSL+Wj5WfoZ/C39cv38/Ybw7f5OC7z/5hETAeIBG9miA8b8cQQNG7UELAROBBgDJwLiAXsB6PysACIAiQcTCA//hf7Z/XL9xvw8/Oj8Cv0iAPz97f4955n/vP/y+YkANgEnAvYCxANxBI4Q+gT6BJMECQQJBHEECQTnA50BOgOOAp0B8Ad+GOj8YgU8/Frl4Rbj+uEPPwWP+7L7S/tL+0v7/Pb3+8b8/P3K/t7/zgCdAScCKPRJAiXWXBhJAuIBJwIe97ECjgInAuIBewHmChMB8A51Brz/yv43+qP87ttQ9tT7vh3u8Lf9Hv5B/g//mf98+sgTRACsAHPoEwH6CwQC9gKOAtMCGAN/AwkETgTEA9MCvP/hHTYBewEEAnL2nQETAUQAVP9G+R7+Hv4e/kH+Hv7Z/ZEumf+B/Bn8gfxU/3L9eSsy/wAAZwDxAFgBWAHiAScCUO+/AQQC4gFYAb8BkhIB+QQQiQBL9DYBW9c2AXz6zgClIbz/D/+o/vz92f3Z/bf9t/0e/lgIY/7t/sr+/PaTBFT/WvO8/0QAEwH8738D4gGj9eIBWAGdASnmOgNdA/AO9gIB+bECSQK/AfEAiQBEAEQALf0nApMEd/+W4R7+tMr/Bgr9xvxU//4isvtt+9T7uOGU/QI6hf4y/1cWvP8iACDUvP/e/2cAzgCb3J0BewFo+c4AzgDxADYBEwGC54firABEALz/d/+SEsr+7f53/wHy9gLe/4kAY/7G7kQAIgBnAGcAZwBEAN7/3v8AALz/3v8YA6wArABnAEQAiQDOAM4AtCfOAM4ALxvOAOj1RADe/5n/mf/e/yIArADxAEQA8QBU/3krphP8/Yv5VfHt/i32Uw1f51T/Qf7u8Lz/vP+8/wAArADa9s4Alw2o/okAIgC8/1T/D/8P/zLxd/8y/1vemf9EAEQAIgB+GM4AVP/t/sr+Uw0P/8r+hf4P/2AorACdAZ0B1fRiBWwC4gGdATL44gF1BgQCG9l7ARMBzgCsAIPSrADOADYBWAFYAS8iEwE2AfEArACJAHf4WAFU/3f/qPd95cr+hf7t/u3+yv7K/nzzD/+lIVYkhf5k4oX+yv4y/5n/3v8iACIAqipnAJ76zgDxADYBWAE2AVgBXQqdAVgBewETAUQARADe/1T/T/38/Qr9gfwe/mTiyQyj/Mb8T/38/WP+Mv/e/4kAEwEhFeIBsQLTAmwCbAKEDOj1SQJe/BgDsQInAgQCbAIYA10DHBqOAicCvwG1C84AC/YiAJ0BrAATAVgByQwnAmny8QAAAMr+Hv6U/UH+Lf3o/KP8o/yV6IH8XvwZ/Nr2mvHj+uj8lP3mCkH+qP5U/2cAWAFmHEkCSQJJAnsBzgBEACIAd//f6t7/VP8ODZn/d/+Z/9rvPeBU/w//yv6o/h7+qP4y/7z/Jgne/97/Zg53/5n/iQA2Ab8BvwG1BAQCSQKZ+I4CsQJ6FqsOkO1sAlgIbAIEAgQCBAKOAvYCGAPTAlgIBAING/EA2zCZ/1T/D/8z43L9cu+j/KP8Xvxe/Bn8PPxrF5T92f18QnL9t/0e/kH+7f53/5n/AAAiACIAJhdnAEQAAAAwBokAZwBEAAAAVP9U/8r+yv4y/6cFIgAAACIA1eb42FT/nBYV8/f0VP+cD6wALAS3738K/P0TAbQZ4gEEAr8BnQF7ATYBEwEZ/FgBWAGdAeIB4gHU+zYB5hgTARXznQE/BXsBNgFf5xMBiQC8/w//7f4e/pT9cv3Z/XoI2f2U/XL9lP0t/cb8KwuP+4/79/s8/JHfkO2o/gAAzgD3+xMBWAHG7hMBzgCJAOP6y+lEACIAvP8WJg//D/8y/1T/KPsy/97/ZwDxAKwAiQBQ9s4AiQCJACIA3v+8/x7+IgCJAKwAUwbOAGndewGhClgBNgE2AZ0B8vkTAZ0BBALV7SEO9gI6A10DOgMYA44CdQZEBxMBNgF91/EA3v9cGBIP9B6o/g//7f6aOVT/+gu3/ckFBAmXFPz9hf7t/jL/D/9U/1T/7f4P/1T/pgwAAGETVP/t/qj+2Avt/rz/IgAiADPcRABEAIkAVx3iAScC5gpJArECkO2/AXsByQyJAEQAS/ve/97/KxlU/8r+Y/4e/tn9T/2j9aTubfQy/1T/RyzxALf2JwIEAiXdvwHiAeYRBAInAkkCuOi39p0B1t9nAN7/mf+EDAAAd/8M4R7+cv0t/U/9t/0o9M4HT/0K/Uv0t/2rB84HMv9U/1T/zRwy/zL/pgyo/qj+Hv6U/Qr96PzG/Ar9veMg28r+RABP/VgBnQHsBf8G0wLa9joDGANsAuYRBALvHM4AkwSxAiIAX+43+rQn8QBa8wAAVP9U/7z/i+sy/78BQf7t99vTH+LxAJ0BnQE2AZ0BnQEEAhrunQFQ9l0KRADu263yvP+8/5n/d/8P/8r+EwhB/oX+qP5XD2P+Qf5B/oX+D/9U/1T/VP8lJXL2lP3b06j+yv6o/qj+S+0y/7z/Xvwy/4X+/P0e/mP+7f4y/5n/6PwiAEQOiQDL6RMB0wmdAQQCJwIYA6IDsBfnA3UGbAIEAs4OWAE2AYkO5Oy/Ab8BNgGJALz/8A5U/97/veMa58MmQxUXH2j5iQBB8J0Bc+Hu6RgDsQKxAqj+SQKdAcHzICoz6t7/vP+Z/zL/D//t/qj+hf5j/kH+Qf5XHcr+yv7K/sr+Mv8y/0v09gJIz4X+JhBB/hId/Pa3/bf9Y/7K/qj+dClj/sr+VP+8/2cArADxADYBEwGOCWcAIgC8/7z/pgwXH1gBewE2AYkAdQ2sAEQAzgD89nf/Mv/t/sr+qP4y/3f/d/+Z/wAA3v/e/yIAzgCQ7eIBbALhFo4CbAIEAjYBVtz/DTYBewHxAKwARACk597/IgBnAHUGd/+rB+3+VP93/1T/vP+dCLzxVP+o/vPrHv78/WP+Y/5B/mP+hf538eUf2f23/fz9rflj/ogVAAAhHPEAzgD5IPEA8QDOAM4HNgFYAXsBWy0EAuIBvwFYAVgB+gTxAIkAiQC8/+rZY/5j/t7/Hv4XyY/77f53/7z/kwtQ6CIAEwG/AdgE4gEwFOIBnQG/AcgaewFYATYBxAOJAGcA+SAiAAfmVP/b2pn/vP8Q8UQAYRNEACIA3v9U/zUIMv/rEw//VP+XDTL/sQKo/u3+D/8P/8r+qP6a6jL/Mv9U/97/AAC8/97/qw4P/1n6D/93/1T/VP+EBTL/qwe/CCsZMv+Z/2nrAADe/1T/MBRu7SIArACsAM4AEwF7AbL7WAETARMBphp7AS7o2u97Ac4AzgDxAHoWrAAAACIAIgB3/3f/mf+8/yIARADxAFMNKPSa43sBVP8EAlgB8QCsAKwAXQOJAB/wAADe/1T/ZhUC3ZT9nvoe/mP+Uw2F/oQMlP3Z/bf9Kwt3/wQCawn8/TYBNQi8//guIgDG/AAAAADe/2cAPwxEACIATSDe/zL/eg9P/VT/7f4y/3f/FxihER/iVP9U/wAAWAEW3tMCOgN/AxgDeg8nAuIByQXiAdDyTguOAmwCWAHbMDANqP5j/tn92f10Ih7+mf9B/vz94giF/kbymf93/wAAiQBnAEQAAADYBBIWFPp/A2ndwfNU/+3+qP57AS8pFt5B/kH+FfP3+/3hmf8P/zL/Mv/nA0QANgGYBlgBnQG/AZ0BewETAfEAZwD/FGcA9/SbJDL/vP8iAEQAAAC46CIAZwDOADYBkPTiAScCJwIEAr8BCv1cEe7w4gFJAmwCBAKdATYBEwFJArz/VP/K/ofUcv3o/Mb8uga3/ZT93+Ny/XL9NQ9nAIX+yv4y/yEO3v9EAGcAQf7OAM4AWAGSIBMBWAHxAKwAZwDRz9MJAAC8/3f/sBBa8zoKD/8iAIkAWAGEBZ0B4gEG+xMBzgCJAEQAIgC/AaTneOoAACIA6xprECIAvP+V9jL/VP93/5DmvP+cFkQAiQA2AXsBBAJsAicCewGsAAAAIgCB9WcAZwAiAAAAd/8rEsr+Y/78/R7+JOvZ/fz9oN6o/rUSZg6F/qj+HQXt/qj+7f5U/5n/IgBEAFHaRAAAAHz6qtTt/uTe3v8AADkYzgDOB84AzgCsAPEAEwE2Aa8eWAF3/1gBvwEnAuIBewHOAAAAmf8y/0Hwyv7t/u3+yv7t/lT/IgCM5EQAsQJy/fz2IgD3+2sXvP/dBgv2rAAiAKwANgFYAaERNgETAZrq3v/t/sr+7f4P/zL/VP9dCoX+hf4ODTL/d/9TBiIACBne/7z/vP9U/1T/VP/e/0QARABnAIkAX/WsAIkAad293MvwvP8AAEQAzgATARMB8QBEAEQARAAiAEQAZwBnALz/d/9U/zL/3v9EAGcAiQBOC2cARAfmEc4ARABEAI4QKxJnAGcAZwAiAN7/5SZOBHsBrADOACIAaeuo9w//d/81CN7//w21BKwAiQBEAGwC3v9C6Q//hf5B/p0B7f6B/A//7f7/FHsBVP93/3f/d/9DHKXSvwEiAIkANgEz6p0BnQGsAEQA3v+Z/1bcAABwErz/VP+U/e3+Mv90IlT/Mv8y/3f/Mv+e+iIAIgAiAN0Gmf/e/9bfRADL8OXQj/uJAAkL8QA2AZ0BPPwTAYkArAB7AU/9JwInAofivw/OAAAAd/+Z/zL/7f6o/qj+yv53/97/iQcAACIA3v+P+3f/vP9nAPEAWAFYARMBiQBnAM4AzgBSFI4QNgHgKxMBzgAiACIAAADNHGcAIgDk7FT/qP6o/jL/Mv93/zL/VP9QPlT/d/+8//QsRADH2QAAAAC8/1T/Mv9U/5n4Y/5j/ob3hf57AUv7mf+8/wAAJwJEB5n/d/+Z/3ALAACnBS8bIgB3/5n/mf+8/yIAhf4iAI4CAABnAM4AzgDxAAMeEwGJAN7/AAC8/5n/AABnAOsTIgAiAGcAZwCJACntEwHrGr8B4/pYAVHhUhuQ7T3gvP+8/wAARABNIKIDAAAAAOwFbfs2AYkHmf+j9e7wjORj/qj+qP7t/g0Uyv5U/w//VP/mCg//1xmZ/7z/AACdATL/wfNU/7z/vP+Z/1T/yv7K/mP+qweo/u3+UPZ3/7z4mf+/Af8GEwHxAHL2ehadAeIBBALiAdn9BAK/AVgBEwHOACIA3v+Z/97/Mv+Q9EgXvPF0zCIARAAiACIAZwCsAKwAqwfV9GcA3v+Z/5n/vP8L7zgtD/+o/mP+yQz8/RbeqP7t/kv7fPMAAPEAsBB7AfLyMvGdAfEAvhbIGjYBzgCsAPEAEwETAawAEh1nAIkAZwAiAFT/4gEAAHAZpO7K/sr+vSu8/7z/vP8AABn83QbOADYBWAETAZskAAArC6j+XBiF/sr+iQ4y/yIAiQBEACIAIgD2AgAAAAC8/97/1t/e/97/Mv9U/7z/W9cSDwAA3v9U/zL/uOFB/noPQf6sADYBewFgKCEcZSp7ATYBvwG/AXf4EwETATYB0hDOAAb0mf93/w//hf5B/vEAqP6j9RwMBAky/34f3+qF/sr+Mv8g23sB3v/SEAzTHAyJAGcARACJAIkAZwCL6yIArACZ+AAA3v/f6obpJwJnAIkArACsAKwAiQBEAHf4VP9U/zL/DRRU/5n/qPeJDiIH2f3OAPz9Y/5Q7wAAZwDOAPEA8QB87DYBrABnAGcAAAAiAN7/vP95Hbz/IgBEAEQAZwAAAC7vhAysAM4AZwDe/yIAAACZ/3f/Mv8cDA//vP8iACIAZwCTC78BBALiAVn6vwFYAXsBWAE2ARMBrACJAPUQDg3xADYBWAGdAQQCewFnAAAAVP+o/mP+0sFB/qj+uhRU/7z/mf//Ddn9Cv0v06oclP301usaqP71EFT/cQT96AH5VP9iBQ//d/93/5n/IgBnAKwAEwETAS39xApP/UkCWAFYAVgBewE2ATYBEhZL+84ACRKsAGcARAB87CIAnvrxAPzvRAAJBJ/zIgDODnfxAABEAGcAnA82AVgB5PN7AeIBNQi/AZ0B8QAYCgAAvP93/3f/mf9V+MHzIgBEACIAZwCJAEQAAAB3/zL/Mv+o/sr+yv5B/h7+/iL8/ZT9cv2U/ZT92f23/VT/8QA1FgAARAB38Zn/Mv+Z/6j+d//e/6wAyBMy/97/lP0AAO3+3v/j+hgK1yDB897/yv42AQAA5N7OAPEAewGJAE0ZIgDe/y8iVP+8/2cAKPRsArECQf5sAiwE0Osy/zoDGucTAW30zgC1C5n/t/3t/jL/Dg3K/rkbD/+F/tDrhf4Dz+YRd/8iAKwArAAp33sBvwEEAlgBn+Ut9sQD4gGYBnsBEwGJAEQARABIF5n/2ujZ/dn9YRqU/YX+uOixAg//oRGF/qj+yv6o/sQDYOC/Aa8erADy8s4AEwETAUgXAABU/+3+XQOo/nf/7xzOAAQC0wLTAvYCQfD6BBgDNgGdAb8BNgEXEYkAvP9U/x7+wuVnAC39Cv1a8+j8Lf0Iyuj8OgrG/GnyBu0e/mP+lP2U/dn9ViTZ/XL9cv2U/ZT9MBT3++P68vnEERD43+Po9S32Mvie+gr92AusAIQFRkGwCWEMUhsXEcQRdRTrEzAU1xKo/isShAWf838KegjYBCcCzgCU/U/9bfvt95T9fPNp5EQH9/Ta9oH1GvXV9C32HvexAq35j/uj9U/9Y/4y/2cARAATAWwCmurEAz8FZwe/CCYJGAoJC6j3vPjnAyIHYgU/DCcCEwGZ/zoRHv7G/J76vPh3+Ib3xvXL93LvI/kODfoEN/oU+jf60Pny+RT6j/vf6qP8T/0z6mAhhf7f8YX+Y/6mDHL9t/1P/dgExvyj/PoE6Pzo/E/9cv1j/t7/ewHTAucDHQU5GKsHNQhu7X8KTguTCz8M/xSG8MkMcAvk7BgKsAk6CuEdOOXiCM4HpwWxAvEAsAmj/Ab7FxHTCa4zi/mt+X8D8vIZ/Mv3ge7t/uohxvUe/i8pLf3G/JcbcAumDHf4BAIe/qP8BvsU+tD5+gSt+RMInBYB+TL4fxEQ8VX4d/gy+NroN/qH24Hu0Pm8+Iv56Pyt+aYMKPvQ+Yv54R1V+IkAQfeo9yP5gfwP/44CpwU1Fk4LxANmDs4OnA8iALUSIRV6FgMXEhYwFBgDeOOTC2sJegiJDv8GhAX2Arz/OgPB+mP+3vgB+VX4Bvte/F78S/ue+nz6wfo8/O3+8QDiAW/YPPyrBwza7f6L62P+D/+6DWcAIgB3/0kQo/wG+/L55OV8+p76fPry+QH5tBke97f2YgW39u33hAyL+Wj5RvkB+VX4/O+L+Xz6fhgZ/Bn81Psy/4/71PvU+/f7TgsrEoX+TgTt/uXX/P0K/Uzfxvy3/bz/nQF/Az8F7ffG/BMIfh/k3uYKyQwSD7AQj/uwEKsHUw0wBpMLehZwC5MLKwtdCiYJRAeEBVEw0wLmCl0DFxE6A10DSQITASsSyv4t/Qr9ZOnG/PAHgfw8/LL7JgkU+tD58vlDI+P6S/sG+xT63vjL9/8UQfdEADL4Afkj+Ub50Pk3+pgGbfvU++j8Qf4P/3jqmuMP/8MY4Q/Z/ZT9t/0e/kH+cv3o/Dz84/rj+o/71PvZ/c4AFfNxBMkFdQY1CI4JfwowDeEPsBDEEU0S0hB6DyEOpgy1C3ALKwuhCtMJ3A2EBT4aewEiACEVRABnACsZAAAy/x7+T/0Z/Pf7Xvyj/GsJhf6j9d7/3v/t/i39Y/6F/oX+hf6o/h7+cu+j/Bn8KPsdBVn6weyZ+C397feo90H3Qfdj92P3/PZj96j3nvqgH2P3Y/dj92P3Y/dSGwH5QfedAff7PPwK/bf9Y/5j/mP+afK3/QkLHv4P/yIAvwEYA04EkwQdBWAhDgbdBjUIawke92EMUw2u69D52AsJC+EPOgpgIbAJBAlhE3LvdQZiBY4JWux/A3jccBldAysZewHe/x7+6Pw8/Bn8XvyB/JcNQfdqz1n6aPlYCEb58vk3+nz6cQTB+nz6N/qWKRT6o/UG+7L7o/zG/B0F1Puy+/z29/te/IH83BTU+7L7AfkZ/F784/pe/IH8xvzo/Dz8svso+5768vlnB4v5i/lt+/L5nvqy+7f9d/+sAM0cGAO1BOwFqwdJCX8KKwtOBJcN3A0L76sOIQ4wDWEMPwz6C5MLoQrTCUHwqwdTBj3nvwFdAzoD0wJsAuIBEwHe/5wdlP2z7aP81PuP+9T7S/ue+hT6rflG+Yv5QuIG+7L7rx5e/G37HvdZ+uP6S/vU+xn8jOQJC0v7jhCP+y32PPzwDoH8gfwe/o/7kiCC2cH65wMy/8H6WvMG++P6wfoG+9vhj/uj/HL92f0G+2P+mf9nABMBsQI6A8QDtQTJBVMGEwjiCLAJTgthDI4Jlw3cDSEViByEDJML5gp/CkkJegiJAD8FTgTEA9MCsQLTAp0B8QDe/2Twhf4/BU/9Cv1t+yj7nvoU+nf4RvlwCxn8vPh3+BD43viZ+Aggle9b3kv7GfwK/cr+mf+3/VT/j/usAKwArflL+3oIuRuo9/oEuhQK/U/9lP0K/cH6Cv0U+sb8j/tt+xIPXvwZ/ELicv0K/R7+Qf6U/aYTJR7e/yIAQfcnAjoD5wPnA/oEWAjsBUkJoQrTCdIQsAmXGz8TkScmCWsJ9QlJCUkJ8AeYBskFtQTG9aYTltonAuIBWAFnAIQFd//JBUH+t/3o/NDrPPwZ/NT71Puf8zz8xvzu4k/9cv1B/tn92f0hDl78GfzU+178svtL+zz89/vU+/f7vPFZ+o/7N/pG+b7V4Cup8Ab79/vU+6P8gfzG/Ar9T/2U/W7mCv2B/C396Pzb4aEY6PzZ/Tz8muMTAdMC9gL2AjoDvP/EA7jopwV1BnoIJgnxAC8bEwjTCRgKjgmwCaj+oQpdCgQJvP/OB3LvhAXYBF0D9gIEAvEAL9qvHh7+Lf3U+0v7fPrQ+XAZug0o+5764/pL+44CXvw8/Mb8Lf1P/TL/gfW8/4kANgHe/7z/2vaB/Dz8PPye+sH6FPpo+dD5buZo+cv3sBDYBJ764/qP+178T/0ECYQTY/63/Qr9T/1P/R7+yv6o/vz92f3Z/QHrRADxAP3hSQJ7AXsB7yOV6GcAruurB78ILynhD10K0wn1CdX0XQqhCl0KGApdCrAJMv8DHjAGhAX6BKIDsQIEAokAMv+F/k/9XBFhE0/9NRbo/J0BAAAp7Qb74/o3+troegg89Y/7EwEo+3f4I/mP+0kCI/k3+ov5mfh3+AkLi/l8+m37QxyB/Pf7nvpt+wb7Bvse9y392f1B/oX+Qf70z0v7j/tTBpXoS/so+/L50PkB+a35fPqP+63yZwCOAk4EmAZEBwLWeghrCU4LYQzJDHUNMA1f9ZMLCQtOC8QKGArDH0kJJdaJB0QHMAZwGbPtXQPTAr8BEwHj+mcAbAIy/6j+cv2j/Dz8KPsG+576vh0U+pn4AflnAC397fcB+Xf4kwRJAkb5QfdL+0v7OhGvHhXlZSro/HL9xvyTBAr9gfwZ/IH8cv0o9DL/qP7iCBXzo/yOENvaj/so+/f79/tt+8H6FPqL8oX+iQCxAsQDLAQb2RIWiQewCSsL5PMSD44QiBVrEOEP8A7wDokOlw1TDT8MKwt/ChMIYgX37SwEkPSB/HEEHQWOAs4AAACF/l78Cv2cFuj8t/23/YH8T/31EF78xvwt/QH5EiRe/G377yOB/EIqMv+8/6P8KPsYCq35hveG94bwAfkB+QH5Rvn96KsH/wZB91D2o/Ut9kQO7fe8+Lz4i/lV+Kj3S/R43EHwX/U8/BMBmAZJAjANhvf/Df4b5hGEE0gXNB0lHtwbJhe1EokOFtfdBvUJhAXECo4JqwfrEwr9AfkQ+FD2/Pbe+Df6mfij9aj+KPQG9KP1rutwCxn8t/0P/5T9ZOJP/aj+PeDe/40XFfOdAeIBvwFhGmP+CRLf8Xf4y/ce95wPS/TB82306ect9oH18vJf9Rr1+hK88W303/Hf8bzxpO4k67fvLuja6FrsbfS44cQDTRlNIO8jfiYL9owsUTB3/wc1JOuCLxsoAx66FDUIZwcJBFgB2f1y/YbwWuwf6bPmkOaz5joKzgdf7jzuX+7u8CcCRvmj/DL/rx5j/joDug11BhgKGApwC9gLqweV9u3+y/Dk5Y0X1yBj97f2T/1/CvLyPwyo9wHyKPR8+tr2C/bG9ej1X/V88xXzC+/96GP+WuX/FKTusvsz6qnps+288acF3BsCLIY/3QYt9kFG90NkPz09pD3kO1rs6PyqHA4Gy/ce/gvoKeZ88wLkeONz4a7dx9lW3GTiJOut8joD2AS+FvEAPwU1CBgKIgCOEN74phPSEP8NKwvdBiwEyv43+rL0d/HG7jjshuk95+YK6edk6UQAKe3e+LfvafJa8wHy0PLp4KP1cvaB9fzvaesu6CDUY/fH51rsEPFt9CsSGAqV9mcHPiGdCIZNclOFVEtR5N4Q+No+BzwfOGj5eSQo9Pf0axC+1WXUOOwM2szbON4b4MLeUSlu5l/umfhTDY4JDg06ETAUNRbDGGEaEPjwFdIQkwuYBtMCGfxG+V/1X+4B66TnnBYR42TiM+M45YLnx+ck69DrQfCQ9C7vHvfTAhT6N/NQ9iP5mfjo9ZXvx+cz49vhYOBiBTjshvCZ/63yy/Cy+7zxeDJwGcQDXWeYY6NZRvkVSQZDWjuMM2sX9gJiBW7f6ecSJEjIyMtv0ff0FxgR3BbeFfM47AH5CQRrELz49RfXGQ0bPhqmGuYKEhbcFDgtfwpdA0H+MviL8vftc+iz5h7+kO0M4b3jKeaC55Xom84y+Gj5nvrj+ov5mvE8/Hz6xvVf7hDqaeTe/1bcM9x1BkLbUdqb1dvT4gGXFIQTd/8t/d7/cAvLRoBg4/rz66oju2oKWuNJ0DoqLg0itRLZ/aniCMrEu+G5ocJdClHavPGe+unu0Oty/fAHTRISHe8jZSPvHKEYSBdB/jLxqwcXGF/1y/BQ73zs6e7L6SntrfKf8/f0/PYy+IH8d//2Aj4h7f4cGhD4PPza9ij00PJL9Ivycu946o4CluEl3fjYsvS42tHdTN+H26rbB9995XLvqenK/tMCmAZXD3kk90NAWw5qRGt95TJViQ6lKD4okiB6FkkJMviz337JMMUDyK/PFt6k7pX23vgTARgDBvSOEOEWSB60ID4asBD1CVgBT/2y+8b1zgDp7t/qB+avLDjsn/OB/Lf9viQmCbULMA2mDEkJwxgXHx0FewE3+j8TVerECtron+XH59XmBAIL7yYQH+I38ynfqem375XvQuk94GYcuhSk5xDxAflOBFDoGAoECZIZ3zneVYBnCQuiYAH5lP3cFH4mHAxEB/EAn+WEBT8MOsI0xwzaWuzQ+ecDqPf3+zAUNRbDGAQJdCK39prj6wyvJdIePPXf45DtyBNC6ZDmn+W945Xot/06A/UQLxuqHC8bNRbODkkQJwInAtT7nvpV8cfnx+Bp3TjeB99k4m7mFeyQ7eTsweyJDovry+lEAFXqs+047J/lX+cp5iTkeOqp8DL43v9e/HsBgxo9PSNW3QY2ZW1YfEnCNHQihBOXDasHMv9883jcasjmCq/Ix9mJABD4jgLB7E0SAxcV5c0c1yA5Ji8ikhl6D/oEvP9V8d/q0Osp5n8R1eb45lrlmfjL8FT/xvzcFP4blfae+kb5PxM/DE4Eo/y3/YHu5OWW4fPdbAIC5ELiwuVlKng5WuyL+TANsQLL8A///O/B7OcDWuyC5+Tl3+O46Mfnbu1y9qj+8QA1CNcg1TxZV0pm7GkxXHsBwjQDHpcNPwVH5BD4TOYq2GrIOclW1cLlX/U47PAO0d3rGjTVORj+G+rS7xwcGhcRiQcQ+PLyEOrz5CTy2+GH4qniveMJBL3qvw8EAokA+RkIIC8i0PlmHIgV8vJ5Hb8By/d8+q7kXB+R2PjY/dqz38fnLugB8gvv6e6gHwHyKPTa9kv02vZf9Tz1lfYa7pDmmAZxBDjliQ6z7ZHRfPNZ+lcWODsoWM5r5nUEbUv7yQX0JWcAXQoP/3oI0eRqz+nu/sX+0+Aro/xJCesT8+SII9cgPiEnAo0XVw/6BG37hvDV5qniluGz34fiN/Mk5BDqKe2L+bz/8AecDzUWYRocGi32KiCWMLoUIgCJB+P6hvC46JML5de+1bTYd/8f4mTp/w089cb1awkmCfoEpwUiAPL5AfIl1vjmC+jy+W7mEOrC3kfWR9a8+PAHd/hU/3sBUhQ8/DtgCXb/fxh1lFpuQ1YrXvyf89gE0hDt9+/NOrs/vdLIpODD0BgKJhfbIgHy+Sd+H8r+SRAV8xId1xJG8u8cvdzu27TYkd8u6MH6fPO39vL5IgAYCh7+1xnrGu3+YRMcEysSHAzdBj4atCDWJ3UGTOYR47USNQ8U+lDoM+r87/f0FPo8/FT/xvxo+TPckPQL79Drlej45r3qwfof4t/jW94R3Knih+JC6Yb3GAMEAggZ2jfoWY/7EOoG9PthxApvJ+3+AtZvIHLvW95qyIm4tbV6wBMIlw2XDSP5pShHLEcsad1gIdIephp1FB0FUPbR5I4QPwX0zyDUR92C5ynt3/Eo+7EC+gu6FBIdOR9IHqwAvhaf87AJ9gKiAwr9mfia4xXzVepdAx/iegjL6bPt1e1y77zx/O8t9s4HvP9nAKj+JOuo91/16e4a7gvvmvHu8P4biBVu35vcNNXH2ULpY/eEBXUNAyVXFtvhBBBcETtnGVIbNhwaqwfa9unnOddDxsMY2yJJAlbVFewJBIQTIgdk6cc2pDZ5K6j3UhR/Cp0Bo/wL6JvcQ9Q01cvpNNX/FCYQiQC3/b8B4gigJvz9CCC/D/QelxsYCmEMUOhB/nzzfPMu7+7pbu3t/tcZHQXNHNgL2u889Ub5GfyF/nsBkwTOB/oEWAFG+Wj5gfVV8fzvge6L8v3oxvWe+gLkbfRM2G7mTgQL9n8KiBVVOXFaCW/ceFNxhAWy9DYByCH/FILnW963/UPGZr+0GbnT2ujYBCEVdClM37z4UPaqMWAh9RAiB0H+1fTB7Fveah4o9MPQtQTR5NgLAAA2AXoIhAxwEhwamf9mHDf6JhfrDDoRvPh38Ybp9RBC6ZXvC+jz5Frl9gJQ70H3xvwy/3sBrABC2wAAYgVYCCIH3QaiA/jmugZ3+BDq3Bsf6f3oTRme+nPoqP4V5V/nLu/iCCsLKxLG7v03hk1iYuxp52CQSgAAZg41Fh/wB+aj/KYMvs6II3nO/drG7msJVx0vKVrs3QaRLmwC8BUrCxMBNQ938d0GJd051yrYad0G++7wnvonAoH8rfJp5OsM9/SSGRwTug0iB3zzaPnL9+IBQfCC4J0IsvR3+CTyLu9f7rUEwfNy9mP3I/nB+qP8Y/68//YCRAciB6YMt/3a9msQ5OwmCVDvMviR3xDqQum44XL20d2u5IHu9/ssBEvtby6ySjtgxWenYnxQ4gEXGGwCge5y9jjswt6f7KYTzcZ51WTpOgP1Fyon6i9b1+UtyCEhDtMJogPK/jz1i+uk4C7vUdrt98LehumQ9F78iQCZ/y7oqwd6D+sMcu9f9UkJfwMOBvYCvP+F/qP86PwG+7f2RvLp7jjsge538VrzAeve+HsBxAP6BFgI9Qkf4kQHAADt90byBu0z6prq8+sk6xDq/PY1DzL4L9ru2y7hqelo+UkCzg6p8JlOJ2YmdNNtOOxVQEMjXQrZ/Uv0LugAANHPIcaDxEPUgufZ/cgTKiAgKv0wqjEqJ28nMAZYCFgBrflG61gIAesDHr7VtNidAQvoC+90G8r+VP/vI90GYQymE4vyqhxrF4QMTgsDHvPksvtXD576bfSp8NXtH+lk6fPrt+/G9aj3fwMt/fz9hf4iAOcDugadAVgIPPwk8vLymvGV7y7vxu7B7AfmB+Zj/lIiuOjG7rf2+guo/mUjfEkAZIRwU2pKWPM6ZhxV+CP50PKWKbf9R9aXzLkim85f56nwhAXwFe8cphNpM7MuUiISFisLxvwEAm378vJ95Vve0d0DHu7iAeuy9Lz4KPsy/7EC4ghTBnUUtNirFRwTnA+V7zoKwexk8ND5qP4a9Xzzy/CrFRn8eOqZ+Ebrn+z879X0o/yF/qj3qP4YAxIPqP5e/K35C/ZOBG7twfNa5QbtWuyC51rlx+CW2nL2eOqj9dgEi/lq1oBZImuTCwQJFfPzM9wbxAovG6j3hum3/RzLQfevyFHTjOTOB38R3+q5KdwNzDFTDZskIRyZ+JcNxvxXHYQM6eD01tbRL9P42Pjf0SVf9Wj5iQAiB2sJvw/rEz8TYRM6EQ4NPwyxAuj8RAAG+w4NSRDV9KnwZTEG7XL2t+/p4Mb1Jgnj+p0BSQIf6X8D+gS1C6sHrABXD9T7hvcB8ln6TOaz5k/9dNPR3TjeRvlR4eEdi+ty79siS/Qxao4Q525jVCntjR6XDXf/xvVmHILZZc3mwqsOqP7u2/Ly9gIlHoH8xvz4NbgwdQ1XFl0KXQPf6o4CafIH5lrlt/Zy/XjcguAL6Jrx1PvTAk3K/w0SD44QtRLXEo4QJhfdBhMBaPnB8yTyo/Ut9sHzrfIL78bucu8L75rxgfwU+tIX6Pxy/YX+4gH/BhgKaeu1C0QHXQOSGcb1hvAV7KnpIQ7R5L3jzOLV9N/qUO8mEF/1Lf3o/Hfxz08PY6Ju8WRwEpsyPxMXEe7iguff45vV0c8gzcjLb9G96jfzgfUcIUczHAyCPa4zpSH/FBMI7f58+kvtC+8V5eDcfeWW2hbePiHSF5X2Lf28/z8Flw0j+SEOcQTODusMOgosBPEAhvcB8vzvpO5xBNr2N/qj/CYQnQE3+rz4I/nf8UMVkPQZ/JcN9/tB/p0BJwI6A3EECQRYAU/9aPmmGhrueOq94xsoX+5B8K7rGuet8tT7S+187BgKEiSL+bxOZOKySl/1lyLrDLf9CQTJBT3n/eGb3MfZruuW4QvvuSIJEsMfOR88/D4ojRcIGdwNsQJ1Dbf2AfKP+1rluOHTAr3jB+au5NrvqPdB/qj3xAqXDf3oZg4ODcQKnQiEBXsBcva8+OTz1e3z66ER6edZ+rL0zgAEAvAVTgQwBiwEoQpmDqYTHv4XEaYMqweOAl78i/ne+BIdvPj39GcAvPGqI9vhn/O8+KXSWvNB9w//Mv/o/Eb5qen39Ivy7vCG6Zn/fd5L7UH+OgPMMS32fEKpP5E1zRVrCVIb3BS6DScCfPrTAgzhoQov0y/aZhUj+YMafwrsBUMVfPNEDtwNJwKhEVwRlw16CAQCi/mp8N7/AuSp4vPkUiLQ66nw/PYa590GcAvhD5X2/xQhFdcSsBAcDDAGmf8o+0kCkPSG8OnuZPBL9DM5HvcvG5IZyv646Lz4JwLYBKcFAfkEApT9AAC39sQDHQVTBlMGN/PnA10DewGF/oH8j/u/D7QgXvwa7k/9/xSP+84HfOxxBIH1nQj0JQkEn/Oj/Fn6vPgJCwH5pO6u69roKeaM5K7k5OXrEwkLQfe/D+8q30Do9QtMS0NlMUgevw9nB2wCi/k89aTux+ez384O4Q9p5NXtlfaxApwPVx0rCxIdyBoDF+Ak3A1hDPoLnQhJArzx5PPB7PPkkd8p3/3hlxQG7Rr1fd5OBI4Jpgy/D7USZhVrF/UXVxYXEV0KjgLQ+d/xAevk5f3hYOAYCqnin+XL6Xf4/w2dAeYK+hKhGHz6ZhzDGD8TyQzsBXf/d/jy8tXm6Pzf8UHwrfLG9d74o/x7AckFsAnrDA4GJhDwDtwNXQpu7V0DLfaF/i39j/u8+PQecvY6ClrzOhEG+0/9IgDEA90GawnmCg4G7jGdCOwFZg42Ad7/Mv8e/vz96Pxe/Ar9Hv5wC/EAjgL1CToDsvsy/wr9le8t/dvaHQVP/ZwPBvue+n8KUOhB93PoWvOG8F/uFexV6obpIgdy9gkSy/eTBPoSwx+dCDLxaPl38TAU2AsECfz91Pue+tgL/eg384v5/wZB96P1lfYiAMb8d/HYBGcHIgfsBbUEmupYAWcACQtcEfEAkSddCnEEJhdxBEIqWAHe/6sVLf1wEhT6axBG+Z76/O+8//z9jgmU/QkLsvte/EH+WAGiA5n/4ggdBcH69gKJALAQj/up8Ev7OhFdCrL7BvtwC4H8lP2Q9HsB5wPYBAkE8Af1Ccr+T/1Z+qP8lP3t/gAAvP+/AV0DAACEBfoEOgO6Bhn8dQYB+Tf6S/vG/Nn9vP+/AfYCXQNt+wkE5wOxAlgBzgAL9lDozgATAQQCXQMdBSIHvwgECW30KwumEzUIDgbnAy8bNgGiAx7+PPzj+q35ZwdV+Iv55wNB/hvgcv1/AxD4OgOOAo4CAfmdAWcAn+wt/Z76vPjt9wH5Afmo/tMJaPl/A1D25wO1BLUEAfmxAgAAgfwB+V/1uhRp8kbyn/Nf9RD4Gfx44zUW3QbiCOII8Af/Bv8NcQTj+jYBAADt/k/9S/Q8/FXqGfxB8Cj7cv3JDN/jN/OOAhgD3Qb1CYQMdQ1TDfoLqP4iB9gE9QmxAr8BzgC39uP6Mvj6BO33s+1OCwvvS/sP/0/9D/+/ASwEDgaQ7UkJJgkiB/YC/P3Q+UkJEharByj7vPhV+Hf4I/kcE5n/8QCYBr8IJgnwB7oGhAUJBCcC3v/8/XAZQtsU+vL5wfo0HYvr6PzxAN7/WAGxAjoDOgOxAvEAqP5EBysZI/l3+Hf4AfkECfz9bAIrEqEK0wmwEFwRvwh1DSYJPwX6BNT7t/aL8pXvn/PxACTkVfHQ+aj+s+amDLAQfxG6FFwRuRsB+ToKYgWhCp76LfZa82nyJhfy8gb0xvXt93z6Lf2Z/7EC7AW96isLAAAy/zoKqwdEACcCUPaZ/x7+lP1y/V0DCQRTBsH6ogM3+vL53vhV+KwAMvgy+O338Ac3+qP8wfp8+iIH4gjrDJ0IIgdiBd74JwLxAJn/Qf6B/Cj7S/vo/O3+ewEp7S328AdJCWsJ4ggH5sHzcBIYA7jh3v8M4bUL+OZj95X2Rvme+pT9rABJAvf77uJTBlMG+gSOAmcAyv63/Vn6t/Z8+jf6OhFt+wr9qP6Z/5n/3v8iACIAnQFdAwkEYgU3+t7/D/8y8TL/hf6o/t0GNgHTAgkE5wMk60QAhf4K/Qb77ypo+cH66Px3/78B5wNdCp0IiQeJB/8G2AQEArz/6Px8+iP59RAj+VHaMvFp8i32Bvve/2IF0wnJDM4OgtmL8n8RpwVDFU4E2u/e/8b80Pke96P1GvVf7oQMd/je+J76dBsy/+wFSQlgIToKOgoECb4WsQLOAGwCjgk+KEQAMvgNFIv5Bvso+/oE8vl3+DL4RvkG+xr1gfyo/ij0TOY6A04Egfw1CGsJawkbL1gI7AX01s4OrACe+iP5Bvtt+xn8xvzEEZrqY/53/0QArACJAKj+GvWo/mcA8QDiAbz//P08/Cj7mfjYCwr9XBHcDe3+AACW2l0DcQSTBF0DvwE2AVgBWAGIxu33lP1JAl789B5y9vYCEwHe/4LnqPdnALz/7f7Z/SXdQf5t+0v7svuy+xn86PzZ/T3gtQtYAb8BEwGZ/zL/2f23/fz9EiQe/nUGd//OAOP6ogOsAHUGx+CrB90G2ATiAeP6Eg/ODvz9/P3xAGP+d//xAJDmvwG/AUkCnQEiAGP+T/0e/kH+Lf2y+zf67fct9i32TSCt+T8T3A0K/WP+VP9nAPnRphqJBzUIIgd6CE4ElP1nANwNt/0t9lT/zgBk6dMCJwLiAScCGAPEA+cDKxLEA44CzgBU/w//mf/0HqwAAAC8/97/NgHTAiIHhf6iAxgDWAgAACP5VP/OAGwCCQTYBJMETgQsBH8DbAIy/97/t/33+44JN/rj+hn8yv4sBBwTTgQsBOcDOgOXIgvvAADe/4kH6Pwo+3z6rflo+d74Hvc6A9DymvEu4V/1i/mp8AQCcQTdBsMYCQvB7PoEKwu/CKcF+gRB/jf6jgIa9bL0ZPA89eTsVP/RLI4CX+5JAoH12AsIIP8NYQwa7mIFjgKhGKj+AfKo/hT6rfnU+zz8bftk6Vn6jgK46IzdLAQJBOcDGAMnAuIB4gGsAGP+svsB+YgjgfU89e3+3v+P+9r2zgDiAecDN/rhD/8GGfx/A/EAQfBL++j8oRGy9OTzwfN88xn8wfOj9aj31eZ8+hn8czCNF7oGjgl/CtIe1xlsAjUIPwUcIaAfY/6j/Cj70PkB+Wj5wfpP/c0jRusiB6IDtQs/DEkJDg0ODX4Y+gt/CvYCpwU/DA//xvyP++P6wfrB+ij79/vo/Kj+8A7OAKIDqxVdA/YCJwK8+L8B4gEEAhMBluE6A4H8j/tv0esTsvsK/YX+yv5U/3f/d/+JADYBewHxAKwAVP96D0/92At8+mAh9/sG9F78PPwo+8H6qwdP/aj+hf5L9J0Bi/KdARMBiQCsADYBc9oTAVT/PxNwErf9T/0e/sr+3v/iAX8D2AQ/BTPqmAYnAskFtQROBKIDNNV7AZMLyv5y9hMBy/DiAQAAPPV3/xMBDRQ6A230OgOxAgr9LylM5uYRMBSsAEQARACo/i39Xvyy++EP2vYR46P8RvJj/g//AAAiAAAARACsAHsBWAETAb8BnQEk8qwAAACsAEQAjgLTAnsBFx/C1237rfl3+DL4d/iOCckFMv97AWwCxANxBMkF4Q8iB+II5gq1CysLo/we/usTGfwe9y7vuOgp5p0B4gj50VbONQjvzczUbt9t9GEMVtzTCY0XNCSzLvAHvw8DHgc1jDMIIDg06iHgMlEw+gvqKC8itBnSEAQJnQFQ72nyFezH5xXlqeKk4Cj00d3g3P3ac9rM22nd9B4vG0LiKebf6uYRFfNj92P3FtddAzAG4gjECtgLpgwwDasOeg+rDrf9PwwJCyYJIgff8XEEJwIy/zz8nvrB+uwFxvz/DR7+ah48/Hz6vPhnBzz1n/N+GFrz1xnL99D5xvxEAE/94gjlyRIPy+mp6VMG5hGYBtIXOOV6CGIF7fc2AawAVfEQ6mj5X/UB8jzu7unV5njjbu0L79rvVuMC5HALn+Xa6GEMN/N3+O8qLARmDskF+SDRJWAouSnHKPz9uSmiA1stwi1qLAIsmysMKRgD1xlNEisLxArG/M4OX+4a5/3h4NxR2gLWoNBSzCbI5cnvzfzvG9le/MvpEPHL9178JwJB8NgL/w3ODgkEvw96D0QOweycDwQCoRHEEbUSdQYwDVwRtQTODoLnTgurB+cDpO7o9Ub5CCBG8qnw1e0B6y7o1eYdBVgIaxff6jjsfOwp7W37Gu5SGxruGu487rfvd/Hy8rL0gfVy9h734/qy+8r+RvJ6CJcN+hKSGfUXuSlwC5E1HziEvbg3nA/kNK4zawkSDzkmB+ZIFyEOogOe+iDNi+uM5Aff/dpC6Sj7ad1g4O7iveo45YMaj/urDlrlTOb45rjomurB85rxt/Yt/RgD4ghEDnASphPXGUMc0SXbIg0i1yCV9lcdxBFwCx0FWAHu29D5t/bk83fxGu696nPobubk5Y4CR+QC5DPjXBjR5LPmhukV7JXv7vC0IHzz9/SV9u33I/nu6R7+sQL1CaERORiu5Pkn/TB3/1n6vEc3Se1G8+trF8c2UTCR3+EdhBNYCDLxd/+G8PPr9gJwEi7h7feq2y39X+6l2Qzax9nH2ZbaZdvM20fd1t8p5v3okO2a8XL2PPwdBQkL3+qSGQMeEdyDIZIg7xy+HdvTAxcrEg4NZwco9Fn65PPp7gHrPeep4nUUZdsq2NEl79Rt9IzWB9jH2T7LYOB95bAQxu7p7qsHfPpqJW/KMv9YASwEawk89X4YbyC0J8ItrjMkOh8/bkMV88r+szz9N4wzGy+0JzkfqxUODSwEXvwa9QbtLujIGqox8+vH2W/YfdcH2G/YPdnb2iDb7tuM3SnfZOLC5ZXvUw3u8Mb1lw36BNwNvhbSHhYm4CvlLZcNCCflHxwahAVEDpgGD/9Q72TwHMtC4szbOdfQ8kPUdNN00xgDYNIQ+FbVKtgz3LPf0eT39EHw7ffxADoKlxS+HaojnvrOANo3AUEyR15LckzySHxCFTvuMW8nUhv/DWsJMvgV84QTKPRL9NDyMAbB7MfnUeEb2fTPSMjC3lfAw8Llyanwx+D37WnkQfdrF9IXzCpC6XgyZTEbLxErVtVmHLAQjgJe/Djsn+Wz5njjpgxp67QZWAH37Ybp3+Ou3XL2KtjB+j3Z29pU/68eJOvL9ywEiQ6rFU0ZqP4l3YQTMA0V7O3+3vik54b3MvGDKJcNGfy4MBwaYC/89tBB3zllKusTD//k7GDgR931CZXohf4rGSou0EEYCiRBUTdy9mEaPtJTBlvejc9+Hy/M5de9427tiQ6L8vz9cv2t+aP1C+9G6zkmCRIe/vAHVw9DFb4WNRamE1MNd/+JAPz2CQSrDkbrEOrH5z3n/ehp6zLx2u9f5zoK/egV5RHj7uKa43jjvePwFYbpGu5p8gH5o/xB/tn9VP8dBX8K7f6EE9wU4RZNGaj+zDhQ6EBb2f18SWUxMBTnA0LiDNp43K7kxvUL738KGyi/D0geQxU89e3+o/zW0fjmruSC4B/i+Oao/gv2xvwJBBMI9/TYBBDx/P0Z/Ab74/r1EKIDtRI8/H4Y3BtSGzUWNNV/A3f4PO7V5n8DLuEhDrjhAuSM5EzmVepp69MJmur96LjojgnB7HoIKPSR2KEK7f6sACIA6wxG+bL00wKe+gvv5PNZ+gAAegg/E97/kS546iTymVz92tvhkSeEBd74aevz6+j1T/2TC/QeKi5HMyAqSB4cGiP5CBl3+EHw/ejz3XnV79SH2+IB5Oyf8zf63v9sAl0DfPrK/inmJwKu6xgDOgp6D3AS1fTqIb4WS/RJEBDqEwHt99rvi+t87AAAn+x87Cj0y+mmE+7wYNmvJarbm9zrDPAV2+HC5Yvr3/GZ+M4AEwjwB84AMvgk8mTwJPIj+YMoZwdTDcQRDSLzQWolcv27XKIDzRwsBIbpLu9R4R/w8vmQ7RIWiCPH55Igkd+wF0fknQixAvz9LfaG6RvZFtB00zPcfeWp8G372ui3/SnmewFnAPAHKxLG9e7bGue1BOYK4R1JECEOvwiJB1gBFPry8qTuGvWYBkvtQfDhFjfzWvOQ9JX2UPYV80Hw/ei941Hh0d2u3ZHfDOHz5JcN9/T8/ToDbfQTAej1cvYa9Rn8UeH1CVcWnBbL9+IIXXXTbRT6Gy+TBIH1bt+M5Ivy3vhj/r8IMBS+HV0K3Bv+G0gXmf/wDk4ET/0Q6mDZyMuDy7nTpODk7GP+RAchDjAUFxiXFC7h8A46CrQg2ATsBboGZwcOBlgBtQQwBtgErflV+F/ukOZ44/3hjOQnAiTr3+ou6C7ouOgB6zzule+t8vz9muNG8gbt9gKu69XtbfS6Bsv3UPYL9vz2ZwCj/GwCLARCMbAJ7ukIGZXvu2piafxTTDWrBxMBFeyQ7Tf64gFOBBwMJhChEY4QfxGEBcMY1xIcGqYTHQUk8njc4M4cy0QOkwQ950byEPg3+tMCqwfiCCYJPPX6C9/xeg/hD84O/w2hCkQHsAl1DSEOcAvJBSYXIQ6G8Abt2ug95yTkc+Ef4q7kZhUV7GXN3vhL+4X+2f0Q+Dz1WuyM5DANZOma6nz67vB38RDxfPNG+S39GAN43DoKUw2G6Yw6QxWV73ALS0plKj8FeONz2gQJQfDu4pDtWvM3+pT96e43+g0bWyYgKswqQyOSEtn9qP7g3K/WfdeZ//3ole8Q8Y/7AflB/voEJglmDsQRVw9hDH8KxApTBvEAMv+Z/2wC+gRwGdn9mfiQ9CP56e4a7nzsuOjOB3jjUw3C3kLic+hu7d/xPPX89gv20PKEE2TwkPSQ9BDxZPBf7kLpzRXk7Pz2ZPAU+kv77ffOB3oW/wZUY3V4XBE7YFX4kdiOENcS5POU/bz/N/PrGpXosBCt8pwWnBZdCocqdCl5JOYY8Ace9yTrh+Ip35HfeOOQ7WnkpOf37YH1bAJwGfoLPwyTC/UJnA/YCz8TxBHwDvoLNQhJAm37lejG9fzvfOwB600ZkOY6Ed/jWuXV5lDoJOt5JJbTAfko+ysSkPTa75/s0Ov37R/wluF5HewFKPu39u7wJOtC6Qb0JPIo9B7+1ti0IGNNRGt/deduXvxuNeEPQf61BNwNCQT/BpbaMBRJELjhrfnEEdIe+SBXHRIdzRWZ/6sHGAMy/wv2hvBV6h/i/O8DF33lX+7a9jz87f5o+d7/OgNW1X0tehaZ/2P+/xRhE6ER6wz1CWIFJPKG8K8lDOFC2xvZpdnk3oLnAxck8ovyXQpo+XTTt/bo9SP50Pmo94bpafLk8/QeLAQ3+lrsC/Zp8obp2+Eb4KYakO3V9HUGpOeaR0geNmzB+kpY1TwgI/AVPhp5HaEKwfMz6oPSZc38/VIiVP+YBuIIKwuM3RwMXQphDE4LcAuwCecD7f5G8hr1n+Vp5G7mEOra71/uBAIL6O7prfKZ//jmugaNF2cHCRKZ/+wF9/uOEAQJewEB+TLxRuuk5z3nzg6V6NXmleiZ+Hzsle8e9wb7lP1hEyj7i/ko9C321fTL9635buYQ+BDx7ukcDG7t6eCG9wHrs+0o9Mb1/wZo+UtKrF1C6ckF9gL2AogjtCcgMaAtcBmU/dXmzNu42lHT2va39qj3QfCz7e7wMviJAJgGtQs/DMzbUw1/A1D2T/33+y39XvxV+FXxug1z6Ljocu/e+AAAMvH2ArECfwPQ8k4EXBG6FLUSeg8/DOwFEwFP/Qv2khKu6zPjjN0g2+7bhAWp4kb52uhp6zzuH/Ay+Oj8RA4y/5T9j/sB+bf2Zwc38xDx5OUo9IfiUPYK/XkdPO6/AcMYDDd883dOEhYBQfg1ljCf84kH8zMYCjf67ffQ66XZkd9C6WcHbfTrDMfgDRtz6LfvVfgAAMbuqPe3/fEAD//wFeIBPxOy+xEyS+3U+8H6awlL+xT6hvdL9KIDpO5t9PL54gFTBs4HEwjmEV0DEwFdAzoDcv3u4jzuBu2Q7bfvOOVt9Cj0d/Gf86j3Wfr3+/f7j/tB97zxKe187HzsEPgQ8YvyxvW8+CntMv9B99/q1fQt9ucDqfAzOVpCaUGzPEQHZwDLPzdJhAXC1+8qYRNQ9gHyrut/EVXqd/GQ9G30+Ngb4JcbOOya8Qb0UOjk86P1lP3EA04LMvhcEUkQDg2dCKIDW97K/l78pSjG9enupO5f9ff7iQC6BoX+qP66BoX+At2o/kzmcvZcH7fvs+0G7dXtaiWB9U0SxvXnA1X4C/Zy9gb7JPJp5LL0uOik7mnybfRG+a359RcmF1EpsvT4LlDvCQQB8lT/kObIGokH4gGXG74Wyz9pQfdDJEhJAn07gi8u4ZcUGAPp7jUIsBDp5wzhINuR2DTV/tNsAv3aKd+p4u7phvBy9pX2y/AcDIv5IQ6u6yYQ/O/EEasO3v8JBBMB2uje/3sBewHSHhn8svt446j3vPje+AH5ON7Q8vzvX+7k7Bru4gE383L2AfnB+gH5y/dj9/f03/H37QbtDRTL8J/zGvWB9eP6xvVy9gv2AfnB8zz1rfkG+3L9NgGcD0glyBMfOFU5KTxaQsFCVUd3Rx9GqT/pNnL9SBdrCb8Bs+Yk8svpG+AQ6tHkb9iW2kfdqeKC5xXsMvGf87z47f4EAk4EogOnBS/a7AVEB/oEqwf89j8Mzg5EDpcN9/S/CB0FWAEK/bECafJ87G7mZOLC3pvcOhEb4IfiPedJCZBKrfIt9vz2RvnG9aj3Rusy+CP50PkG+635aPlG+V/uC++Q5rAJG+AQ8Ybw2u/EETz1Lf396OsTlxsDJW8ufTTMODNAOELBQotB+gszOVstgyjvHBwawezOALz4OhG46BMB2+GB9Rvgc+Fy/TPjcu+z5qTnrfL37T4axvXL9/f7RAB6CKsH+gvhD7USyBNmFXASyQwk8iYJYgUP/7z43/Ek69HkLuEp3yYXcvaq1F0KUdrW3/3hmySk7sHzmfgB+Tz8wi28/6wALASvHjUI0wkEENMCkwRnAB7+KPu39j3gIRzk7GnyLugt/dMCoQqM5FIbbycWLTg0PTbR3Q4GLfZfPf03lxShClIilxvEEV0KyQWB/Mv3H/CL64LnJORp5Ib3zOKP+7PmJOv01jUIbfT89tMCd/ij/GP+EwGiAxbXUwa6Bpn/4giJB3UGcQSB/J0Icva88ckMzRW3784O0OvL6bPmruSj/LPf8vkf4njjjOTV5lXqX+7B81n6nQFTBr8IcAtwCwkLxBF1FLAJHQVYAcr+RA4B+QH5y/fB+tn9NgGEBVMGKwsmEKYTUhulIaUoguCJDt/xWzT9MEcs9gKqI+wFVxbhD0QHQf6L+dr29/Sy9JD0S/Tk85vcsvTV9Dz10PL94fzvAevf6gvvC++a8dX0Lfat+Rn8/P2/AXoI9+2OAhMBIgBy/ej8RvkQ+JMLKeZk8GnrVeqJAFXq6wyQ5h/pYCF46gHyiQcB8tr2lfZo+SP5NRa8/8r+AAC1BDUPbAL2AoQTbAKOApME2AT2Aqj3EwiJB84HZwfwB+sMJwLSEHz6NRZ+GCEc9B7Q+RgKnB2hGP8UdRTSEMkM3A1/CvAHiQeiA+wFHQWOAroGhf53/5fMlP2j/CP5aPmQ9K3yN/M3838RS+26DR0FdRRwGYvy6efo9VX4OhGP+3z6o/yF/hsohvcj+SP52u9Q9p/z7vCiAzLx6iGdAfLykPQk8ob3xvWe+m30IgD3+9MCpwW5GyIH/PYmCckFqP76BE4EcQQvIuEd0wnt97zxIgeiA3sBOgoECRgDUw2rBzUPXQqM5NwN/PYODf8Gvwj/BjoDNQg5JrAJmAbrDJskqwc/DBwMEOrB+hD4/hu0GaP1Dg237yIAxvxC4q35wfNf9Tz8KxLB8yj73v/z64/7I/l3//L5iQAf8Dz8JwI/DHL9RABG+Y/7FPp3+Cj7bAIt9pD0wfP01uj8o/WiAw4GMv8/Besafwqk7lT/JwLt98r+Rvl8+noID/+V9mP+4/qt8nsB7fcy+Cj7Vfgt9q3y8vlP/SsLT/2wCU0ZFPqa8Vbjyv7/Bo/7iQf96G30BAlOBIzkSQlYAYQF9QlYCLz479TB+pgGfxFnB/ftEwF7ATUPo/W8/0zm0PIa7rL0y/Cy9O333A2hCroGewErCzoKsQLEEfEA6xPOAOsaKPsTAeP6bAIAAI/7/T5EANgEiBVCKsv3Kwt7AVgBrfmU/Qb02f0y/10Dcv2uQdIeMv+o/mnrNRZB94H1VfiB/EQHBu3K/iQ6C/Ye944CSQJZ+rECnvpsAj8TPPWJAKP8svQK/Zn4VxY2ASj7t/aJB6P8PPy1BJMLBAlxBCEONQiy+300zg6YBqwA4gFj/pX2NQgk8j4oVfh1DR73/wbG9Sj7kwQTAXPhBAJxBGcA8QBp5AkLGfwmCb8BZwA6Csv3awlnAMb8BAl7ASj0NgEy+OP6LxvOAJ0BwfodBY4JqP5OC1T/oRhEAB7+Lf2vHg//cv28/8r+Lf06AxMBBvvQ61T/BAnj+nUGzgfe+JMLWfprCSsSnQGo/pX2Xvzz65BKJOu39l78xu5y/S8bqP7OB4QMcQQrEisLhAV/CjAGegjmEaP8LAQ8/CP5ZwBEALL7mf9/ET8FQf57Ab8BT/1Q9uj83v8y+LULnvpnB8kFiQchDnUN0hCnBe33qwdV8bz/rAAe/q3yzRXnA8b1vwEsBGj5ZweB/DAGWAjiAVMGCv0381X4BAky+HQiqPc2Afz9nQHOADoKMAY2AR/pSQJ6CJ76ZPBYCAkEveqJB8v3fhgrC8b1wfry8mP3fPMt9ln6cv06A38D4gjiCJ0BveNYAYkHYCgdBXUGKPTo/Nr2/P2iAxgD+gRJCRgDIgA/EyAjS/ue+lgBo/zZ/V78bfs+GiYXrAAiB1gB+N+u5D8T9gJe/EMVLf1p8p0IxvUTAeIBlfbEAwAAPwU89dMJ/PbQ+QkEwfObK0H3S/SC578BvPiOCa7dd/gy/zoDBu3/BsQD7f7YC6sHRACTC0H+jgnYBJMEiQAiALQnwfPSF/Prrflj96ER/ilB/m37Qf6OArf9nQHnA9Hk6wxNEqcFugaiA+3+dCJL+3EEEPgk8r8B2vap4vf7Uw2P+9XtHvemDPAHAfkTCM4AAADTApcNYgUAAGj5YgV46oX+zOLYBOwF2ugiB7f2mf9cGIv5OgMZ/HL9RADU+zPq+OYYAxYmKPvj+k4ETRKj/N0Gj/uk7sLlwfrbMBT6hAX/Bvz9dQbOBzUI6PwnAn8RzgBj/jL/kPQ51zz8JPI1CJn45wM4NFgBrfl7AeYYewHZ/SP52f0K/SIALuhTBlgBAAAEAmP38Aeo9zf6cAuOApbhjgI1CKocHQW1BE4EmLedCAfmxAPG/M4ALATG9c4HZwAK/Xf/Jhc6A+3+5wOwCQkE0wnTAvf7iQAG+3fxlP1P/b8Ihf53/yP5BvuOAqTujgny+Xf41PswDbL7svvt9+j80wIYCqwAXQpdCskFPwwV8ysLt/3nA9DyZOJZ+nPo6PWt8p0BBvSq1LL7/wZP/VIUUwYe/vzvfwMnAkv7zg5V+GwCrfnB+ob3RvndBvz2xANj/l0D3v/2Aln6H/AiB7UEgfXZ/VbVOgNdA38DMAZU/3jqGu53//AOPwWo/pcNCv3OB7f9IgAt/RHcqP7y8nkdXB+/CD8FjgIj+aj+mfj5GdD5BBBj/mP33vjB+oX+GvWt+d7/0wlb3voE9RC8/38Km9Vu344CBAJJAob3NgH89gkLi/l/EdwUbfv3+1n6JwKOAoX+DRSV9r8B1PvR1nQbDgaxAr8BrflTBrPfogMZ/IvytQSo9+cDmAa3/TYB4gHQ8r8Bo/xYAcHzvwFnBzz8tRIXEcgT/wYYA5MEvP86Awb0RA5L9F/14/qL+bz/hAW1BPAHkwROBIQFUhS8/zAG5ddV+DYBgfWL+a7r3vhL+2j5D/+88W30mAbB+mcHfwrTAtwUHQUiB6IDCQRj/vUQgfwsBIkHLyKj/Pf74giB9c0cvPFOBB/pWAFo+bL7/ehy7z8TQff6BLUEjOSu3a35hvenBVn6fwMiAL8Pyv45GDLx6PxnB3ALn/My8WwCWAiTBBMIxArNFY4CJwL2AnEEd/hB91n60PnG9aYM3v8Z/D8TZwfECm7tyQxYCEQH3Buz5jUIsvuxAiP5XvxG+ff7GfzB80v7o/U6A50BAAAEAt7/j/tEAAQJ2AS/DwQJ8+vvHMkFy/dxBO8j6PXODu7psvuy+7fvEPjdBrz/X+c6A84AHv5Z+intzgDe+EbyOgOe+o/7wfqJACP5pwXy+ZgGWfpEB8H6zgCV78H6FxFnANIQd/+nBcwqiQd95QkEnQhB/nsBx+fnA178o/wNFM4A7f5P/fEALASZ/zUIJhCEBdwNiQ5EAH8K1PvwB9D5nQEiAFU5Uhvf8dMCdBuf5boG7f5Z+mcAn/NU/+YKewHH54gjEwjH4GwCT/26FKYaWfrt9/UJX/Xy8oQT/P2Z/4X+cQS8+J0BqPej/KnwT/1B/jAGrACiA/EA1Pvy+foEXQPsBTkYqP5xBM4O9RfnAzoDegiL+R0FIgcsBA0bYNLiAQr98QBU/+j8TgvB+kQHqPc/DNX0kwRTBgb78vmEDMkF7f63/boN9/uF/mIFt/36C3L2oQp6CIkAyQyU/W7mAfIiAIbwy/A/DEb5vwiZ/ysLyQWcFl0DHAw6Cjz88QAJElDvX/Ve/Cj06PWP+5D0o/xnAK35qwf2Apbamf+L+Sj7qPeZ/0H+7f7EAzUW9gKL8lT/SQI/BWUqegjt/nL9nQh1DTL/qP7iCFwfmuM47A//gfwYA0LiZwdt+x7+RAcgKnAZYgVnB5T94gGy+zoDkwQj+TYBvPgwBmEMjgITCDoDYCE1CJMESQn6BEv7nQEM4RT63v+o9/zvxvxG8qP82f0/BUkCOgq5GyYJEwjmGFXxbfte/I/78vKxAnz6sQJe/F78d/8y//f7IgDa9pMEwx9B9+j8tQSy+2wCPwUe9ysLI/ndBvz9ogNP/bf2Lf3o9a35hf5B/pT9iQd8+v8GH+kiAJ0BYgWJAHUG4gh/A6Uv/wbK/l782AuZ+Iv57f7cDXL9lP2L+Xf/n/OdAWcAOgOhChgDnA/dBgb0dQYAAPoEMAa3/c4Acv0B+Vve3vio9+3+8vly9mP+Mvhj/gkEY/6Z/04EzgBEBx73cAsK/fUJn/OP++j88+vk8zkYaPm8/5ME6PX6BCP5NgGdAcb1RAfYC/oS7f5iBTL/rfnj+tn9Qfc5Jj8F/P1dA4QFsvtJAu7w6PWwCWP3GAPTCej1OgPYBMgT2ASmDI4Ceg+nBVwROgNj/jz8NgEe9+IBmfgV85T9tRJJAokOEwg6A1cd4gFEB0MVjgKj/GcAyv68/4X+GANB/rf9tQvSF7L7NCvgJLL0ZPDZ/UQAdQb6BLL7tQQECQQC2AviAboN+gSe+sb17fexAl78XvziAUb5Edzt/tMCfwMEAqP8HQXe+Gj5nQGOAs4HFPq6Bl0D3viYBiP5bfs954/7qP5y9jYBKPvwDmXUXvzdBvPrmuOe+usMKwsV82IF2vZYAW8n6Pzk83L95wOe+p0BC/Z/A4v5Lf2xAqP8fwP6BN7/EwiJBxMB0wJsAgb7fwNU/2P+I/lEAK35PO6/AW37XvwYA0QAZwewCfoE9QlW3IvrZwdU/3ALmvEsBLL09Qma8Vn6TgRj/sb1pgxEAB7+1Psy/9/xogPL94v5d/86ChbXrAAU+iIHxvWy+zz8GfzB+p76EPEo9AQJ2f2t+dgL1xKOAmsJD/8JBDL/TgsJEjQk0wLa9o4JhBPG/KUh1jWo/g//4gEy/50BJwIy/0kJWAGZ/2IFvwinBfAHUw3B+joKVfi1BJ76mvG3/RXz1Pu1C0kCmf8dBZT9OgNnAD8F3QbsBbUEcQT1EJ0BIgewF2ETRACf81D2OSY5GH3lafKz7RDqCCfy+Rso2f3YBJn/8QDo9Rn8lP18+g//6Px1BrULTN9p8vL5Uwat8hgD5Oyo9wkLi/I2AasHNgFJAi392AS3/Y4Cawmk7oQFMAa8/+IBRADa9jkYi/kt/QQJ4/pP/dMCPxNEB5IgKwvECuwFawnt/roGxvzt/uTlfPNy/Tz83vi/AbPfnQFnAAAACQTTAjoDN/Mt/fAHqP4wBvUJyQU+IbUEyQVZ+hwMS/Q/BXL9C/ZP/WTwRABL9AQCj/tP/RwTvPjOALf2bAKF/jz1Kwue+vf7lP2wEJvcAetdA1T/1PtsAjf6BALQ+V0DcvYOBk/9SQL/BjAN0wJG+bUEC++EBdT7iQC6BogVnA9j/jYBrfksBKj+pS/e/z8F5grW3xMBvh0y/2IFXvwy/0QAhf5qz8fnhf68/6cFjgIk8s4AcQTe/0QHrADiAWIF8QBJAisZKxm/Ad7/hAXG/KcFVfidAVYrfPr6Et/xVP/f47f9nvogI0QAcv3e/4kAMv/JBZ0BvP9884X+Y/7K/qj+qP4K/d748QBo+Uby/P0iBxDqNgE8/AH5JPLL8HEE8vl+JnEE5wNnB+j8UwYwDXnOpwWy+8r+t/28//4bTNinBa7rRAdP/WP+PwXIIWETOgqiAzL/DgYAAKEKGArcFH8Kvwj2AnjcLASEBecD8QBp8vz9/P2JALL7bAJ3/6j+cu/Z/TL/vP93/+j1t/1o+a3yj/sy+B/wD/+JAHASvP/e/1Dvo/wnAnL9IgCJDkv7o/yU/QQQzgBYAVHhmAZYAeIBvwG1BDoDVP/iAXL9Zg5IHkb5o/zOAILgAfI94Lf9RvknAucDcQRsAl0DBALsBawATgQ3+vYC8AfB+pn/hvfiAdr2D/9EAA//kwS1BA4G5gowBkQH4ggP/38DNCRt+0PULASR3xrui/mJBwkLVP/e+IH8EwE8/AkEsvu8/6P8xvxG+Y/7rABV+NDyIgcQ8ZME4/rEAw//PwU3+hr14gHG/Iv5LASV9pMLmf91BobpC/ZRKULpFx8TAQHysvSnBR7+ETmP+wQJrfL8/b4Wo/XIE3L2N/r8/QQCGu4cDB0FLu8EAlwYIgd7AdT7rABy9rz/2vb0z7EC1PsOBjnJ3QZJCfUJRADrDLf9ZwfOAGcAxAO3/bECt/3xABMBzgAOBrAQcv3k5Sj7FPp3/4H8vw+OAnL9FPpsAhYm+gQU+kLbPPyj/Oj8FPosBHLvIgee+tXm9/Tp7kH3IQ6a44v5HAxo+aYM0eTnAwkE8QCF/r8BcBmo/gQCZwB8+r8BgfVsAmnyj/tt++IB6e4U+gbtcQTe/78BGu4AAF78SQKnBcMfGAqy+wQCT/1JAjL4TgT/DasVkwvt/jPjewF/AyEOvPjEAyIAnQENFA4GVP+wCaP80eR7AUv7kwTj+qP8LfZt+4bpaPn8/ToKXvxt+zL/d/g6Awb7X/UiAOj8BAkK/YkHZhXwFQ4GqP4+GnQb9Qn2AqsO5goU+oX+D/9o+TL/Ke38/foENgEEAuYK1PvK/t7/d/iiA1gBMv951bz4Jgl8+lT/jgL3+zoDvwFYAUQAXQMo9C395grxANMJS/vYC5n/pwXTCRT63A3OAIQFSQJ/A1gBfwNTBs4A0hCR2LoUvP8P/84Ocv2xArL7rAA2AV78sQIe9xIWvP8/ExHjEwF3/6P88vnDGND5MvixAnL29gKj/A4NLAS8//8Gj/viCNrvIgC/D4v5IgfB+oX+GfwsBGj5JwJB/k0ZCQTB8/oEmfiiA6P8t/32AvPriQBOBBMBewEEAlD2BvvQ+ecDyv5rCWP+D/+sANT7Hvd3/zUIBBBEDhMBRAerB04EVP/wB7f98vnwB3L2Uhst/XsBJwKTBGwCIgC6FJn/aPnK/u3+d/+OAuYRSQk2AVT/CQT8/e8cVP/TAk4L3v+U/bL7qP5V+Oj8fPp7AXL9kwTnA+cDCQQnAjoDLATdBs4AguDZ/VgBt+8y/9MCI/kf8Oj8T/1dA2P+pwX8/aj+7AVG+dXtsvuwEJn/8vmU/RgDt/ZdAzANT/1/A237+dGsAFwYCQudAbTYJwKwF3EE2vaYBob3Cv1JAuP6RAfo9UkCt/bo/Frzi/k2ARrupO6j/Pz2xvxnAI/73+p3/6j+BvsTASIAnvqJB6j3INso+8b8vPiZ/9T7wfpL7Xf4RAcK/SsL3v+iAx7+WuzYBI/7yQXQ+SwEKPv6BBMIlP1EABD4NgGB/Pz28QCOAjz8ugYEEGwC5wMK/WIFLASZ/3L9gi8G+xMBt/02AdT7s98iACP5JwJEABgDMvGdAY4CMAYJBI4CDgZU/yP5ogNW1cr+FiZU/1bcwxhdA2sQ6PwG++YRhf6j/EH+SBedAZ76ewHbItn9JwKZ/7AJnQFgIS39sQKy+3L9gfzsBc4A/wZxBGYO/hue+tgE6Pyp4p0BHv6sAGP3VfjG/NT7WAH8/foEAACsAAQQXQNxBMQDRAC1BCIAfwMy/0H+R+Ry/Zn46PwNIj8FCRIAAPz9VP8e/kH+7f6y+7UEhAV1BrUEewG1Cx0FdQYJBEHwJwJdA7z/JwIP/5T9Y/7e+DL/PxOj/CcCqP5dA/EASRAiAFgIT/0TAZwdbALK/qj+lP1JCTz8N/oAAIX+Qf7OAHL9TgQe/qEKOgNP/Zn4EwFV8VMNcQSmDIkAAfITAQAASQJU/2cHB+ZwEuIBkhlV8TjsQf7nA8v3DgaxAlgBcQTjUB7+SQl8+hsovP/y+S8ile8e/vEAfPrsBSj7rACJAF784gF3/8QDZDh7AQ//fwO8/8r+CQQiBwQCBAlL++P6oCaU/QkLiQC8+NwNcBKG6Vn6zgDZ/ecD2ASOAp0BLAQy/wAAnQE87mcAXvy8+Lf9sBCsANn9RA6EBXsBD/9/A2cAjgKQ9GcALASo/pIgPxPOABgDFPqF/gr9N/oy+C39D/+dARMBjgIlHlT/ZwBYAY/7jR6/AdD5ogOj/BMBJwIB+cr+SB6Q9Bn8o/zt/mTpt/3OAILniQDnA0kCHv4AAAkEogNdA5gGxAM/BaIDEwFU/+j8fPpC4hvgqP7Q+fL5cv0t/bz4zgBf9QQChAU0HZ0B2AR/A6wARABL+xn8fPqj/K350eQy/5T9ewHsBScC2AQOBisL5wNdA+3+I/l6CDL/mf9YAfz9mf+y9JT9qekV840XCv1y/bz44/ot/XEELf3K/rf9VP/xAMHs7AW37wr9mf9YAQQC5wN1BqsHhAxTDfYCfwMJBOYKPwXk89D53QYu7+wFdQY/BZgGugb6BFwRdQYJBL4WLARsAl0D0wKJAEkCzgCZ/0/9Jhe96noInvoB+fL5Qfe1C6j3hvfG9RId0wla8xgD5POhCm30Qfdf9cv3d/jo9ej1X/UV88vwrABQ70HwC/Zy71D2VfH8/WnysvRV+Lz/NQgdBYgc4CSa8fguGfwWLdcS0SXy8rz4QxXL8JcibALo/PL5t/b39Br1KPQG9Ib3hveL+Uv7hulU/7f2GANt9LPfcQTxAJgG7AWTBF0DzgDK/qP8S/tZ+kH3/P0o9MHzLu+6Bnjqy+lQ6Brn2ugk6xXsGu4B8nzzpO5L7dXtBu3B7NDrRuup6VrlD/86ET3nC++JALoGoRggKh84OEI3SToR6e6vJcfgODREAOEdPxMrC/YCaPnV9Dzuxu4a7vjYhvBrF1D2wfqZ/4/7zgA6AxgD5wPIy1MG/O8sBE4EcQSiA2wCbAJYASIAcAsAALf9/P1mDsb84/qL+dIXLu/89rL0S/R87J/zKPTo9ej1vwE385Xvi+uz5lHhW94g26DXr9Ye/gza1t/C5TLxXBGHKhXshzHkQq1PcVpZXjZe9ljBSRU70SyqHEQONgHe+LUEc+g45e7iiQCM5JrjmurJDNDy6PVp8m30NgGTBN0G8Aef5XUGMAYsBHsB3v+o/pT9svso+4/7rfmU/aP89/v8/Rn84/qo94b3o/Wt8ij0bfSQ9F/1t+9JAm373vhQ9nzzbu0p5uYK+NiH1CXPEs5b0Ev7mAZP/W30fwrvHBEyVw+ZXHZqXW56bNNmqwdBRr0yTSDJDPUJAesiB97/tNh6Fn3e6e587PLytNgsBBMI9QkrC/YCMBRW467rEPFj/vAHPPUV8zz1kPQsBGP33viV7/z9fxFJCUQAAfIAAGEaPPyy+4kOUPZt9PLyJPIB8i7v6PxmDgHruhSQ5gLkQuL/DUzf1t93/4QF+Ni93IzkKeZf7jz8axCIIwc1Uwa7XMVnbAKB9U9hj1FpOiog2Auk4N/jqttXHWndL9pu3xrnKe3G7u3+kwT39EQH/O+377z/Qf6P+7z4Qfc8/JX2/PYy+NgELf1EACwEJORt9F0K2AumDA4NcAup8OUtBAkH2B73TRLk8+TzAfLp7lXxt+8p7cHsd/8L6F/n4/of4sziH+Jg4NwUEPj94RrnAfnV9O3+hAWXG2olXBFo+RRXZ10/BXf/FUmMMxwaYgXlH5/skOYL6PUQXvyrB78PfhhqHkgeQxWXDfAH7fd46hrnfdd3+DnQZdRC26nimuorEkkJszWXDX8R6xpXHYgc3BvIGvEAcBJTDWsJ7AWZ/3PhaPmB9bzxC/b45oLnPeeM3Xf/1thv2ALWzNRM2JvcW97M4h/pi+u3/eTs8+u96jjsge6Q9Hf4SQLmGAgnBzXVShlZOgqNFzdJODv0JaEKt/bB7CntS+2f84kAUO8cE2ET1xJmFcvpdQau6wHypgzH2dT7I/nqyxLOh9QYCvjm3/GP+4kHXBFDFa7rvPg+IaAfiQCG96EYQxVy/Y0XYgXe/1n6HBN886j30Ouo933lveMb4EfdAt0H3xvgh+JM5kLpi+vo9cHsZwC370HwLu+nBa7rrussBGETGfy39pciJTNaQvxT9liAWVT/FjQo+1gIFfOa49T7jR7V5uTzDgYSFlcdgyE5H9IXeg8P/7oN8+v94Xjc/O+93KTg1thOBMvwy/ce/jkfXQpW1bAQAfk/E6YTnA+DGqEKkwv39Nr2+gTb4V0D8QAbKKj+FPp5JLoN9/uM5Mfgt/3a6C7obt9z4cH6qeliBXzsdQb878vwqfB38UHw9+0L7/LyY/d1FFMG/xS6FLnMPeeeULULGVLfQOUt0h7wB68sCv3z5A4GmvEy/7AQwx+vJUwnEiTIGuEPgfyf7JHfg9K46JIgiM2D0r4Wguevz178IRw/DPoSaxewF7USKxkXGBIW1xLhD8kMRAc/BWwCCQuF/uIIj/t8+kH38vIa7i7oDgZp3T3ZpdksBIfigudDFYvyKPTG9cLlZg6V73zshulH5Djl/ei0GcHz9/uTBGETmySCL+4/8k/B7F5SKPTkNG8gGAqL+cvpUOiQ7ZX24ggHNQwpUTAgMf4poB9Q6Fn6veqM1vM6ksMmwU0SiM1g2fjmGu42Ab8IjhB/A3oWHv4NFH8R3A1l27UEBALB7Hf/SQL2Arz43viJB84HUwbOAAvoC+9NGfjfVtyl2erZKd+u5Jrq2u/G9a35BvsU+uj1FfOQ7S7oH+Ia7s0VjOQt9tDycv2EDHQimzLuPw9V3+NjW635Xz2k7roNLfYJCxHjqekR1ZwPtRIQ8fjfoC0vKY0eVw8B+fjmOdc5yT7EuOEqygr9ON5L7dD5GAPK/vAHpgzECvoE4gGOCVT/Mv/YBJcNx+cTCDUI0wmmDCYQFx+0IJMLMAYiANwU2vaM5CnfqtsM2kfdLxvt94bw6PXB+nz6UPYL71T/WuUu4RrnLuHW0S7vGvWa8fz2IRUgI/8GZweL8q1Phk0LRTg06iHwDpn46eeg3jPjQfAt/bAQPihCOD091fTqL/kglP2G8ODcDcwmwZK8i/Jt9PkZluF38Sj7kwRdCtgLPO4cDGsJegh915D0TgtTDRIPphPIExcf5hGcD8kMdQZ3/yP50PIV7I4J2+F4433lJR4B67fvPPXbIlD2GvUo9Pzvmuqf5TfzM+Nz4ej8FeXe+Mbun/N8+rECCQtwGSP5ljAzQIkALUyz7f03OOx/ESj7aevf4wHrqPfJBXAZ5S0kOl/n1jW6BrL70Otk4k3Ra8HTCTUWML5gy0fWn+Vt9MgTj/u6Db8PoRGp6asOZg5f597/RA5hDOsMzg6JDvL5BBBJEBcRzg6/CHoIgfzQ8h/psvQdBa7kguCH4q35S+0e/pbhQfC379DrPeea43oWguAp35bheOPODtDrlP3a9pT9YgUnAjkmUhukRJ5Q4gFoT+7w0SxSFEQAS+1W4/oLQuk2AYQTaiVRMGkzoC2II+j8t/0V7Hjcvs5NykQAQ80H2NvhpO7e+JEnoQocDD8M+gudCMkFXQOOApMEhAV6CKsO6xOhGP4blxt0GysZ0hA5GJT9KPTL6ZvO1xIW1znXPdn94WnkEdzM4rfvle8a7r3qKe3b4QQJB9+R37jhJORk6drvo/VL+44CcAuXG237ETLzQbdMy03p4CYJSCXEEbz/le9G69X0D/9dClXx1ide/LMuTCfNHFMNd/gAAC/aKtHSEO/NhvDg3K7kt+/a6BcYJgmTC3UNwtdmDjz1VepXD44QMAZTDQQQC/Ye/j8FYQzODpMLtQR1FO33qfCEDJX2vdwwDaEKm9w43rjhOOWC5wHrOOzz69Drqem46DPqIgDbIhDqeOqk7q3ybu2F/vUJkwu5G0glIDHV7V5LUEz3+84O/iJhGg//xu5W3BcYxAOnBf8G4Nz0LK8sfiaIHIbpmf8G7bf9kdgg1L7O6tLW2Av2Hvce98b8tQRYCAkLdQ0gI5cUzg6/D1wRfwrj+lcP0hAhFeEPSRCV6M4OZOm8/974qfBz6NYuxu7nAyrYpdla7KTgn+Uf6Z/sLu8y8Wny7f7R5GTwPO5NEmTpKPS46NDrGu40K5Yw8AdYCBYmuDfjSShRX/VfRFYySB6dCH8RWuwTCHzzhf4cDBIdqipRMNgLFiZ0G178iQd46u7bzNQC3XL2EdUM2p/s3BSa8Vn6vP9JEAQJcAthDOsM/P31F7AQ4Q+wEPoSMv+IFVwR4Q8wDc4HRAC39rUEy+kk5EzfHv6wEELiM+Oz5k4LFezL95DtfOxp673qPwxU/3Po2uiH1AvoC+jf6pT9C/Zy/aIDHAyDGiAjETKJAPJIS0pGQVYy2yKrDkH+ltoQ8QwwgfxJCVIbM+OJDocxQirqIX8RPxNL7WndNNU50P7Mh9TV7YfiOOxG8sH6Hv6dAewFPxN6CD4axAr6C9wNhAxhDP8Nzg41D4QMUw1e/GsJ7AUe/prxrfKu6zjlzOIp5vf08QDk7Frlle938anwLf288R/wwezqIYLgs+aH4sfgKwtk4qwAbu1y9qsOug0XHxErOOzoSy1To1JBRovyrx56CNr2BvQV7JD0jgl6D8Mfwi0gMbgwryVwGVT/5wNL7ZbhUdqb1RvS79TR1njcEeOu63UG1i51BiEc8QAB8t0GcAtrCbkbjgmTCysLI/lwEvoSCRJcEasOGAp7AdgEi/LNHL4WLuFg4Df6lP2iA0fkG9If6ScCaeSz7dXt3Qbf6troD/+Q5t/jZOLRLIbp5Oza7/L5fwPrE5sk7xw389gEmVUjT+Q7lilrEAHrZwco+635KPvy8qYaVitCMeovhyoXHzAUNgHV9A4GIgBM39bY+Njb2i/awt794VXq0PIU+kkCEwh1DSEOiQ6F/vUQKxKhEfzvGAp1FNwUCRJqLPoLZg4iADL4AfIV7JrqPeck5O7iXBjH4MfguOH94YzkLugB65DtOOz37XzsEOqdAZ/lEeMR4wfmDgZp8qj3WAE/DOsaXvwG++NJrVaFVIFL6Ta5IsgT6PU47IkHPeBg4LTRt/1Z+kbyCQtIJf4bHBNOBPz28+tR4XPab9EDzyonOdfk7OTetQSy9Hf/QtvODgkSoRF6D+TzkhIrEsQRkhJhE38DSRCXDewFiQc/BfL56e5a8wvvWuxC6Qvo1eZQ6B/pMv9a7M4OQfBV6mTpZwC6Dcfn5grt/lrlOOVp5B/iaeSL61cPFPpy73UN3BuWMBE5ltMeVKNSPEvHNkMj/w3B+rfv0heL8sr+BAmV9oH8N/ogKuAkgufNFfAHeNyQ7UzfwtfDGPEAbfRNymIFqtuB7tD5cQTwDn3lSBf1F3z6IRXrE2cAYROL8iIAjhD1EPUQJhAG9JwP6wyQ9Mr+Y/d38ZrqvPj43/jfmupk4vf7kOZk6e7pKwtz6NXmD//rDIX+5N5iBS7hUeFH5N/qN/N8+voEN/q0IMI0UD4BT7ZabVgyTlgI1xLiCHzzleirFbzxY/5JCfAVQyPHKGcHICMNG+numAbL98vpG9mg0GbGa8GXxX7J4NVy/enu6PynBWEMiQ6t8uEPxANJEOEPjgKt8roU/xRSFCYX/xS1EhcRpgxOCxwMxvz39HLvy+nODn3e5N494ILg5R845bjomuqu68HsvPjz6zoKX+ef5bf2zgcH34Lg2yI94Hzzt/0ODUgerjM9PZVMXlnu6XJMczfNIz8MqPfa7xrugfW8//UJzRV0IlwYgyF3/xIWzCpxBBIPBvR6Fs4AltO0yvTISMjRz1HauSk89RDqHvdwC+YRrfJP/WYVuhS+FnoWZhVSIr8Pzg4NFNMJBvTJBdgEXQq8/974kPSy+9MCeON444fi0h4a5zPqKe2374HuS+3B7GcH0Pku6HPofS1f54MhruQk65/zguc/DKsOkhma8S43rkGeUKTgRkhRN+sTaxBL+9Dycvb39BbQbAL39Bcf2yJ+H3UUEwiwEI4JvP9G+YbpvdwR1VIUrflrF1LMWvO/CDfzcv0mCVcPXBHnA2j5feV6Dwb0Kws0HfoSzg42AZMLBvt1BmEahAWnBbUExvw5GJrxruv1EHjjZPDk3hDxveND1JDtkO2g10brmur96Afm2ujH52nrPhpp68b1tRJZ+l/nN/r/DdcgpS8zObJKtRKu5EgX9CVrF5gGyv6y+3f/WAhmDgkS0heqHFwRXBiXFAv20wlU/974awmvyCrY7835ym7ms+2q1H3euOidCFX4S/tEAD8FBAkmEDAUFxgcGqEY8A4XEbULqwfSEPEANgG96oH89+1B91/1rt3L8FDvHBO/Dzz8n+zu6WTp2ug951/neR0Q6kbrJOvB7MLXkO1Q70vtGu7L8Oj1UhtZ+usM0PlL+/g16wy8RyRBgjY0JLAXGAqsALf9rAAiB/UJ0SVB8MgaNQ/SEBwTJhCy+5gGfPPk87PmeNyl0l/uA88W0Pf0INtp8pDtaiXo/FgIYgXhD8MYB9jqIf4iTSBXHUgXfxEt9mETNQhDzT8FGAP5GY/71fRV8YHuJOsJEoLnbub45lXqkO3p7u7wS/Q38+7wC++1C/3o3v/k7JgG0OsG7Zrq0wK94/Ly7vBcEWUqvha8R6NSmyRaQocxICNL9NgL/wYdBXzsegiYBtvhGfywCRgK8A4rEoQTIQ4iB78BafKz5i8bEdU+0q/P3+PM1CDbqfCV6NrvMvirFbfvHAzXEuIIatbU+3AZWAgwFKERHCGJDl0KiQcJBB7+bfsL9sbuX+4B6yP5verQ65rq8+tf7sbuge7V7ZrqC+gL6OnnGueQ5i7o2uip6cfnUOiG6aTu9gLTAkMVo/V4OdYuj1F3Tp9CAjNsArQZXBErCzUINQh1BmwCEPiZ/3PaoQp/EfUX3QZDFTL/VP+SEv3o1t+l2QLW/tMdBbTR8A7k3l/nd/Fe/MkFCQvODqERhBNmFZwWaxcR440XvhZJENwNsAmDGrjaRADq2Xf48vLp7mYV6edH5FbjveN448kFTOaV6FDvJOuQ7bfvd/HQ8hXzS/TG9W30H/By9u7pc+ja6IkH2AuH4ogcESszOfNBqT8bNhsvlilWJCUegfXIGogVug1y738DjgkG7bUL5hGcFo0Xd/+3/VXxGucC3ZHYB9hz2kLbH/Bp3bUEB+ZhGlrzbftYAUQHjgnTCVMN4/qcFmYckiDNI1YkPiFmHKwAHAxOBEH+Mvgk8lrsUOi94/3a4Nzz3ewF+OZ87KnwS/SQ9FrzAfJf7vftUO8u76nw8vLL8EvtHAxEBxDquOgP/5MEdQ2+FqAmJhBM5gc8c+HqLyouVw80JAggwx9JCdwUYCHYC7ULCQuhCisL9QlJAlX4s+195V/1DNq1EjPc/doC5D3n1xKf81Ykt/aP+3f/oN4OBroGEwjEChMIXBFTBuEW0hdIF5XvjhCe+uIIVw/6BNMCZwBy/cH6qPd889rvS+1cGOnn5OXwBzjlB+bH51XquhTL8JD0cvYU+rL7XBH3+3z6gyjV9Gny3/Hu8Ibwy/Dz6/jffwPJBYQMaxBL9JcUI/nhHXfxUSkbL7z/bjVuNe4x7f5vJ6AfHvdcEQQJiQfiAd0GZOly7zPcpdJk4gffM9wv2jz1Pdm42nMwoN7p4Hf47umNF8v3Y/4dBckFzg7IGkHwhyq5G/4b5OX5GfUXUhQ5JrULdQasAAH56PWG8Lz/guck5C7hxAMW3gLkrt2R3y7hJhCp4lbjEeMV84zkbft46sv33/FlzTL4BAK/CNwNcBlG8tcZeR0952Tiby5pM8w4wjuzPEH+HBOJDj4o/sxk6b8PBAk6A7UEvPia6lDvhuk1CCXd5dfo/E3RWfpqz1MNEdVR2hvg+Obk7BMIOgMe/sQDSQn/DZIS4RZL+/QedCLNI2UjPiESHfUXxvVdCgkE0PIbL9rv0Pku6K35bydk6dvh/eGp4gkETOb96NDr2vba79rvy/Ay8ZT9n/Pj+qP1/PYU+oMo6xN1BtMJ8A7IE9cZ0h7u4nkr6i/WNSQ6ODvfOSEcUTC5KVYkqfB6FhIPJhBEALz4MvFk6cfgc9qM1qXSltPC5a/PpdLg1WDZbt8a9Ubrd/GF/msQpwW1C6P19RfEClwfHCHV5qUhOdeXG1T/dRTSEA4NiQeiA97/4/pj9zfzle9u7YvrmuoB6+7plehz6F/n8A495+Tl5OUp5qP1/ehG6ynt7vDk80H36wxYATjlSB7RJYQTPhorC4Lg5S1CMSYXIRXt99o3mAZCMdXmoRFMJ5ci3BscE7ULLf3y+Xfx6efmGJbaedVH5E3R4M7gzt/jyNKp4rjas9/V5hruxvXK/v8GiQ5DFRwaJR5vINcgHCHlH0LiVeqwF5cUC+8rC2EaewFQ7x73JPKQ7RDq+Obf40b5fd7u28MmG9lH5ELbeNx93owsWuWTBBrudBtt9GP38vm3/RHVNQj/DXf/oRgwBtElNCuzLpsyGzYkOho9PwV9Ox84oDRCMUcsEhavHlIU0wlEAHL27uKp4j3nL9Nu7eIBSMgRK74dnMeSyhbQatbu23krJOuL8vL5vwGdCEkQNRYvG9cg7yPRJaAmJSXmCsMfdBvhFgkSHAy/CNgEzgCU/d74awk6EfPr6xO94+Te6tmM1qrUSQkl1irY4Nxz4W7mbfuB7mDgOgpf9Wj5Hv6iA9MJIgDSF/QeFiabK2Ux2u8zOVA+4gE4QinfXz047JcbGy/L91cdxBHOALL7tCfa6GP+G9nb00jP2u9MNavGQ8bvxhYmzc3b07jaZwDa6B/wEPh3/xcR3A0/E34YEh1NIGUjAyVH3VIioB+5G4H86xMmEP8Nphq46OP6NgGy+3L2le/96O7i7tsW1y/Tb9HI0s4A0daW2jjeVfHV5mnyhBOG8OTzvPi3/Y4CI/nSEDkYFPpgKAww0wLQOjNAKUOkRFBFBkP9PiQ62j55K4H8khlmDt/jFPqa8ennwt5b1wPPF8kB+TrCM+of6X7CQ8Yy/9bR1tik4ContRLQ+RgDhAyEE1gItCAgI68lCCcy/68lDSJXHQgZlxSwEPLy2AsiBwkEIgD+zKj3VfGL65DmluHmES/aQttv2AQCPPWy9FvepOCH4vPkPedk6SP5QfCj9Y/79gJOC9wUah6gJhsv1jXzOnhAgUQyRyRIlw1QRYvykDz+ItEsUiJrF8kMEwFQ9mnrMBQq2ODONMfSwVK++rzrvQPBl8VSzC/Th9v1CWnrgfVo+UQAZwdZ+nkdXBhDHOUf2yLvI5IgGvV+H+8cawkdBSEVXBGXDToKhAUQ8Tf6AfLHNlbjeOqM1urSftCvz37QyNJV6hbXpdlp3ZbhwuXu6ZDtX+4p30/9ugbhD/kZhBNvLrg3/T7o/CRI40koStBIQUaB/Frl/TdRMPknvh2mE44Jcv0k8njqVtyH1LnM78bDwma//7595TDFpgxWzr8PjgIR4zPqiQdXFokAWAh7ATUWiBzJBY0lpShG8iAqYgWqI+UfdBsDF7USUw01CEkCGfxQ9hXllegf4oLnOdfNFW/R/xS00TUPvtUsBBr1YODD0D3nfwoL7w0U0PmZ/zAGdQ2IFfQe1ico+8w4hj/t/rf9ad0GSrxHS0MLPi43ljA+KK8efPrg3PEAcvaa6tn9oNeNz6HJdMVrwUQH0sHXw7zxl8wM0/3adMyV6B/wtRKZ/2cHRA56Fr4d2yI+KHkrRyxqLP4pOSaDIcgaMBSXDUQHvwFe/FX4kPSp8BXsC+jf44gVZdug1+/Uh9Qg1JbTJOTM1DnX8vmR31rl5Oyf8xT64gF/Cj8TBu2qI2osqen3+ylDy0af7LgwLkU4QmDSUTcvMHQpXB96FiEO+gQB6/LyH+m44ZMLw9BB/mHEa8GcwEQAzg60yu7i5deR31DoqfAy+A//zNtOC9IQAx4cGtIe8A7RJeUf5SZIJbkit/3XGcQKYQyEBR7+guCL8vzvwezL6bPm4R3H4Bbe7ttg2aDXPwWH1L3q9RDR1kLbbt9a5UvtbfRk6UQH4Q9cGAgg5SYf8FT/fTtGQXf47UbLRktDOOwVO9T7aiw0JA0bjNbo9QQQxvVH5OTs/eGYBszUNM6vyJfFw8Jcwv7FX+fW0bja3+Ok7nf4ewH1CeEPbfShGNMCqhwXH5bhLyKF/lgIyCEqIDQdMvH6EqYM7AUe/ij7d/Fp63PofeV44/jmH+Iy/x73Kd8l3YzWIQ5v2G/Yx9m93KTgdNOQ7cb1qP56D9IQqxVvIEb5pS/pNks8GuekRPxFckXXGZvcRzrgMi8p9B7YC4kHT/2f8zjsTObH4HjcH/Dq0q35Lf0NzIkA+cqXzOj1r9Yy+F/nqfBZ+hgD0wnOB4QTEhZcGBwaLxvODkMc/htmHFIbkhmNF1XqTgscDKcFd/+t+Z/zge6a6pIZN/MC5DPjmuOa42TiUeFbJm7fQula8/PdPxMR4xrnKe3V9FIU/wZJEGEaeSR9Lek2gj3H55BDkEMGQxVCwuWfO8Mfwi2XInoWOgrK/ij0Aesk5PPdb9jv1JHR0c+NzyXPr89TBjz1UdP5IGXbehaa6lrzbfuxAmsJ8A76ElcWCBny8g0bgxpwGaEYAxewEBwM6xMYCrAJtQRU/1n6lfa/Dxru1xIu6Gj5OOUk5L8IqeKH4ofiqeIR42nk3+pC6dXtafKo97f9XQPmCtcSdRQJBPQsBzUVOx8/AUFB8Kk/bjyHOHgyd/HvIxwasAmnBV780PKG6f3hqemC4AQQTOZIz+DOoNDq0jTVB9iEBSnf2AuG6bfvUPYOBtMCYQwe95ISNRau64Malxu5G1IbgxqhGBIW1xLODoPSLASTC7Qgn/Ny797/eOpC6QH5n+VH5L4dZOK44XPhH+J441cPPeeu6zLxPPzo/FXxjgkYAzUWzRy5IlbOTC4lMx84ODv4PPL5FTv9N/Mzwi0WJr4dlxTYCxgDFPq88enn5N5b16DQ/sy0yu33JhfvzTnQ29Nz6MLecv3sBSTymfj8/WDg7uLwDhIPphPG9X4YcBn87zkYehbcFGET3QaJDvoLeghOBA//nvpQ9l/1vP+p6aTnkOYDF1D2R+Su5NHk8+Ra5X3lVP96CKnwhvBy9ucDxAOTC4QTZwCcFocqpS/gMqQ2JDoVO0c6zDhRN9Ez+C5RKfYCphoJEhgDkOb45pcNaeTTAlrzug1qyCHG3A3+xRfJEs4v0wza6eCJAF/u6PVV6iwE1fS0ICsSnQjG/KnpwxgXGL4WJgmmE0kQoREJC7oGGAO8/0v7CRJt9B/wogOa6lDoX+ca58fnVfju6dDr5OzYBAvvcu+37xruo/Vo+fft9gIEAroG6eeDGiAj7AWzLjMy8zNOBJXvsQJbNBEyKi7b05skXvxcGI4Qjgk6A8H69/vu6UfkKd9g2ZvV5Ow50ODO0c9g0n3XZhVj97joge7V7b8PvP/nAwb7hvD1EHUUNRbDGCTkTRmDy0gXdRSwEBwMdQa/AaP8y/da88buAevrE7PfmuMk6x/iH+KG967kGudz6FXqBu2B7h/wi/LNI2j5lP3xACIA4gjODv8Ulxv2ArQnRyzqL1Yycv2j/FYyoQqRLkIqQfBIHrAXXBFXD4X+VfEa9V/uGue/D74dB9gC1lrzqP7t/qrUW9fo9VcdLyI87gb07ffo/BrncQRnB80VnA/xAJcUNRZcGPkZcBl/EfUJMvGEDFcdHv5V+FrzJOsQ6l/n5OXf43UU2+Fz4YzkEePvHGnks+Yf6fPr6e6L8hgKmuqk51gBkwQmCVn6RvIhFdcZXB++JCHGjCzWLj8MtBkCM5n/N/NHLMMmkiBNGdcS6wxTBokAi/lNGfPr/eE94K7dM9yW2iEcoNcH2Iv5EdyR32nky+ma42307uJP/fEABALiCD8MVw8XERwT8BUrCzUWUht0G5MECBkSDycCLAQP/4QTKe195TPjZOJP/eDc5wOu3Qvofd7g3Izdbt9WJIzksQI87jz1GfyrDinm9RDNFaYaC+9vJ8b85N5RN2Q4czdMNeAyljDlLe8qAyWqHP8UI/nJBU/9qPef8xrux+ddA6DezNvYBK/W1til2YzdON6/AcLlFexG8v8GEwFYCNwN4R3cFLAXoRgj+ZwWoCY/E+EPdQ3JDF0KpwXxAAkEy/drEBruy+mmGmnkUeF93hHczNsl3cLexu5p5PjmC+iG6Xzsxvwk5MkMOgMrCzoRqP55HTQkZSpbLVstge6C2eArICq0JzPjlehqHhXz6xOwCXoIUwZo+ToDD//3+9X0QfAL9v7Tsvue+ob3kPSa8S7vzCpQ74bwLu9L7UwupOCV70v0N/ot/UQAvwHy+YvyrADTAqwA0wLxAFT/Igc5GIH8o/yy+0glaPm8+IkA9/RL9BDqAfKV7/4ihukH5gLkZOkG7XLv3/FmHIkOEPho+Q//hAV6CLAJ6wyhCmoe5R80Ha8e0dYIJ6AmKifo9dEljR6L8vUQJwKP+yEOhAyxAicCHAwiAN7/Hv6j/HUUgyit+WP3QfdV+IH1hvBL7YHu6e6j9W7tLfaf87f2JwLe/2cA0wK1BCIH1xIdBVMG0wLt/tn9j/va9nASfPNV8Ub5Gfz37ZXv/O8mEDL/c+jp5ynmX/WV6Hjq8vKB7vftUPZZ+j7SbALt99gECv3a72sJHBMmFxIdrx7bIpIgLyK0J38D3A3VPBIPiQfXEtr2Uw3dBsQDLAQ/BXQbZwBJAhn89+3nA38DCQSJADL4H/DG7gb0xu7iCMbuWvPp4MvwfPO39ln6/P1dAwQC8A4EAqwALf2y+xT6t/aV9rPtRA6j9aP1kPQk8ij0KPT8773cy/Ct8ionge6V71/upO5V+BDxN/Me9+P6lw1YCD8FoQoJC10KBAlYCH8KYQwiANgE6ijvHOwFQxyXIpX2zSNgIeYRHBNB94QFmAbdBk4EOgPiAXUGEwEy/230DgbwB8kFd/+37zz8T/2j/Ab7lfZYAecDGvUcDMv3lP0EEIv5RvmP++YKWuze+C32G9IG9GsQ9+0JEqni3/Fp8sb8WvOy9JX2lfaV9hr1RAfbIkHws+2z7UvtUO988+33jReQ7b8B8Ad1DasOPwxdCmcHYgUiBxMISQlwC78P0hfmEc0V3v9OCxXzkhnIEwkSzg5/CoQFfhhdCmsJDgbYBDAGxAq1CysLsAnsBfYCpSjOAFMGXQMe/vYCLujj+mj5MvhV+AQJQfe39jL4xvXL9635Y/dt9N/xbfTrDLzxAfKEExrumfju8MHz7feo93kdEPhJEFrzpgy39ij7UPYt9vf0GvVt+230hvfZ/fYCmAbECmTpqP4cDOsMfwomCUkJAuSJB8QKkwv6C3UUtBla82IFDRSwF1/uDg3dBtgE0wk95wHykwSiAwQCEhZxBJX28AcYCuIBMv9e/Gj5LfaG94v5/PYt9kgX3vga9S7vxvzo/ND5pShy/RIdVfGt8nzzi/JDHBDx2u8TCJ/zEPiP+9roT/3t/qoqCv03+jf6wfr89hXzX/Xt9/L5fwMG+7ULPPwP/38DMAYTCJn/nA9rCR0FSRB1BtgLvwhOC+TsDg16D+IIad1NEuP6aPldCu3+0wn6BHoIcQT5J/EACQRnB4Lg3vh/AwkEogMTAScC2AQiAAAAzgAiAF78vPhcEaj3y/fe+NT71Pv3+1n6N/pe/Hz6i/Io+wkL2vZf9fTWPPXo9bzxy/Bt9Oj1afLQ8pn4PPWG93f4Ftc8/Ib3tCdt+635/Pb/DQr9Mv/u8MQDGAOdARMBJwKEBb8IiQe1CzUPlw2hCgkLeg/mCjoRehZdCiIHCQRt+2sJWAjIE9gL6xPiCD8FCQT2AiIAlP0TCL8BguC8+M4A6wwYA8H6vP9xBHALsQLiCN7/JwJV+NX0bfuL8lXxAfIQ+JD0d/gP/w//hf4t/aEY0PJt9GnycQTI0q3y5POB9aP1QfeZ+Fn6o/wt/WYV2f3DGO3+NgEAAOcDcQQsBCIHBAkECTUIWAhdAxXsltre/1gBSQK+zsQKc+hTBgkLhAyu3dgLcAswDV0K7feYBtMJ7f57AQ//vP8DHtDyLf13/wQC0wLmCnUGYgXdBkH3zgc/BZT9OgPy+R7+Rvm8+Hf/XBgZ/AggN/oZ/Bn8xvwe/gAA/P2P+/L5PO5L9JrxS/St8kHwFfPt94/7yv6/AQ//vPgAADoD4Nwt/V78D/8M4R7+7f5/A5/ztQQ956IDTgTwByj7HAw/DD8MhBNOBMvpRAcJBCcC/P3G/AcuKwtP/Z0Beg9YCJ0IxAMt/awACQQy/zL/hf7e/7L79/Tf8R7+LAQECZgGYgWH1LoGWvMTAXf/j/u6FMH6Hv5j/tn9gfzo/Fn67f4EAqwA7feL+Tfz5grQ8nzzaPle/MH6qPc89ej1yv61BPYCcAtH3cH6bful2XPoSQLMKlgBjgJdA8kFMAbsBckFSQKB/MLet/3e+B7+Ax61C4kAmf8TAXf/+gTj+ozW0wLo9Qr9BvsJBOYKcAswBr8ICQtxBMQDBAlk4kkJ8Ad/Cm7tJwJuNT0vxAPe/w//BAKJAC39egi1BHL98vkK/ff7I/mwEC7v1Pvt/gAAXvwt/WcAIM1V+IH8i/k/Ewb0BvsU+ij7S/RnAC39t/0G9IH1IgBEAI/77AWP+5gGQfeP+8MY8vkiAHL9WfoP//YCewFP/ewFBvuF/sr+Qfd3/wkELf1YAZMEy/B/A/UJ5gpJCacFMAZ1BuYKMA1OC5T9t/1dA44JSQLiAV0DqiqmE9gE2u+XDXsBLymZ/8QDqwehCjUIvPG3/Uv7FPr3+974GfwL9nz6YC83+ln6Afmy+5MLd/jy+WDLVfjB+ov5\" type=\"audio/wav\" />\n",
       "                    Your browser does not support the audio element.\n",
       "                </audio>\n",
       "              "
      ],
      "text/plain": [
       "<IPython.lib.display.Audio object>"
      ]
     },
     "execution_count": 41,
     "metadata": {},
     "output_type": "execute_result"
    }
   ],
   "source": [
    "escuchar_aqui()\n",
    "ipd.Audio(df.random_data[0], rate=16000)"
   ]
  },
  {
   "cell_type": "code",
   "execution_count": 42,
   "metadata": {
    "ExecuteTime": {
     "end_time": "2019-05-20T08:28:39.659687Z",
     "start_time": "2019-05-20T08:28:39.274717Z"
    }
   },
   "outputs": [
    {
     "ename": "NameError",
     "evalue": "name 'names' is not defined",
     "output_type": "error",
     "traceback": [
      "\u001b[1;31m---------------------------------------------------------------------------\u001b[0m",
      "\u001b[1;31mNameError\u001b[0m                                 Traceback (most recent call last)",
      "\u001b[1;32m<ipython-input-42-5d5d3b952964>\u001b[0m in \u001b[0;36m<module>\u001b[1;34m()\u001b[0m\n\u001b[1;32m----> 1\u001b[1;33m \u001b[0makg\u001b[0m \u001b[1;33m=\u001b[0m \u001b[0mnames\u001b[0m\u001b[1;33m+\u001b[0m\u001b[1;34m'.csv'\u001b[0m\u001b[1;33m\u001b[0m\u001b[0m\n\u001b[0m",
      "\u001b[1;31mNameError\u001b[0m: name 'names' is not defined"
     ]
    }
   ],
   "source": [
    "akg = names+'.csv'"
   ]
  },
  {
   "cell_type": "code",
   "execution_count": null,
   "metadata": {
    "ExecuteTime": {
     "end_time": "2019-05-20T08:28:39.659687Z",
     "start_time": "2019-05-20T08:14:58.482Z"
    }
   },
   "outputs": [],
   "source": [
    "akg"
   ]
  },
  {
   "cell_type": "markdown",
   "metadata": {},
   "source": [
    "### Encoder and decoder for img"
   ]
  },
  {
   "cell_type": "code",
   "execution_count": null,
   "metadata": {
    "ExecuteTime": {
     "end_time": "2019-05-20T08:28:39.661682Z",
     "start_time": "2019-05-20T08:14:58.487Z"
    }
   },
   "outputs": [],
   "source": [
    "from PIL import Image"
   ]
  },
  {
   "cell_type": "code",
   "execution_count": null,
   "metadata": {
    "ExecuteTime": {
     "end_time": "2019-05-20T08:28:39.662679Z",
     "start_time": "2019-05-20T08:14:58.491Z"
    }
   },
   "outputs": [],
   "source": [
    "arch = df.incompleted_data[1000].copy()\n",
    "arch  = arch[:81225]\n",
    "\n",
    "print('Audio: ', arch)\n",
    "print('Min:',np.amin(arch), ', Max:',np.amax(arch))"
   ]
  },
  {
   "cell_type": "markdown",
   "metadata": {},
   "source": [
    "#### Encode"
   ]
  },
  {
   "cell_type": "code",
   "execution_count": null,
   "metadata": {
    "ExecuteTime": {
     "end_time": "2019-05-20T08:28:39.663676Z",
     "start_time": "2019-05-20T08:14:58.495Z"
    }
   },
   "outputs": [],
   "source": [
    "for x in range(0, arch.size):\n",
    "    arch[x] = arch[x]*127.5 + 127.5\n",
    "    \n",
    "#arch = np.array(arch, dtype=np.int16)\n",
    "arch = np.array(arch, dtype=np.uint8)\n",
    "\n",
    "# Reshape for the image and reshape for the audio\n",
    "arch  = np.reshape(arch, (-1, 285))\n",
    "imag  = Image.fromarray(arch)\n",
    "arch = np.reshape(arch, 81225)\n",
    "\n",
    "print('Audio: ', arch)\n",
    "print('Min:',np.amin(arch), ', Max:',np.amax(arch))"
   ]
  },
  {
   "cell_type": "markdown",
   "metadata": {},
   "source": [
    "#### Decode"
   ]
  },
  {
   "cell_type": "code",
   "execution_count": null,
   "metadata": {
    "ExecuteTime": {
     "end_time": "2019-05-20T08:28:39.664674Z",
     "start_time": "2019-05-20T08:14:58.500Z"
    }
   },
   "outputs": [],
   "source": [
    "arch = np.array(arch, dtype=np.float64)\n",
    "\n",
    "for x in range(0, arch.size):\n",
    "    arch[x] = (arch[x]-127)/127\n",
    "    \n",
    "arch = rounding(arch)\n",
    "\n",
    "print('Audio: ', arch)\n",
    "print('Min:',np.amin(arch), ', Max:',np.amax(arch))"
   ]
  },
  {
   "cell_type": "code",
   "execution_count": null,
   "metadata": {
    "ExecuteTime": {
     "end_time": "2019-05-20T08:28:39.664674Z",
     "start_time": "2019-05-20T08:14:58.504Z"
    },
    "scrolled": true
   },
   "outputs": [],
   "source": [
    "plt.plot(arch)"
   ]
  },
  {
   "cell_type": "code",
   "execution_count": null,
   "metadata": {
    "ExecuteTime": {
     "end_time": "2019-05-20T08:28:39.665671Z",
     "start_time": "2019-05-20T08:14:58.508Z"
    }
   },
   "outputs": [],
   "source": [
    "imag"
   ]
  },
  {
   "cell_type": "code",
   "execution_count": null,
   "metadata": {
    "ExecuteTime": {
     "end_time": "2019-05-20T08:28:39.667666Z",
     "start_time": "2019-05-20T08:14:58.512Z"
    }
   },
   "outputs": [],
   "source": [
    "wavfile.write('QUE_CERA.wav', 16000, arch)"
   ]
  },
  {
   "cell_type": "markdown",
   "metadata": {},
   "source": [
    "### Useful things and functions"
   ]
  },
  {
   "cell_type": "code",
   "execution_count": null,
   "metadata": {
    "ExecuteTime": {
     "end_time": "2019-05-20T08:28:39.668664Z",
     "start_time": "2019-05-20T08:14:58.516Z"
    }
   },
   "outputs": [],
   "source": [
    "# To save things with the current time and date\n",
    "\n",
    "print(int(time.time()))\n",
    "print('/data/df_'+time.strftime('%Y-%m-%d_%H:%M:%S'+'.csv', time.localtime()))"
   ]
  },
  {
   "cell_type": "code",
   "execution_count": null,
   "metadata": {
    "ExecuteTime": {
     "end_time": "2019-05-20T08:28:39.669689Z",
     "start_time": "2019-05-20T08:14:58.520Z"
    }
   },
   "outputs": [],
   "source": [
    "# To make a copy from a DF and don't fuck up the original one\n",
    "\n",
    "back = df.copy()"
   ]
  },
  {
   "cell_type": "code",
   "execution_count": null,
   "metadata": {
    "ExecuteTime": {
     "end_time": "2019-05-20T08:28:39.670686Z",
     "start_time": "2019-05-20T08:14:58.525Z"
    }
   },
   "outputs": [],
   "source": [
    "# To merge several DFs into a single one\n",
    "\n",
    "frames = [df_final_1, df_final_2, df_final_3]\n",
    "df_FINAL = pd.concat(frames)"
   ]
  },
  {
   "cell_type": "code",
   "execution_count": null,
   "metadata": {
    "ExecuteTime": {
     "end_time": "2019-05-20T08:28:39.671683Z",
     "start_time": "2019-05-20T08:14:58.528Z"
    }
   },
   "outputs": [],
   "source": [
    "# To resete index from a DF\n",
    "\n",
    "df_FINAL.index = pd.RangeIndex(len(df_FINAL.index))"
   ]
  },
  {
   "cell_type": "code",
   "execution_count": null,
   "metadata": {
    "ExecuteTime": {
     "end_time": "2019-05-20T08:28:39.672653Z",
     "start_time": "2019-05-20T08:14:58.532Z"
    }
   },
   "outputs": [],
   "source": [
    "# To delete columns from a DF. (I think it starts in 0, doublecheck)\n",
    "\n",
    "df = df.drop(df.columns[[1, 2]], axis=1)"
   ]
  },
  {
   "cell_type": "code",
   "execution_count": null,
   "metadata": {
    "ExecuteTime": {
     "end_time": "2019-05-20T08:28:39.673671Z",
     "start_time": "2019-05-20T08:14:58.536Z"
    }
   },
   "outputs": [],
   "source": [
    "# To export from some files the original, random and incompleted version\n",
    "\n",
    "for i in range(0, 3):\n",
    "    wavfile.write(('Noise/original_'+'{}'.format(i))+'.wav', 16000, df['data'][i])\n",
    "    wavfile.write(('Noise/random_'+'{}'.format(i))+'.wav', 16000, df['random_data'][i])\n",
    "    wavfile.write(('Noise/incompl_'+'{}'.format(i))+'.wav', 16000, df['incpleted_data'][i])\n",
    "    "
   ]
  },
  {
   "cell_type": "markdown",
   "metadata": {},
   "source": [
    "---"
   ]
  },
  {
   "cell_type": "markdown",
   "metadata": {},
   "source": [
    "### Some other garbage I could need"
   ]
  },
  {
   "cell_type": "code",
   "execution_count": null,
   "metadata": {
    "ExecuteTime": {
     "end_time": "2019-05-20T08:28:39.674672Z",
     "start_time": "2019-05-20T08:14:58.541Z"
    }
   },
   "outputs": [],
   "source": [
    "tests1 = df.data[4].copy()\n",
    "\n",
    "for x in range(0, tests1.size):\n",
    "    ran = random.randint(0, 1000)\n",
    "    if ran % 100 == 0:\n",
    "            for y in range(0, 10):\n",
    "                if x+y < tests1.size:\n",
    "                    tests1[x+y] = random.randint(tmin, tmax)\n",
    "                    x = x+10"
   ]
  },
  {
   "cell_type": "code",
   "execution_count": null,
   "metadata": {
    "ExecuteTime": {
     "end_time": "2019-05-20T08:28:39.675672Z",
     "start_time": "2019-05-20T08:14:58.544Z"
    }
   },
   "outputs": [],
   "source": [
    "tests2 = df.data[nf].copy()\n",
    "\n",
    "for x in range(0, tests2.size):\n",
    "    ran = random.randint(0, 100)\n",
    "    if ran % 20 == 0:\n",
    "            for y in range(0, 10000):\n",
    "                if x+y < tests2.size:\n",
    "                    tests2[x+y] = 0\n",
    "                    x = x+10000"
   ]
  },
  {
   "cell_type": "code",
   "execution_count": null,
   "metadata": {
    "ExecuteTime": {
     "end_time": "2019-05-20T08:28:39.675672Z",
     "start_time": "2019-05-20T08:14:58.548Z"
    }
   },
   "outputs": [],
   "source": [
    "import librosa"
   ]
  },
  {
   "cell_type": "code",
   "execution_count": null,
   "metadata": {
    "ExecuteTime": {
     "end_time": "2019-05-20T08:28:39.676679Z",
     "start_time": "2019-05-20T08:14:58.552Z"
    }
   },
   "outputs": [],
   "source": [
    "y, s = librosa.load('D:/Datasets/Ted Talks TEDLIUM/TEDLIUM_release-3/FINAL/PRUEBAS/AaronOConnell_2011.wav', sr=8000) # Downsample to 8kHz"
   ]
  },
  {
   "cell_type": "code",
   "execution_count": null,
   "metadata": {
    "ExecuteTime": {
     "end_time": "2019-05-20T08:28:39.677668Z",
     "start_time": "2019-05-20T08:14:58.556Z"
    }
   },
   "outputs": [],
   "source": [
    "#LISTEN THIS TALK, LOOKS FUN\n",
    "\n",
    "temp['name'][100]"
   ]
  },
  {
   "cell_type": "markdown",
   "metadata": {},
   "source": [
    "---"
   ]
  },
  {
   "cell_type": "code",
   "execution_count": null,
   "metadata": {
    "ExecuteTime": {
     "end_time": "2019-05-20T08:28:39.678665Z",
     "start_time": "2019-05-20T08:14:58.560Z"
    }
   },
   "outputs": [],
   "source": [
    "new = pd.DataFrame()\n"
   ]
  },
  {
   "cell_type": "code",
   "execution_count": null,
   "metadata": {
    "ExecuteTime": {
     "end_time": "2019-04-05T09:55:12.287521Z",
     "start_time": "2019-04-05T09:55:12.113764Z"
    }
   },
   "outputs": [],
   "source": []
  },
  {
   "cell_type": "markdown",
   "metadata": {},
   "source": [
    "---"
   ]
  },
  {
   "cell_type": "code",
   "execution_count": null,
   "metadata": {
    "ExecuteTime": {
     "end_time": "2019-05-20T08:28:39.679662Z",
     "start_time": "2019-05-20T08:14:58.566Z"
    }
   },
   "outputs": [],
   "source": [
    "for i in range (df.shape[0]):\n",
    "    df.data[i] = np.fromstring(df.data[i].replace('[', r'').replace('\\r\\n', r''), sep=' ', dtype=np.float16)"
   ]
  },
  {
   "cell_type": "code",
   "execution_count": null,
   "metadata": {
    "ExecuteTime": {
     "end_time": "2019-05-20T08:28:39.680659Z",
     "start_time": "2019-05-20T08:14:58.570Z"
    }
   },
   "outputs": [],
   "source": [
    "ttest"
   ]
  },
  {
   "cell_type": "code",
   "execution_count": null,
   "metadata": {
    "ExecuteTime": {
     "end_time": "2019-05-20T08:28:39.681658Z",
     "start_time": "2019-05-20T08:14:58.574Z"
    }
   },
   "outputs": [],
   "source": [
    "ttest = np.array(df.data[15], dtype=np.float16)"
   ]
  },
  {
   "cell_type": "code",
   "execution_count": null,
   "metadata": {
    "ExecuteTime": {
     "end_time": "2019-05-20T08:28:39.682656Z",
     "start_time": "2019-05-20T08:14:58.578Z"
    }
   },
   "outputs": [],
   "source": [
    "wavfile.write('ttest.wav', 16000, ttest)"
   ]
  },
  {
   "cell_type": "code",
   "execution_count": null,
   "metadata": {
    "ExecuteTime": {
     "end_time": "2019-05-20T08:28:39.682656Z",
     "start_time": "2019-05-20T08:14:58.581Z"
    }
   },
   "outputs": [],
   "source": [
    "def TESTES(data_o):\n",
    "    \n",
    "    # The positions where I want to place the 0's\n",
    "    mask = np.zeros(data_o.size)\n",
    "    \n",
    "    print(mask)\n",
    "    print(type(data_o), type( mask))\n",
    "#     for x in range(0, data_o.size):\n",
    "#         ran = random.randint(0, 10)\n",
    "#         if ran % 2 == 0:\n",
    "#             mask[x] = 0\n",
    "            \n",
    "    data = np.ma.array(data_o, mask, fill_value=1)\n",
    "    resultado = data.filled()\n",
    "    \n",
    "    print(resultado)\n",
    "    \n",
    "    #return data.filled()\n",
    "    return data"
   ]
  },
  {
   "cell_type": "code",
   "execution_count": null,
   "metadata": {
    "ExecuteTime": {
     "end_time": "2019-05-20T08:28:39.683659Z",
     "start_time": "2019-05-20T08:14:58.586Z"
    },
    "scrolled": true
   },
   "outputs": [],
   "source": [
    "broken_i = []\n",
    "\n",
    "for i in range(len(df_test)):\n",
    "    broken_i.append(TESTES(df_test.data[i]))\n",
    "    \n",
    "df_test['incompleted_data'] = broken_i"
   ]
  },
  {
   "cell_type": "code",
   "execution_count": null,
   "metadata": {
    "ExecuteTime": {
     "end_time": "2019-05-20T08:28:39.684649Z",
     "start_time": "2019-05-20T08:14:58.590Z"
    },
    "scrolled": true
   },
   "outputs": [],
   "source": [
    "df_test"
   ]
  },
  {
   "cell_type": "code",
   "execution_count": null,
   "metadata": {
    "ExecuteTime": {
     "end_time": "2019-05-20T08:28:39.685649Z",
     "start_time": "2019-05-20T08:14:58.594Z"
    }
   },
   "outputs": [],
   "source": [
    "arr =  np.array([0, 1, 2, 3, 4, 5, 6, 7, 8, 9])\n",
    "\n",
    "holas = np.ma.array(arr, mask=[0, 1, 0, 1, 0, 1, 0, 1, 0, 1], fill_value=99)\n",
    "print(holas.filled())"
   ]
  },
  {
   "cell_type": "code",
   "execution_count": null,
   "metadata": {
    "ExecuteTime": {
     "end_time": "2019-05-20T08:28:39.686615Z",
     "start_time": "2019-05-20T08:14:58.598Z"
    },
    "scrolled": true
   },
   "outputs": [],
   "source": [
    "arr =   np.array([0, 1, 2, 3, 4, 5, 6, 7, 8, 9])\n",
    "maska = np.array([0, 1, 0, 1, 0, 1, 0, 1, 0, 1])\n",
    "\n",
    "holass = np.ma.array(arr, mask=maska, fill_value=99)\n",
    "print(holass.filled())"
   ]
  },
  {
   "cell_type": "code",
   "execution_count": null,
   "metadata": {
    "ExecuteTime": {
     "end_time": "2019-05-20T08:28:39.687641Z",
     "start_time": "2019-05-20T08:14:58.601Z"
    }
   },
   "outputs": [],
   "source": [
    "rod= np.random.choice([0, 1], size=df.data[0].size, p=[0.6, 0.4])"
   ]
  },
  {
   "cell_type": "code",
   "execution_count": null,
   "metadata": {
    "ExecuteTime": {
     "end_time": "2019-05-20T08:28:39.688637Z",
     "start_time": "2019-05-20T08:14:58.605Z"
    }
   },
   "outputs": [],
   "source": [
    "if 'incompleted_data' in df:\n",
    "    print('si')"
   ]
  },
  {
   "cell_type": "code",
   "execution_count": null,
   "metadata": {
    "ExecuteTime": {
     "end_time": "2019-05-20T08:28:39.688637Z",
     "start_time": "2019-05-20T08:14:58.609Z"
    }
   },
   "outputs": [],
   "source": [
    "z = y.copy()\n",
    "z[r] = x[r]"
   ]
  },
  {
   "cell_type": "code",
   "execution_count": null,
   "metadata": {
    "ExecuteTime": {
     "end_time": "2019-05-20T08:28:39.689636Z",
     "start_time": "2019-05-20T08:14:58.613Z"
    }
   },
   "outputs": [],
   "source": [
    "maska = np.random.choice([0, 1], size=df.data[3].size, p=[1-p_no, p_no])\n",
    "maaask = np.array(maska, dtype=bool)"
   ]
  },
  {
   "cell_type": "code",
   "execution_count": null,
   "metadata": {
    "ExecuteTime": {
     "end_time": "2019-05-20T08:28:39.689636Z",
     "start_time": "2019-05-20T08:14:58.617Z"
    }
   },
   "outputs": [],
   "source": [
    "maaask"
   ]
  },
  {
   "cell_type": "code",
   "execution_count": null,
   "metadata": {
    "ExecuteTime": {
     "end_time": "2019-05-20T08:28:39.690632Z",
     "start_time": "2019-05-20T08:14:58.621Z"
    }
   },
   "outputs": [],
   "source": [
    "mu, sigma = 0, 0.2 # mean and standard deviation\n",
    "s = np.random.normal(mu, sigma, df.data[0].size)"
   ]
  },
  {
   "cell_type": "code",
   "execution_count": null,
   "metadata": {
    "ExecuteTime": {
     "end_time": "2019-05-20T08:28:39.692600Z",
     "start_time": "2019-05-20T08:14:58.625Z"
    }
   },
   "outputs": [],
   "source": [
    "s"
   ]
  },
  {
   "cell_type": "code",
   "execution_count": null,
   "metadata": {
    "ExecuteTime": {
     "end_time": "2019-05-20T08:28:39.693597Z",
     "start_time": "2019-05-20T08:14:58.628Z"
    }
   },
   "outputs": [],
   "source": [
    "franelas = df.data[3].copy()"
   ]
  },
  {
   "cell_type": "code",
   "execution_count": null,
   "metadata": {
    "ExecuteTime": {
     "end_time": "2019-05-20T08:28:39.694594Z",
     "start_time": "2019-05-20T08:14:58.632Z"
    }
   },
   "outputs": [],
   "source": [
    "franelas[maaask] = s[maaask]"
   ]
  },
  {
   "cell_type": "code",
   "execution_count": null,
   "metadata": {
    "ExecuteTime": {
     "end_time": "2019-02-26T13:55:44.773434Z",
     "start_time": "2019-02-26T13:55:44.752465Z"
    }
   },
   "outputs": [],
   "source": []
  },
  {
   "cell_type": "code",
   "execution_count": null,
   "metadata": {
    "ExecuteTime": {
     "end_time": "2019-05-20T08:28:39.694594Z",
     "start_time": "2019-05-20T08:14:58.638Z"
    }
   },
   "outputs": [],
   "source": [
    "mu, sigma = 0, 0.2 # mean and standard deviation\n",
    "\n",
    "maska = np.random.choice([0, 1], size=df.data[3].size, p=[1-p_no, p_no])\n",
    "maaask = np.array(maska, dtype=bool)\n",
    "\n",
    "s = np.random.normal(mu, sigma, df.data[0].size)\n",
    "\n",
    "franelas = df.data[3].copy()\n",
    "franelas[maaask] = s[maaask]"
   ]
  },
  {
   "cell_type": "code",
   "execution_count": null,
   "metadata": {
    "ExecuteTime": {
     "end_time": "2019-05-20T08:28:39.695591Z",
     "start_time": "2019-05-20T08:14:58.641Z"
    }
   },
   "outputs": [],
   "source": [
    "franelas = df.data[3].copy()\n",
    "\n",
    "for x in range(0, franelas.size):\n",
    "    franelas[x] = round(franelas[x], 8)\n",
    "    \n",
    "print(franelas)\n",
    "\n",
    "wavfile.write('Rounding//test.wav', 16000, df.data[10])"
   ]
  },
  {
   "cell_type": "code",
   "execution_count": null,
   "metadata": {
    "ExecuteTime": {
     "end_time": "2019-05-20T08:28:39.696588Z",
     "start_time": "2019-05-20T08:14:58.645Z"
    }
   },
   "outputs": [],
   "source": [
    "wavfile.write('Rounding/test.wav', 16000, df.data[3])"
   ]
  },
  {
   "cell_type": "code",
   "execution_count": null,
   "metadata": {
    "ExecuteTime": {
     "end_time": "2019-05-20T08:28:39.697586Z",
     "start_time": "2019-05-20T08:14:58.649Z"
    }
   },
   "outputs": [],
   "source": [
    "df"
   ]
  },
  {
   "cell_type": "code",
   "execution_count": null,
   "metadata": {
    "ExecuteTime": {
     "end_time": "2019-03-07T13:50:58.120489Z",
     "start_time": "2019-03-07T13:50:57.469599Z"
    }
   },
   "outputs": [],
   "source": []
  },
  {
   "cell_type": "code",
   "execution_count": null,
   "metadata": {
    "ExecuteTime": {
     "end_time": "2019-05-20T08:28:39.697586Z",
     "start_time": "2019-05-20T08:14:58.655Z"
    }
   },
   "outputs": [],
   "source": [
    "plt.plot(df.data[0])"
   ]
  },
  {
   "cell_type": "code",
   "execution_count": null,
   "metadata": {
    "ExecuteTime": {
     "end_time": "2019-05-20T08:28:39.698583Z",
     "start_time": "2019-05-20T08:14:58.659Z"
    }
   },
   "outputs": [],
   "source": [
    "plt.plot(df.random_data[0])"
   ]
  },
  {
   "cell_type": "code",
   "execution_count": null,
   "metadata": {
    "ExecuteTime": {
     "end_time": "2019-05-20T08:28:39.700577Z",
     "start_time": "2019-05-20T08:14:58.663Z"
    }
   },
   "outputs": [],
   "source": [
    "plt.plot(df.incompleted_data[0])"
   ]
  },
  {
   "cell_type": "code",
   "execution_count": null,
   "metadata": {
    "ExecuteTime": {
     "end_time": "2019-05-20T08:28:39.701575Z",
     "start_time": "2019-05-20T08:14:58.667Z"
    }
   },
   "outputs": [],
   "source": [
    "plt.plot(df.low_quality_data[0])"
   ]
  },
  {
   "cell_type": "code",
   "execution_count": null,
   "metadata": {
    "ExecuteTime": {
     "end_time": "2019-05-20T08:28:39.702572Z",
     "start_time": "2019-05-20T08:14:58.670Z"
    }
   },
   "outputs": [],
   "source": [
    "df"
   ]
  },
  {
   "cell_type": "markdown",
   "metadata": {},
   "source": [
    "---"
   ]
  },
  {
   "cell_type": "markdown",
   "metadata": {},
   "source": [
    "Lets try some cool things to try to make an image out from a Numpy Array"
   ]
  },
  {
   "cell_type": "code",
   "execution_count": null,
   "metadata": {
    "ExecuteTime": {
     "end_time": "2019-05-20T08:28:39.703570Z",
     "start_time": "2019-05-20T08:14:58.675Z"
    }
   },
   "outputs": [],
   "source": [
    "aud = df.data[5].copy()"
   ]
  },
  {
   "cell_type": "code",
   "execution_count": null,
   "metadata": {
    "ExecuteTime": {
     "end_time": "2019-05-20T08:28:39.704567Z",
     "start_time": "2019-05-20T08:14:58.679Z"
    }
   },
   "outputs": [],
   "source": [
    "fin = np.uint8(df.data[0]*255)"
   ]
  },
  {
   "cell_type": "code",
   "execution_count": null,
   "metadata": {
    "ExecuteTime": {
     "end_time": "2019-05-20T08:28:39.704567Z",
     "start_time": "2019-05-20T08:14:58.683Z"
    }
   },
   "outputs": [],
   "source": [
    "fin = fin[0:163216]"
   ]
  },
  {
   "cell_type": "code",
   "execution_count": null,
   "metadata": {
    "ExecuteTime": {
     "end_time": "2019-05-20T08:28:39.705565Z",
     "start_time": "2019-05-20T08:14:58.687Z"
    }
   },
   "outputs": [],
   "source": [
    "fin.shape"
   ]
  },
  {
   "cell_type": "code",
   "execution_count": null,
   "metadata": {
    "ExecuteTime": {
     "end_time": "2019-05-20T08:28:39.706563Z",
     "start_time": "2019-05-20T08:14:58.691Z"
    },
    "scrolled": true
   },
   "outputs": [],
   "source": [
    "fin = np.reshape(fin, (-1, 404))"
   ]
  },
  {
   "cell_type": "code",
   "execution_count": null,
   "metadata": {
    "ExecuteTime": {
     "end_time": "2019-05-20T08:28:39.707559Z",
     "start_time": "2019-05-20T08:14:58.694Z"
    }
   },
   "outputs": [],
   "source": [
    "from PIL import Image\n",
    "im = Image.fromarray(fin)"
   ]
  },
  {
   "cell_type": "code",
   "execution_count": null,
   "metadata": {
    "ExecuteTime": {
     "end_time": "2019-05-20T08:28:39.709577Z",
     "start_time": "2019-05-20T08:14:58.698Z"
    }
   },
   "outputs": [],
   "source": [
    "fin"
   ]
  },
  {
   "cell_type": "code",
   "execution_count": null,
   "metadata": {
    "ExecuteTime": {
     "end_time": "2019-05-20T08:28:39.709577Z",
     "start_time": "2019-05-20T08:14:58.702Z"
    }
   },
   "outputs": [],
   "source": [
    "from PIL import Image\n",
    "\n",
    "fi = 10\n",
    "\n",
    "aud  = df.data[fi].copy()\n",
    "aud1 = df.random_data[fi].copy()\n",
    "aud2 = df.incompleted_data[fi].copy()\n",
    "aud3 = df.low_quality_data[fi].copy()\n",
    "\n",
    "# CAMBIAR ETAS TRANSFORMACIONES\n",
    "fin  = np.uint8(aud*255)\n",
    "fin1 = np.uint8(aud1*255)\n",
    "fin2 = np.uint8(aud2*255)\n",
    "fin3 = np.uint8(aud3*255)\n",
    "\n",
    "fin  = fin[0:163216]\n",
    "fin1 = fin1[0:163216]\n",
    "fin2 = fin2[0:163216]\n",
    "fin3 = fin3[0:81225]\n",
    "\n",
    "fin  = np.reshape(fin, (-1, 404))\n",
    "fin1 = np.reshape(fin1, (-1, 404))\n",
    "fin2 = np.reshape(fin2, (-1, 404))\n",
    "fin3 = np.reshape(fin3, (-1, 285))\n",
    "\n",
    "im  = Image.fromarray(fin)\n",
    "im1 = Image.fromarray(fin1)\n",
    "im2 = Image.fromarray(fin2)\n",
    "im3 = Image.fromarray(fin3)"
   ]
  },
  {
   "cell_type": "code",
   "execution_count": null,
   "metadata": {
    "ExecuteTime": {
     "end_time": "2019-05-20T08:28:39.711549Z",
     "start_time": "2019-05-20T08:14:58.706Z"
    },
    "scrolled": false
   },
   "outputs": [],
   "source": [
    "im"
   ]
  },
  {
   "cell_type": "code",
   "execution_count": null,
   "metadata": {
    "ExecuteTime": {
     "end_time": "2019-05-20T08:28:39.712569Z",
     "start_time": "2019-05-20T08:14:58.710Z"
    },
    "scrolled": false
   },
   "outputs": [],
   "source": [
    "im1"
   ]
  },
  {
   "cell_type": "code",
   "execution_count": null,
   "metadata": {
    "ExecuteTime": {
     "end_time": "2019-05-20T08:28:39.713544Z",
     "start_time": "2019-05-20T08:14:58.714Z"
    }
   },
   "outputs": [],
   "source": [
    "im2"
   ]
  },
  {
   "cell_type": "code",
   "execution_count": null,
   "metadata": {
    "ExecuteTime": {
     "end_time": "2019-05-20T08:28:39.714561Z",
     "start_time": "2019-05-20T08:14:58.718Z"
    }
   },
   "outputs": [],
   "source": [
    "im3"
   ]
  },
  {
   "cell_type": "code",
   "execution_count": null,
   "metadata": {
    "ExecuteTime": {
     "end_time": "2019-05-20T08:28:39.715538Z",
     "start_time": "2019-05-20T08:14:58.722Z"
    }
   },
   "outputs": [],
   "source": [
    "nuevo_array = list(np.asarray(im))"
   ]
  },
  {
   "cell_type": "code",
   "execution_count": null,
   "metadata": {
    "ExecuteTime": {
     "end_time": "2019-05-20T08:28:39.716535Z",
     "start_time": "2019-05-20T08:14:58.726Z"
    }
   },
   "outputs": [],
   "source": [
    "nuevo_array = nuevo_array.flatten()"
   ]
  },
  {
   "cell_type": "code",
   "execution_count": null,
   "metadata": {
    "ExecuteTime": {
     "end_time": "2019-05-20T08:28:39.717533Z",
     "start_time": "2019-05-20T08:14:58.730Z"
    }
   },
   "outputs": [],
   "source": [
    "nuevo_array = np.array(list(im.getdata()), dtype=np.int16)"
   ]
  },
  {
   "cell_type": "code",
   "execution_count": null,
   "metadata": {
    "ExecuteTime": {
     "end_time": "2019-05-20T08:28:39.718530Z",
     "start_time": "2019-05-20T08:14:58.734Z"
    }
   },
   "outputs": [],
   "source": [
    "#plt.plot(nuevo_array)\n",
    "plt.plot(rans)"
   ]
  },
  {
   "cell_type": "code",
   "execution_count": null,
   "metadata": {
    "ExecuteTime": {
     "end_time": "2019-05-20T08:28:39.719527Z",
     "start_time": "2019-05-20T08:14:58.738Z"
    }
   },
   "outputs": [],
   "source": [
    "wavfile.write('from_img.wav', 16000, nuevo_array)"
   ]
  },
  {
   "cell_type": "markdown",
   "metadata": {},
   "source": [
    "---"
   ]
  },
  {
   "cell_type": "markdown",
   "metadata": {},
   "source": [
    "La otra forma de transformar (por rangos)"
   ]
  },
  {
   "cell_type": "code",
   "execution_count": null,
   "metadata": {
    "ExecuteTime": {
     "end_time": "2019-05-20T08:28:39.720525Z",
     "start_time": "2019-05-20T08:14:58.743Z"
    }
   },
   "outputs": [],
   "source": [
    "rans = df.data[10].copy()"
   ]
  },
  {
   "cell_type": "code",
   "execution_count": null,
   "metadata": {
    "ExecuteTime": {
     "end_time": "2019-05-20T08:28:39.721522Z",
     "start_time": "2019-05-20T08:14:58.747Z"
    }
   },
   "outputs": [],
   "source": [
    "print(np.amin(rans), np.amax(rans))"
   ]
  },
  {
   "cell_type": "code",
   "execution_count": null,
   "metadata": {
    "ExecuteTime": {
     "end_time": "2019-05-20T08:28:39.723543Z",
     "start_time": "2019-05-20T08:14:58.750Z"
    }
   },
   "outputs": [],
   "source": [
    "rans.size"
   ]
  },
  {
   "cell_type": "code",
   "execution_count": null,
   "metadata": {
    "ExecuteTime": {
     "end_time": "2019-05-20T08:28:39.724540Z",
     "start_time": "2019-05-20T08:14:58.754Z"
    }
   },
   "outputs": [],
   "source": [
    "for x in range(0, rans.size):\n",
    "    rans[x] = rans[x]*127.5 + 127.5"
   ]
  },
  {
   "cell_type": "code",
   "execution_count": null,
   "metadata": {
    "ExecuteTime": {
     "end_time": "2019-05-20T08:28:39.725512Z",
     "start_time": "2019-05-20T08:14:58.758Z"
    }
   },
   "outputs": [],
   "source": [
    "con = 0\n",
    "\n",
    "for x in range(0, rans.size):\n",
    "    if rans[x] >= -1 and rans[x] <= 0:\n",
    "        rans[x] = abs(rans[x])*127\n",
    "        rans[x] = 127-rans[x]\n",
    "        \n",
    "    elif rans[x] > 0 and rans[x] <= -1:\n",
    "        rans[x] = rans[x]*127\n",
    "        rans[x] = 127+rans[x]\n",
    "    else:\n",
    "        con += 1"
   ]
  },
  {
   "cell_type": "code",
   "execution_count": null,
   "metadata": {
    "ExecuteTime": {
     "end_time": "2019-05-20T08:28:39.726528Z",
     "start_time": "2019-05-20T08:14:58.762Z"
    },
    "scrolled": true
   },
   "outputs": [],
   "source": [
    "rans  = rans[0:163332]\n",
    "\n",
    "rans  = np.reshape(rans, (-1, 404))\n",
    "\n",
    "ims  = Image.fromarray(rans)"
   ]
  },
  {
   "cell_type": "code",
   "execution_count": null,
   "metadata": {
    "ExecuteTime": {
     "end_time": "2019-05-20T08:28:39.726528Z",
     "start_time": "2019-05-20T08:14:58.766Z"
    },
    "scrolled": true
   },
   "outputs": [],
   "source": [
    "df"
   ]
  },
  {
   "cell_type": "code",
   "execution_count": null,
   "metadata": {
    "ExecuteTime": {
     "end_time": "2019-05-20T08:28:39.727526Z",
     "start_time": "2019-05-20T08:14:58.770Z"
    }
   },
   "outputs": [],
   "source": [
    "rans = abs(rans)"
   ]
  },
  {
   "cell_type": "code",
   "execution_count": null,
   "metadata": {
    "ExecuteTime": {
     "end_time": "2019-05-20T08:28:39.728503Z",
     "start_time": "2019-05-20T08:14:58.774Z"
    }
   },
   "outputs": [],
   "source": [
    "rans = rans[:162867]"
   ]
  },
  {
   "cell_type": "code",
   "execution_count": null,
   "metadata": {
    "ExecuteTime": {
     "end_time": "2019-05-20T08:28:39.729500Z",
     "start_time": "2019-05-20T08:14:58.778Z"
    }
   },
   "outputs": [],
   "source": [
    "abs_rans = np.reshape(abs(rans), (233, 233,  3))"
   ]
  },
  {
   "cell_type": "code",
   "execution_count": null,
   "metadata": {
    "ExecuteTime": {
     "end_time": "2019-05-20T08:28:39.730518Z",
     "start_time": "2019-05-20T08:14:58.781Z"
    }
   },
   "outputs": [],
   "source": [
    "abs_rans.shape"
   ]
  },
  {
   "cell_type": "code",
   "execution_count": null,
   "metadata": {
    "ExecuteTime": {
     "end_time": "2019-05-20T08:28:39.731518Z",
     "start_time": "2019-05-20T08:14:58.785Z"
    }
   },
   "outputs": [],
   "source": [
    "fig, ax = subplots(figsize=(20, 20))\n",
    "plt.imshow(abs_rans)\n",
    "plt.axis('off')\n",
    "plt.show"
   ]
  },
  {
   "cell_type": "code",
   "execution_count": null,
   "metadata": {
    "ExecuteTime": {
     "end_time": "2019-05-20T08:28:39.732513Z",
     "start_time": "2019-05-20T08:14:58.789Z"
    }
   },
   "outputs": [],
   "source": [
    "abs_rans.shape"
   ]
  },
  {
   "cell_type": "code",
   "execution_count": null,
   "metadata": {
    "ExecuteTime": {
     "end_time": "2019-05-20T08:28:39.733509Z",
     "start_time": "2019-05-20T08:14:58.793Z"
    }
   },
   "outputs": [],
   "source": [
    "from matplotlib import pyplot as mp\n",
    "\n",
    "mp.savefig('hoooooolaaa.png')"
   ]
  }
 ],
 "metadata": {
  "kernelspec": {
   "display_name": "Python 3",
   "language": "python",
   "name": "python3"
  },
  "language_info": {
   "codemirror_mode": {
    "name": "ipython",
    "version": 3
   },
   "file_extension": ".py",
   "mimetype": "text/x-python",
   "name": "python",
   "nbconvert_exporter": "python",
   "pygments_lexer": "ipython3",
   "version": "3.7.11"
  },
  "toc": {
   "base_numbering": 1,
   "nav_menu": {},
   "number_sections": false,
   "sideBar": true,
   "skip_h1_title": false,
   "title_cell": "Table of Contents",
   "title_sidebar": "Contents",
   "toc_cell": false,
   "toc_position": {
    "height": "calc(100% - 180px)",
    "left": "10px",
    "top": "150px",
    "width": "322px"
   },
   "toc_section_display": true,
   "toc_window_display": true
  },
  "varInspector": {
   "cols": {
    "lenName": 16,
    "lenType": 16,
    "lenVar": 40
   },
   "kernels_config": {
    "python": {
     "delete_cmd_postfix": "",
     "delete_cmd_prefix": "del ",
     "library": "var_list.py",
     "varRefreshCmd": "print(var_dic_list())"
    },
    "r": {
     "delete_cmd_postfix": ") ",
     "delete_cmd_prefix": "rm(",
     "library": "var_list.r",
     "varRefreshCmd": "cat(var_dic_list()) "
    }
   },
   "oldHeight": 792.4008180000001,
   "position": {
    "height": "40px",
    "left": "1305.32px",
    "right": "20px",
    "top": "109.866px",
    "width": "366.605px"
   },
   "types_to_exclude": [
    "module",
    "function",
    "builtin_function_or_method",
    "instance",
    "_Feature"
   ],
   "varInspector_section_display": "none",
   "window_display": true
  }
 },
 "nbformat": 4,
 "nbformat_minor": 2
}
