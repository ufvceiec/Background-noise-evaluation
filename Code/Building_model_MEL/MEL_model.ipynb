{
 "cells": [
  {
   "cell_type": "code",
   "execution_count": 11,
   "metadata": {},
   "outputs": [],
   "source": [
    "%reload_ext autoreload\n",
    "\n",
    "%autoreload 2"
   ]
  },
  {
   "cell_type": "code",
   "execution_count": 12,
   "metadata": {},
   "outputs": [],
   "source": [
    "from Libraries_functions import *\n",
    "from tqdm import tqdm"
   ]
  },
  {
   "cell_type": "markdown",
   "metadata": {},
   "source": [
    "## Cargar desde directorio"
   ]
  },
  {
   "cell_type": "code",
   "execution_count": 13,
   "metadata": {},
   "outputs": [
    {
     "name": "stderr",
     "output_type": "stream",
     "text": [
      "100%|██████████| 8/8 [00:00<00:00, 1598.67it/s]\n"
     ]
    },
    {
     "name": "stdout",
     "output_type": "stream",
     "text": [
      "mixed_numpy_1.npy\n"
     ]
    },
    {
     "name": "stderr",
     "output_type": "stream",
     "text": [
      "100%|██████████| 8/8 [00:00<00:00, 2665.59it/s]"
     ]
    },
    {
     "name": "stdout",
     "output_type": "stream",
     "text": [
      "mixed_numpy_1.npy\n"
     ]
    },
    {
     "name": "stderr",
     "output_type": "stream",
     "text": [
      "\n"
     ]
    }
   ],
   "source": [
    "#esta funcion cargar los datos ya normalizados y modifica su shape para que se pueda usar en la red\n",
    "inputs=load_form_dir(\"../../Datasets/Data/pruebas_numpy/\")\n",
    "targets=load_form_dir(\"../../Datasets/Data/pruebas_numpy/\")"
   ]
  },
  {
   "cell_type": "markdown",
   "metadata": {},
   "source": [
    "## normalización y lectura antigua"
   ]
  },
  {
   "cell_type": "code",
   "execution_count": 14,
   "metadata": {},
   "outputs": [],
   "source": [
    "# inputs,targets=load_data(\"../../Datasets/Data/antiguosMel/data_funcional_[128,192].json\")\n",
    "\n",
    "#solo si leemos los datos de un json\n",
    "# print(\"Selecciona si normalizar o no:\")\n",
    "# print(\"-Normalizar: 1\")\n",
    "# print(\"-No normalizar: 0\")\n",
    "# normalizar=input()\n",
    "# if normalizar== 1:\n",
    "#     for i in range(len(inputs)):\n",
    "#         scalerX = MinMaxScaler()\n",
    "#         inputs[i]=scalerX.fit_transform(inputs[i])\n",
    "\n",
    "#     for i in range(len(targets)):\n",
    "#         scalery = MinMaxScaler()\n",
    "#         targets[i]=scalery.fit_transform(targets[i]) \n",
    "\n",
    "\n",
    "\n",
    "#solo si leemos jsons\n",
    "\n",
    "# X = np.reshape(inputs, (np.shape(inputs)[0], np.shape(inputs)[1],np.shape(inputs)[2],1))\n",
    "# y = np.reshape(targets, (np.shape(targets)[0], np.shape(targets)[1],np.shape(targets)[2],1))\n",
    " \n",
    "# np.shape(X)\n"
   ]
  },
  {
   "cell_type": "markdown",
   "metadata": {},
   "source": [
    "## División dataset y parámetros red"
   ]
  },
  {
   "cell_type": "code",
   "execution_count": 17,
   "metadata": {},
   "outputs": [],
   "source": [
    "X_train, X_val, y_train, y_val = train_test_split(inputs,targets, test_size=0.2,random_state=42)"
   ]
  },
  {
   "cell_type": "code",
   "execution_count": 18,
   "metadata": {},
   "outputs": [
    {
     "name": "stdout",
     "output_type": "stream",
     "text": [
      "Shape de x_train: (6, 256, 256, 1) shape de inputs: (8, 256, 256, 1)\n"
     ]
    }
   ],
   "source": [
    "print(\"Shape de x_train:\",np.shape(X_train),\"shape de inputs:\",np.shape(inputs))\n"
   ]
  },
  {
   "cell_type": "code",
   "execution_count": 28,
   "metadata": {},
   "outputs": [],
   "source": [
    "ruta=\"./models/\"\n",
    "learning_rates = 0.0001\n",
    "batch_hyper = 42\n",
    "epoch_hyper= 3\n",
    "loss_hyper=\"mae\"\n",
    "optimizer_hyper=tf.keras.optimizers.Adam\n",
    "nombre=None\n",
    "latent_space_dim=200\n",
    "epsilonstd=1.0\n",
    "alpha=0.1# si es para el complejo es alpha*kl_loss; si es para el normal es alpha+loss_mse\n",
    "conc_x=-1"
   ]
  },
  {
   "cell_type": "markdown",
   "metadata": {},
   "source": [
    "# Variational autoencoder"
   ]
  },
  {
   "cell_type": "code",
   "execution_count": 38,
   "metadata": {},
   "outputs": [
    {
     "name": "stdout",
     "output_type": "stream",
     "text": [
      "Model: \"decoder\"\n",
      "__________________________________________________________________________________________________\n",
      " Layer (type)                   Output Shape         Param #     Connected to                     \n",
      "==================================================================================================\n",
      " input_6 (InputLayer)           [(None, 256, 256, 1  0           []                               \n",
      "                                )]                                                                \n",
      "                                                                                                  \n",
      " conv2d_92 (Conv2D)             (None, 256, 256, 64  640         ['input_6[0][0]']                \n",
      "                                )                                                                 \n",
      "                                                                                                  \n",
      " conv2d_93 (Conv2D)             (None, 128, 128, 64  36928       ['conv2d_92[0][0]']              \n",
      "                                )                                                                 \n",
      "                                                                                                  \n",
      " conv2d_94 (Conv2D)             (None, 128, 128, 12  73856       ['conv2d_93[0][0]']              \n",
      "                                8)                                                                \n",
      "                                                                                                  \n",
      " conv2d_95 (Conv2D)             (None, 64, 64, 128)  147584      ['conv2d_94[0][0]']              \n",
      "                                                                                                  \n",
      " conv2d_96 (Conv2D)             (None, 64, 64, 256)  295168      ['conv2d_95[0][0]']              \n",
      "                                                                                                  \n",
      " conv2d_97 (Conv2D)             (None, 32, 32, 256)  590080      ['conv2d_96[0][0]']              \n",
      "                                                                                                  \n",
      " conv2d_98 (Conv2D)             (None, 32, 32, 512)  1180160     ['conv2d_97[0][0]']              \n",
      "                                                                                                  \n",
      " conv2d_99 (Conv2D)             (None, 16, 16, 512)  2359808     ['conv2d_98[0][0]']              \n",
      "                                                                                                  \n",
      " conv2d_100 (Conv2D)            (None, 16, 16, 1024  4719616     ['conv2d_99[0][0]']              \n",
      "                                )                                                                 \n",
      "                                                                                                  \n",
      " conv2d_101 (Conv2D)            (None, 8, 8, 1024)   9438208     ['conv2d_100[0][0]']             \n",
      "                                                                                                  \n",
      " flatten_5 (Flatten)            (None, 65536)        0           ['conv2d_101[0][0]']             \n",
      "                                                                                                  \n",
      " dense_10 (Dense)               (None, 512)          33554944    ['flatten_5[0][0]']              \n",
      "                                                                                                  \n",
      " z_mean (Dense)                 (None, 200)          102600      ['dense_10[0][0]']               \n",
      "                                                                                                  \n",
      " z_log_var (Dense)              (None, 200)          102600      ['dense_10[0][0]']               \n",
      "                                                                                                  \n",
      " z (Lambda)                     (None, 200)          0           ['z_mean[0][0]',                 \n",
      "                                                                  'z_log_var[0][0]']              \n",
      "                                                                                                  \n",
      " dense_11 (Dense)               (None, 65536)        13172736    ['z[0][0]']                      \n",
      "                                                                                                  \n",
      " reshape_5 (Reshape)            (None, 8, 8, 1024)   0           ['dense_11[0][0]']               \n",
      "                                                                                                  \n",
      " up_sampling2d_23 (UpSampling2D  (None, 16, 16, 1024  0          ['reshape_5[0][0]']              \n",
      " )                              )                                                                 \n",
      "                                                                                                  \n",
      " conv2d_102 (Conv2D)            (None, 16, 16, 512)  4719104     ['up_sampling2d_23[0][0]']       \n",
      "                                                                                                  \n",
      " conv2d_103 (Conv2D)            (None, 16, 16, 512)  2359808     ['conv2d_102[0][0]']             \n",
      "                                                                                                  \n",
      " concatenate_20 (Concatenate)   (None, 16, 16, 1024  0           ['conv2d_99[0][0]',              \n",
      "                                )                                 'conv2d_103[0][0]']             \n",
      "                                                                                                  \n",
      " up_sampling2d_24 (UpSampling2D  (None, 32, 32, 1024  0          ['concatenate_20[0][0]']         \n",
      " )                              )                                                                 \n",
      "                                                                                                  \n",
      " conv2d_104 (Conv2D)            (None, 32, 32, 256)  2359552     ['up_sampling2d_24[0][0]']       \n",
      "                                                                                                  \n",
      " conv2d_105 (Conv2D)            (None, 32, 32, 256)  590080      ['conv2d_104[0][0]']             \n",
      "                                                                                                  \n",
      " concatenate_21 (Concatenate)   (None, 32, 32, 512)  0           ['conv2d_97[0][0]',              \n",
      "                                                                  'conv2d_105[0][0]']             \n",
      "                                                                                                  \n",
      " up_sampling2d_25 (UpSampling2D  (None, 64, 64, 512)  0          ['concatenate_21[0][0]']         \n",
      " )                                                                                                \n",
      "                                                                                                  \n",
      " conv2d_106 (Conv2D)            (None, 64, 64, 128)  589952      ['up_sampling2d_25[0][0]']       \n",
      "                                                                                                  \n",
      " conv2d_107 (Conv2D)            (None, 64, 64, 128)  147584      ['conv2d_106[0][0]']             \n",
      "                                                                                                  \n",
      " concatenate_22 (Concatenate)   (None, 64, 64, 256)  0           ['conv2d_95[0][0]',              \n",
      "                                                                  'conv2d_107[0][0]']             \n",
      "                                                                                                  \n",
      " up_sampling2d_26 (UpSampling2D  (None, 128, 128, 25  0          ['concatenate_22[0][0]']         \n",
      " )                              6)                                                                \n",
      "                                                                                                  \n",
      " conv2d_108 (Conv2D)            (None, 128, 128, 64  147520      ['up_sampling2d_26[0][0]']       \n",
      "                                )                                                                 \n",
      "                                                                                                  \n",
      " conv2d_109 (Conv2D)            (None, 128, 128, 64  36928       ['conv2d_108[0][0]']             \n",
      "                                )                                                                 \n",
      "                                                                                                  \n",
      " concatenate_23 (Concatenate)   (None, 128, 128, 12  0           ['conv2d_93[0][0]',              \n",
      "                                8)                                'conv2d_109[0][0]']             \n",
      "                                                                                                  \n",
      " up_sampling2d_27 (UpSampling2D  (None, 256, 256, 12  0          ['concatenate_23[0][0]']         \n",
      " )                              8)                                                                \n",
      "                                                                                                  \n",
      " conv2d_110 (Conv2D)            (None, 256, 256, 1)  1153        ['up_sampling2d_27[0][0]']       \n",
      "                                                                                                  \n",
      "==================================================================================================\n",
      "Total params: 76,726,609\n",
      "Trainable params: 76,726,609\n",
      "Non-trainable params: 0\n",
      "__________________________________________________________________________________________________\n"
     ]
    }
   ],
   "source": [
    "## create and comiple model\n",
    "\n",
    "# model, nomber_modelo=build_VAE_skipp(X_train, latent_space_dim, epsilonstd, alpha, learning_rates)\n",
    "model, nomber_modelo= build_VAE_Skipp_complejo(X_train, latent_space_dim, epsilonstd, alpha, learning_rates)\n",
    "# model= build_vae_kk(X_train, latent_space_dim, epsilonstd, alpha)\n"
   ]
  },
  {
   "cell_type": "code",
   "execution_count": 39,
   "metadata": {},
   "outputs": [],
   "source": [
    "path=\"./models\"\n",
    "checkpoint = [callbacks.EarlyStopping(monitor='loss',patience=5,\n",
    "restore_best_weights=True)#,callbacks.ModelCheckpoint(\n",
    "#     path,\n",
    "#     monitor=\"val_loss\",\n",
    "#     verbose=1,\n",
    "#     save_best_only=True,\n",
    "#     mode=\"min\"\n",
    "# )\n",
    "]"
   ]
  },
  {
   "cell_type": "code",
   "execution_count": 44,
   "metadata": {},
   "outputs": [
    {
     "name": "stdout",
     "output_type": "stream",
     "text": [
      "Train on 6 samples, validate on 2 samples\n",
      "Epoch 1/3\n",
      "6/6 [==============================] - 3s 517ms/sample - loss: 0.0148 - val_loss: 0.0136\n",
      "Epoch 2/3\n",
      "6/6 [==============================] - 3s 507ms/sample - loss: 0.0142 - val_loss: 0.0133\n",
      "Epoch 3/3\n",
      "6/6 [==============================] - 3s 512ms/sample - loss: 0.0138 - val_loss: 0.0133\n"
     ]
    }
   ],
   "source": [
    "history=model.fit(\n",
    "X_train,\n",
    "y_train,\n",
    "epochs=epoch_hyper,\n",
    "batch_size=batch_hyper,\n",
    "validation_data=(X_val, y_val),\n",
    "verbose=1,\n",
    "shuffle=False,\n",
    "callbacks=[checkpoint]\n",
    ")\n",
    "\n"
   ]
  },
  {
   "cell_type": "code",
   "execution_count": 41,
   "metadata": {},
   "outputs": [],
   "source": [
    "nombre=f\"{nomber_modelo}_loss_{round(history.history['loss'][-1],1)}_alpha_{alpha}_dim_{latent_space_dim}\""
   ]
  },
  {
   "cell_type": "code",
   "execution_count": 62,
   "metadata": {},
   "outputs": [],
   "source": [
    "# Guardar configuración JSON en el disco\n",
    "# json_config = model.to_json()\n",
    "# with open('./model_config.json', 'w') as json_file:\n",
    "#     json_file.write(json_config)\n",
    "# Guardar pesos en el disco\n",
    "model.save_weights(f'./VAE_weights_{nombre}.h5')"
   ]
  },
  {
   "cell_type": "code",
   "execution_count": 63,
   "metadata": {},
   "outputs": [
    {
     "data": {
      "image/png": "[encoded data removed]",
      "text/plain": [
       "<Figure size 432x288 with 1 Axes>"
      ]
     },
     "metadata": {
      "needs_background": "light"
     },
     "output_type": "display_data"
    }
   ],
   "source": [
    "plot_accuracy_loss(history,nombre)"
   ]
  },
  {
   "cell_type": "markdown",
   "metadata": {},
   "source": [
    "## Variational autoencoder con bottleneck bien implementado"
   ]
  },
  {
   "cell_type": "code",
   "execution_count": null,
   "metadata": {},
   "outputs": [],
   "source": [
    "autoencoder_ = VAE(\n",
    "        input_shape=(inputs.shape[1],inputs.shape[2],1),\n",
    "        # input_shape=(256,64,1),\n",
    "        conv_filters=(512, 256, 128, 64, 32),\n",
    "        conv_kernels=(3, 3, 3, 3, 3),\n",
    "        conv_strides=(2, 2, 2, 2,(2,1)),\n",
    "        latent_space_dim=latent_space_dim\n",
    "    ) \n",
    "autoencoder_.summary()\n",
    "autoencoder_.compile(learning_rates)"
   ]
  },
  {
   "cell_type": "code",
   "execution_count": null,
   "metadata": {},
   "outputs": [],
   "source": [
    "\n",
    "history=autoencoder_.train(X_train,y_train,X_val,y_val,batch_hyper,epoch_hyper)"
   ]
  },
  {
   "cell_type": "code",
   "execution_count": null,
   "metadata": {},
   "outputs": [],
   "source": [
    "autoencoder_.save(learning_rates,batch_hyper,epoch_hyper,latent_space_dim,ruta)\n",
    "plot_accuracy_loss(history,nombre)"
   ]
  }
 ],
 "metadata": {
  "interpreter": {
   "hash": "5737976d601a57f2ad5e7b032da6e9e64b7f55d800df179004f74c21bbab3255"
  },
  "kernelspec": {
   "display_name": "Python 3.7.12 ('Javier_waveinet')",
   "language": "python",
   "name": "python3"
  },
  "language_info": {
   "codemirror_mode": {
    "name": "ipython",
    "version": 3
   },
   "file_extension": ".py",
   "mimetype": "text/x-python",
   "name": "python",
   "nbconvert_exporter": "python",
   "pygments_lexer": "ipython3",
   "version": "3.7.12"
  }
 },
 "nbformat": 4,
 "nbformat_minor": 2
}
