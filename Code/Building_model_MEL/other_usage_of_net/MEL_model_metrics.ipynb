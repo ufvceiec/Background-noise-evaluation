{
 "cells": [
  {
   "cell_type": "code",
   "execution_count": 1,
   "metadata": {},
   "outputs": [],
   "source": [
    "%reload_ext autoreload\n",
    "\n",
    "%autoreload 2"
   ]
  },
  {
   "cell_type": "code",
   "execution_count": 2,
   "metadata": {},
   "outputs": [],
   "source": [
    "from Libraries_functions import *\n",
    "from tqdm import tqdm\n",
    "from IPython.display import Audio \n",
    "import ipywidgets as widgets\n",
    "from IPython.display import display\n",
    "from pesq import pesq\n",
    "import glob"
   ]
  },
  {
   "cell_type": "code",
   "execution_count": 4,
   "metadata": {},
   "outputs": [],
   "source": [
    "model = keras.models.load_model('./models/BestBUENO3996_noise_lr_0.001_btch_16_epch_50_loss_mae_opt_Adam.h5')"
   ]
  },
  {
   "cell_type": "code",
   "execution_count": null,
   "metadata": {},
   "outputs": [],
   "source": [
    "style = {'description_width': 'initial'}\n",
    "\n",
    "select= widgets.Dropdown(\n",
    "    options=[('noise', 0), ('voice', 1)],\n",
    "    value=0,\n",
    "    description='Select noise or voice for comparing:',\n",
    "    style=style,\n",
    "    layout={'width': 'max-content'}\n",
    ")\n",
    "make_pred= widgets.Dropdown(\n",
    "    options=[('save', 0), ('not save', 1)],\n",
    "    value=1,\n",
    "    description='Select save or not save pred audios:',\n",
    "    style=style,\n",
    "    layout={'width': 'max-content'}\n",
    ")"
   ]
  },
  {
   "cell_type": "markdown",
   "metadata": {},
   "source": [
    "## Cargamos el valor de lo que vamos a predecir"
   ]
  },
  {
   "cell_type": "code",
   "execution_count": 5,
   "metadata": {},
   "outputs": [],
   "source": [
    "ruta=\"../../Datasets/Test/mixed_sound\"\n",
    "class_r=os.listdir(ruta)\n",
    "mix_real=[]\n",
    "scaler_total=[]\n",
    "for i,entry in enumerate(class_r):\n",
    "        type_noise = ruta+'/'+entry\n",
    "        mix_real.append(type_noise)\n",
    "\n",
    "X_test=[]\n",
    "\n",
    "for i in mix_real:\n",
    "        signal_noise, sr_noise = librosa.load(i, sr=SAMPLE_RATE)\n",
    "        mix_wav, mix_wav_phase = librosa.magphase(librosa.stft(signal_noise, n_fft=N_FFT, hop_length=HOP_LENGTH))\n",
    "        mel_spec= librosa.feature.melspectrogram(S=mix_wav,sr=SAMPLE_RATE,n_fft=N_FFT,hop_length=HOP_LENGTH)\n",
    "        X_test.append(mel_spec)\n",
    "\n",
    "## Creamos varias variables porque no es posible si no, luego hacer la inversion de la normalización\n",
    "# scalerX1 = MinMaxScaler()\n",
    "# scalerX2 = MinMaxScaler()\n",
    "# scalerX3 = MinMaxScaler()\n",
    "# scalerX4 = MinMaxScaler()\n",
    "for i in range(len(X_test)):\n",
    "        pepe=MinMaxScaler()\n",
    "        scaler_total.append(pepe)\n",
    "\n",
    "for i in range(len(X_test)):\n",
    "        X_test[i]=scaler_total[i].fit_transform(X_test[i])\n",
    "# X_test[0]=scalerX1.fit_transform(X_test[0])\n",
    "# X_test[1]=scalerX2.fit_transform(X_test[1])\n",
    "# X_test[2]=scalerX3.fit_transform(X_test[2])\n",
    "# X_test[3]=scalerX4.fit_transform(X_test[3])\n",
    "\n",
    "# scaler_total=[scalerX1,scalerX2,scalerX3,scalerX4]"
   ]
  },
  {
   "cell_type": "code",
   "execution_count": 6,
   "metadata": {},
   "outputs": [
    {
     "data": {
      "text/plain": [
       "(200, 128, 192)"
      ]
     },
     "execution_count": 6,
     "metadata": {},
     "output_type": "execute_result"
    }
   ],
   "source": [
    "np.shape(X_test)"
   ]
  },
  {
   "cell_type": "code",
   "execution_count": 7,
   "metadata": {},
   "outputs": [],
   "source": [
    "X_test = np.reshape(X_test, (np.shape(X_test)[0], np.shape(X_test)[1],np.shape(X_test)[2],1))\n"
   ]
  },
  {
   "cell_type": "code",
   "execution_count": 8,
   "metadata": {},
   "outputs": [
    {
     "data": {
      "text/plain": [
       "(200, 128, 192, 1)"
      ]
     },
     "execution_count": 8,
     "metadata": {},
     "output_type": "execute_result"
    }
   ],
   "source": [
    "np.shape(X_test)"
   ]
  },
  {
   "cell_type": "code",
   "execution_count": 9,
   "metadata": {},
   "outputs": [],
   "source": [
    "\n",
    "pred_outp=model.predict(X_test)\n",
    "pred_outp=np.squeeze(pred_outp)\n"
   ]
  },
  {
   "cell_type": "code",
   "execution_count": 10,
   "metadata": {},
   "outputs": [
    {
     "data": {
      "text/plain": [
       "(200, 128, 192)"
      ]
     },
     "execution_count": 10,
     "metadata": {},
     "output_type": "execute_result"
    }
   ],
   "source": [
    "np.shape(pred_outp)\n"
   ]
  },
  {
   "cell_type": "code",
   "execution_count": 12,
   "metadata": {},
   "outputs": [
    {
     "data": {
      "application/vnd.jupyter.widget-view+json": {
       "model_id": "0cd4a800a099477eb7b38d07217fdd3e",
       "version_major": 2,
       "version_minor": 0
      },
      "text/plain": [
       "Dropdown(description='Select noise or voice for comparing:', layout=Layout(width='max-content'), options=(('no…"
      ]
     },
     "metadata": {},
     "output_type": "display_data"
    },
    {
     "data": {
      "application/vnd.jupyter.widget-view+json": {
       "model_id": "79140e91bdef4379a845f56a07c674d2",
       "version_major": 2,
       "version_minor": 0
      },
      "text/plain": [
       "Dropdown(description='Select save or not save pred audios:', index=1, layout=Layout(width='max-content'), opti…"
      ]
     },
     "metadata": {},
     "output_type": "display_data"
    }
   ],
   "source": [
    "display(select)\n",
    "display(make_pred)"
   ]
  },
  {
   "cell_type": "code",
   "execution_count": 13,
   "metadata": {},
   "outputs": [],
   "source": [
    "ruta_noise=\"../../Datasets/Test/noise/\"\n",
    "class_noise=os.listdir(ruta_noise)\n",
    "ruta_voice=\"../../Datasets/Test/voice/\"\n",
    "class_voice=os.listdir(ruta_voice)\n",
    "real=[]\n",
    "if select.value==0:\n",
    "    for i,entry in enumerate(class_noise):\n",
    "        type_noise = ruta_noise+'/'+entry\n",
    "        real.append(type_noise)\n",
    "else:\n",
    "    for i,entry in enumerate(class_voice):\n",
    "        type_noise = ruta_voice+'/'+entry\n",
    "        real.append(type_noise)\n",
    "y_test=[]\n",
    "\n",
    "for i in real:\n",
    "    signal_noise, sr_noise = librosa.load(i, sr=SAMPLE_RATE)\n",
    "    mix_wav, mix_wav_phase = librosa.magphase(librosa.stft(signal_noise, n_fft=N_FFT, hop_length=HOP_LENGTH))\n",
    "    mel_spec= librosa.feature.melspectrogram(S=mix_wav,sr=SAMPLE_RATE,n_fft=N_FFT,hop_length=HOP_LENGTH)\n",
    "    y_test.append(mel_spec)\n",
    "\n",
    "for i in range(len(X_test)):\n",
    "        scalerY = MinMaxScaler()\n",
    "        y_test[i]=scalerY.fit_transform(y_test[i])"
   ]
  },
  {
   "cell_type": "markdown",
   "metadata": {},
   "source": [
    "# Métricas de los audios"
   ]
  },
  {
   "cell_type": "code",
   "execution_count": 16,
   "metadata": {},
   "outputs": [
    {
     "name": "stderr",
     "output_type": "stream",
     "text": [
      " 37%|███▋      | 74/200 [03:56<11:09,  5.31s/it]"
     ]
    },
    {
     "name": "stdout",
     "output_type": "stream",
     "text": [
      "../../Datasets/Test/mixed_sound/mixed_sound2344.wav\n"
     ]
    },
    {
     "name": "stderr",
     "output_type": "stream",
     "text": [
      "100%|██████████| 200/200 [15:29<00:00,  4.65s/it]\n"
     ]
    }
   ],
   "source": [
    "##cargamos los arrays de datos\n",
    "AudioName = \"./results/Convertido-mixed/convertido_mel\"\n",
    "array_pred=[]\n",
    "array_original=[]\n",
    "for i in tqdm(range(len(pred_outp))):\n",
    "\n",
    "    noise_real_signal, sr_mixed = librosa.load(mix_real[i], sr=SAMPLE_RATE)\n",
    "\n",
    "    out_wav=scaler_total[i].inverse_transform(pred_outp[i])\n",
    "\n",
    "    mix_wav, mix_wav_phase = librosa.magphase(librosa.stft(noise_real_signal, n_fft=N_FFT, hop_length=HOP_LENGTH))\n",
    "\n",
    "    out_wav=librosa.feature.inverse.mel_to_stft(out_wav,sr=SAMPLE_RATE,n_fft=N_FFT)\n",
    "\n",
    "    out_wav,magphase=librosa.magphase(out_wav)\n",
    "\n",
    "    array_pred.append(librosa.core.istft(\n",
    "    out_wav * mix_wav_phase\n",
    "    , win_length=2048, hop_length=HOP_LENGTH))\n",
    "    \n",
    "    if(i==73):\n",
    "        print(mix_real[73])\n",
    "    \n",
    "        sf.write(f'{AudioName}_{i}.wav',array_pred[73], SAMPLE_RATE)\n",
    "\n",
    "\n",
    "for i in real:\n",
    "    signal_noise, sr_noise = librosa.load(i, sr=SAMPLE_RATE)\n",
    "    array_original.append(signal_noise)"
   ]
  },
  {
   "cell_type": "markdown",
   "metadata": {},
   "source": [
    "### MSE"
   ]
  },
  {
   "cell_type": "code",
   "execution_count": 17,
   "metadata": {},
   "outputs": [
    {
     "name": "stderr",
     "output_type": "stream",
     "text": [
      "100%|██████████| 200/200 [00:00<00:00, 2560.00it/s]\n"
     ]
    }
   ],
   "source": [
    "aircrafts=[]\n",
    "lluvia=[]\n",
    "trafico=[]\n",
    "viento=[]\n",
    "\n",
    "array_original=np.array(array_original)\n",
    "array_original=array_original[:,:95882]\n",
    "\n",
    "for i in tqdm(range(len(pred_outp))):\n",
    "    if(i<len(pred_outp)/4):\n",
    "        aircrafts.append(mean_squared_error(array_pred[i],array_original[i] ,squared=True))\n",
    "    elif(i>=len(pred_outp)/4 and i<(len(pred_outp)/4)*2):\n",
    "        lluvia.append(mean_squared_error(array_pred[i], array_original[i],squared=True))\n",
    "    elif(i>=(len(pred_outp)/4)*2 and i<(len(pred_outp)/4)*3):\n",
    "        trafico.append(mean_squared_error(array_pred[i],array_original[i],squared=True))\n",
    "    else:\n",
    "        viento.append(mean_squared_error(array_pred[i], array_original[i],squared=True))"
   ]
  },
  {
   "cell_type": "code",
   "execution_count": 18,
   "metadata": {},
   "outputs": [],
   "source": [
    "df=pd.DataFrame()\n",
    "df.insert(0,\"aircrafts_mean\",[mean(aircrafts)])\n",
    "df.insert(1,\"aircrafts_desviacion\",[desviacion(aircrafts)])\n",
    "\n",
    "df.insert(2,\"lluvia_mean\",[mean(lluvia)])\n",
    "df.insert(3,\"lluvia_desviacion\",[desviacion(lluvia)])\n",
    "\n",
    "df.insert(4,\"trafico_mean\",[mean(trafico)])\n",
    "df.insert(5,\"trafico_desviacion\",[desviacion(trafico)])\n",
    "\n",
    "df.insert(6,\"viento_mean\",[mean(viento)])\n",
    "df.insert(7,\"viento_desviacion\",[desviacion(viento)])"
   ]
  },
  {
   "cell_type": "code",
   "execution_count": 19,
   "metadata": {},
   "outputs": [
    {
     "data": {
      "text/html": [
       "<div>\n",
       "<style scoped>\n",
       "    .dataframe tbody tr th:only-of-type {\n",
       "        vertical-align: middle;\n",
       "    }\n",
       "\n",
       "    .dataframe tbody tr th {\n",
       "        vertical-align: top;\n",
       "    }\n",
       "\n",
       "    .dataframe thead th {\n",
       "        text-align: right;\n",
       "    }\n",
       "</style>\n",
       "<table border=\"1\" class=\"dataframe\">\n",
       "  <thead>\n",
       "    <tr style=\"text-align: right;\">\n",
       "      <th></th>\n",
       "      <th>aircrafts_mean</th>\n",
       "      <th>aircrafts_desviacion</th>\n",
       "      <th>lluvia_mean</th>\n",
       "      <th>lluvia_desviacion</th>\n",
       "      <th>trafico_mean</th>\n",
       "      <th>trafico_desviacion</th>\n",
       "      <th>viento_mean</th>\n",
       "      <th>viento_desviacion</th>\n",
       "    </tr>\n",
       "  </thead>\n",
       "  <tbody>\n",
       "    <tr>\n",
       "      <th>0</th>\n",
       "      <td>0.007017</td>\n",
       "      <td>0.007674</td>\n",
       "      <td>0.005524</td>\n",
       "      <td>0.006064</td>\n",
       "      <td>0.006659</td>\n",
       "      <td>0.012327</td>\n",
       "      <td>0.016145</td>\n",
       "      <td>0.023509</td>\n",
       "    </tr>\n",
       "  </tbody>\n",
       "</table>\n",
       "</div>"
      ],
      "text/plain": [
       "   aircrafts_mean  aircrafts_desviacion  lluvia_mean  lluvia_desviacion  \\\n",
       "0        0.007017              0.007674     0.005524           0.006064   \n",
       "\n",
       "   trafico_mean  trafico_desviacion  viento_mean  viento_desviacion  \n",
       "0      0.006659            0.012327     0.016145           0.023509  "
      ]
     },
     "execution_count": 19,
     "metadata": {},
     "output_type": "execute_result"
    }
   ],
   "source": [
    "df"
   ]
  },
  {
   "cell_type": "markdown",
   "metadata": {},
   "source": [
    "### PESQ"
   ]
  },
  {
   "cell_type": "code",
   "execution_count": 22,
   "metadata": {},
   "outputs": [
    {
     "name": "stderr",
     "output_type": "stream",
     "text": [
      "100%|██████████| 200/200 [00:31<00:00,  6.40it/s]\n"
     ]
    }
   ],
   "source": [
    "from pesq import pesq\n",
    "exception=0\n",
    "aircrafts=[]\n",
    "lluvia=[]\n",
    "trafico=[]\n",
    "viento=[]\n",
    "\n",
    "for i in tqdm(range(len(pred_outp))):\n",
    "    try:\n",
    "        if(i<len(pred_outp)/4):\n",
    "            aircrafts.append(pesq(16000, array_pred[i], array_original[i],'wb'))\n",
    "        elif(i>=len(pred_outp)/4 and i<(len(pred_outp)/4)*2):\n",
    "            lluvia.append(pesq(16000, array_pred[i], array_original[i],'wb'))\n",
    "        elif(i>=(len(pred_outp)/4)*2 and i<(len(pred_outp)/4)*3):\n",
    "            trafico.append(pesq(16000, array_pred[i], array_original[i],'wb'))\n",
    "        else:\n",
    "            viento.append(pesq(16000, array_pred[i], array_original[i],'wb'))\n",
    "    except:\n",
    "        exception+=1\n",
    "\n",
    "print(exception)"
   ]
  },
  {
   "cell_type": "code",
   "execution_count": 24,
   "metadata": {},
   "outputs": [],
   "source": [
    "df_PESQ=pd.DataFrame()\n",
    "df_PESQ.insert(0,\"aircrafts_mean\",[mean(aircrafts)])\n",
    "df_PESQ.insert(1,\"aircrafts_desviacion\",[desviacion(aircrafts)])\n",
    "\n",
    "df_PESQ.insert(2,\"lluvia_mean\",[mean(lluvia)])\n",
    "df_PESQ.insert(3,\"lluvia_desviacion\",[desviacion(lluvia)])\n",
    "\n",
    "df_PESQ.insert(4,\"trafico_mean\",[mean(trafico)])\n",
    "df_PESQ.insert(5,\"trafico_desviacion\",[desviacion(trafico)])\n",
    "\n",
    "df_PESQ.insert(6,\"viento_mean\",[mean(viento)])\n",
    "df_PESQ.insert(7,\"viento_desviacion\",[desviacion(viento)])"
   ]
  },
  {
   "cell_type": "code",
   "execution_count": 25,
   "metadata": {},
   "outputs": [
    {
     "data": {
      "text/html": [
       "<div>\n",
       "<style scoped>\n",
       "    .dataframe tbody tr th:only-of-type {\n",
       "        vertical-align: middle;\n",
       "    }\n",
       "\n",
       "    .dataframe tbody tr th {\n",
       "        vertical-align: top;\n",
       "    }\n",
       "\n",
       "    .dataframe thead th {\n",
       "        text-align: right;\n",
       "    }\n",
       "</style>\n",
       "<table border=\"1\" class=\"dataframe\">\n",
       "  <thead>\n",
       "    <tr style=\"text-align: right;\">\n",
       "      <th></th>\n",
       "      <th>aircrafts_mean</th>\n",
       "      <th>aircrafts_desviacion</th>\n",
       "      <th>lluvia_mean</th>\n",
       "      <th>lluvia_desviacion</th>\n",
       "      <th>trafico_mean</th>\n",
       "      <th>trafico_desviacion</th>\n",
       "      <th>viento_mean</th>\n",
       "      <th>viento_desviacion</th>\n",
       "    </tr>\n",
       "  </thead>\n",
       "  <tbody>\n",
       "    <tr>\n",
       "      <th>0</th>\n",
       "      <td>1.351499</td>\n",
       "      <td>0.425087</td>\n",
       "      <td>1.318228</td>\n",
       "      <td>0.558174</td>\n",
       "      <td>1.349133</td>\n",
       "      <td>0.428863</td>\n",
       "      <td>1.630061</td>\n",
       "      <td>0.77877</td>\n",
       "    </tr>\n",
       "  </tbody>\n",
       "</table>\n",
       "</div>"
      ],
      "text/plain": [
       "   aircrafts_mean  aircrafts_desviacion  lluvia_mean  lluvia_desviacion  \\\n",
       "0        1.351499              0.425087     1.318228           0.558174   \n",
       "\n",
       "   trafico_mean  trafico_desviacion  viento_mean  viento_desviacion  \n",
       "0      1.349133            0.428863     1.630061            0.77877  "
      ]
     },
     "execution_count": 25,
     "metadata": {},
     "output_type": "execute_result"
    }
   ],
   "source": [
    "df_PESQ"
   ]
  },
  {
   "cell_type": "markdown",
   "metadata": {},
   "source": [
    "### SNR"
   ]
  },
  {
   "cell_type": "code",
   "execution_count": 26,
   "metadata": {},
   "outputs": [
    {
     "name": "stderr",
     "output_type": "stream",
     "text": [
      "100%|██████████| 200/200 [00:03<00:00, 50.00it/s]"
     ]
    },
    {
     "name": "stdout",
     "output_type": "stream",
     "text": [
      "150\n"
     ]
    },
    {
     "name": "stderr",
     "output_type": "stream",
     "text": [
      "\n"
     ]
    }
   ],
   "source": [
    "exception=0\n",
    "aircrafts=[]\n",
    "lluvia=[]\n",
    "trafico=[]\n",
    "viento=[]\n",
    "\n",
    "for i in tqdm(range(len(pred_outp))):\n",
    "    try:\n",
    "        if(i<len(pred_outp)/4):\n",
    "            aircrafts.append(SNRsystem(array_original[i],array_pred[i]))\n",
    "        elif(i>=len(pred_outp)/4 and i<(len(pred_outp)/4)*2):\n",
    "             lluvia.append(SNRsystem(array_original[i],array_pred[i]))\n",
    "        elif(i>=(len(pred_outp)/4)*2 and i<(len(pred_outp)/4)*3):\n",
    "            trafico.append(SNRsystem(array_original[i],array_pred[i]))\n",
    "        else:\n",
    "            viento.append(SNRsystem(array_original[i],array_pred[i]))\n",
    "    except:\n",
    "        exception+=1\n",
    "\n",
    "print(exception)"
   ]
  },
  {
   "cell_type": "code",
   "execution_count": 27,
   "metadata": {},
   "outputs": [],
   "source": [
    "df_SNR=pd.DataFrame()\n",
    "df_SNR.insert(0,\"aircrafts_mean\",[mean(aircrafts)])\n",
    "df_SNR.insert(1,\"aircrafts_desviacion\",[desviacion(aircrafts)])\n",
    "\n",
    "df_SNR.insert(2,\"lluvia_mean\",[mean(lluvia)])\n",
    "df_SNR.insert(3,\"lluvia_desviacion\",[desviacion(lluvia)])\n",
    "\n",
    "df_SNR.insert(4,\"trafico_mean\",[mean(trafico)])\n",
    "df_SNR.insert(5,\"trafico_desviacion\",[desviacion(trafico)])\n",
    "\n",
    "df_SNR.insert(6,\"viento_mean\",[mean(viento)])\n",
    "df_SNR.insert(7,\"viento_desviacion\",[desviacion(viento)])"
   ]
  },
  {
   "cell_type": "code",
   "execution_count": 28,
   "metadata": {},
   "outputs": [
    {
     "data": {
      "text/html": [
       "<div>\n",
       "<style scoped>\n",
       "    .dataframe tbody tr th:only-of-type {\n",
       "        vertical-align: middle;\n",
       "    }\n",
       "\n",
       "    .dataframe tbody tr th {\n",
       "        vertical-align: top;\n",
       "    }\n",
       "\n",
       "    .dataframe thead th {\n",
       "        text-align: right;\n",
       "    }\n",
       "</style>\n",
       "<table border=\"1\" class=\"dataframe\">\n",
       "  <thead>\n",
       "    <tr style=\"text-align: right;\">\n",
       "      <th></th>\n",
       "      <th>aircrafts_mean</th>\n",
       "      <th>aircrafts_desviacion</th>\n",
       "      <th>lluvia_mean</th>\n",
       "      <th>lluvia_desviacion</th>\n",
       "      <th>trafico_mean</th>\n",
       "      <th>trafico_desviacion</th>\n",
       "      <th>viento_mean</th>\n",
       "      <th>viento_desviacion</th>\n",
       "    </tr>\n",
       "  </thead>\n",
       "  <tbody>\n",
       "    <tr>\n",
       "      <th>0</th>\n",
       "      <td>-4.07703</td>\n",
       "      <td>2.494734</td>\n",
       "      <td>-7.066224</td>\n",
       "      <td>4.124708</td>\n",
       "      <td>-6.907141</td>\n",
       "      <td>5.215686</td>\n",
       "      <td>-7.540713</td>\n",
       "      <td>4.29635</td>\n",
       "    </tr>\n",
       "  </tbody>\n",
       "</table>\n",
       "</div>"
      ],
      "text/plain": [
       "   aircrafts_mean  aircrafts_desviacion  lluvia_mean  lluvia_desviacion  \\\n",
       "0        -4.07703              2.494734    -7.066224           4.124708   \n",
       "\n",
       "   trafico_mean  trafico_desviacion  viento_mean  viento_desviacion  \n",
       "0     -6.907141            5.215686    -7.540713            4.29635  "
      ]
     },
     "execution_count": 28,
     "metadata": {},
     "output_type": "execute_result"
    }
   ],
   "source": [
    "df_SNR"
   ]
  }
 ],
 "metadata": {
  "interpreter": {
   "hash": "6fe17b6fa4d9c949e40ac054b52ab9c7bfd9ec15454a804312d2ca141f76bf41"
  },
  "kernelspec": {
   "display_name": "Python 3 (ipykernel)",
   "language": "python",
   "name": "python3"
  },
  "language_info": {
   "codemirror_mode": {
    "name": "ipython",
    "version": 3
   },
   "file_extension": ".py",
   "mimetype": "text/x-python",
   "name": "python",
   "nbconvert_exporter": "python",
   "pygments_lexer": "ipython3",
   "version": "3.7.11"
  }
 },
 "nbformat": 4,
 "nbformat_minor": 2
}
