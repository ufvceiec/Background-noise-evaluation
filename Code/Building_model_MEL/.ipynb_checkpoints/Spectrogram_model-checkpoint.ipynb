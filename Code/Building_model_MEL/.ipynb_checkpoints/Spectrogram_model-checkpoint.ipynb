{
 "cells": [
  {
   "cell_type": "code",
   "execution_count": null,
   "metadata": {},
   "outputs": [],
   "source": [
    "%reload_ext autoreload\n",
    "\n",
    "%autoreload 2"
   ]
  },
  {
   "cell_type": "code",
   "execution_count": null,
   "metadata": {},
   "outputs": [],
   "source": [
    "from Libraries_functions import *\n",
    "from tqdm import tqdm"
   ]
  },
  {
   "cell_type": "code",
   "execution_count": null,
   "metadata": {},
   "outputs": [],
   "source": [
    "df_data=read_wavs_spectrogram(\"D:\\\\Caracuel\\\\WaveNet-seaBackGroundNoise\\\\Datasets\\\\Noise\\\\Chunked_large\\\\\",\"D:\\\\Caracuel\\\\WaveNet-seaBackGroundNoise\\\\Datasets\\\\Audio_mezclado_large\\\\\",\"D:\\\\Caracuel\\\\WaveNet-seaBackGroundNoise\\\\Datasets\\\\Data\\\\data.json\")\n"
   ]
  },
  {
   "cell_type": "code",
   "execution_count": null,
   "metadata": {},
   "outputs": [],
   "source": []
  }
 ],
 "metadata": {
  "interpreter": {
   "hash": "6fe17b6fa4d9c949e40ac054b52ab9c7bfd9ec15454a804312d2ca141f76bf41"
  },
  "kernelspec": {
   "display_name": "Python 3.7.11 ('Javier_wavenet')",
   "language": "python",
   "name": "python3"
  },
  "language_info": {
   "codemirror_mode": {
    "name": "ipython",
    "version": 3
   },
   "file_extension": ".py",
   "mimetype": "text/x-python",
   "name": "python",
   "nbconvert_exporter": "python",
   "pygments_lexer": "ipython3",
   "version": "3.7.11"
  },
  "orig_nbformat": 4
 },
 "nbformat": 4,
 "nbformat_minor": 2
}
